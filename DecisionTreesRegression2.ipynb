{
  "nbformat": 4,
  "nbformat_minor": 0,
  "metadata": {
    "colab": {
      "name": "DecisionTreesRegression2.ipynb",
      "private_outputs": true,
      "provenance": [],
      "authorship_tag": "ABX9TyP+EnFigI8482ddKimJirgy",
      "include_colab_link": true
    },
    "kernelspec": {
      "name": "python3",
      "display_name": "Python 3"
    },
    "language_info": {
      "name": "python"
    }
  },
  "cells": [
    {
      "cell_type": "markdown",
      "metadata": {
        "id": "view-in-github",
        "colab_type": "text"
      },
      "source": [
        "<a href=\"https://colab.research.google.com/github/cagBRT/Machine-Learning/blob/master/DecisionTreesRegression2.ipynb\" target=\"_parent\"><img src=\"https://colab.research.google.com/assets/colab-badge.svg\" alt=\"Open In Colab\"/></a>"
      ]
    },
    {
      "cell_type": "code",
      "metadata": {
        "id": "mI9grE4k8GNw"
      },
      "source": [
        "import numpy as np\n",
        "import matplotlib.pyplot as plt\n",
        "\n",
        "from sklearn.datasets import fetch_olivetti_faces\n",
        "from sklearn.utils.validation import check_random_state\n",
        "\n",
        "from sklearn.ensemble import ExtraTreesRegressor\n",
        "from sklearn.neighbors import KNeighborsRegressor\n",
        "from sklearn.linear_model import LinearRegression\n",
        "from sklearn.linear_model import RidgeCV"
      ],
      "execution_count": null,
      "outputs": []
    },
    {
      "cell_type": "code",
      "metadata": {
        "id": "ith08OHj8JBv"
      },
      "source": [
        "# Load the faces datasets\n",
        "data, targets = fetch_olivetti_faces(return_X_y=True)"
      ],
      "execution_count": null,
      "outputs": []
    },
    {
      "cell_type": "code",
      "metadata": {
        "id": "3JUe6Ykh8TUF"
      },
      "source": [
        "train = data[targets < 30]\n",
        "test = data[targets >= 30]  # Test on independent people"
      ],
      "execution_count": null,
      "outputs": []
    },
    {
      "cell_type": "code",
      "metadata": {
        "id": "cYmLM56S929L"
      },
      "source": [
        "# Test on a subset of people\n",
        "n_faces = 5\n",
        "rng = check_random_state(4)\n",
        "face_ids = rng.randint(test.shape[0], size=(n_faces, ))\n",
        "test = test[face_ids, :]"
      ],
      "execution_count": null,
      "outputs": []
    },
    {
      "cell_type": "code",
      "metadata": {
        "id": "uFTmUFrk-Tid"
      },
      "source": [
        "n_pixels = data.shape[1]\n",
        "# Upper half of the faces\n",
        "X_train = train[:, :(n_pixels + 1) // 2]\n",
        "# Lower half of the faces\n",
        "y_train = train[:, n_pixels // 2:]\n",
        "X_test = test[:, :(n_pixels + 1) // 2]\n",
        "y_test = test[:, n_pixels // 2:]"
      ],
      "execution_count": null,
      "outputs": []
    },
    {
      "cell_type": "code",
      "metadata": {
        "id": "ZiW-CKNs-Y9H"
      },
      "source": [
        "# Fit estimators\n",
        "ESTIMATORS = {\n",
        "    \"Extra trees\": ExtraTreesRegressor(n_estimators=10, max_features=32,\n",
        "                                       random_state=0),\n",
        "    \"K-nn\": KNeighborsRegressor(),\n",
        "    \"Linear regression\": LinearRegression(),\n",
        "    \"Ridge\": RidgeCV(),\n",
        "}"
      ],
      "execution_count": null,
      "outputs": []
    },
    {
      "cell_type": "code",
      "metadata": {
        "id": "OOYq-e9N-c6M"
      },
      "source": [
        "y_test_predict = dict()\n",
        "for name, estimator in ESTIMATORS.items():\n",
        "    estimator.fit(X_train, y_train)\n",
        "    y_test_predict[name] = estimator.predict(X_test)"
      ],
      "execution_count": null,
      "outputs": []
    },
    {
      "cell_type": "code",
      "metadata": {
        "id": "BoY__86y77Dt"
      },
      "source": [
        "# Plot the completed faces\n",
        "image_shape = (64, 64)\n",
        "\n",
        "n_cols = 1 + len(ESTIMATORS)\n",
        "plt.figure(figsize=(2. * n_cols, 2.26 * n_faces))\n",
        "plt.suptitle(\"Face completion with multi-output estimators\", size=16)\n",
        "\n",
        "for i in range(n_faces):\n",
        "    true_face = np.hstack((X_test[i], y_test[i]))\n",
        "\n",
        "    if i:\n",
        "        sub = plt.subplot(n_faces, n_cols, i * n_cols + 1)\n",
        "    else:\n",
        "        sub = plt.subplot(n_faces, n_cols, i * n_cols + 1,\n",
        "                          title=\"true faces\")\n",
        "\n",
        "    sub.axis(\"off\")\n",
        "    sub.imshow(true_face.reshape(image_shape),\n",
        "               cmap=plt.cm.gray,\n",
        "               interpolation=\"nearest\")\n",
        "\n",
        "    for j, est in enumerate(sorted(ESTIMATORS)):\n",
        "        completed_face = np.hstack((X_test[i], y_test_predict[est][i]))\n",
        "\n",
        "        if i:\n",
        "            sub = plt.subplot(n_faces, n_cols, i * n_cols + 2 + j)\n",
        "\n",
        "        else:\n",
        "            sub = plt.subplot(n_faces, n_cols, i * n_cols + 2 + j,\n",
        "                              title=est)\n",
        "\n",
        "        sub.axis(\"off\")\n",
        "        sub.imshow(completed_face.reshape(image_shape),\n",
        "                   cmap=plt.cm.gray,\n",
        "                   interpolation=\"nearest\")\n",
        "\n",
        "plt.show()"
      ],
      "execution_count": null,
      "outputs": []
    }
  ]
}