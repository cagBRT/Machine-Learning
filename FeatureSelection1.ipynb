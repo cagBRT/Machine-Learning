{
  "nbformat": 4,
  "nbformat_minor": 0,
  "metadata": {
    "colab": {
      "name": "FeatureSelection1.ipynb",
      "provenance": [],
      "include_colab_link": true
    },
    "kernelspec": {
      "name": "python3",
      "display_name": "Python 3"
    }
  },
  "cells": [
    {
      "cell_type": "markdown",
      "metadata": {
        "id": "view-in-github",
        "colab_type": "text"
      },
      "source": [
        "<a href=\"https://colab.research.google.com/github/cagBRT/Machine-Learning/blob/master/FeatureSelection1.ipynb\" target=\"_parent\"><img src=\"https://colab.research.google.com/assets/colab-badge.svg\" alt=\"Open In Colab\"/></a>"
      ]
    },
    {
      "cell_type": "code",
      "metadata": {
        "id": "bZbvUJozkSK9",
        "colab_type": "code",
        "colab": {
          "base_uri": "https://localhost:8080/",
          "height": 881
        },
        "outputId": "e6c05f9a-7f1b-4fb5-f92f-7d77c96e9636"
      },
      "source": [
        "# Clone the entire repo.\n",
        "!git clone -l -s https://github.com/cagBRT/Machine-Learning.git cloned-repo\n",
        "%cd cloned-repo\n",
        "!ls"
      ],
      "execution_count": 83,
      "outputs": [
        {
          "output_type": "stream",
          "text": [
            "Cloning into 'cloned-repo'...\n",
            "warning: --local is ignored\n",
            "remote: Enumerating objects: 23, done.\u001b[K\n",
            "remote: Counting objects: 100% (23/23), done.\u001b[K\n",
            "remote: Compressing objects: 100% (22/22), done.\u001b[K\n",
            "remote: Total 901 (delta 10), reused 3 (delta 1), pack-reused 878\u001b[K\n",
            "Receiving objects: 100% (901/901), 51.51 MiB | 15.24 MiB/s, done.\n",
            "Resolving deltas: 100% (563/563), done.\n",
            "/content/cloned-repo/cloned-repo\n",
            " Admission_Predict.csv\t\t       Logistic_Regression_3.ipynb\n",
            " bank.csv\t\t\t       Logistic_Regression_4.ipynb\n",
            " bank-full.csv\t\t\t       LogReg_Titanic.ipynb\n",
            " blue_line.jpg\t\t\t       Mall_Customers.csv\n",
            " boston_housing.csv\t\t       movies_df.csv\n",
            " breast_cancer_data.csv\t\t       NaiveBayesBernoulli.ipynb\n",
            " cardata.data\t\t\t       NaiveBayesGaussian2.ipynb\n",
            " cows_and_wolves.txt\t\t       NaiveBayesGaussian.ipynb\n",
            " CrossValidation.ipynb\t\t       NaiveBayesMultinomialNB2.ipynb\n",
            " datasets_478_974_mushrooms.csv        NaiveBayesMultinomialNB.ipynb\n",
            " diabetesML.ipynb\t\t       naiveBayes.png\n",
            " dogOrMuffin.ipynb\t\t       PCA0.ipynb\n",
            " fashion-mnist-sprite.png\t       PCA1.ipynb\n",
            " FeatureSelection1.ipynb\t       PCA2.ipynb\n",
            " FeatureSelection2.ipynb\t       PCA.ipynb\n",
            " featureSelectTest.csv\t\t       pima_indians_diabetes.csv\n",
            " featureSelectTrain.csv\t\t       prediction_cases.csv\n",
            " height_weight.csv\t\t       README.md\n",
            " Hierarchical_Clustering_1.ipynb       Social_Network_Ads.csv\n",
            " Hierarchical_Clustering_2.ipynb       styleTransfer_1.ipynb\n",
            " Hierarchical_Clustering_3.ipynb       styleTransfer_2.ipynb\n",
            " HierarchicalClustering4.ipynb\t       styleTransfer.ipynb\n",
            " Hierarchical_Clustering.ipynb\t       StyleTransfer.ipynb\n",
            " hourly_wages.csv\t\t       SVM3.ipynb\n",
            "'HP1 Cars.ipynb'\t\t       SVMcompare.ipynb\n",
            "'HP2 Wage_per_hour.ipynb'\t       SVM.ipynb\n",
            "'HP3 boston_housing.ipynb'\t       SVM_MultiClass.ipynb\n",
            "'HP3 Iris.ipynb'\t\t       SVM_QuizAnswers.ipynb\n",
            " HP3_WineTypeBC.ipynb\t\t       SVM_Quiz.ipynb\n",
            "'HP4 WineQuality.ipynb'\t\t       test.csv\n",
            "'HP5 muffinOrDog.ipynb'\t\t       testPhone.csv\n",
            "'HP6 fashion_mnist.ipynb'\t       TextClassification.ipynb\n",
            " HyperParameter_Tuning.ipynb\t       train.csv\n",
            " KNN_1.ipynb\t\t\t       trainPhone.csv\n",
            " KNN2.ipynb\t\t\t       tripAdvisor.ipynb\n",
            " KNN_Regression.ipynb\t\t       tripAdvisorReviews.csv\n",
            " LinearRegression1.ipynb\t       Untitled19.ipynb\n",
            " LinearRegression2.ipynb\t       weather.csv\n",
            " LinearRegression3.ipynb\t       winequality-red.csv\n",
            " LinearRegression4_WineQuality.ipynb   winequality-white.csv\n",
            " LogisticRegression_1.ipynb\t       wolvesAndCows.ipynb\n"
          ],
          "name": "stdout"
        }
      ]
    },
    {
      "cell_type": "markdown",
      "metadata": {
        "id": "hOcesl303r56",
        "colab_type": "text"
      },
      "source": [
        "# **Remove features with low variance**"
      ]
    },
    {
      "cell_type": "markdown",
      "metadata": {
        "id": "LDFQycru2-qn",
        "colab_type": "text"
      },
      "source": [
        "As an example, suppose that we have a dataset with boolean features, and we want to remove all features that are either one or zero (on or off) in more than 80% of the samples. Any data where 80% of the data is the same is considered low variance data. <br>\n",
        "\n",
        "Features with a training-set variance lower than this threshold will be removed. <br>\n",
        "**The default is to keep all features with non-zero variance**, i.e. remove the features that have the same value in all samples.\n"
      ]
    },
    {
      "cell_type": "markdown",
      "metadata": {
        "id": "POAg-2gY24St",
        "colab_type": "text"
      },
      "source": [
        "Create a datasest with 3 features"
      ]
    },
    {
      "cell_type": "code",
      "metadata": {
        "id": "TcYMkGMb2skT",
        "colab_type": "code",
        "colab": {
          "base_uri": "https://localhost:8080/",
          "height": 35
        },
        "outputId": "d20ab783-29ab-416b-8bc1-de8e12a89768"
      },
      "source": [
        "from sklearn.feature_selection import VarianceThreshold\n",
        "X = [[0, 0, 1], [0, 1, 0], [1, 0, 0], [0, 1, 1], [0, 1, 0], [0, 1, 1]]\n",
        "print(X)"
      ],
      "execution_count": 84,
      "outputs": [
        {
          "output_type": "stream",
          "text": [
            "[[0, 0, 1], [0, 1, 0], [1, 0, 0], [0, 1, 1], [0, 1, 0], [0, 1, 1]]\n"
          ],
          "name": "stdout"
        }
      ]
    },
    {
      "cell_type": "markdown",
      "metadata": {
        "id": "NnwIBmvd28Os",
        "colab_type": "text"
      },
      "source": [
        "Remove all variables where the variance does not meet the threshold"
      ]
    },
    {
      "cell_type": "markdown",
      "metadata": {
        "id": "tCO728Dl3Tg0",
        "colab_type": "text"
      },
      "source": [
        "As expected, VarianceThreshold has removed the first column, \n",
        "which had 0,0,1,0,0,0 <br>\n",
        "There is very little variance in this column, so it will not add much information for our model to use when making predictions. So remove this column.  "
      ]
    },
    {
      "cell_type": "code",
      "metadata": {
        "id": "fva4hqMO23Zc",
        "colab_type": "code",
        "colab": {
          "base_uri": "https://localhost:8080/",
          "height": 121
        },
        "outputId": "3cad979c-e0b5-4f74-afd5-43f1a0c24718"
      },
      "source": [
        "sel = VarianceThreshold(threshold=(0.16))\n",
        "sel.fit_transform(X)"
      ],
      "execution_count": 100,
      "outputs": [
        {
          "output_type": "execute_result",
          "data": {
            "text/plain": [
              "array([[0, 1],\n",
              "       [1, 0],\n",
              "       [0, 0],\n",
              "       [1, 1],\n",
              "       [1, 0],\n",
              "       [1, 1]])"
            ]
          },
          "metadata": {
            "tags": []
          },
          "execution_count": 100
        }
      ]
    },
    {
      "cell_type": "markdown",
      "metadata": {
        "id": "lBCOIVj9-rIT",
        "colab_type": "text"
      },
      "source": [
        "# **Assignment 1**\n",
        "Remove any low variance data from the given dataset.<br>\n",
        "<br>\n",
        "[[0,1,2,0,2],[2,2,1,0,1],[1,1,1,0,1],[0,2,1,0,0],[2,1,1,0,0],[1,1,2,0,0],[2,2,0,0,1],[1,0,1,0,1],[0,2,1,0,1],[2,1,1,1,0],[0,1,1,0,2],[1,2,0,0,1],[2,1,1,2,1],[2,0,1,0,1]]\n",
        "\n",
        "1. Find the lowest threshold that still produces a change in the dataset\n",
        "2. Find the threshold to remove a second feature column"
      ]
    },
    {
      "cell_type": "code",
      "metadata": {
        "id": "_G8M4kxJ-3X2",
        "colab_type": "code",
        "colab": {}
      },
      "source": [
        "#Assignment 1\n",
        "xx = [[0,1,2,0,2],[2,2,1,0,1],[1,1,1,0,1],[0,2,1,0,0],[2,1,1,0,0],[1,1,2,0,0],[2,2,0,0,1],[1,0,1,0,1],[0,2,1,0,1],[2,1,1,1,0],[0,1,1,0,2],[1,2,0,0,1],[2,1,1,0,1],[2,0,1,0,1]]\n"
      ],
      "execution_count": 101,
      "outputs": []
    },
    {
      "cell_type": "markdown",
      "metadata": {
        "id": "uJIHYCf33xcY",
        "colab_type": "text"
      },
      "source": [
        "# **Univariate feature selection**"
      ]
    },
    {
      "cell_type": "markdown",
      "metadata": {
        "id": "m8JrQGnX_gPd",
        "colab_type": "text"
      },
      "source": [
        ">SelectKBest removes all but the k highest scoring features<br>\n",
        "<br>\n",
        "SelectPercentile removes all but a user-specified highest scoring percentage of features<br>\n",
        "<br>\n",
        "Uses common univariate statistical tests for each feature:<br> \n",
        "* false positive rate SelectFpr<br>\n",
        "* false discovery rate SelectFdr<br>\n",
        "* family wise error SelectFwe<br>\n",
        "* genericUnivariateSelect - selects the best strategy with a hyper parameter search estimator"
      ]
    },
    {
      "cell_type": "markdown",
      "metadata": {
        "id": "H8B00pdK73A9",
        "colab_type": "text"
      },
      "source": [
        "**Example 1:**"
      ]
    },
    {
      "cell_type": "markdown",
      "metadata": {
        "id": "LP_5KUtl4JAQ",
        "colab_type": "text"
      },
      "source": [
        "SelectKBest removes all but the *k* highest scoring features"
      ]
    },
    {
      "cell_type": "markdown",
      "metadata": {
        "id": "lwgyLw104RmF",
        "colab_type": "text"
      },
      "source": [
        "Get the Iris dataset"
      ]
    },
    {
      "cell_type": "code",
      "metadata": {
        "id": "Apd5gGI038ut",
        "colab_type": "code",
        "colab": {
          "base_uri": "https://localhost:8080/",
          "height": 35
        },
        "outputId": "71b56d00-8638-4237-b267-4bd56b9d1bdc"
      },
      "source": [
        "from sklearn.datasets import load_iris\n",
        "from sklearn.feature_selection import SelectKBest\n",
        "from sklearn.feature_selection import chi2\n",
        "X, y = load_iris(return_X_y=True)\n",
        "X.shape"
      ],
      "execution_count": 102,
      "outputs": [
        {
          "output_type": "execute_result",
          "data": {
            "text/plain": [
              "(150, 4)"
            ]
          },
          "metadata": {
            "tags": []
          },
          "execution_count": 102
        }
      ]
    },
    {
      "cell_type": "markdown",
      "metadata": {
        "id": "lFoLUqYr4UM0",
        "colab_type": "text"
      },
      "source": [
        "These functions take as input a scoring function that returns univariate scores and p-values (or only scores for SelectKBest and SelectPercentile)<br>\n",
        "For regression use: f_regression, mutual_info_regression\n",
        "\n",
        "For classification use: chi2, f_classif, mutual_info_classif\n",
        "<br><br>\n",
        "Then select the highest scoring features"
      ]
    },
    {
      "cell_type": "code",
      "metadata": {
        "id": "RTqmfKV64QI7",
        "colab_type": "code",
        "colab": {
          "base_uri": "https://localhost:8080/",
          "height": 35
        },
        "outputId": "8f6b8b55-2bd2-43da-b19c-3384746837d0"
      },
      "source": [
        "#Use chi2 to score the the columns. Select the two columns that have the highest scores\n",
        "X_new = SelectKBest(chi2, k=2).fit_transform(X, y)\n",
        "X_new.shape"
      ],
      "execution_count": 104,
      "outputs": [
        {
          "output_type": "execute_result",
          "data": {
            "text/plain": [
              "(150, 2)"
            ]
          },
          "metadata": {
            "tags": []
          },
          "execution_count": 104
        }
      ]
    },
    {
      "cell_type": "markdown",
      "metadata": {
        "id": "1rZc7Saf42Xk",
        "colab_type": "text"
      },
      "source": [
        "**Example 2: Check model performance after variable selection**"
      ]
    },
    {
      "cell_type": "code",
      "metadata": {
        "id": "BgWBWHot5Ggn",
        "colab_type": "code",
        "colab": {}
      },
      "source": [
        "import numpy as np\n",
        "import matplotlib.pyplot as plt\n",
        "\n",
        "from sklearn.datasets import load_iris\n",
        "from sklearn.model_selection import train_test_split\n",
        "from sklearn.preprocessing import MinMaxScaler\n",
        "from sklearn.svm import LinearSVC\n",
        "from sklearn.pipeline import make_pipeline\n",
        "from sklearn.feature_selection import SelectKBest, f_classif"
      ],
      "execution_count": 105,
      "outputs": []
    },
    {
      "cell_type": "markdown",
      "metadata": {
        "id": "ldQX2LpN5S35",
        "colab_type": "text"
      },
      "source": [
        "**Get data and add noise to the dataset**"
      ]
    },
    {
      "cell_type": "markdown",
      "metadata": {
        "id": "DBVBraRJ6pb6",
        "colab_type": "text"
      },
      "source": [
        "As an experiment, use the Iris dataset, but add noise to it so that it has 24 features. "
      ]
    },
    {
      "cell_type": "code",
      "metadata": {
        "id": "79mQ2T0v5Le-",
        "colab_type": "code",
        "colab": {
          "base_uri": "https://localhost:8080/",
          "height": 35
        },
        "outputId": "94e8c96c-4f50-481d-9387-130c810d6fdb"
      },
      "source": [
        "# Import the Iris dataset\n",
        "X, y = load_iris(return_X_y=True)\n",
        "\n",
        "# Some noisy data not correlated\n",
        "E = np.random.RandomState(42).uniform(0, 0.1, size=(X.shape[0], 20))\n",
        "\n",
        "# Add the noisy data to the informative features\n",
        "X = np.hstack((X, E))\n",
        "X.shape\n"
      ],
      "execution_count": 106,
      "outputs": [
        {
          "output_type": "execute_result",
          "data": {
            "text/plain": [
              "(150, 24)"
            ]
          },
          "metadata": {
            "tags": []
          },
          "execution_count": 106
        }
      ]
    },
    {
      "cell_type": "markdown",
      "metadata": {
        "id": "qBnIyEZS5ciu",
        "colab_type": "text"
      },
      "source": [
        "**Do the train-test split**"
      ]
    },
    {
      "cell_type": "code",
      "metadata": {
        "id": "e__nGiTs5ctJ",
        "colab_type": "code",
        "colab": {}
      },
      "source": [
        "# Split dataset to select feature and evaluate the classifier\n",
        "X_train, X_test, y_train, y_test = train_test_split(\n",
        "        X, y, stratify=y, random_state=0\n",
        ")"
      ],
      "execution_count": 107,
      "outputs": []
    },
    {
      "cell_type": "markdown",
      "metadata": {
        "id": "unYrXy1w8vl0",
        "colab_type": "text"
      },
      "source": [
        "**Create an SVM model and train it on all the features**"
      ]
    },
    {
      "cell_type": "code",
      "metadata": {
        "id": "ZUqPYLrY8beH",
        "colab_type": "code",
        "colab": {
          "base_uri": "https://localhost:8080/",
          "height": 35
        },
        "outputId": "d202d9b2-e375-4d5a-acdf-b077cec60e90"
      },
      "source": [
        "# Compare to the weights of an SVM\n",
        "clf = make_pipeline(MinMaxScaler(), LinearSVC())\n",
        "clf.fit(X_train, y_train)\n",
        "print('Classification accuracy without selecting features: {:.3f}'\n",
        "      .format(clf.score(X_test, y_test)))\n",
        "\n",
        "svm_weights = np.abs(clf[-1].coef_).sum(axis=0)\n",
        "svm_weights /= svm_weights.sum()"
      ],
      "execution_count": 108,
      "outputs": [
        {
          "output_type": "stream",
          "text": [
            "Classification accuracy without selecting features: 0.789\n"
          ],
          "name": "stdout"
        }
      ]
    },
    {
      "cell_type": "markdown",
      "metadata": {
        "id": "fIBc_vio813K",
        "colab_type": "text"
      },
      "source": [
        "**Create an SVM and train it with only the selected features**"
      ]
    },
    {
      "cell_type": "code",
      "metadata": {
        "id": "3FP8xze960k3",
        "colab_type": "code",
        "colab": {}
      },
      "source": [
        "#X_indices = np.arange(X.shape[-1])\n",
        "\n",
        "# #############################################################################\n",
        "#Using the SelectKBest function, select the best 4 best features to keep\n",
        "# #############################################################################\n",
        "\n",
        "selector = SelectKBest(f_classif, k=4)\n",
        "selector.fit(X_train, y_train)\n",
        "scores = -np.log10(selector.pvalues_)\n",
        "scores /= scores.max()"
      ],
      "execution_count": 109,
      "outputs": []
    },
    {
      "cell_type": "code",
      "metadata": {
        "id": "n1v6GqYa8raL",
        "colab_type": "code",
        "colab": {
          "base_uri": "https://localhost:8080/",
          "height": 35
        },
        "outputId": "3ed90005-134f-4057-f028-9964d2af1d95"
      },
      "source": [
        "clf_selected = make_pipeline(\n",
        "        SelectKBest(f_classif, k=4), MinMaxScaler(), LinearSVC()\n",
        ")\n",
        "clf_selected.fit(X_train, y_train)\n",
        "print('Classification accuracy after univariate feature selection: {:.3f}'\n",
        "      .format(clf_selected.score(X_test, y_test)))\n",
        "\n",
        "svm_weights_selected = np.abs(clf_selected[-1].coef_).sum(axis=0)\n",
        "svm_weights_selected /= svm_weights_selected.sum()"
      ],
      "execution_count": 110,
      "outputs": [
        {
          "output_type": "stream",
          "text": [
            "Classification accuracy after univariate feature selection: 0.868\n"
          ],
          "name": "stdout"
        }
      ]
    },
    {
      "cell_type": "markdown",
      "metadata": {
        "id": "LkoG3hmOsyJ6",
        "colab_type": "text"
      },
      "source": [
        "It is clear the model that used only the highest scoring SelectKBest values has a higher performance. "
      ]
    },
    {
      "cell_type": "code",
      "metadata": {
        "id": "LKAGpuqY42j0",
        "colab_type": "code",
        "colab": {
          "base_uri": "https://localhost:8080/",
          "height": 326
        },
        "outputId": "31c6f6ce-9615-4940-9013-c8fdc8d120d2"
      },
      "source": [
        "plt.figure(1)\n",
        "plt.figure(figsize=(20,5))\n",
        "plt.clf()\n",
        "\n",
        "plt.bar(X_indices - .45, scores, width=.2,\n",
        "        label=r'Univariate score ($-Log(p_{value})$)')\n",
        "\n",
        "plt.bar(X_indices - .25, svm_weights, width=.2, label='SVM weight')\n",
        "\n",
        "plt.bar(X_indices[selector.get_support()] - .05, svm_weights_selected,\n",
        "        width=.2, label='SVM weights after selection')\n",
        "\n",
        "plt.title(\"Comparing feature selection\")\n",
        "plt.xlabel('Feature number')\n",
        "plt.yticks(())\n",
        "plt.axis('tight')\n",
        "plt.legend(loc='upper right')\n",
        "plt.show()"
      ],
      "execution_count": 112,
      "outputs": [
        {
          "output_type": "display_data",
          "data": {
            "text/plain": [
              "<Figure size 432x288 with 0 Axes>"
            ]
          },
          "metadata": {
            "tags": []
          }
        },
        {
          "output_type": "display_data",
          "data": {
            "image/png": "[encoded data removed]",
            "text/plain": [
              "<Figure size 1440x360 with 1 Axes>"
            ]
          },
          "metadata": {
            "tags": [],
            "needs_background": "light"
          }
        }
      ]
    },
    {
      "cell_type": "markdown",
      "metadata": {
        "id": "TFltpomvtCOE",
        "colab_type": "text"
      },
      "source": [
        "# **Assignment 2**\n",
        "The plot above shows two of the univariate scores are much higher that the other scores. <br>\n",
        "Train the model using only the two highest scores. <br>\n",
        "Does the model performance get better or worse?"
      ]
    },
    {
      "cell_type": "code",
      "metadata": {
        "id": "GVWoHICAtVTw",
        "colab_type": "code",
        "colab": {}
      },
      "source": [
        "#Assignment 2\n"
      ],
      "execution_count": null,
      "outputs": []
    },
    {
      "cell_type": "markdown",
      "metadata": {
        "id": "W5_JuVR5A5AS",
        "colab_type": "text"
      },
      "source": [
        "# **Recursive feature elimination**"
      ]
    },
    {
      "cell_type": "markdown",
      "metadata": {
        "id": "BxoH5EigB2m1",
        "colab_type": "text"
      },
      "source": [
        "Select features by recursively considering smaller and smaller sets of features\n"
      ]
    },
    {
      "cell_type": "markdown",
      "metadata": {
        "id": "h40xDwCHEFes",
        "colab_type": "text"
      },
      "source": [
        "A recursive feature elimination example showing the relevance of pixels in a digit classification task"
      ]
    },
    {
      "cell_type": "code",
      "metadata": {
        "id": "N_EeaIamB7f9",
        "colab_type": "code",
        "colab": {}
      },
      "source": [
        "from sklearn.svm import SVC\n",
        "from sklearn.datasets import load_digits\n",
        "from sklearn.feature_selection import RFE\n",
        "import matplotlib.pyplot as plt\n",
        "from sklearn.tree import DecisionTreeClassifier\n",
        "from sklearn.pipeline import Pipeline\n",
        "from sklearn.model_selection import RepeatedStratifiedKFold\n",
        "from sklearn.model_selection import cross_val_score\n",
        "from numpy import mean\n",
        "from numpy import std\n",
        "import numpy as np \n",
        "import pandas as pd\n",
        "import seaborn as sns\n",
        "from sklearn.preprocessing import StandardScaler\n",
        "from sklearn.linear_model import LogisticRegression\n",
        "from sklearn.ensemble import RandomForestClassifier"
      ],
      "execution_count": 93,
      "outputs": []
    },
    {
      "cell_type": "markdown",
      "metadata": {
        "id": "NH9bq_cBCVs5",
        "colab_type": "text"
      },
      "source": [
        "**Load the digits dataset (classification)**.<br>\n",
        "\n",
        "Each datapoint is a 8x8 image of a digit.<br>\n",
        ">Classes: 10<br>\n",
        ">Samples per class: ~180<br>\n",
        ">Samples total: 1797<br>\n",
        ">Dimensionality: 64<br>\n",
        ">Features: integers 0-9"
      ]
    },
    {
      "cell_type": "code",
      "metadata": {
        "id": "3j-ZCYFMB_vh",
        "colab_type": "code",
        "colab": {
          "base_uri": "https://localhost:8080/",
          "height": 35
        },
        "outputId": "58ff3a39-ec70-47b2-edbb-760075bd1894"
      },
      "source": [
        "from sklearn.datasets import load_digits\n",
        "digits = load_digits()\n",
        "print(digits.data.shape)"
      ],
      "execution_count": 62,
      "outputs": [
        {
          "output_type": "stream",
          "text": [
            "(1797, 64)\n"
          ],
          "name": "stdout"
        }
      ]
    },
    {
      "cell_type": "code",
      "metadata": {
        "id": "a9YqCTcbNUk3",
        "colab_type": "code",
        "colab": {}
      },
      "source": [
        "X = digits.images.reshape((len(digits.images), -1))\n",
        "y = digits.target"
      ],
      "execution_count": 63,
      "outputs": []
    },
    {
      "cell_type": "markdown",
      "metadata": {
        "id": "INisXSxvNkxd",
        "colab_type": "text"
      },
      "source": [
        "Look at one of the digits, the number 9"
      ]
    },
    {
      "cell_type": "code",
      "metadata": {
        "id": "x73tlGFjCzlk",
        "colab_type": "code",
        "colab": {
          "base_uri": "https://localhost:8080/",
          "height": 292
        },
        "outputId": "66c284db-66da-41a6-ae30-1713a2343e05"
      },
      "source": [
        "choice = 2\n",
        "plt.gray() \n",
        "plt.matshow(digits.images[choice]) \n",
        "plt.show() "
      ],
      "execution_count": 64,
      "outputs": [
        {
          "output_type": "display_data",
          "data": {
            "text/plain": [
              "<Figure size 432x288 with 0 Axes>"
            ]
          },
          "metadata": {
            "tags": []
          }
        },
        {
          "output_type": "display_data",
          "data": {
            "image/png": "[encoded data removed]",
            "text/plain": [
              "<Figure size 288x288 with 1 Axes>"
            ]
          },
          "metadata": {
            "tags": [],
            "needs_background": "light"
          }
        }
      ]
    },
    {
      "cell_type": "markdown",
      "metadata": {
        "id": "0mTlUFUWw7X5",
        "colab_type": "text"
      },
      "source": [
        "There are 64 pixels in the image. <br>\n",
        "Which ones are important to the model and which ones can we prune?"
      ]
    },
    {
      "cell_type": "code",
      "metadata": {
        "id": "Gtqs9FgQCLOq",
        "colab_type": "code",
        "colab": {
          "base_uri": "https://localhost:8080/",
          "height": 104
        },
        "outputId": "e99565e6-c9d6-4c60-b412-8a58b922fce7"
      },
      "source": [
        "X[choice]"
      ],
      "execution_count": 65,
      "outputs": [
        {
          "output_type": "execute_result",
          "data": {
            "text/plain": [
              "array([ 0.,  0.,  0.,  4., 15., 12.,  0.,  0.,  0.,  0.,  3., 16., 15.,\n",
              "       14.,  0.,  0.,  0.,  0.,  8., 13.,  8., 16.,  0.,  0.,  0.,  0.,\n",
              "        1.,  6., 15., 11.,  0.,  0.,  0.,  1.,  8., 13., 15.,  1.,  0.,\n",
              "        0.,  0.,  9., 16., 16.,  5.,  0.,  0.,  0.,  0.,  3., 13., 16.,\n",
              "       16., 11.,  5.,  0.,  0.,  0.,  0.,  3., 11., 16.,  9.,  0.])"
            ]
          },
          "metadata": {
            "tags": []
          },
          "execution_count": 65
        }
      ]
    },
    {
      "cell_type": "code",
      "metadata": {
        "id": "xisTpJlaCJPr",
        "colab_type": "code",
        "colab": {
          "base_uri": "https://localhost:8080/",
          "height": 35
        },
        "outputId": "3f869465-1702-475c-a2c6-67f5f3972a61"
      },
      "source": [
        "y[choice]"
      ],
      "execution_count": 66,
      "outputs": [
        {
          "output_type": "execute_result",
          "data": {
            "text/plain": [
              "2"
            ]
          },
          "metadata": {
            "tags": []
          },
          "execution_count": 66
        }
      ]
    },
    {
      "cell_type": "markdown",
      "metadata": {
        "id": "xki-A_fINo0l",
        "colab_type": "text"
      },
      "source": [
        "Create the Recursive Feature Elimination (RFE) object and rank each pixel"
      ]
    },
    {
      "cell_type": "code",
      "metadata": {
        "id": "4jb8botiCGcJ",
        "colab_type": "code",
        "colab": {}
      },
      "source": [
        "svc = SVC(kernel=\"linear\", C=1)\n",
        "rfe = RFE(estimator=svc, n_features_to_select=1, step=1)\n",
        "rfe.fit(X, y)\n",
        "ranking = rfe.ranking_.reshape(digits.images[0].shape)"
      ],
      "execution_count": 67,
      "outputs": []
    },
    {
      "cell_type": "markdown",
      "metadata": {
        "id": "YefxVKatxN4B",
        "colab_type": "text"
      },
      "source": [
        "List the ranks assigned to each pixel. <br>\n",
        "The higher the ranking corresponds to which should be pruned first. "
      ]
    },
    {
      "cell_type": "code",
      "metadata": {
        "id": "ekgTugnexKmH",
        "colab_type": "code",
        "colab": {
          "base_uri": "https://localhost:8080/",
          "height": 155
        },
        "outputId": "159a37d2-b87f-4ff7-ae65-7e4c6b45f04c"
      },
      "source": [
        "ranking"
      ],
      "execution_count": 68,
      "outputs": [
        {
          "output_type": "execute_result",
          "data": {
            "text/plain": [
              "array([[64, 50, 31, 23, 10, 17, 34, 51],\n",
              "       [57, 37, 30, 43, 14, 32, 44, 52],\n",
              "       [54, 41, 19, 15, 28,  8, 39, 53],\n",
              "       [55, 45,  9, 18, 20, 38,  1, 59],\n",
              "       [63, 42, 25, 35, 29, 16,  2, 62],\n",
              "       [61, 40,  5, 11, 13,  6,  4, 58],\n",
              "       [56, 47, 26, 36, 24,  3, 22, 48],\n",
              "       [60, 49,  7, 27, 33, 21, 12, 46]])"
            ]
          },
          "metadata": {
            "tags": []
          },
          "execution_count": 68
        }
      ]
    },
    {
      "cell_type": "markdown",
      "metadata": {
        "id": "IVWtP_RxNvaM",
        "colab_type": "text"
      },
      "source": [
        "Plot pixel ranking"
      ]
    },
    {
      "cell_type": "code",
      "metadata": {
        "id": "X0lukojWA-pG",
        "colab_type": "code",
        "colab": {
          "base_uri": "https://localhost:8080/",
          "height": 257
        },
        "outputId": "b42d55d1-5b43-47fc-985e-2e94116748c9"
      },
      "source": [
        "plt.matshow(ranking, cmap=plt.cm.Blues)\n",
        "plt.colorbar()\n",
        "plt.title(\"Ranking of pixels with RFE\")\n",
        "plt.show()"
      ],
      "execution_count": 69,
      "outputs": [
        {
          "output_type": "display_data",
          "data": {
            "image/png": "[encoded data removed]",
            "text/plain": [
              "<Figure size 288x288 with 2 Axes>"
            ]
          },
          "metadata": {
            "tags": [],
            "needs_background": "light"
          }
        }
      ]
    },
    {
      "cell_type": "markdown",
      "metadata": {
        "id": "Bdfums7Nb7SK",
        "colab_type": "text"
      },
      "source": [
        "# **Assignment 3**\n",
        "Right now the model is saving only one pixel. Change the number of pixels saved to 48 pixels. <br>\n",
        "Rerun the ranking of the pixels. <br>\n",
        "Then run the code below.<br>\n",
        "Which pixels were removed? <br>\n",
        "After removing the pixels compare the performance of the reduced pixel images to the performance of the full image. <br>\n",
        "How much of a difference is there in the accuracy scores?"
      ]
    },
    {
      "cell_type": "code",
      "metadata": {
        "id": "bygXkKkEzqxl",
        "colab_type": "code",
        "colab": {
          "base_uri": "https://localhost:8080/",
          "height": 379
        },
        "outputId": "1fdae9cc-8fc8-4145-a2a4-bbaf448e75b0"
      },
      "source": [
        "model = DecisionTreeClassifier()\n",
        "#List of (name, transform) tuples (implementing fit/transform) that are chained, \n",
        "#in the order in which they are chained, with the last object an estimator.\n",
        "pipeline = Pipeline(steps=[('s',rfe),('m',model)])\n",
        "pipeline.fit(X, y)\n",
        "# evaluate model\n",
        "cv = RepeatedStratifiedKFold(n_splits=10, n_repeats=3, random_state=1)\n",
        "n_scores = cross_val_score(pipeline, X, y, scoring='accuracy', cv=cv, n_jobs=-1, error_score='raise')\n",
        "# report performance\n",
        "print('Accuracy: %.3f (%.3f)' % (mean(n_scores), std(n_scores)))"
      ],
      "execution_count": 109,
      "outputs": [
        {
          "output_type": "error",
          "ename": "ValueError",
          "evalue": "ignored",
          "traceback": [
            "\u001b[0;31m---------------------------------------------------------------------------\u001b[0m",
            "\u001b[0;31mValueError\u001b[0m                                Traceback (most recent call last)",
            "\u001b[0;32m<ipython-input-109-7199a209d88d>\u001b[0m in \u001b[0;36m<module>\u001b[0;34m()\u001b[0m\n\u001b[1;32m      3\u001b[0m \u001b[0;31m#in the order in which they are chained, with the last object an estimator.\u001b[0m\u001b[0;34m\u001b[0m\u001b[0;34m\u001b[0m\u001b[0;34m\u001b[0m\u001b[0m\n\u001b[1;32m      4\u001b[0m \u001b[0mpipeline\u001b[0m \u001b[0;34m=\u001b[0m \u001b[0mPipeline\u001b[0m\u001b[0;34m(\u001b[0m\u001b[0msteps\u001b[0m\u001b[0;34m=\u001b[0m\u001b[0;34m[\u001b[0m\u001b[0;34m(\u001b[0m\u001b[0;34m's'\u001b[0m\u001b[0;34m,\u001b[0m\u001b[0mrfe\u001b[0m\u001b[0;34m)\u001b[0m\u001b[0;34m,\u001b[0m\u001b[0;34m(\u001b[0m\u001b[0;34m'm'\u001b[0m\u001b[0;34m,\u001b[0m\u001b[0mmodel\u001b[0m\u001b[0;34m)\u001b[0m\u001b[0;34m]\u001b[0m\u001b[0;34m)\u001b[0m\u001b[0;34m\u001b[0m\u001b[0;34m\u001b[0m\u001b[0m\n\u001b[0;32m----> 5\u001b[0;31m \u001b[0mpipeline\u001b[0m\u001b[0;34m.\u001b[0m\u001b[0mfit\u001b[0m\u001b[0;34m(\u001b[0m\u001b[0mX\u001b[0m\u001b[0;34m,\u001b[0m \u001b[0my\u001b[0m\u001b[0;34m)\u001b[0m\u001b[0;34m\u001b[0m\u001b[0;34m\u001b[0m\u001b[0m\n\u001b[0m\u001b[1;32m      6\u001b[0m \u001b[0;31m# evaluate model\u001b[0m\u001b[0;34m\u001b[0m\u001b[0;34m\u001b[0m\u001b[0;34m\u001b[0m\u001b[0m\n\u001b[1;32m      7\u001b[0m \u001b[0mcv\u001b[0m \u001b[0;34m=\u001b[0m \u001b[0mRepeatedStratifiedKFold\u001b[0m\u001b[0;34m(\u001b[0m\u001b[0mn_splits\u001b[0m\u001b[0;34m=\u001b[0m\u001b[0;36m10\u001b[0m\u001b[0;34m,\u001b[0m \u001b[0mn_repeats\u001b[0m\u001b[0;34m=\u001b[0m\u001b[0;36m3\u001b[0m\u001b[0;34m,\u001b[0m \u001b[0mrandom_state\u001b[0m\u001b[0;34m=\u001b[0m\u001b[0;36m1\u001b[0m\u001b[0;34m)\u001b[0m\u001b[0;34m\u001b[0m\u001b[0;34m\u001b[0m\u001b[0m\n",
            "\u001b[0;32m/usr/local/lib/python3.6/dist-packages/sklearn/pipeline.py\u001b[0m in \u001b[0;36mfit\u001b[0;34m(self, X, y, **fit_params)\u001b[0m\n\u001b[1;32m    348\u001b[0m             \u001b[0mThis\u001b[0m \u001b[0mestimator\u001b[0m\u001b[0;34m\u001b[0m\u001b[0;34m\u001b[0m\u001b[0m\n\u001b[1;32m    349\u001b[0m         \"\"\"\n\u001b[0;32m--> 350\u001b[0;31m         \u001b[0mXt\u001b[0m\u001b[0;34m,\u001b[0m \u001b[0mfit_params\u001b[0m \u001b[0;34m=\u001b[0m \u001b[0mself\u001b[0m\u001b[0;34m.\u001b[0m\u001b[0m_fit\u001b[0m\u001b[0;34m(\u001b[0m\u001b[0mX\u001b[0m\u001b[0;34m,\u001b[0m \u001b[0my\u001b[0m\u001b[0;34m,\u001b[0m \u001b[0;34m**\u001b[0m\u001b[0mfit_params\u001b[0m\u001b[0;34m)\u001b[0m\u001b[0;34m\u001b[0m\u001b[0;34m\u001b[0m\u001b[0m\n\u001b[0m\u001b[1;32m    351\u001b[0m         with _print_elapsed_time('Pipeline',\n\u001b[1;32m    352\u001b[0m                                  self._log_message(len(self.steps) - 1)):\n",
            "\u001b[0;32m/usr/local/lib/python3.6/dist-packages/sklearn/pipeline.py\u001b[0m in \u001b[0;36m_fit\u001b[0;34m(self, X, y, **fit_params)\u001b[0m\n\u001b[1;32m    313\u001b[0m                 \u001b[0mmessage_clsname\u001b[0m\u001b[0;34m=\u001b[0m\u001b[0;34m'Pipeline'\u001b[0m\u001b[0;34m,\u001b[0m\u001b[0;34m\u001b[0m\u001b[0;34m\u001b[0m\u001b[0m\n\u001b[1;32m    314\u001b[0m                 \u001b[0mmessage\u001b[0m\u001b[0;34m=\u001b[0m\u001b[0mself\u001b[0m\u001b[0;34m.\u001b[0m\u001b[0m_log_message\u001b[0m\u001b[0;34m(\u001b[0m\u001b[0mstep_idx\u001b[0m\u001b[0;34m)\u001b[0m\u001b[0;34m,\u001b[0m\u001b[0;34m\u001b[0m\u001b[0;34m\u001b[0m\u001b[0m\n\u001b[0;32m--> 315\u001b[0;31m                 **fit_params_steps[name])\n\u001b[0m\u001b[1;32m    316\u001b[0m             \u001b[0;31m# Replace the transformer of the step with the fitted\u001b[0m\u001b[0;34m\u001b[0m\u001b[0;34m\u001b[0m\u001b[0;34m\u001b[0m\u001b[0m\n\u001b[1;32m    317\u001b[0m             \u001b[0;31m# transformer. This is necessary when loading the transformer\u001b[0m\u001b[0;34m\u001b[0m\u001b[0;34m\u001b[0m\u001b[0;34m\u001b[0m\u001b[0m\n",
            "\u001b[0;32m/usr/local/lib/python3.6/dist-packages/joblib/memory.py\u001b[0m in \u001b[0;36m__call__\u001b[0;34m(self, *args, **kwargs)\u001b[0m\n\u001b[1;32m    350\u001b[0m \u001b[0;34m\u001b[0m\u001b[0m\n\u001b[1;32m    351\u001b[0m     \u001b[0;32mdef\u001b[0m \u001b[0m__call__\u001b[0m\u001b[0;34m(\u001b[0m\u001b[0mself\u001b[0m\u001b[0;34m,\u001b[0m \u001b[0;34m*\u001b[0m\u001b[0margs\u001b[0m\u001b[0;34m,\u001b[0m \u001b[0;34m**\u001b[0m\u001b[0mkwargs\u001b[0m\u001b[0;34m)\u001b[0m\u001b[0;34m:\u001b[0m\u001b[0;34m\u001b[0m\u001b[0;34m\u001b[0m\u001b[0m\n\u001b[0;32m--> 352\u001b[0;31m         \u001b[0;32mreturn\u001b[0m \u001b[0mself\u001b[0m\u001b[0;34m.\u001b[0m\u001b[0mfunc\u001b[0m\u001b[0;34m(\u001b[0m\u001b[0;34m*\u001b[0m\u001b[0margs\u001b[0m\u001b[0;34m,\u001b[0m \u001b[0;34m**\u001b[0m\u001b[0mkwargs\u001b[0m\u001b[0;34m)\u001b[0m\u001b[0;34m\u001b[0m\u001b[0;34m\u001b[0m\u001b[0m\n\u001b[0m\u001b[1;32m    353\u001b[0m \u001b[0;34m\u001b[0m\u001b[0m\n\u001b[1;32m    354\u001b[0m     \u001b[0;32mdef\u001b[0m \u001b[0mcall_and_shelve\u001b[0m\u001b[0;34m(\u001b[0m\u001b[0mself\u001b[0m\u001b[0;34m,\u001b[0m \u001b[0;34m*\u001b[0m\u001b[0margs\u001b[0m\u001b[0;34m,\u001b[0m \u001b[0;34m**\u001b[0m\u001b[0mkwargs\u001b[0m\u001b[0;34m)\u001b[0m\u001b[0;34m:\u001b[0m\u001b[0;34m\u001b[0m\u001b[0;34m\u001b[0m\u001b[0m\n",
            "\u001b[0;32m/usr/local/lib/python3.6/dist-packages/sklearn/pipeline.py\u001b[0m in \u001b[0;36m_fit_transform_one\u001b[0;34m(transformer, X, y, weight, message_clsname, message, **fit_params)\u001b[0m\n\u001b[1;32m    726\u001b[0m     \u001b[0;32mwith\u001b[0m \u001b[0m_print_elapsed_time\u001b[0m\u001b[0;34m(\u001b[0m\u001b[0mmessage_clsname\u001b[0m\u001b[0;34m,\u001b[0m \u001b[0mmessage\u001b[0m\u001b[0;34m)\u001b[0m\u001b[0;34m:\u001b[0m\u001b[0;34m\u001b[0m\u001b[0;34m\u001b[0m\u001b[0m\n\u001b[1;32m    727\u001b[0m         \u001b[0;32mif\u001b[0m \u001b[0mhasattr\u001b[0m\u001b[0;34m(\u001b[0m\u001b[0mtransformer\u001b[0m\u001b[0;34m,\u001b[0m \u001b[0;34m'fit_transform'\u001b[0m\u001b[0;34m)\u001b[0m\u001b[0;34m:\u001b[0m\u001b[0;34m\u001b[0m\u001b[0;34m\u001b[0m\u001b[0m\n\u001b[0;32m--> 728\u001b[0;31m             \u001b[0mres\u001b[0m \u001b[0;34m=\u001b[0m \u001b[0mtransformer\u001b[0m\u001b[0;34m.\u001b[0m\u001b[0mfit_transform\u001b[0m\u001b[0;34m(\u001b[0m\u001b[0mX\u001b[0m\u001b[0;34m,\u001b[0m \u001b[0my\u001b[0m\u001b[0;34m,\u001b[0m \u001b[0;34m**\u001b[0m\u001b[0mfit_params\u001b[0m\u001b[0;34m)\u001b[0m\u001b[0;34m\u001b[0m\u001b[0;34m\u001b[0m\u001b[0m\n\u001b[0m\u001b[1;32m    729\u001b[0m         \u001b[0;32melse\u001b[0m\u001b[0;34m:\u001b[0m\u001b[0;34m\u001b[0m\u001b[0;34m\u001b[0m\u001b[0m\n\u001b[1;32m    730\u001b[0m             \u001b[0mres\u001b[0m \u001b[0;34m=\u001b[0m \u001b[0mtransformer\u001b[0m\u001b[0;34m.\u001b[0m\u001b[0mfit\u001b[0m\u001b[0;34m(\u001b[0m\u001b[0mX\u001b[0m\u001b[0;34m,\u001b[0m \u001b[0my\u001b[0m\u001b[0;34m,\u001b[0m \u001b[0;34m**\u001b[0m\u001b[0mfit_params\u001b[0m\u001b[0;34m)\u001b[0m\u001b[0;34m.\u001b[0m\u001b[0mtransform\u001b[0m\u001b[0;34m(\u001b[0m\u001b[0mX\u001b[0m\u001b[0;34m)\u001b[0m\u001b[0;34m\u001b[0m\u001b[0;34m\u001b[0m\u001b[0m\n",
            "\u001b[0;32m/usr/local/lib/python3.6/dist-packages/sklearn/base.py\u001b[0m in \u001b[0;36mfit_transform\u001b[0;34m(self, X, y, **fit_params)\u001b[0m\n\u001b[1;32m    572\u001b[0m         \u001b[0;32melse\u001b[0m\u001b[0;34m:\u001b[0m\u001b[0;34m\u001b[0m\u001b[0;34m\u001b[0m\u001b[0m\n\u001b[1;32m    573\u001b[0m             \u001b[0;31m# fit method of arity 2 (supervised transformation)\u001b[0m\u001b[0;34m\u001b[0m\u001b[0;34m\u001b[0m\u001b[0;34m\u001b[0m\u001b[0m\n\u001b[0;32m--> 574\u001b[0;31m             \u001b[0;32mreturn\u001b[0m \u001b[0mself\u001b[0m\u001b[0;34m.\u001b[0m\u001b[0mfit\u001b[0m\u001b[0;34m(\u001b[0m\u001b[0mX\u001b[0m\u001b[0;34m,\u001b[0m \u001b[0my\u001b[0m\u001b[0;34m,\u001b[0m \u001b[0;34m**\u001b[0m\u001b[0mfit_params\u001b[0m\u001b[0;34m)\u001b[0m\u001b[0;34m.\u001b[0m\u001b[0mtransform\u001b[0m\u001b[0;34m(\u001b[0m\u001b[0mX\u001b[0m\u001b[0;34m)\u001b[0m\u001b[0;34m\u001b[0m\u001b[0;34m\u001b[0m\u001b[0m\n\u001b[0m\u001b[1;32m    575\u001b[0m \u001b[0;34m\u001b[0m\u001b[0m\n\u001b[1;32m    576\u001b[0m \u001b[0;34m\u001b[0m\u001b[0m\n",
            "\u001b[0;32m/usr/local/lib/python3.6/dist-packages/sklearn/feature_selection/_rfe.py\u001b[0m in \u001b[0;36mfit\u001b[0;34m(self, X, y)\u001b[0m\n\u001b[1;32m    147\u001b[0m             \u001b[0mThe\u001b[0m \u001b[0mtarget\u001b[0m \u001b[0mvalues\u001b[0m\u001b[0;34m.\u001b[0m\u001b[0;34m\u001b[0m\u001b[0;34m\u001b[0m\u001b[0m\n\u001b[1;32m    148\u001b[0m         \"\"\"\n\u001b[0;32m--> 149\u001b[0;31m         \u001b[0;32mreturn\u001b[0m \u001b[0mself\u001b[0m\u001b[0;34m.\u001b[0m\u001b[0m_fit\u001b[0m\u001b[0;34m(\u001b[0m\u001b[0mX\u001b[0m\u001b[0;34m,\u001b[0m \u001b[0my\u001b[0m\u001b[0;34m)\u001b[0m\u001b[0;34m\u001b[0m\u001b[0;34m\u001b[0m\u001b[0m\n\u001b[0m\u001b[1;32m    150\u001b[0m \u001b[0;34m\u001b[0m\u001b[0m\n\u001b[1;32m    151\u001b[0m     \u001b[0;32mdef\u001b[0m \u001b[0m_fit\u001b[0m\u001b[0;34m(\u001b[0m\u001b[0mself\u001b[0m\u001b[0;34m,\u001b[0m \u001b[0mX\u001b[0m\u001b[0;34m,\u001b[0m \u001b[0my\u001b[0m\u001b[0;34m,\u001b[0m \u001b[0mstep_score\u001b[0m\u001b[0;34m=\u001b[0m\u001b[0;32mNone\u001b[0m\u001b[0;34m)\u001b[0m\u001b[0;34m:\u001b[0m\u001b[0;34m\u001b[0m\u001b[0;34m\u001b[0m\u001b[0m\n",
            "\u001b[0;32m/usr/local/lib/python3.6/dist-packages/sklearn/feature_selection/_rfe.py\u001b[0m in \u001b[0;36m_fit\u001b[0;34m(self, X, y, step_score)\u001b[0m\n\u001b[1;32m    157\u001b[0m         \u001b[0mtags\u001b[0m \u001b[0;34m=\u001b[0m \u001b[0mself\u001b[0m\u001b[0;34m.\u001b[0m\u001b[0m_get_tags\u001b[0m\u001b[0;34m(\u001b[0m\u001b[0;34m)\u001b[0m\u001b[0;34m\u001b[0m\u001b[0;34m\u001b[0m\u001b[0m\n\u001b[1;32m    158\u001b[0m         X, y = check_X_y(X, y, \"csc\", ensure_min_features=2,\n\u001b[0;32m--> 159\u001b[0;31m                          force_all_finite=not tags.get('allow_nan', True))\n\u001b[0m\u001b[1;32m    160\u001b[0m         \u001b[0;31m# Initialization\u001b[0m\u001b[0;34m\u001b[0m\u001b[0;34m\u001b[0m\u001b[0;34m\u001b[0m\u001b[0m\n\u001b[1;32m    161\u001b[0m         \u001b[0mn_features\u001b[0m \u001b[0;34m=\u001b[0m \u001b[0mX\u001b[0m\u001b[0;34m.\u001b[0m\u001b[0mshape\u001b[0m\u001b[0;34m[\u001b[0m\u001b[0;36m1\u001b[0m\u001b[0;34m]\u001b[0m\u001b[0;34m\u001b[0m\u001b[0;34m\u001b[0m\u001b[0m\n",
            "\u001b[0;32m/usr/local/lib/python3.6/dist-packages/sklearn/utils/validation.py\u001b[0m in \u001b[0;36mcheck_X_y\u001b[0;34m(X, y, accept_sparse, accept_large_sparse, dtype, order, copy, force_all_finite, ensure_2d, allow_nd, multi_output, ensure_min_samples, ensure_min_features, y_numeric, warn_on_dtype, estimator)\u001b[0m\n\u001b[1;32m    763\u001b[0m         \u001b[0my\u001b[0m \u001b[0;34m=\u001b[0m \u001b[0my\u001b[0m\u001b[0;34m.\u001b[0m\u001b[0mastype\u001b[0m\u001b[0;34m(\u001b[0m\u001b[0mnp\u001b[0m\u001b[0;34m.\u001b[0m\u001b[0mfloat64\u001b[0m\u001b[0;34m)\u001b[0m\u001b[0;34m\u001b[0m\u001b[0;34m\u001b[0m\u001b[0m\n\u001b[1;32m    764\u001b[0m \u001b[0;34m\u001b[0m\u001b[0m\n\u001b[0;32m--> 765\u001b[0;31m     \u001b[0mcheck_consistent_length\u001b[0m\u001b[0;34m(\u001b[0m\u001b[0mX\u001b[0m\u001b[0;34m,\u001b[0m \u001b[0my\u001b[0m\u001b[0;34m)\u001b[0m\u001b[0;34m\u001b[0m\u001b[0;34m\u001b[0m\u001b[0m\n\u001b[0m\u001b[1;32m    766\u001b[0m \u001b[0;34m\u001b[0m\u001b[0m\n\u001b[1;32m    767\u001b[0m     \u001b[0;32mreturn\u001b[0m \u001b[0mX\u001b[0m\u001b[0;34m,\u001b[0m \u001b[0my\u001b[0m\u001b[0;34m\u001b[0m\u001b[0;34m\u001b[0m\u001b[0m\n",
            "\u001b[0;32m/usr/local/lib/python3.6/dist-packages/sklearn/utils/validation.py\u001b[0m in \u001b[0;36mcheck_consistent_length\u001b[0;34m(*arrays)\u001b[0m\n\u001b[1;32m    210\u001b[0m     \u001b[0;32mif\u001b[0m \u001b[0mlen\u001b[0m\u001b[0;34m(\u001b[0m\u001b[0muniques\u001b[0m\u001b[0;34m)\u001b[0m \u001b[0;34m>\u001b[0m \u001b[0;36m1\u001b[0m\u001b[0;34m:\u001b[0m\u001b[0;34m\u001b[0m\u001b[0;34m\u001b[0m\u001b[0m\n\u001b[1;32m    211\u001b[0m         raise ValueError(\"Found input variables with inconsistent numbers of\"\n\u001b[0;32m--> 212\u001b[0;31m                          \" samples: %r\" % [int(l) for l in lengths])\n\u001b[0m\u001b[1;32m    213\u001b[0m \u001b[0;34m\u001b[0m\u001b[0m\n\u001b[1;32m    214\u001b[0m \u001b[0;34m\u001b[0m\u001b[0m\n",
            "\u001b[0;31mValueError\u001b[0m: Found input variables with inconsistent numbers of samples: [6, 1000]"
          ]
        }
      ]
    },
    {
      "cell_type": "code",
      "metadata": {
        "id": "IqHu1xQRaW2V",
        "colab_type": "code",
        "colab": {
          "base_uri": "https://localhost:8080/",
          "height": 396
        },
        "outputId": "3edf1f46-f199-4112-c1d3-f2fd8b52a675"
      },
      "source": [
        "model.fit(X, y)\n",
        "# evaluate model\n",
        "cv = RepeatedStratifiedKFold(n_splits=10, n_repeats=3, random_state=1)\n",
        "n_scores = cross_val_score(pipeline, X, y, scoring='accuracy', cv=cv, n_jobs=-1, error_score='raise')\n",
        "# report performance\n",
        "print('Accuracy: %.3f (%.3f)' % (mean(n_scores), std(n_scores)))"
      ],
      "execution_count": 108,
      "outputs": [
        {
          "output_type": "error",
          "ename": "ValueError",
          "evalue": "ignored",
          "traceback": [
            "\u001b[0;31m---------------------------------------------------------------------------\u001b[0m",
            "\u001b[0;31mValueError\u001b[0m                                Traceback (most recent call last)",
            "\u001b[0;32m<ipython-input-108-585f223bb5c9>\u001b[0m in \u001b[0;36m<module>\u001b[0;34m()\u001b[0m\n\u001b[0;32m----> 1\u001b[0;31m \u001b[0mmodel\u001b[0m\u001b[0;34m.\u001b[0m\u001b[0mfit\u001b[0m\u001b[0;34m(\u001b[0m\u001b[0mX\u001b[0m\u001b[0;34m,\u001b[0m \u001b[0my\u001b[0m\u001b[0;34m)\u001b[0m\u001b[0;34m\u001b[0m\u001b[0;34m\u001b[0m\u001b[0m\n\u001b[0m\u001b[1;32m      2\u001b[0m \u001b[0;31m# evaluate model\u001b[0m\u001b[0;34m\u001b[0m\u001b[0;34m\u001b[0m\u001b[0;34m\u001b[0m\u001b[0m\n\u001b[1;32m      3\u001b[0m \u001b[0mcv\u001b[0m \u001b[0;34m=\u001b[0m \u001b[0mRepeatedStratifiedKFold\u001b[0m\u001b[0;34m(\u001b[0m\u001b[0mn_splits\u001b[0m\u001b[0;34m=\u001b[0m\u001b[0;36m10\u001b[0m\u001b[0;34m,\u001b[0m \u001b[0mn_repeats\u001b[0m\u001b[0;34m=\u001b[0m\u001b[0;36m3\u001b[0m\u001b[0;34m,\u001b[0m \u001b[0mrandom_state\u001b[0m\u001b[0;34m=\u001b[0m\u001b[0;36m1\u001b[0m\u001b[0;34m)\u001b[0m\u001b[0;34m\u001b[0m\u001b[0;34m\u001b[0m\u001b[0m\n\u001b[1;32m      4\u001b[0m \u001b[0mn_scores\u001b[0m \u001b[0;34m=\u001b[0m \u001b[0mcross_val_score\u001b[0m\u001b[0;34m(\u001b[0m\u001b[0mpipeline\u001b[0m\u001b[0;34m,\u001b[0m \u001b[0mX\u001b[0m\u001b[0;34m,\u001b[0m \u001b[0my\u001b[0m\u001b[0;34m,\u001b[0m \u001b[0mscoring\u001b[0m\u001b[0;34m=\u001b[0m\u001b[0;34m'accuracy'\u001b[0m\u001b[0;34m,\u001b[0m \u001b[0mcv\u001b[0m\u001b[0;34m=\u001b[0m\u001b[0mcv\u001b[0m\u001b[0;34m,\u001b[0m \u001b[0mn_jobs\u001b[0m\u001b[0;34m=\u001b[0m\u001b[0;34m-\u001b[0m\u001b[0;36m1\u001b[0m\u001b[0;34m,\u001b[0m \u001b[0merror_score\u001b[0m\u001b[0;34m=\u001b[0m\u001b[0;34m'raise'\u001b[0m\u001b[0;34m)\u001b[0m\u001b[0;34m\u001b[0m\u001b[0;34m\u001b[0m\u001b[0m\n\u001b[1;32m      5\u001b[0m \u001b[0;31m# report performance\u001b[0m\u001b[0;34m\u001b[0m\u001b[0;34m\u001b[0m\u001b[0;34m\u001b[0m\u001b[0m\n",
            "\u001b[0;32m/usr/local/lib/python3.6/dist-packages/sklearn/tree/_classes.py\u001b[0m in \u001b[0;36mfit\u001b[0;34m(self, X, y, sample_weight, check_input, X_idx_sorted)\u001b[0m\n\u001b[1;32m    875\u001b[0m             \u001b[0msample_weight\u001b[0m\u001b[0;34m=\u001b[0m\u001b[0msample_weight\u001b[0m\u001b[0;34m,\u001b[0m\u001b[0;34m\u001b[0m\u001b[0;34m\u001b[0m\u001b[0m\n\u001b[1;32m    876\u001b[0m             \u001b[0mcheck_input\u001b[0m\u001b[0;34m=\u001b[0m\u001b[0mcheck_input\u001b[0m\u001b[0;34m,\u001b[0m\u001b[0;34m\u001b[0m\u001b[0;34m\u001b[0m\u001b[0m\n\u001b[0;32m--> 877\u001b[0;31m             X_idx_sorted=X_idx_sorted)\n\u001b[0m\u001b[1;32m    878\u001b[0m         \u001b[0;32mreturn\u001b[0m \u001b[0mself\u001b[0m\u001b[0;34m\u001b[0m\u001b[0;34m\u001b[0m\u001b[0m\n\u001b[1;32m    879\u001b[0m \u001b[0;34m\u001b[0m\u001b[0m\n",
            "\u001b[0;32m/usr/local/lib/python3.6/dist-packages/sklearn/tree/_classes.py\u001b[0m in \u001b[0;36mfit\u001b[0;34m(self, X, y, sample_weight, check_input, X_idx_sorted)\u001b[0m\n\u001b[1;32m    263\u001b[0m         \u001b[0;32mif\u001b[0m \u001b[0mlen\u001b[0m\u001b[0;34m(\u001b[0m\u001b[0my\u001b[0m\u001b[0;34m)\u001b[0m \u001b[0;34m!=\u001b[0m \u001b[0mn_samples\u001b[0m\u001b[0;34m:\u001b[0m\u001b[0;34m\u001b[0m\u001b[0;34m\u001b[0m\u001b[0m\n\u001b[1;32m    264\u001b[0m             raise ValueError(\"Number of labels=%d does not match \"\n\u001b[0;32m--> 265\u001b[0;31m                              \"number of samples=%d\" % (len(y), n_samples))\n\u001b[0m\u001b[1;32m    266\u001b[0m         \u001b[0;32mif\u001b[0m \u001b[0;32mnot\u001b[0m \u001b[0;36m0\u001b[0m \u001b[0;34m<=\u001b[0m \u001b[0mself\u001b[0m\u001b[0;34m.\u001b[0m\u001b[0mmin_weight_fraction_leaf\u001b[0m \u001b[0;34m<=\u001b[0m \u001b[0;36m0.5\u001b[0m\u001b[0;34m:\u001b[0m\u001b[0;34m\u001b[0m\u001b[0;34m\u001b[0m\u001b[0m\n\u001b[1;32m    267\u001b[0m             \u001b[0;32mraise\u001b[0m \u001b[0mValueError\u001b[0m\u001b[0;34m(\u001b[0m\u001b[0;34m\"min_weight_fraction_leaf must in [0, 0.5]\"\u001b[0m\u001b[0;34m)\u001b[0m\u001b[0;34m\u001b[0m\u001b[0;34m\u001b[0m\u001b[0m\n",
            "\u001b[0;31mValueError\u001b[0m: Number of labels=1000 does not match number of samples=6"
          ]
        }
      ]
    },
    {
      "cell_type": "markdown",
      "metadata": {
        "id": "6Zlr1NriEZlV",
        "colab_type": "text"
      },
      "source": [
        "**RFE Example  2**"
      ]
    },
    {
      "cell_type": "code",
      "metadata": {
        "id": "YOHbdbSFEpNB",
        "colab_type": "code",
        "colab": {}
      },
      "source": [
        "from sklearn.svm import SVC\n",
        "from sklearn.model_selection import StratifiedKFold\n",
        "from sklearn.feature_selection import RFECV\n",
        "from sklearn.datasets import make_classification"
      ],
      "execution_count": 92,
      "outputs": []
    },
    {
      "cell_type": "markdown",
      "metadata": {
        "id": "1NQRbGkEEw_X",
        "colab_type": "text"
      },
      "source": [
        "**Create the data with 3 informative features and 25 features total**"
      ]
    },
    {
      "cell_type": "code",
      "metadata": {
        "id": "UCq1iS_cE4IE",
        "colab_type": "code",
        "colab": {}
      },
      "source": [
        "# Build a classification task using 3 informative features\n",
        "X, y = make_classification(n_samples=1000, n_features=25, n_informative=3,\n",
        "                           n_redundant=2, n_repeated=0, n_classes=8,\n",
        "                           n_clusters_per_class=1, random_state=0)"
      ],
      "execution_count": 73,
      "outputs": []
    },
    {
      "cell_type": "markdown",
      "metadata": {
        "id": "TUXLTTroE-0i",
        "colab_type": "text"
      },
      "source": [
        "**Create the RFE object**<br>\n",
        "Using a cross-validated score, recursively eliminate the less important features"
      ]
    },
    {
      "cell_type": "code",
      "metadata": {
        "id": "yLZkiT8FE9YO",
        "colab_type": "code",
        "colab": {
          "base_uri": "https://localhost:8080/",
          "height": 35
        },
        "outputId": "b67c1834-f9b2-4851-9e28-3f6e63d95d2a"
      },
      "source": [
        "# Create the RFE object and compute a cross-validated score.\n",
        "svc = SVC(kernel=\"linear\")\n",
        "# The \"accuracy\" scoring is proportional to the number of correct\n",
        "# classifications\n",
        "rfecv = RFECV(estimator=svc, step=1, cv=StratifiedKFold(2),\n",
        "              scoring='accuracy')\n",
        "rfecv.fit(X, y)\n",
        "\n",
        "print(\"Optimal number of features : %d\" % rfecv.n_features_)"
      ],
      "execution_count": 74,
      "outputs": [
        {
          "output_type": "stream",
          "text": [
            "Optimal number of features : 3\n"
          ],
          "name": "stdout"
        }
      ]
    },
    {
      "cell_type": "markdown",
      "metadata": {
        "id": "1S8oCqCRFUr5",
        "colab_type": "text"
      },
      "source": [
        "**Plot the score vs number of features selected**"
      ]
    },
    {
      "cell_type": "code",
      "metadata": {
        "id": "SxiZTZoyEdaz",
        "colab_type": "code",
        "colab": {
          "base_uri": "https://localhost:8080/",
          "height": 299
        },
        "outputId": "785755a1-71a5-4cc7-a3ad-d0b2ed28c4c9"
      },
      "source": [
        "# Plot number of features VS. cross-validation scores\n",
        "plt.figure()\n",
        "plt.xlabel(\"Number of features selected\")\n",
        "plt.ylabel(\"Cross validation score (nb of correct classifications)\")\n",
        "plt.plot(range(1, len(rfecv.grid_scores_) + 1), rfecv.grid_scores_)\n",
        "plt.show()"
      ],
      "execution_count": 75,
      "outputs": [
        {
          "output_type": "display_data",
          "data": {
            "image/png": "[encoded data removed]",
            "text/plain": [
              "<Figure size 432x288 with 1 Axes>"
            ]
          },
          "metadata": {
            "tags": [],
            "needs_background": "light"
          }
        }
      ]
    },
    {
      "cell_type": "markdown",
      "metadata": {
        "id": "ESapQMWBdfc9",
        "colab_type": "text"
      },
      "source": [
        "# **Assignment 4**\n"
      ]
    },
    {
      "cell_type": "code",
      "metadata": {
        "id": "3vyezXnllq-S",
        "colab_type": "code",
        "colab": {}
      },
      "source": [
        "# setting up default plotting parameters\n",
        "%matplotlib inline\n",
        "\n",
        "plt.rcParams['figure.figsize'] = [20.0, 7.0]\n",
        "plt.rcParams.update({'font.size': 22,})\n",
        "\n",
        "sns.set_palette('viridis')\n",
        "sns.set_style('white')\n",
        "sns.set_context('talk', font_scale=0.8)"
      ],
      "execution_count": 85,
      "outputs": []
    },
    {
      "cell_type": "code",
      "metadata": {
        "id": "zYukq3UKluyJ",
        "colab_type": "code",
        "colab": {
          "base_uri": "https://localhost:8080/",
          "height": 282
        },
        "outputId": "88bef2ae-9c68-4610-8359-9c247578ff64"
      },
      "source": [
        "train = pd.read_csv('featureSelectTrain.csv')\n",
        "test = pd.read_csv('featureSelectTest.csv')\n",
        "\n",
        "print('Train Shape: ', train.shape)\n",
        "print('Test Shape: ', test.shape)\n",
        "\n",
        "train.head()"
      ],
      "execution_count": 88,
      "outputs": [
        {
          "output_type": "stream",
          "text": [
            "Train Shape:  (250, 302)\n",
            "Test Shape:  (19750, 301)\n"
          ],
          "name": "stdout"
        },
        {
          "output_type": "execute_result",
          "data": {
            "text/html": [
              "<div>\n",
              "<style scoped>\n",
              "    .dataframe tbody tr th:only-of-type {\n",
              "        vertical-align: middle;\n",
              "    }\n",
              "\n",
              "    .dataframe tbody tr th {\n",
              "        vertical-align: top;\n",
              "    }\n",
              "\n",
              "    .dataframe thead th {\n",
              "        text-align: right;\n",
              "    }\n",
              "</style>\n",
              "<table border=\"1\" class=\"dataframe\">\n",
              "  <thead>\n",
              "    <tr style=\"text-align: right;\">\n",
              "      <th></th>\n",
              "      <th>id</th>\n",
              "      <th>target</th>\n",
              "      <th>0</th>\n",
              "      <th>1</th>\n",
              "      <th>2</th>\n",
              "      <th>3</th>\n",
              "      <th>4</th>\n",
              "      <th>5</th>\n",
              "      <th>6</th>\n",
              "      <th>7</th>\n",
              "      <th>8</th>\n",
              "      <th>9</th>\n",
              "      <th>10</th>\n",
              "      <th>11</th>\n",
              "      <th>12</th>\n",
              "      <th>13</th>\n",
              "      <th>14</th>\n",
              "      <th>15</th>\n",
              "      <th>16</th>\n",
              "      <th>17</th>\n",
              "      <th>18</th>\n",
              "      <th>19</th>\n",
              "      <th>20</th>\n",
              "      <th>21</th>\n",
              "      <th>22</th>\n",
              "      <th>23</th>\n",
              "      <th>24</th>\n",
              "      <th>25</th>\n",
              "      <th>26</th>\n",
              "      <th>27</th>\n",
              "      <th>28</th>\n",
              "      <th>29</th>\n",
              "      <th>30</th>\n",
              "      <th>31</th>\n",
              "      <th>32</th>\n",
              "      <th>33</th>\n",
              "      <th>34</th>\n",
              "      <th>35</th>\n",
              "      <th>36</th>\n",
              "      <th>37</th>\n",
              "      <th>...</th>\n",
              "      <th>260</th>\n",
              "      <th>261</th>\n",
              "      <th>262</th>\n",
              "      <th>263</th>\n",
              "      <th>264</th>\n",
              "      <th>265</th>\n",
              "      <th>266</th>\n",
              "      <th>267</th>\n",
              "      <th>268</th>\n",
              "      <th>269</th>\n",
              "      <th>270</th>\n",
              "      <th>271</th>\n",
              "      <th>272</th>\n",
              "      <th>273</th>\n",
              "      <th>274</th>\n",
              "      <th>275</th>\n",
              "      <th>276</th>\n",
              "      <th>277</th>\n",
              "      <th>278</th>\n",
              "      <th>279</th>\n",
              "      <th>280</th>\n",
              "      <th>281</th>\n",
              "      <th>282</th>\n",
              "      <th>283</th>\n",
              "      <th>284</th>\n",
              "      <th>285</th>\n",
              "      <th>286</th>\n",
              "      <th>287</th>\n",
              "      <th>288</th>\n",
              "      <th>289</th>\n",
              "      <th>290</th>\n",
              "      <th>291</th>\n",
              "      <th>292</th>\n",
              "      <th>293</th>\n",
              "      <th>294</th>\n",
              "      <th>295</th>\n",
              "      <th>296</th>\n",
              "      <th>297</th>\n",
              "      <th>298</th>\n",
              "      <th>299</th>\n",
              "    </tr>\n",
              "  </thead>\n",
              "  <tbody>\n",
              "    <tr>\n",
              "      <th>0</th>\n",
              "      <td>0</td>\n",
              "      <td>1.0</td>\n",
              "      <td>-1.067</td>\n",
              "      <td>-1.114</td>\n",
              "      <td>-0.616</td>\n",
              "      <td>0.376</td>\n",
              "      <td>1.090</td>\n",
              "      <td>0.467</td>\n",
              "      <td>-0.422</td>\n",
              "      <td>0.460</td>\n",
              "      <td>-0.443</td>\n",
              "      <td>-0.338</td>\n",
              "      <td>0.416</td>\n",
              "      <td>-2.177</td>\n",
              "      <td>-0.326</td>\n",
              "      <td>0.340</td>\n",
              "      <td>1.174</td>\n",
              "      <td>-0.245</td>\n",
              "      <td>-1.070</td>\n",
              "      <td>-0.336</td>\n",
              "      <td>-0.502</td>\n",
              "      <td>0.403</td>\n",
              "      <td>-0.605</td>\n",
              "      <td>-0.280</td>\n",
              "      <td>-1.618</td>\n",
              "      <td>0.878</td>\n",
              "      <td>-0.272</td>\n",
              "      <td>0.870</td>\n",
              "      <td>2.171</td>\n",
              "      <td>-0.214</td>\n",
              "      <td>0.477</td>\n",
              "      <td>-2.092</td>\n",
              "      <td>0.835</td>\n",
              "      <td>0.621</td>\n",
              "      <td>-2.810</td>\n",
              "      <td>1.029</td>\n",
              "      <td>-0.736</td>\n",
              "      <td>0.582</td>\n",
              "      <td>-0.079</td>\n",
              "      <td>0.493</td>\n",
              "      <td>...</td>\n",
              "      <td>0.055</td>\n",
              "      <td>1.107</td>\n",
              "      <td>-0.848</td>\n",
              "      <td>-1.781</td>\n",
              "      <td>0.254</td>\n",
              "      <td>-0.515</td>\n",
              "      <td>0.234</td>\n",
              "      <td>0.296</td>\n",
              "      <td>-1.774</td>\n",
              "      <td>2.032</td>\n",
              "      <td>-0.442</td>\n",
              "      <td>-0.116</td>\n",
              "      <td>1.393</td>\n",
              "      <td>-0.494</td>\n",
              "      <td>-0.179</td>\n",
              "      <td>1.874</td>\n",
              "      <td>1.463</td>\n",
              "      <td>-1.397</td>\n",
              "      <td>0.284</td>\n",
              "      <td>0.336</td>\n",
              "      <td>0.551</td>\n",
              "      <td>0.557</td>\n",
              "      <td>-0.522</td>\n",
              "      <td>-0.503</td>\n",
              "      <td>-0.541</td>\n",
              "      <td>1.393</td>\n",
              "      <td>0.506</td>\n",
              "      <td>-1.420</td>\n",
              "      <td>-0.123</td>\n",
              "      <td>-1.833</td>\n",
              "      <td>0.220</td>\n",
              "      <td>-0.339</td>\n",
              "      <td>0.254</td>\n",
              "      <td>-0.179</td>\n",
              "      <td>0.352</td>\n",
              "      <td>0.125</td>\n",
              "      <td>0.347</td>\n",
              "      <td>0.436</td>\n",
              "      <td>0.958</td>\n",
              "      <td>-0.824</td>\n",
              "    </tr>\n",
              "    <tr>\n",
              "      <th>1</th>\n",
              "      <td>1</td>\n",
              "      <td>0.0</td>\n",
              "      <td>-0.831</td>\n",
              "      <td>0.271</td>\n",
              "      <td>1.716</td>\n",
              "      <td>1.096</td>\n",
              "      <td>1.731</td>\n",
              "      <td>-0.197</td>\n",
              "      <td>1.904</td>\n",
              "      <td>-0.265</td>\n",
              "      <td>0.557</td>\n",
              "      <td>1.202</td>\n",
              "      <td>0.542</td>\n",
              "      <td>0.424</td>\n",
              "      <td>-1.572</td>\n",
              "      <td>-0.968</td>\n",
              "      <td>-1.483</td>\n",
              "      <td>0.564</td>\n",
              "      <td>0.047</td>\n",
              "      <td>-0.324</td>\n",
              "      <td>-1.490</td>\n",
              "      <td>0.179</td>\n",
              "      <td>-0.524</td>\n",
              "      <td>0.250</td>\n",
              "      <td>2.462</td>\n",
              "      <td>0.029</td>\n",
              "      <td>-1.399</td>\n",
              "      <td>-2.370</td>\n",
              "      <td>-1.505</td>\n",
              "      <td>-1.294</td>\n",
              "      <td>0.106</td>\n",
              "      <td>-0.145</td>\n",
              "      <td>0.235</td>\n",
              "      <td>-1.045</td>\n",
              "      <td>1.335</td>\n",
              "      <td>1.254</td>\n",
              "      <td>-0.811</td>\n",
              "      <td>1.812</td>\n",
              "      <td>0.181</td>\n",
              "      <td>-0.020</td>\n",
              "      <td>...</td>\n",
              "      <td>0.627</td>\n",
              "      <td>-1.472</td>\n",
              "      <td>0.496</td>\n",
              "      <td>-0.052</td>\n",
              "      <td>0.322</td>\n",
              "      <td>-0.222</td>\n",
              "      <td>1.168</td>\n",
              "      <td>0.931</td>\n",
              "      <td>-0.203</td>\n",
              "      <td>0.321</td>\n",
              "      <td>0.761</td>\n",
              "      <td>1.752</td>\n",
              "      <td>0.181</td>\n",
              "      <td>-3.029</td>\n",
              "      <td>-0.578</td>\n",
              "      <td>-0.260</td>\n",
              "      <td>-0.425</td>\n",
              "      <td>-0.160</td>\n",
              "      <td>-0.497</td>\n",
              "      <td>-0.049</td>\n",
              "      <td>1.097</td>\n",
              "      <td>0.398</td>\n",
              "      <td>0.554</td>\n",
              "      <td>0.578</td>\n",
              "      <td>-0.544</td>\n",
              "      <td>0.441</td>\n",
              "      <td>-0.524</td>\n",
              "      <td>-1.474</td>\n",
              "      <td>-0.090</td>\n",
              "      <td>-0.607</td>\n",
              "      <td>-0.765</td>\n",
              "      <td>-0.735</td>\n",
              "      <td>-1.158</td>\n",
              "      <td>2.554</td>\n",
              "      <td>0.856</td>\n",
              "      <td>-1.506</td>\n",
              "      <td>0.462</td>\n",
              "      <td>-0.029</td>\n",
              "      <td>-1.932</td>\n",
              "      <td>-0.343</td>\n",
              "    </tr>\n",
              "    <tr>\n",
              "      <th>2</th>\n",
              "      <td>2</td>\n",
              "      <td>0.0</td>\n",
              "      <td>0.099</td>\n",
              "      <td>1.390</td>\n",
              "      <td>-0.732</td>\n",
              "      <td>-1.065</td>\n",
              "      <td>0.005</td>\n",
              "      <td>-0.081</td>\n",
              "      <td>-1.450</td>\n",
              "      <td>0.317</td>\n",
              "      <td>-0.624</td>\n",
              "      <td>-0.017</td>\n",
              "      <td>-0.665</td>\n",
              "      <td>1.905</td>\n",
              "      <td>0.376</td>\n",
              "      <td>-1.373</td>\n",
              "      <td>1.587</td>\n",
              "      <td>1.464</td>\n",
              "      <td>-1.550</td>\n",
              "      <td>-0.512</td>\n",
              "      <td>0.508</td>\n",
              "      <td>-0.094</td>\n",
              "      <td>-0.114</td>\n",
              "      <td>-0.425</td>\n",
              "      <td>0.104</td>\n",
              "      <td>0.643</td>\n",
              "      <td>-1.371</td>\n",
              "      <td>1.553</td>\n",
              "      <td>-0.062</td>\n",
              "      <td>-0.173</td>\n",
              "      <td>-0.465</td>\n",
              "      <td>-1.252</td>\n",
              "      <td>0.443</td>\n",
              "      <td>2.205</td>\n",
              "      <td>-1.266</td>\n",
              "      <td>-0.739</td>\n",
              "      <td>0.827</td>\n",
              "      <td>-1.306</td>\n",
              "      <td>0.274</td>\n",
              "      <td>-1.573</td>\n",
              "      <td>...</td>\n",
              "      <td>-1.610</td>\n",
              "      <td>-0.801</td>\n",
              "      <td>1.557</td>\n",
              "      <td>0.628</td>\n",
              "      <td>-0.072</td>\n",
              "      <td>-0.573</td>\n",
              "      <td>0.507</td>\n",
              "      <td>-1.229</td>\n",
              "      <td>0.313</td>\n",
              "      <td>1.446</td>\n",
              "      <td>-0.345</td>\n",
              "      <td>1.147</td>\n",
              "      <td>-0.623</td>\n",
              "      <td>-0.048</td>\n",
              "      <td>1.456</td>\n",
              "      <td>-0.932</td>\n",
              "      <td>0.666</td>\n",
              "      <td>0.451</td>\n",
              "      <td>0.671</td>\n",
              "      <td>-0.596</td>\n",
              "      <td>-0.135</td>\n",
              "      <td>0.966</td>\n",
              "      <td>-0.167</td>\n",
              "      <td>0.530</td>\n",
              "      <td>-1.493</td>\n",
              "      <td>-0.917</td>\n",
              "      <td>0.120</td>\n",
              "      <td>0.258</td>\n",
              "      <td>-0.405</td>\n",
              "      <td>-0.859</td>\n",
              "      <td>-1.311</td>\n",
              "      <td>0.799</td>\n",
              "      <td>-1.001</td>\n",
              "      <td>1.544</td>\n",
              "      <td>0.575</td>\n",
              "      <td>-0.309</td>\n",
              "      <td>-0.339</td>\n",
              "      <td>-0.148</td>\n",
              "      <td>-0.646</td>\n",
              "      <td>0.725</td>\n",
              "    </tr>\n",
              "    <tr>\n",
              "      <th>3</th>\n",
              "      <td>3</td>\n",
              "      <td>1.0</td>\n",
              "      <td>-0.989</td>\n",
              "      <td>-0.916</td>\n",
              "      <td>-1.343</td>\n",
              "      <td>0.145</td>\n",
              "      <td>0.543</td>\n",
              "      <td>0.636</td>\n",
              "      <td>1.127</td>\n",
              "      <td>0.189</td>\n",
              "      <td>-0.118</td>\n",
              "      <td>-0.638</td>\n",
              "      <td>0.760</td>\n",
              "      <td>-0.360</td>\n",
              "      <td>-2.048</td>\n",
              "      <td>-0.996</td>\n",
              "      <td>-0.361</td>\n",
              "      <td>0.962</td>\n",
              "      <td>0.021</td>\n",
              "      <td>0.595</td>\n",
              "      <td>-0.943</td>\n",
              "      <td>0.069</td>\n",
              "      <td>0.483</td>\n",
              "      <td>-0.063</td>\n",
              "      <td>-0.540</td>\n",
              "      <td>-0.551</td>\n",
              "      <td>-1.736</td>\n",
              "      <td>-2.014</td>\n",
              "      <td>0.636</td>\n",
              "      <td>-1.147</td>\n",
              "      <td>-0.767</td>\n",
              "      <td>-0.678</td>\n",
              "      <td>0.815</td>\n",
              "      <td>1.696</td>\n",
              "      <td>-0.436</td>\n",
              "      <td>-1.777</td>\n",
              "      <td>0.548</td>\n",
              "      <td>0.318</td>\n",
              "      <td>0.978</td>\n",
              "      <td>1.299</td>\n",
              "      <td>...</td>\n",
              "      <td>0.011</td>\n",
              "      <td>1.137</td>\n",
              "      <td>0.499</td>\n",
              "      <td>-0.262</td>\n",
              "      <td>-1.484</td>\n",
              "      <td>0.216</td>\n",
              "      <td>-2.536</td>\n",
              "      <td>0.191</td>\n",
              "      <td>-0.142</td>\n",
              "      <td>1.387</td>\n",
              "      <td>-1.617</td>\n",
              "      <td>-0.662</td>\n",
              "      <td>-2.288</td>\n",
              "      <td>-1.130</td>\n",
              "      <td>0.651</td>\n",
              "      <td>-0.363</td>\n",
              "      <td>0.686</td>\n",
              "      <td>-0.504</td>\n",
              "      <td>1.734</td>\n",
              "      <td>-0.606</td>\n",
              "      <td>0.514</td>\n",
              "      <td>-0.506</td>\n",
              "      <td>-1.294</td>\n",
              "      <td>0.382</td>\n",
              "      <td>-1.119</td>\n",
              "      <td>1.695</td>\n",
              "      <td>-0.775</td>\n",
              "      <td>-1.428</td>\n",
              "      <td>0.231</td>\n",
              "      <td>-0.780</td>\n",
              "      <td>-1.370</td>\n",
              "      <td>1.093</td>\n",
              "      <td>0.596</td>\n",
              "      <td>-0.589</td>\n",
              "      <td>-0.649</td>\n",
              "      <td>-0.163</td>\n",
              "      <td>-0.958</td>\n",
              "      <td>-1.081</td>\n",
              "      <td>0.805</td>\n",
              "      <td>3.401</td>\n",
              "    </tr>\n",
              "    <tr>\n",
              "      <th>4</th>\n",
              "      <td>4</td>\n",
              "      <td>0.0</td>\n",
              "      <td>0.811</td>\n",
              "      <td>-1.509</td>\n",
              "      <td>0.522</td>\n",
              "      <td>-0.360</td>\n",
              "      <td>-0.220</td>\n",
              "      <td>-0.959</td>\n",
              "      <td>0.334</td>\n",
              "      <td>-0.566</td>\n",
              "      <td>-0.656</td>\n",
              "      <td>-0.499</td>\n",
              "      <td>-0.653</td>\n",
              "      <td>-0.058</td>\n",
              "      <td>-0.046</td>\n",
              "      <td>0.654</td>\n",
              "      <td>-0.697</td>\n",
              "      <td>-1.175</td>\n",
              "      <td>0.720</td>\n",
              "      <td>0.484</td>\n",
              "      <td>0.402</td>\n",
              "      <td>-1.037</td>\n",
              "      <td>1.081</td>\n",
              "      <td>0.716</td>\n",
              "      <td>-0.144</td>\n",
              "      <td>1.720</td>\n",
              "      <td>-1.980</td>\n",
              "      <td>-0.741</td>\n",
              "      <td>-1.493</td>\n",
              "      <td>-0.860</td>\n",
              "      <td>-0.082</td>\n",
              "      <td>0.133</td>\n",
              "      <td>1.084</td>\n",
              "      <td>-0.719</td>\n",
              "      <td>0.198</td>\n",
              "      <td>1.144</td>\n",
              "      <td>1.123</td>\n",
              "      <td>0.435</td>\n",
              "      <td>-0.296</td>\n",
              "      <td>-2.933</td>\n",
              "      <td>...</td>\n",
              "      <td>0.285</td>\n",
              "      <td>-0.464</td>\n",
              "      <td>1.427</td>\n",
              "      <td>0.554</td>\n",
              "      <td>-0.131</td>\n",
              "      <td>-1.425</td>\n",
              "      <td>0.487</td>\n",
              "      <td>0.413</td>\n",
              "      <td>-0.231</td>\n",
              "      <td>1.570</td>\n",
              "      <td>-0.714</td>\n",
              "      <td>0.385</td>\n",
              "      <td>-0.072</td>\n",
              "      <td>0.150</td>\n",
              "      <td>-0.228</td>\n",
              "      <td>0.144</td>\n",
              "      <td>-1.537</td>\n",
              "      <td>0.664</td>\n",
              "      <td>-0.133</td>\n",
              "      <td>0.424</td>\n",
              "      <td>0.926</td>\n",
              "      <td>-0.089</td>\n",
              "      <td>-0.415</td>\n",
              "      <td>0.299</td>\n",
              "      <td>-1.227</td>\n",
              "      <td>-2.578</td>\n",
              "      <td>0.600</td>\n",
              "      <td>2.167</td>\n",
              "      <td>-0.755</td>\n",
              "      <td>-1.265</td>\n",
              "      <td>-0.178</td>\n",
              "      <td>0.718</td>\n",
              "      <td>-1.017</td>\n",
              "      <td>1.249</td>\n",
              "      <td>-0.596</td>\n",
              "      <td>-0.445</td>\n",
              "      <td>1.751</td>\n",
              "      <td>1.442</td>\n",
              "      <td>-0.393</td>\n",
              "      <td>-0.643</td>\n",
              "    </tr>\n",
              "  </tbody>\n",
              "</table>\n",
              "<p>5 rows × 302 columns</p>\n",
              "</div>"
            ],
            "text/plain": [
              "   id  target      0      1      2  ...    295    296    297    298    299\n",
              "0   0     1.0 -1.067 -1.114 -0.616  ...  0.125  0.347  0.436  0.958 -0.824\n",
              "1   1     0.0 -0.831  0.271  1.716  ... -1.506  0.462 -0.029 -1.932 -0.343\n",
              "2   2     0.0  0.099  1.390 -0.732  ... -0.309 -0.339 -0.148 -0.646  0.725\n",
              "3   3     1.0 -0.989 -0.916 -1.343  ... -0.163 -0.958 -1.081  0.805  3.401\n",
              "4   4     0.0  0.811 -1.509  0.522  ... -0.445  1.751  1.442 -0.393 -0.643\n",
              "\n",
              "[5 rows x 302 columns]"
            ]
          },
          "metadata": {
            "tags": []
          },
          "execution_count": 88
        }
      ]
    },
    {
      "cell_type": "code",
      "metadata": {
        "id": "dt_z1IYqqhKN",
        "colab_type": "code",
        "colab": {}
      },
      "source": [
        "# prepare for modeling\n",
        "X_train_df = train.drop(['id', 'target'], axis=1)\n",
        "y_train = train['target']\n",
        "\n",
        "X_test = test.drop(['id'], axis=1)\n",
        "\n",
        "# scaling data\n",
        "scaler = StandardScaler()\n",
        "X_train = scaler.fit_transform(X_train_df)\n",
        "X_test = scaler.transform(X_test)"
      ],
      "execution_count": 98,
      "outputs": []
    },
    {
      "cell_type": "code",
      "metadata": {
        "id": "3-ITv3MUmcNb",
        "colab_type": "code",
        "colab": {
          "base_uri": "https://localhost:8080/",
          "height": 414
        },
        "outputId": "ffb33c2a-c56d-46e4-b536-74a0911c55ae"
      },
      "source": [
        "# using seaborns countplot to show distribution of questions in dataset\n",
        "fig, ax = plt.subplots()\n",
        "g = sns.countplot(train.target, palette='viridis')\n",
        "g.set_xticklabels(['0', '1'])\n",
        "g.set_yticklabels([])\n",
        "\n",
        "# function to show values on bars\n",
        "def show_values_on_bars(axs):\n",
        "    def _show_on_single_plot(ax):        \n",
        "        for p in ax.patches:\n",
        "            _x = p.get_x() + p.get_width() / 2\n",
        "            _y = p.get_y() + p.get_height()\n",
        "            value = '{:.0f}'.format(p.get_height())\n",
        "            ax.text(_x, _y, value, ha=\"center\") \n",
        "\n",
        "    if isinstance(axs, np.ndarray):\n",
        "        for idx, ax in np.ndenumerate(axs):\n",
        "            _show_on_single_plot(ax)\n",
        "    else:\n",
        "        _show_on_single_plot(axs)\n",
        "show_values_on_bars(ax)\n",
        "\n",
        "sns.despine(left=True, bottom=True)\n",
        "plt.xlabel('')\n",
        "plt.ylabel('')\n",
        "plt.title('Distribution of Target', fontsize=30)\n",
        "plt.tick_params(axis='x', which='major', labelsize=15)\n",
        "plt.show()"
      ],
      "execution_count": 99,
      "outputs": [
        {
          "output_type": "display_data",
          "data": {
            "image/png": "[encoded data removed]",
            "text/plain": [
              "<Figure size 1440x504 with 1 Axes>"
            ]
          },
          "metadata": {
            "tags": []
          }
        }
      ]
    },
    {
      "cell_type": "code",
      "metadata": {
        "id": "sreLOKaYqJ2y",
        "colab_type": "code",
        "colab": {}
      },
      "source": [
        "lr = LogisticRegression(solver='liblinear')\n",
        "lr_scores = cross_val_score(lr, recursive_features, y_train, cv=5, scoring='roc_auc')"
      ],
      "execution_count": 102,
      "outputs": []
    },
    {
      "cell_type": "code",
      "metadata": {
        "id": "csGG1xzTpmfz",
        "colab_type": "code",
        "colab": {
          "base_uri": "https://localhost:8080/",
          "height": 35
        },
        "outputId": "385fc7d6-288d-458b-8ad8-3d4476924f18"
      },
      "source": [
        "# feature extraction\n",
        "rfe = RFE(lr, n_features_to_select=100)\n",
        "\n",
        "# fit on train set\n",
        "fit = rfe.fit(X_train, y_train)\n",
        "\n",
        "# transform train set\n",
        "recursive_features = fit.transform(X_train)\n",
        "print('LR Scores: ', lr_scores)"
      ],
      "execution_count": 104,
      "outputs": [
        {
          "output_type": "stream",
          "text": [
            "LR Scores:  [0.99206349 0.99603175 0.99168399 0.99376299 0.95841996]\n"
          ],
          "name": "stdout"
        }
      ]
    },
    {
      "cell_type": "code",
      "metadata": {
        "id": "cQkIM5exrmzO",
        "colab_type": "code",
        "colab": {
          "base_uri": "https://localhost:8080/",
          "height": 35
        },
        "outputId": "b3284e97-ca60-419b-8ce5-5e69c5a0460c"
      },
      "source": [
        "model.fit(X_train, y_train)\n",
        "\n",
        "print('Model Scores: ', model_scores)"
      ],
      "execution_count": 107,
      "outputs": [
        {
          "output_type": "stream",
          "text": [
            "LR Scores:  [0.99206349 0.99603175 0.99168399 0.99376299 0.95841996]\n"
          ],
          "name": "stdout"
        }
      ]
    },
    {
      "cell_type": "code",
      "metadata": {
        "id": "QtUKTJ4prUzs",
        "colab_type": "code",
        "colab": {
          "base_uri": "https://localhost:8080/",
          "height": 419
        },
        "outputId": "8eab8ab0-7811-4d79-e757-eb11776c992a"
      },
      "source": [
        "# checking which are the most important features\n",
        "feature_importance = rfc.fit(recursive_features, y_train).feature_importances_\n",
        "\n",
        "# Make importances relative to max importance.\n",
        "feature_importance = 100.0 * (feature_importance / feature_importance.max())\n",
        "sorted_idx = np.argsort(feature_importance)\n",
        "sorted_idx = sorted_idx[-20:-1:1]\n",
        "pos = np.arange(sorted_idx.shape[0]) + .5\n",
        "plt.barh(pos, feature_importance[sorted_idx], align='center')\n",
        "plt.yticks(pos, X_train_df.columns[sorted_idx])\n",
        "plt.xlabel('Relative Importance')\n",
        "plt.title('Feature Importance', fontsize=30)\n",
        "plt.tick_params(axis='x', which='major', labelsize=15)\n",
        "sns.despine(left=True, bottom=True)\n",
        "plt.show()"
      ],
      "execution_count": 105,
      "outputs": [
        {
          "output_type": "display_data",
          "data": {
            "image/png": "[encoded data removed]",
            "text/plain": [
              "<Figure size 1440x504 with 1 Axes>"
            ]
          },
          "metadata": {
            "tags": []
          }
        }
      ]
    },
    {
      "cell_type": "markdown",
      "metadata": {
        "id": "b59LdV1cG5gV",
        "colab_type": "text"
      },
      "source": [
        "# **SelectFromModel**"
      ]
    },
    {
      "cell_type": "code",
      "metadata": {
        "id": "T_ENV5cQKoon",
        "colab_type": "code",
        "colab": {}
      },
      "source": [
        "from sklearn.feature_selection import SelectFromModel\n",
        "from sklearn.linear_model import LogisticRegression"
      ],
      "execution_count": null,
      "outputs": []
    },
    {
      "cell_type": "markdown",
      "metadata": {
        "id": "5kXicbxPKttO",
        "colab_type": "text"
      },
      "source": [
        "**Create data**"
      ]
    },
    {
      "cell_type": "code",
      "metadata": {
        "id": "RlZCfGnjG5tG",
        "colab_type": "code",
        "colab": {}
      },
      "source": [
        "X = [[ 0.87, -1.34,  0.31, -0.99],\n",
        "     [-2.79, -0.02, -0.85, 0.5 ],\n",
        "     [-1.34, -0.48, -2.55, 2.01 ],\n",
        "     [ 1.92,  1.48,  0.65, 0.95 ]]\n",
        "y = [0, 1, 0, 1]"
      ],
      "execution_count": null,
      "outputs": []
    },
    {
      "cell_type": "markdown",
      "metadata": {
        "id": "RQipiosTOMkb",
        "colab_type": "text"
      },
      "source": [
        "Use SelectFromModel to determine which features are more important<br>\n",
        "True = important feature\n",
        "False =  not important feature"
      ]
    },
    {
      "cell_type": "code",
      "metadata": {
        "id": "82Tpdh8ZKs2h",
        "colab_type": "code",
        "colab": {
          "base_uri": "https://localhost:8080/",
          "height": 70
        },
        "outputId": "31f0820f-70ae-4c2e-ca43-1de02cd4e932"
      },
      "source": [
        "selector = SelectFromModel(estimator=LogisticRegression()).fit(X, y)\n",
        "print(\"selector estimator coef: \", selector.estimator_.coef_)\n",
        "print(\"selector threshold: \",selector.threshold_)\n",
        "print(\"selector get support: \",selector.get_support())"
      ],
      "execution_count": null,
      "outputs": [
        {
          "output_type": "stream",
          "text": [
            "selector estimator coef:  [[-0.32308208  0.81794891  0.51921648  0.06107848]]\n",
            "selector threshold:  0.4303314870543895\n",
            "selector get support:  [False  True  True False]\n"
          ],
          "name": "stdout"
        }
      ]
    },
    {
      "cell_type": "code",
      "metadata": {
        "id": "fUGMAONJLJJN",
        "colab_type": "code",
        "colab": {
          "base_uri": "https://localhost:8080/",
          "height": 87
        },
        "outputId": "a61465bf-78a3-4622-9383-2c99f637745d"
      },
      "source": [
        "selector.transform(X)"
      ],
      "execution_count": null,
      "outputs": [
        {
          "output_type": "execute_result",
          "data": {
            "text/plain": [
              "array([[-1.34,  0.31],\n",
              "       [-0.02, -0.85],\n",
              "       [-0.48, -2.55],\n",
              "       [ 1.48,  0.65]])"
            ]
          },
          "metadata": {
            "tags": []
          },
          "execution_count": 41
        }
      ]
    },
    {
      "cell_type": "markdown",
      "metadata": {
        "id": "X-qsEES2LtAj",
        "colab_type": "text"
      },
      "source": [
        "# **Tree-based feature selection**"
      ]
    },
    {
      "cell_type": "code",
      "metadata": {
        "id": "vVu78eMJMi5h",
        "colab_type": "code",
        "colab": {}
      },
      "source": [
        "from sklearn.ensemble import ExtraTreesClassifier\n",
        "from sklearn.datasets import load_iris\n",
        "from sklearn.feature_selection import SelectFromModel"
      ],
      "execution_count": null,
      "outputs": []
    },
    {
      "cell_type": "markdown",
      "metadata": {
        "id": "-Di_PyAWMk-w",
        "colab_type": "text"
      },
      "source": [
        "Load the Iris datset"
      ]
    },
    {
      "cell_type": "code",
      "metadata": {
        "id": "MDeNCmfrMoz1",
        "colab_type": "code",
        "colab": {
          "base_uri": "https://localhost:8080/",
          "height": 34
        },
        "outputId": "098222a9-11b5-4f71-a83a-7cd99e34c638"
      },
      "source": [
        "X, y = load_iris(return_X_y=True)\n",
        "X.shape"
      ],
      "execution_count": null,
      "outputs": [
        {
          "output_type": "execute_result",
          "data": {
            "text/plain": [
              "(150, 4)"
            ]
          },
          "metadata": {
            "tags": []
          },
          "execution_count": 43
        }
      ]
    },
    {
      "cell_type": "code",
      "metadata": {
        "id": "a_HYHguBPRjO",
        "colab_type": "code",
        "colab": {
          "base_uri": "https://localhost:8080/",
          "height": 34
        },
        "outputId": "8312b51c-27f7-416b-82fd-9c783a9ee51d"
      },
      "source": [
        "X[1]"
      ],
      "execution_count": null,
      "outputs": [
        {
          "output_type": "execute_result",
          "data": {
            "text/plain": [
              "array([4.9, 3. , 1.4, 0.2])"
            ]
          },
          "metadata": {
            "tags": []
          },
          "execution_count": 44
        }
      ]
    },
    {
      "cell_type": "markdown",
      "metadata": {
        "id": "lAH4wz2KPfk8",
        "colab_type": "text"
      },
      "source": [
        "Use the trees classifier to determine the important features"
      ]
    },
    {
      "cell_type": "code",
      "metadata": {
        "id": "fRBuzgCKLxjd",
        "colab_type": "code",
        "colab": {
          "base_uri": "https://localhost:8080/",
          "height": 34
        },
        "outputId": "5969ffc5-622e-4c15-df6f-7a96907cc1ca"
      },
      "source": [
        "clf = ExtraTreesClassifier(n_estimators=50)\n",
        "clf = clf.fit(X, y)\n",
        "clf.feature_importances_      "
      ],
      "execution_count": null,
      "outputs": [
        {
          "output_type": "execute_result",
          "data": {
            "text/plain": [
              "array([0.1037284 , 0.06541328, 0.42891868, 0.40193964])"
            ]
          },
          "metadata": {
            "tags": []
          },
          "execution_count": 45
        }
      ]
    },
    {
      "cell_type": "markdown",
      "metadata": {
        "id": "qMU9_TolPpPC",
        "colab_type": "text"
      },
      "source": [
        "Create a new dataset that uses only the most important features"
      ]
    },
    {
      "cell_type": "code",
      "metadata": {
        "id": "vFqjI_rpMr7v",
        "colab_type": "code",
        "colab": {
          "base_uri": "https://localhost:8080/",
          "height": 34
        },
        "outputId": "673861a7-c34c-4e03-b0ef-c599a73376d3"
      },
      "source": [
        "model = SelectFromModel(clf, prefit=True)\n",
        "X_new = model.transform(X)\n",
        "X_new.shape "
      ],
      "execution_count": null,
      "outputs": [
        {
          "output_type": "execute_result",
          "data": {
            "text/plain": [
              "(150, 2)"
            ]
          },
          "metadata": {
            "tags": []
          },
          "execution_count": 46
        }
      ]
    },
    {
      "cell_type": "code",
      "metadata": {
        "id": "mxqPtKsbPUIU",
        "colab_type": "code",
        "colab": {
          "base_uri": "https://localhost:8080/",
          "height": 34
        },
        "outputId": "888f0723-7a49-46ba-dfb5-e254f23078d9"
      },
      "source": [
        "X_new[1]"
      ],
      "execution_count": null,
      "outputs": [
        {
          "output_type": "execute_result",
          "data": {
            "text/plain": [
              "array([1.4, 0.2])"
            ]
          },
          "metadata": {
            "tags": []
          },
          "execution_count": 47
        }
      ]
    },
    {
      "cell_type": "markdown",
      "metadata": {
        "id": "7NpXom4wP5vM",
        "colab_type": "text"
      },
      "source": [
        "Tree based example 2"
      ]
    },
    {
      "cell_type": "code",
      "metadata": {
        "id": "3__TOkj2QAp8",
        "colab_type": "code",
        "colab": {}
      },
      "source": [
        "import numpy as np\n",
        "import matplotlib.pyplot as plt\n",
        "\n",
        "from sklearn.datasets import make_classification\n",
        "from sklearn.ensemble import ExtraTreesClassifier"
      ],
      "execution_count": null,
      "outputs": []
    },
    {
      "cell_type": "markdown",
      "metadata": {
        "id": "DiPefc7oQCR5",
        "colab_type": "text"
      },
      "source": [
        "Create synthetic data<br>\n",
        ">10 features, 3 of them informative\n"
      ]
    },
    {
      "cell_type": "code",
      "metadata": {
        "id": "W54-7BlsQJ0n",
        "colab_type": "code",
        "colab": {}
      },
      "source": [
        "# Build a classification task using 3 informative features\n",
        "X, y = make_classification(n_samples=1000,\n",
        "                           n_features=10,\n",
        "                           n_informative=3,\n",
        "                           n_redundant=0,\n",
        "                           n_repeated=0,\n",
        "                           n_classes=2,\n",
        "                           random_state=0,\n",
        "                           shuffle=False)"
      ],
      "execution_count": null,
      "outputs": []
    },
    {
      "cell_type": "markdown",
      "metadata": {
        "id": "Mc0iQoqGQPAe",
        "colab_type": "text"
      },
      "source": [
        "**Build a forest** and compute the impurity-based feature importances"
      ]
    },
    {
      "cell_type": "code",
      "metadata": {
        "id": "Y2IfvxG6QNkj",
        "colab_type": "code",
        "colab": {}
      },
      "source": [
        "forest = ExtraTreesClassifier(n_estimators=250,\n",
        "                              random_state=0)\n",
        "forest.fit(X, y)\n",
        "importances = forest.feature_importances_\n",
        "std = np.std([tree.feature_importances_ for tree in forest.estimators_],\n",
        "             axis=0)\n",
        "indices = np.argsort(importances)[::-1]"
      ],
      "execution_count": null,
      "outputs": []
    },
    {
      "cell_type": "markdown",
      "metadata": {
        "id": "dsP3CvUtQfCj",
        "colab_type": "text"
      },
      "source": [
        "**Print the feature ranking**"
      ]
    },
    {
      "cell_type": "code",
      "metadata": {
        "id": "doxKFoNmQbsL",
        "colab_type": "code",
        "colab": {
          "base_uri": "https://localhost:8080/",
          "height": 212
        },
        "outputId": "46c07e4d-c5e4-48c2-f625-f286dc332d7d"
      },
      "source": [
        "print(\"Feature ranking:\")\n",
        "for f in range(X.shape[1]):\n",
        "    print(\"%d. feature %d (%f)\" % (f + 1, indices[f], importances[indices[f]]))\n"
      ],
      "execution_count": null,
      "outputs": [
        {
          "output_type": "stream",
          "text": [
            "Feature ranking:\n",
            "1. feature 1 (0.295902)\n",
            "2. feature 2 (0.208351)\n",
            "3. feature 0 (0.177632)\n",
            "4. feature 3 (0.047121)\n",
            "5. feature 6 (0.046303)\n",
            "6. feature 8 (0.046013)\n",
            "7. feature 7 (0.045575)\n",
            "8. feature 4 (0.044614)\n",
            "9. feature 9 (0.044577)\n",
            "10. feature 5 (0.043912)\n"
          ],
          "name": "stdout"
        }
      ]
    },
    {
      "cell_type": "markdown",
      "metadata": {
        "id": "VZkm-Zp-QrBs",
        "colab_type": "text"
      },
      "source": [
        "**Plot the impurity-based feature importances of the forest**"
      ]
    },
    {
      "cell_type": "code",
      "metadata": {
        "id": "hhHSDFh_P7Z1",
        "colab_type": "code",
        "colab": {
          "base_uri": "https://localhost:8080/",
          "height": 281
        },
        "outputId": "f5d13b12-b214-4cd4-b26d-4424b2971069"
      },
      "source": [
        "plt.figure()\n",
        "plt.title(\"Feature importances\")\n",
        "plt.bar(range(X.shape[1]), importances[indices],\n",
        "        color=\"r\", yerr=std[indices], align=\"center\")\n",
        "plt.xticks(range(X.shape[1]), indices)\n",
        "plt.xlim([-1, X.shape[1]])\n",
        "plt.show()"
      ],
      "execution_count": null,
      "outputs": [
        {
          "output_type": "display_data",
          "data": {
            "image/png": "[encoded data removed]",
            "text/plain": [
              "<Figure size 432x288 with 1 Axes>"
            ]
          },
          "metadata": {
            "tags": [],
            "needs_background": "light"
          }
        }
      ]
    }
  ]
}