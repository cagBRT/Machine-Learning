{
  "nbformat": 4,
  "nbformat_minor": 0,
  "metadata": {
    "colab": {
      "name": "DecisionTreesRegression1.ipynb",
      "private_outputs": true,
      "provenance": [],
      "authorship_tag": "ABX9TyNbqFVYEsUb9ivmciktOcnm",
      "include_colab_link": true
    },
    "kernelspec": {
      "name": "python3",
      "display_name": "Python 3"
    },
    "language_info": {
      "name": "python"
    }
  },
  "cells": [
    {
      "cell_type": "markdown",
      "metadata": {
        "id": "view-in-github",
        "colab_type": "text"
      },
      "source": [
        "<a href=\"https://colab.research.google.com/github/cagBRT/Machine-Learning/blob/master/DecisionTreesRegression1.ipynb\" target=\"_parent\"><img src=\"https://colab.research.google.com/assets/colab-badge.svg\" alt=\"Open In Colab\"/></a>"
      ]
    },
    {
      "cell_type": "markdown",
      "metadata": {
        "id": "N37-xfjbxnhO"
      },
      "source": [
        "# **Using Decision Trees for Regresssion**"
      ]
    },
    {
      "cell_type": "markdown",
      "metadata": {
        "id": "T93njG6ZRzsR"
      },
      "source": [
        "This class implements a meta estimator that fits a number of randomized decision trees (a.k.a. extra-trees) on various sub-samples of the dataset and uses averaging to improve the predictive accuracy and control over-fitting."
      ]
    },
    {
      "cell_type": "code",
      "metadata": {
        "id": "4Uk9l6yFScmM"
      },
      "source": [
        "!git clone -l -s https://github.com/cagBRT/Machine-Learning.git cloned-repo\n",
        "%cd cloned-repo"
      ],
      "execution_count": null,
      "outputs": []
    },
    {
      "cell_type": "markdown",
      "metadata": {
        "id": "3--GEhA1x40I"
      },
      "source": [
        "Import the necessary libraries"
      ]
    },
    {
      "cell_type": "code",
      "metadata": {
        "id": "ubhxI5bORjKx"
      },
      "source": [
        "from sklearn.datasets import load_diabetes\n",
        "from sklearn.model_selection import train_test_split\n",
        "from sklearn.ensemble import ExtraTreesRegressor\n",
        "import pandas as pd\n",
        "from sklearn.model_selection import train_test_split \n",
        "from sklearn import tree"
      ],
      "execution_count": null,
      "outputs": []
    },
    {
      "cell_type": "markdown",
      "metadata": {
        "id": "FAPnvi33yK1n"
      },
      "source": [
        "https://www.saedsayad.com/decision_tree_reg.htm"
      ]
    },
    {
      "cell_type": "markdown",
      "metadata": {
        "id": "q-DyfDhPyOmY"
      },
      "source": [
        "**Regresssion outcome using Trees**"
      ]
    },
    {
      "cell_type": "code",
      "metadata": {
        "id": "0PEV-S9PSnM2"
      },
      "source": [
        "from IPython.display import Image\n",
        "Image(\"images/DecTreesReg1.png\" , width=640)"
      ],
      "execution_count": null,
      "outputs": []
    },
    {
      "cell_type": "markdown",
      "metadata": {
        "id": "NQEY1gw7yWG0"
      },
      "source": [
        "Break the dataset intto individual branches"
      ]
    },
    {
      "cell_type": "code",
      "metadata": {
        "id": "iyevRUeIW9zW"
      },
      "source": [
        "Image(\"images/DecTreesReg2.png\" , width=640)"
      ],
      "execution_count": null,
      "outputs": []
    },
    {
      "cell_type": "markdown",
      "metadata": {
        "id": "sZgry4tSydUh"
      },
      "source": [
        "Determine the Standard Deviation for each branch"
      ]
    },
    {
      "cell_type": "code",
      "metadata": {
        "id": "bZTdqffhXtV4"
      },
      "source": [
        "Image(\"images/DecTreesReg3.png\" , width=640)"
      ],
      "execution_count": null,
      "outputs": []
    },
    {
      "cell_type": "markdown",
      "metadata": {
        "id": "IoKKxyVrylQ6"
      },
      "source": [
        "Select the largest SDR "
      ]
    },
    {
      "cell_type": "code",
      "metadata": {
        "id": "bjEx3fyOY2Dk"
      },
      "source": [
        "Image(\"images/DecTreesReg4.png\" , width=640)"
      ],
      "execution_count": null,
      "outputs": []
    },
    {
      "cell_type": "markdown",
      "metadata": {
        "id": "kdRPBKuzytf6"
      },
      "source": [
        "Repeat for each branch"
      ]
    },
    {
      "cell_type": "code",
      "metadata": {
        "id": "AJgnRSfKZhj2"
      },
      "source": [
        "Image(\"images/DecTreesReg5.png\" , width=640)"
      ],
      "execution_count": null,
      "outputs": []
    },
    {
      "cell_type": "code",
      "metadata": {
        "id": "t7HpmECmaJ08"
      },
      "source": [
        "Image(\"images/DecTreesReg6.png\" , width=640)"
      ],
      "execution_count": null,
      "outputs": []
    },
    {
      "cell_type": "code",
      "metadata": {
        "id": "KNZ3FnhFaLWQ"
      },
      "source": [
        "Image(\"images/DecTreesReg7.png\" , width=640)"
      ],
      "execution_count": null,
      "outputs": []
    },
    {
      "cell_type": "markdown",
      "metadata": {
        "id": "yFpEpLqSY-yN"
      },
      "source": [
        "SDR=Standard Deviation Reduction<br>\n",
        "The \"Sunny\" branch has a Coefficient of Deviation (CV) (28%) more than the threshold (10%) which needs further splitting. We select \"Windy\" as the best best node after \"Outlook\" because it has the largest SDR. "
      ]
    },
    {
      "cell_type": "markdown",
      "metadata": {
        "id": "l32fBbqYoSYF"
      },
      "source": [
        "**Pima Diabetes Dataset**<br>\n",
        "Data Set Characteristics:<br>\n",
        "\n",
        "Number of Instances<br>\n",
        "442<br>\n",
        "\n",
        "Number of Attributes<br>\n",
        "First 10 columns are numeric predictive values<br>\n",
        "\n",
        "Target <br>\n",
        "**Column 11 is a quantitative measure of disease progression one year after baseline**<br>\n",
        "\n",
        "Attribute Information<br>\n",
        "age age in years<br>\n",
        "sex<br>\n",
        "bmi body mass index<br>\n",
        "bp average blood pressure<br>\n",
        "s1 tc, total serum cholesterol<br>\n",
        "s2 ldl, low-density lipoproteins<br>\n",
        "s3 hdl, high-density lipoproteins<br>\n",
        "s4 tch, total cholesterol / HDL<br>\n",
        "s5 ltg, possibly log of serum triglycerides level<br>\n",
        "s6 glu, blood sugar level<br>\n",
        "\n",
        "Note: Each of these 10 feature variables have been mean centered and scaled by the standard deviation times n_samples (i.e. the sum of squares of each column totals 1)."
      ]
    },
    {
      "cell_type": "markdown",
      "metadata": {
        "id": "-ekpIfQPyyst"
      },
      "source": [
        "**Load the dataset**"
      ]
    },
    {
      "cell_type": "code",
      "metadata": {
        "id": "UgI1zRT7n6kp"
      },
      "source": [
        "X, y = load_diabetes(return_X_y=True)"
      ],
      "execution_count": null,
      "outputs": []
    },
    {
      "cell_type": "markdown",
      "metadata": {
        "id": "MhJRZWIly1iv"
      },
      "source": [
        "**Split the data iinto train and test sets**"
      ]
    },
    {
      "cell_type": "code",
      "metadata": {
        "id": "mOUwYMiznbyE"
      },
      "source": [
        "X_train, X_test, y_train, y_test = train_test_split(\n",
        "    X, y, random_state=0)"
      ],
      "execution_count": null,
      "outputs": []
    },
    {
      "cell_type": "markdown",
      "metadata": {
        "id": "zDQwz4wCy6uy"
      },
      "source": [
        "**Use the ExtraTreesRegressor model to find the best fit**"
      ]
    },
    {
      "cell_type": "code",
      "metadata": {
        "id": "D7gqfloSRc47"
      },
      "source": [
        "reg = ExtraTreesRegressor(n_estimators=100, random_state=0).fit(\n",
        "   X_train, y_train)\n",
        "reg.score(X_test, y_test)"
      ],
      "execution_count": null,
      "outputs": []
    },
    {
      "cell_type": "code",
      "metadata": {
        "id": "krUFbvlvqV_y"
      },
      "source": [
        "y_test.shape"
      ],
      "execution_count": null,
      "outputs": []
    },
    {
      "cell_type": "markdown",
      "metadata": {
        "id": "CctIC1CnzGFT"
      },
      "source": [
        "**Note that the dataset has labels that correspond to the progression of diabetes in the previous year.**"
      ]
    },
    {
      "cell_type": "code",
      "metadata": {
        "id": "eO_YS_dBdcTl"
      },
      "source": [
        "y_predict = reg.predict(X_test)\n",
        "series2=pd.Series(y_predict)\n",
        "series1=pd.Series(y_test)\n",
        "df=pd.DataFrame({'Test':series1, 'Prediction':series2})\n",
        "df"
      ],
      "execution_count": null,
      "outputs": []
    },
    {
      "cell_type": "code",
      "metadata": {
        "id": "psKr_HsUziVS"
      },
      "source": [
        "print(\"number of trees used: \",len(reg.estimators_))"
      ],
      "execution_count": null,
      "outputs": []
    },
    {
      "cell_type": "markdown",
      "metadata": {
        "id": "bMQba-5bzSSn"
      },
      "source": [
        "We used a collection of tree estimators to find the best fit for the data. <br>\n",
        "So to plot a tree, we have to select one of them"
      ]
    },
    {
      "cell_type": "code",
      "metadata": {
        "id": "cmvfP1D-qz2U"
      },
      "source": [
        "tree.plot_tree(reg.estimators_[0],max_depth=4)"
      ],
      "execution_count": null,
      "outputs": []
    },
    {
      "cell_type": "code",
      "metadata": {
        "id": "r9Dp77OErb6q"
      },
      "source": [
        "import graphviz \n",
        "dot_data = tree.export_graphviz(reg.estimators_[0], out_file=None) \n",
        "graph = graphviz.Source(dot_data) \n",
        "graph.render(\"diabetes\") "
      ],
      "execution_count": null,
      "outputs": []
    },
    {
      "cell_type": "markdown",
      "metadata": {
        "id": "QNENjLgrtQ64"
      },
      "source": [
        "age age in years<br>\n",
        "sex<br>\n",
        "bmi body mass index<br>\n",
        "bp average blood pressure<br>\n",
        "s1 tc, total serum cholesterol<br>\n",
        "s2 ldl, low-density lipoproteins<br>\n",
        "s3 hdl, high-density lipoproteins<br>\n",
        "s4 tch, total cholesterol / HDL<br>\n",
        "s5 ltg, possibly log of serum triglycerides level<br>\n",
        "s6 glu, blood sugar level<br>"
      ]
    },
    {
      "cell_type": "code",
      "metadata": {
        "id": "VFBph0zUswN5"
      },
      "source": [
        "feature_cols = ['age', 'sex', 'BMI', 'bp','tc','ldl','hdl','tch','ltg','glu']\n",
        "targets=['class']"
      ],
      "execution_count": null,
      "outputs": []
    },
    {
      "cell_type": "code",
      "metadata": {
        "id": "Mw3F4K7xvvQo"
      },
      "source": [
        "tree_num = 0"
      ],
      "execution_count": null,
      "outputs": []
    },
    {
      "cell_type": "code",
      "metadata": {
        "id": "HWIA8H1PsCnI"
      },
      "source": [
        "dot_data = tree.export_graphviz(reg.estimators_[tree_num],\n",
        "                     feature_names=feature_cols,  \n",
        "                     class_names=targets,  \n",
        "                     filled=True, rounded=True,  \n",
        "                     special_characters=True)  \n",
        "graph = graphviz.Source(dot_data)  \n",
        "graph"
      ],
      "execution_count": null,
      "outputs": []
    }
  ]
}