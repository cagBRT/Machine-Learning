{
  "nbformat": 4,
  "nbformat_minor": 0,
  "metadata": {
    "colab": {
      "private_outputs": true,
      "provenance": [],
      "authorship_tag": "ABX9TyP+LkBZO9iHkCk0DnwAL0cc",
      "include_colab_link": true
    },
    "kernelspec": {
      "name": "python3",
      "display_name": "Python 3"
    },
    "language_info": {
      "name": "python"
    }
  },
  "cells": [
    {
      "cell_type": "markdown",
      "metadata": {
        "id": "view-in-github",
        "colab_type": "text"
      },
      "source": [
        "<a href=\"https://colab.research.google.com/github/cagBRT/Machine-Learning/blob/master/Multi_Output_Linear_Regression.ipynb\" target=\"_parent\"><img src=\"https://colab.research.google.com/assets/colab-badge.svg\" alt=\"Open In Colab\"/></a>"
      ]
    },
    {
      "cell_type": "markdown",
      "source": [
        "In this notebook we explore two methods for creating linear regression models with more than one output."
      ],
      "metadata": {
        "id": "QL4TvuDaO9Ob"
      }
    },
    {
      "cell_type": "markdown",
      "source": [
        "When we think of linear regression, we usually think of predicting a single output, for example a size or weight value.<br>\n",
        "There are times when we want to predict more than one output. <br>\n",
        "This usually means the two outputs are dependent upon each other. Which means the model needs to predict both outputs together or multiple models are used. <br>\n",
        "We will look at both methods."
      ],
      "metadata": {
        "id": "h_Z3qBvsQAgF"
      }
    },
    {
      "cell_type": "markdown",
      "source": [
        "We need to check the version of sklearn. Versions of the library older than 0.22 will not work in this notebook."
      ],
      "metadata": {
        "id": "u2JXTTXtQ-3Y"
      }
    },
    {
      "cell_type": "code",
      "execution_count": null,
      "metadata": {
        "id": "0qNx3feMX4UQ"
      },
      "outputs": [],
      "source": [
        "# check scikit-learn version\n",
        "import sklearn\n",
        "print(sklearn.__version__)"
      ]
    },
    {
      "cell_type": "markdown",
      "source": [
        "# Create synthetic data"
      ],
      "metadata": {
        "id": "pHaSXoESRJ1k"
      }
    },
    {
      "cell_type": "markdown",
      "source": [
        "Problem Input: 10 numeric variables.<br>\n",
        "Problem Output: 2 numeric variables."
      ],
      "metadata": {
        "id": "TmtbNvmpX95X"
      }
    },
    {
      "cell_type": "code",
      "source": [
        "from sklearn.datasets import make_regression\n",
        "from sklearn.linear_model import LinearRegression"
      ],
      "metadata": {
        "id": "TcD_qSnPX-l6"
      },
      "execution_count": null,
      "outputs": []
    },
    {
      "cell_type": "markdown",
      "source": [
        "Notice the data shape is 1000 rows and 10 columns<br>\n",
        "The label shape is 1000 rows and **2** columns"
      ],
      "metadata": {
        "id": "I7qP_v5dRluX"
      }
    },
    {
      "cell_type": "code",
      "source": [
        "# create datasets\n",
        "X, y = make_regression(n_samples=1000, n_features=10, n_informative=5, n_targets=2, random_state=1, noise=0.5)\n",
        "# summarize dataset\n",
        "print(X.shape, y.shape)"
      ],
      "metadata": {
        "id": "9m9zUe02Rg6g"
      },
      "execution_count": null,
      "outputs": []
    },
    {
      "cell_type": "code",
      "source": [
        "X[0]"
      ],
      "metadata": {
        "id": "oIrA9xhKSwZO"
      },
      "execution_count": null,
      "outputs": []
    },
    {
      "cell_type": "markdown",
      "source": [
        "**Some regression machine learning algorithms support multiple outputs directly.**<br>\n",
        "\n",
        "This includes most of the popular machine learning algorithms implemented in the scikit-learn library, such as:<br>\n",
        "\n",
        ">LinearRegression (and related)<br>\n",
        "KNeighborsRegressor<br>\n",
        "DecisionTreeRegressor<br>\n",
        "RandomForestRegressor (and related)<br>\n",
        "\n",
        "\n",
        "\n"
      ],
      "metadata": {
        "id": "-YRg_kooSRYI"
      }
    },
    {
      "cell_type": "markdown",
      "source": [
        "# Use the sklearn Linear Regression model"
      ],
      "metadata": {
        "id": "uM30Ru-ERwaB"
      }
    },
    {
      "cell_type": "markdown",
      "source": [
        "1. Select the model<br>\n",
        "2. train it on the data and the labels<br>\n",
        "3. Select a row of data and make a prediction<br>\n",
        "<br>\n",
        "The output from the linear regression model is two values"
      ],
      "metadata": {
        "id": "m8sFnQ99ShaB"
      }
    },
    {
      "cell_type": "code",
      "source": [
        "# define model\n",
        "model = LinearRegression()\n",
        "# fit model\n",
        "model.fit(X, y)\n",
        "# make a prediction\n",
        "yhat = model.predict([X[0]])\n",
        "# summarize prediction\n",
        "print(yhat[0])"
      ],
      "metadata": {
        "id": "yG2WMhs9YD1H"
      },
      "execution_count": null,
      "outputs": []
    },
    {
      "cell_type": "markdown",
      "source": [
        "# Use the KNN Regression model on the data"
      ],
      "metadata": {
        "id": "xkJPR23iTNVx"
      }
    },
    {
      "cell_type": "code",
      "source": [
        "# k-nearest neighbors for multioutput regression\n",
        "from sklearn.datasets import make_regression\n",
        "from sklearn.neighbors import KNeighborsRegressor"
      ],
      "metadata": {
        "id": "o2BK5P_mTY9E"
      },
      "execution_count": null,
      "outputs": []
    },
    {
      "cell_type": "markdown",
      "source": [
        "Use the the dataset generated above<br>\n",
        "The model predicts two values"
      ],
      "metadata": {
        "id": "ViOuxrYQTcSG"
      }
    },
    {
      "cell_type": "code",
      "source": [
        "model = KNeighborsRegressor()\n",
        "# fit model\n",
        "model.fit(X, y)\n",
        "# make a prediction\n",
        "yhat = model.predict([X[4]])\n",
        "# summarize prediction\n",
        "print(yhat[0])"
      ],
      "metadata": {
        "id": "Y4u1SjoYYHVF"
      },
      "execution_count": null,
      "outputs": []
    },
    {
      "cell_type": "markdown",
      "source": [
        "# Use the Decision Tree Regression Model"
      ],
      "metadata": {
        "id": "UOyQtYHUT4BS"
      }
    },
    {
      "cell_type": "code",
      "source": [
        "# decision tree for multioutput regression\n",
        "from sklearn.datasets import make_regression\n",
        "from sklearn.tree import DecisionTreeRegressor"
      ],
      "metadata": {
        "id": "ILSrl6aqUAMx"
      },
      "execution_count": null,
      "outputs": []
    },
    {
      "cell_type": "markdown",
      "source": [
        "Use the the dataset generated above<br>\n",
        "The model predicts two values"
      ],
      "metadata": {
        "id": "oa8v3IRhUOkV"
      }
    },
    {
      "cell_type": "code",
      "source": [
        "# define model\n",
        "model = DecisionTreeRegressor()\n",
        "# fit model\n",
        "model.fit(X, y)\n",
        "# make a prediction\n",
        "yhat = model.predict([X[0]])\n",
        "# summarize prediction\n",
        "print(yhat[0])"
      ],
      "metadata": {
        "id": "fAIGXA89YK4M"
      },
      "execution_count": null,
      "outputs": []
    },
    {
      "cell_type": "markdown",
      "source": [
        "# Use Cross Validation on Multi Output Regression"
      ],
      "metadata": {
        "id": "BnVgIm68UQo4"
      }
    },
    {
      "cell_type": "code",
      "source": [
        "# evaluate multioutput regression model with k-fold cross-validation\n",
        "from numpy import absolute\n",
        "from numpy import mean\n",
        "from numpy import std\n",
        "from sklearn.datasets import make_regression\n",
        "from sklearn.tree import DecisionTreeRegressor\n",
        "from sklearn.model_selection import cross_val_score\n",
        "from sklearn.model_selection import RepeatedKFold"
      ],
      "metadata": {
        "id": "KM2FZ_ZPUZxl"
      },
      "execution_count": null,
      "outputs": []
    },
    {
      "cell_type": "code",
      "source": [
        "# define model\n",
        "model = DecisionTreeRegressor()\n",
        "# define the evaluation procedure\n",
        "cv = RepeatedKFold(n_splits=10, n_repeats=3, random_state=1)\n",
        "# evaluate the model and collect the scores\n",
        "n_scores = cross_val_score(model, X, y, scoring='neg_mean_absolute_error', cv=cv, n_jobs=-1)"
      ],
      "metadata": {
        "id": "sgvbUSSnYPP4"
      },
      "execution_count": null,
      "outputs": []
    },
    {
      "cell_type": "markdown",
      "source": [
        "Running the example evaluates the performance of the decision tree model for multioutput regression on the test problem. The mean and standard deviation of the MAE is reported calculated across all folds and all repeats."
      ],
      "metadata": {
        "id": "U-vLj2yIUqkc"
      }
    },
    {
      "cell_type": "markdown",
      "source": [
        "**The error is reported across both output variables**,<br>\n",
        "rather than separate error scores for each output variable.\n",
        "\n"
      ],
      "metadata": {
        "id": "Vxft-hyTVGy4"
      }
    },
    {
      "cell_type": "code",
      "source": [
        "# force the scores to be positive\n",
        "n_scores = absolute(n_scores)\n",
        "# summarize performance\n",
        "print('MAE: %.3f (%.3f)' % (mean(n_scores), std(n_scores)))"
      ],
      "metadata": {
        "id": "Sxy7JhPXUvCJ"
      },
      "execution_count": null,
      "outputs": []
    },
    {
      "cell_type": "markdown",
      "source": [
        "# Support Vector Regression does not support multiple outputs"
      ],
      "metadata": {
        "id": "8igpaz2tVZeD"
      }
    },
    {
      "cell_type": "markdown",
      "source": [
        "The following example will result in an error"
      ],
      "metadata": {
        "id": "m-rBILRLVnQL"
      }
    },
    {
      "cell_type": "code",
      "source": [
        "# failure of support vector regression for multioutput regression (causes an error)\n",
        "from sklearn.datasets import make_regression\n",
        "from sklearn.svm import LinearSVR"
      ],
      "metadata": {
        "id": "T6j0xdtzVsFV"
      },
      "execution_count": null,
      "outputs": []
    },
    {
      "cell_type": "code",
      "source": [
        "# define model\n",
        "model = LinearSVR()\n",
        "# fit model\n",
        "# (THIS WILL CAUSE AN ERROR!)\n",
        "model.fit(X, y)"
      ],
      "metadata": {
        "id": "bD5pdn_cYd4u"
      },
      "execution_count": null,
      "outputs": []
    },
    {
      "cell_type": "markdown",
      "source": [
        "# Using regression models designed for predicting one value for multioutput regression<br>\n",
        "\n",
        "We do this by dividing the multioutput regression problem into multiple sub-problems."
      ],
      "metadata": {
        "id": "uK0UgpKtWKB8"
      }
    },
    {
      "cell_type": "markdown",
      "source": [
        "**For example**,<br>\n",
        "if a multioutput regression problem required:<br>\n",
        ">the prediction of three outputs y1, y2 and y3 given an input X,<br>\n",
        "the problem can be partitioned into three single-output regression problems:<br>\n",
        "\n",
        "Problem 1: Given X, predict y1.<br>\n",
        "Problem 2: Given X, predict y2.<br>\n",
        "Problem 3: Given X, predict y3.<br>\n",
        "<br>\n"
      ],
      "metadata": {
        "id": "a4pDAR3wZCGo"
      }
    },
    {
      "cell_type": "markdown",
      "source": [
        "\n",
        "There are two main approaches to partitioning the problem.\n",
        "\n",
        "1. **Direct Method:** this involves developing a separate regression model for each output value to be predicted. In other words each target value is modeled directly.\n",
        "\n",
        "2. **Chain of Models**: this is an extension of the first method except the models are organized into a chain. The prediction from the first model is taken as part of the input to the second model, and the process of output-to-input dependency repeats along the chain of models."
      ],
      "metadata": {
        "id": "TdYrDB5WW6FR"
      }
    },
    {
      "cell_type": "code",
      "source": [
        "# example of evaluating direct multioutput regression with an SVM model\n",
        "from numpy import mean\n",
        "from numpy import std\n",
        "from numpy import absolute\n",
        "from sklearn.datasets import make_regression\n",
        "from sklearn.model_selection import cross_val_score\n",
        "from sklearn.model_selection import RepeatedKFold\n",
        "from sklearn.multioutput import MultiOutputRegressor\n",
        "from sklearn.svm import LinearSVR"
      ],
      "metadata": {
        "id": "TrNrDy7BZkR5"
      },
      "execution_count": null,
      "outputs": []
    },
    {
      "cell_type": "code",
      "source": [
        "# define dataset\n",
        "X, y = make_regression(n_samples=1000, n_features=10, n_informative=5, n_targets=2, random_state=1, noise=0.5)"
      ],
      "metadata": {
        "id": "IjDlgeq9YwuR"
      },
      "execution_count": null,
      "outputs": []
    },
    {
      "cell_type": "markdown",
      "source": [
        "Define the base model, in this case the support vector regression model"
      ],
      "metadata": {
        "id": "lYrZ3dNRY4jX"
      }
    },
    {
      "cell_type": "code",
      "source": [
        "model = LinearSVR()"
      ],
      "metadata": {
        "id": "l33zwZ5IY1Gg"
      },
      "execution_count": null,
      "outputs": []
    },
    {
      "cell_type": "markdown",
      "source": [
        "Define the wrapper model"
      ],
      "metadata": {
        "id": "vF-zEVVnZBXf"
      }
    },
    {
      "cell_type": "code",
      "source": [
        "wrapper = MultiOutputRegressor(model)"
      ],
      "metadata": {
        "id": "qaUTOyBTZAmh"
      },
      "execution_count": null,
      "outputs": []
    },
    {
      "cell_type": "markdown",
      "source": [
        "Use cross validation to evaluate the Direct approach model"
      ],
      "metadata": {
        "id": "AGqAErgzZRif"
      }
    },
    {
      "cell_type": "code",
      "source": [
        "# define the evaluation procedure\n",
        "cv = RepeatedKFold(n_splits=10, n_repeats=3, random_state=1)\n",
        "# evaluate the model and collect the scores\n",
        "n_scores = cross_val_score(wrapper, X, y, scoring='neg_mean_absolute_error', cv=cv, n_jobs=-1)\n",
        "# force the scores to be positive\n",
        "n_scores = absolute(n_scores)\n",
        "# summarize performance\n",
        "print('MAE: %.3f (%.3f)' % (mean(n_scores), std(n_scores)))"
      ],
      "metadata": {
        "id": "IpgB9iFIZCt8"
      },
      "execution_count": null,
      "outputs": []
    },
    {
      "cell_type": "code",
      "source": [
        "# example of making a prediction with the direct multioutput regression model\n",
        "from sklearn.datasets import make_regression\n",
        "from sklearn.multioutput import MultiOutputRegressor\n",
        "from sklearn.svm import LinearSVR"
      ],
      "metadata": {
        "id": "-M8mQWyaZhjW"
      },
      "execution_count": null,
      "outputs": []
    },
    {
      "cell_type": "code",
      "source": [
        "# define dataset\n",
        "X, y = make_regression(n_samples=1000, n_features=10, n_informative=5, n_targets=2, random_state=1, noise=0.5)"
      ],
      "metadata": {
        "id": "T8_w3fI3Zke3"
      },
      "execution_count": null,
      "outputs": []
    },
    {
      "cell_type": "code",
      "source": [
        "# define base model\n",
        "model = LinearSVR()\n",
        "# define the direct multioutput wrapper model\n",
        "wrapper = MultiOutputRegressor(model)\n",
        "# fit the model on the whole dataset\n",
        "wrapper.fit(X, y)\n",
        "# make a single prediction\n",
        "yhat = wrapper.predict([X[0]])\n",
        "# summarize the prediction\n",
        "print('Predicted: %s' % yhat[0])"
      ],
      "metadata": {
        "id": "kQGWtDJHZvV-"
      },
      "execution_count": null,
      "outputs": []
    },
    {
      "cell_type": "markdown",
      "source": [
        "The prediction from out Linear Regression Model<br>\n",
        "[50.06781692 64.56497273]"
      ],
      "metadata": {
        "id": "FBboIyfGaF69"
      }
    }
  ]
}