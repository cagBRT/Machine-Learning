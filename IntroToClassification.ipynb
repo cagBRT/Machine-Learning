{
  "nbformat": 4,
  "nbformat_minor": 0,
  "metadata": {
    "colab": {
      "name": "IntroToClassification.ipynb",
      "private_outputs": true,
      "provenance": [],
      "authorship_tag": "ABX9TyNuc4h43s+NrP9o16tqUpkg",
      "include_colab_link": true
    },
    "kernelspec": {
      "name": "python3",
      "display_name": "Python 3"
    }
  },
  "cells": [
    {
      "cell_type": "markdown",
      "metadata": {
        "id": "view-in-github",
        "colab_type": "text"
      },
      "source": [
        "<a href=\"https://colab.research.google.com/github/cagBRT/Machine-Learning/blob/master/IntroToClassification.ipynb\" target=\"_parent\"><img src=\"https://colab.research.google.com/assets/colab-badge.svg\" alt=\"Open In Colab\"/></a>"
      ]
    },
    {
      "cell_type": "code",
      "metadata": {
        "id": "I37xcqW8dMDG"
      },
      "source": [
        "!git clone -l -s https://github.com/cagBRT/Machine-Learning.git cloned-repo\n",
        "%cd cloned-repo"
      ],
      "execution_count": null,
      "outputs": []
    },
    {
      "cell_type": "code",
      "metadata": {
        "id": "0JDVrgGi6feW"
      },
      "source": [
        "from IPython.display import Image\n",
        "def page(num):\n",
        "    return Image(\"c5-content/c5PythonProgramming\"+str(num)+ \".png\" , width=640)"
      ],
      "execution_count": null,
      "outputs": []
    },
    {
      "cell_type": "markdown",
      "metadata": {
        "id": "JAb3dXHkiGl5"
      },
      "source": [
        "Classical machine learning can be divided into four basic groups: clasification, clustering, and regression.\n",
        "\n",
        "This notebook is a survey of some of the classification algorithms available in the SciKit Learn library. "
      ]
    },
    {
      "cell_type": "code",
      "metadata": {
        "id": "_ztyrQY2d7Pv"
      },
      "source": [
        "Image(\"images/machineLearningFlowChart.png\" , width=640)\n"
      ],
      "execution_count": null,
      "outputs": []
    },
    {
      "cell_type": "code",
      "metadata": {
        "id": "9NJHsXw2eOuk"
      },
      "source": [
        "Image(\"closeDetail.png\" , width=640)"
      ],
      "execution_count": null,
      "outputs": []
    },
    {
      "cell_type": "markdown",
      "metadata": {
        "id": "DfinypDclTqD"
      },
      "source": [
        "**Lazy Learners**\n",
        "As the name suggests, such kind of learners waits for the testing data to appear after storing the training data. Classification is done only after getting the testing data. They spend less time on training but more time on predicting. <br>\n",
        "Examples of lazy learners are K-nearest neighbor and case-based reasoning.<br><BR>\n",
        "\n",
        "**Eager Learners**\n",
        "As opposite to lazy learners, eager learners construct classification model without waiting for the testing data to be appeared after storing the training data. They spend more time on training but less time on predicting. <br>\n",
        "Examples of eager learners are Decision Trees, Naïve Bayes and Artificial Neural Networks (ANN)."
      ]
    },
    {
      "cell_type": "markdown",
      "metadata": {
        "id": "cXvqlqltlxJK"
      },
      "source": [
        "The following are some important ML classification algorithms −\n",
        "<br>\n",
        "- Logistic Regression\n",
        "- Support Vector Machine (SVM)\n",
        "- Decision Tree\n",
        "- Naïve Bayes\n",
        "- Random Forest"
      ]
    },
    {
      "cell_type": "markdown",
      "metadata": {
        "id": "tHYTz_BHucl9"
      },
      "source": [
        "[Logistic Regression](https://colab.research.google.com/github/cagBRT/Machine-Learning/blob/master/Logistic_Regression_NB1.ipynb)"
      ]
    },
    {
      "cell_type": "markdown",
      "metadata": {
        "id": "w-sGjx_ttcyR"
      },
      "source": [
        "[KNN](https://colab.research.google.com/github/cagBRT/Machine-Learning/blob/master/KNN_1.ipynb#scrollTo=VxPz4ZIxWWQa)"
      ]
    },
    {
      "cell_type": "markdown",
      "metadata": {
        "id": "aIgVAbmRtxDF"
      },
      "source": [
        "[KNN2](https://colab.research.google.com/github/cagBRT/Machine-Learning/blob/master/KNN2.ipynb)"
      ]
    },
    {
      "cell_type": "markdown",
      "metadata": {
        "id": "xlI1KmGgu9TX"
      },
      "source": [
        "[Naive Bayes Gaussian](https://colab.research.google.com/github/cagBRT/Machine-Learning/blob/master/NaiveBayesGaussian.ipynb)"
      ]
    },
    {
      "cell_type": "markdown",
      "metadata": {
        "id": "GG0xHyyXu1Om"
      },
      "source": [
        "[Naive Bayes Bernoulli](https://colab.research.google.com/github/cagBRT/Machine-Learning/blob/master/NaiveBayesBernoulli.ipynb)"
      ]
    },
    {
      "cell_type": "markdown",
      "metadata": {
        "id": "p55PB3y4vPe6"
      },
      "source": [
        "[Naive Bayes MultiNomial](https://colab.research.google.com/github/cagBRT/Machine-Learning/blob/master/NaiveBayesMultinomialNB.ipynb)"
      ]
    }
  ]
}