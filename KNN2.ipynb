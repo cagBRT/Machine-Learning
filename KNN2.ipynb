{
  "nbformat": 4,
  "nbformat_minor": 0,
  "metadata": {
    "colab": {
      "name": "KNN2.ipynb",
      "private_outputs": true,
      "provenance": [],
      "authorship_tag": "ABX9TyOuT6ktOn4/4p/SGNEQ7cUR",
      "include_colab_link": true
    },
    "kernelspec": {
      "name": "python3",
      "display_name": "Python 3"
    }
  },
  "cells": [
    {
      "cell_type": "markdown",
      "metadata": {
        "id": "view-in-github",
        "colab_type": "text"
      },
      "source": [
        "<a href=\"https://colab.research.google.com/github/cagBRT/Machine-Learning/blob/master/KNN2.ipynb\" target=\"_parent\"><img src=\"https://colab.research.google.com/assets/colab-badge.svg\" alt=\"Open In Colab\"/></a>"
      ]
    },
    {
      "cell_type": "markdown",
      "metadata": {
        "id": "fabGmornCroL"
      },
      "source": [
        "This notebook uses the Iris dataset to explore the KNeighbors classification algorithm."
      ]
    },
    {
      "cell_type": "code",
      "metadata": {
        "id": "nDR_Rsspa3B6"
      },
      "source": [
        "import numpy as np\n",
        "import matplotlib.pyplot as plt\n",
        "import pandas as pd\n",
        "from sklearn.model_selection import train_test_split\n",
        "from sklearn.preprocessing import StandardScaler\n",
        "from sklearn.neighbors import KNeighborsClassifier\n",
        "from sklearn.metrics import classification_report, confusion_matrix, accuracy_score\n",
        "from sklearn.datasets import load_iris "
      ],
      "execution_count": null,
      "outputs": []
    },
    {
      "cell_type": "markdown",
      "metadata": {
        "id": "um1-Bxljhc-V"
      },
      "source": [
        "**Get the data**"
      ]
    },
    {
      "cell_type": "code",
      "metadata": {
        "id": "j4W01aidbCDr"
      },
      "source": [
        "path = \"https://archive.ics.uci.edu/ml/machine-learning-databases/iris/iris.data\"\n",
        "headernames = ['sepal-length', 'sepal-width', 'petal-length', 'petal-width', 'Class']"
      ],
      "execution_count": null,
      "outputs": []
    },
    {
      "cell_type": "code",
      "metadata": {
        "id": "Ie9BvcckbEdL"
      },
      "source": [
        "dataset = pd.read_csv(path, names = headernames)\n",
        "dataset.head()"
      ],
      "execution_count": null,
      "outputs": []
    },
    {
      "cell_type": "markdown",
      "metadata": {
        "id": "yEfNix1IhfQV"
      },
      "source": [
        "**Split the labels from the features**"
      ]
    },
    {
      "cell_type": "code",
      "metadata": {
        "id": "TZQityZ4bI_k"
      },
      "source": [
        "X = dataset.iloc[:, :-1].values\n",
        "y = dataset.iloc[:, 4].values"
      ],
      "execution_count": null,
      "outputs": []
    },
    {
      "cell_type": "markdown",
      "metadata": {
        "id": "vQldcTi8DQIA"
      },
      "source": [
        "**Plot two of the features**"
      ]
    },
    {
      "cell_type": "code",
      "metadata": {
        "id": "km0BjpljePw6"
      },
      "source": [
        "plt.figure(figsize=(10,3))\n",
        "fig = plt.scatter(X[:,[0]],X[:,[2]], marker='o', c=X[:,[0]],s=25)\n",
        "plt.xlabel(\"sepal-length\")\n",
        "plt.ylabel(\"petal-length\")\n",
        "plt.colorbar(fig)\n",
        "plt.show()"
      ],
      "execution_count": null,
      "outputs": []
    },
    {
      "cell_type": "markdown",
      "metadata": {
        "id": "zYxkNk21DZHh"
      },
      "source": [
        "**Plot a feature against its classification**"
      ]
    },
    {
      "cell_type": "code",
      "metadata": {
        "id": "x4TB44Mde_bZ"
      },
      "source": [
        "plt.figure(figsize=(10,3))\n",
        "fig = plt.scatter(X[:,[0]],y, marker='o', c=X[:,[0]],s=25)\n",
        "plt.colorbar(fig)\n",
        "plt.xlabel(\"sepal-length\")\n",
        "plt.show()"
      ],
      "execution_count": null,
      "outputs": []
    },
    {
      "cell_type": "code",
      "metadata": {
        "id": "2g2KzJIhbwsY"
      },
      "source": [
        "#X"
      ],
      "execution_count": null,
      "outputs": []
    },
    {
      "cell_type": "code",
      "metadata": {
        "id": "2IX5kLILby6b"
      },
      "source": [
        "#y"
      ],
      "execution_count": null,
      "outputs": []
    },
    {
      "cell_type": "markdown",
      "metadata": {
        "id": "WBSdde7Khkwf"
      },
      "source": [
        "**Split the data into train and test sets**"
      ]
    },
    {
      "cell_type": "code",
      "metadata": {
        "id": "lTZTxjhrbM28"
      },
      "source": [
        "X_train, X_test, y_train, y_test = train_test_split(X, y, test_size = 0.20)"
      ],
      "execution_count": null,
      "outputs": []
    },
    {
      "cell_type": "markdown",
      "metadata": {
        "id": "biremn7TDhvB"
      },
      "source": [
        "**Plot two features from the training set**"
      ]
    },
    {
      "cell_type": "code",
      "metadata": {
        "id": "NN2UziPjf4Ak"
      },
      "source": [
        "plt.figure(figsize=(10,3))\n",
        "fig = plt.scatter(X_train[:,[0]],X_train[:,[2]], marker='o', c=X_train[:,[0]],s=25)\n",
        "plt.xlabel(\"sepal-length\")\n",
        "plt.ylabel(\"petal-length\")\n",
        "plt.colorbar(fig)\n",
        "plt.show()"
      ],
      "execution_count": null,
      "outputs": []
    },
    {
      "cell_type": "markdown",
      "metadata": {
        "id": "fJ5rtGqMDqqE"
      },
      "source": [
        "**Plot a training set feature against classes**"
      ]
    },
    {
      "cell_type": "code",
      "metadata": {
        "id": "nYTIo_oCXzee"
      },
      "source": [
        "plt.figure(figsize=(10,3))\n",
        "fig = plt.scatter(X_train[:,[1]],y_train, marker='o', c=X_train[:,[1]],s=25)\n",
        "plt.xlabel('X_train')\n",
        "plt.colorbar(fig)\n",
        "plt.show()"
      ],
      "execution_count": null,
      "outputs": []
    },
    {
      "cell_type": "markdown",
      "metadata": {
        "id": "8f4HQQcMYs1g"
      },
      "source": [
        "**Standarize the dataset**<br>\n",
        "Standardization of a dataset is a common requirement for many machine learning estimators: they might behave badly if the individual features do not more or less look like standard normally distributed data"
      ]
    },
    {
      "cell_type": "code",
      "metadata": {
        "id": "Cj81xvBqbTEp"
      },
      "source": [
        "scaler = StandardScaler()\n",
        "scaler.fit(X_train)\n",
        "#scaler.fit(X_test)\n",
        "X_train = scaler.transform(X_train)\n",
        "X_test = scaler.transform(X_test)"
      ],
      "execution_count": null,
      "outputs": []
    },
    {
      "cell_type": "code",
      "metadata": {
        "id": "FNT8eLLIb8TK"
      },
      "source": [
        "X_test"
      ],
      "execution_count": null,
      "outputs": []
    },
    {
      "cell_type": "markdown",
      "metadata": {
        "id": "-BacUtgUZj23"
      },
      "source": [
        "Create and train the model<br>\n",
        "n_neighbors : int, optional (default = 5)<br>\n",
        "Number of neighbors to use by default for :meth:`kneighbors` queries."
      ]
    },
    {
      "cell_type": "code",
      "metadata": {
        "id": "kppRidjfbVsM"
      },
      "source": [
        "classifier = KNeighborsClassifier(n_neighbors = 8)\n",
        "classifier.fit(X_train, y_train)"
      ],
      "execution_count": null,
      "outputs": []
    },
    {
      "cell_type": "markdown",
      "metadata": {
        "id": "-DYIlkHfh13m"
      },
      "source": [
        "Make predictions"
      ]
    },
    {
      "cell_type": "code",
      "metadata": {
        "id": "C7PGuRp5bXzI"
      },
      "source": [
        "y_pred = classifier.predict(X_test)"
      ],
      "execution_count": null,
      "outputs": []
    },
    {
      "cell_type": "markdown",
      "metadata": {
        "id": "ouBq-newh8Ww"
      },
      "source": [
        "Calculate the confusion matrix"
      ]
    },
    {
      "cell_type": "markdown",
      "metadata": {
        "id": "wTyP957QijOW"
      },
      "source": [
        "TP - FP<br>\n",
        "FN - TN"
      ]
    },
    {
      "cell_type": "code",
      "metadata": {
        "id": "c7lQSrTpWpHR"
      },
      "source": [
        "result = confusion_matrix(y_test, y_pred)\n",
        "print(\"Confusion Matrix:\")\n",
        "print(result)"
      ],
      "execution_count": null,
      "outputs": []
    },
    {
      "cell_type": "markdown",
      "metadata": {
        "id": "LxMlfD2xicah"
      },
      "source": [
        "Precision = TP/(TP + FP)<br>\n",
        "Recall = TP / (TP + FN)<br>\n",
        "F1 = 2 * ((precision * recall)/(precision + recall))<br>\n",
        "\n",
        "The support is the number of occurrences of each class in y_true.<br>\n",
        "\n",
        "\n",
        "https://en.wikipedia.org/wiki/F1_score"
      ]
    },
    {
      "cell_type": "code",
      "metadata": {
        "id": "3fpZCI0MbaS0"
      },
      "source": [
        "result1 = classification_report(y_test, y_pred)\n",
        "print(\"Classification Report:\",)\n",
        "print (result1)"
      ],
      "execution_count": null,
      "outputs": []
    },
    {
      "cell_type": "code",
      "metadata": {
        "id": "QzJeXealWxdp"
      },
      "source": [
        "result2 = accuracy_score(y_test,y_pred)\n",
        "print(\"Accuracy:\",result2)"
      ],
      "execution_count": null,
      "outputs": []
    },
    {
      "cell_type": "markdown",
      "metadata": {
        "id": "AqVE-_TtF8Hl"
      },
      "source": [
        "**Assignment**<br>\n",
        "1. Change the number of neighbors used from 8 to a smaller number and then to a larger number<br>\n",
        "2. Then change the weights from uniform to distance"
      ]
    }
  ]
}