{
  "nbformat": 4,
  "nbformat_minor": 0,
  "metadata": {
    "colab": {
      "name": "LinearRegression1.ipynb",
      "private_outputs": true,
      "provenance": [],
      "authorship_tag": "ABX9TyMT2yG895yZh05Yxph6alIO",
      "include_colab_link": true
    },
    "kernelspec": {
      "name": "python3",
      "display_name": "Python 3"
    }
  },
  "cells": [
    {
      "cell_type": "markdown",
      "metadata": {
        "id": "view-in-github",
        "colab_type": "text"
      },
      "source": [
        "<a href=\"https://colab.research.google.com/github/cagBRT/Machine-Learning/blob/master/LinearRegression1.ipynb\" target=\"_parent\"><img src=\"https://colab.research.google.com/assets/colab-badge.svg\" alt=\"Open In Colab\"/></a>"
      ]
    },
    {
      "cell_type": "markdown",
      "metadata": {
        "id": "ih_8W8vJ3dXD"
      },
      "source": [
        "# **Linear Regression**"
      ]
    },
    {
      "cell_type": "markdown",
      "metadata": {
        "id": "GJR4jNYN3V5A"
      },
      "source": [
        "**Import Libraries**<br>\n",
        "Note: Linear Regression library and make_regression<br>\n",
        "The make_regression library is used to create synthetic data"
      ]
    },
    {
      "cell_type": "code",
      "metadata": {
        "id": "8vABCTagXbj_"
      },
      "source": [
        "import numpy as np\n",
        "import matplotlib.pyplot as plt\n",
        "from sklearn.datasets import make_regression\n",
        "from sklearn.preprocessing import Normalizer\n",
        "from sklearn.model_selection import train_test_split\n",
        "from sklearn.linear_model import LinearRegression"
      ],
      "execution_count": null,
      "outputs": []
    },
    {
      "cell_type": "markdown",
      "metadata": {
        "id": "-KvRhT-n3ign"
      },
      "source": [
        "**Create some synthetic data**<br>\n",
        "This synthetic data is designed for linear regression models, so we expect a high accuracy score<br>\n",
        "Check this link for more information on [creating synthetic data](https://scikit-learn.org/stable/modules/generated/sklearn.datasets.make_regression.html)"
      ]
    },
    {
      "cell_type": "code",
      "metadata": {
        "id": "5edad6a1WEMI"
      },
      "source": [
        "X,y = make_regression(n_samples=800, n_features=2, random_state=1, noise=0,bias=3.5)\n",
        "#X_train\n",
        "X_train, X_test, y_train, y_test = train_test_split(X, y, test_size=0.2, random_state=0)\n",
        "X_train.shape"
      ],
      "execution_count": null,
      "outputs": []
    },
    {
      "cell_type": "markdown",
      "metadata": {
        "id": "ShS2QjXqFT2N"
      },
      "source": [
        "**Plot the training data**<br>\n"
      ]
    },
    {
      "cell_type": "code",
      "metadata": {
        "id": "zxjXumXhXhFU"
      },
      "source": [
        "plt.scatter(X_train[:,0],y_train)\n",
        "plt.title('Training data')  \n",
        "plt.xlabel('X')  \n",
        "plt.ylabel('y') \n",
        "plt.show()"
      ],
      "execution_count": null,
      "outputs": []
    },
    {
      "cell_type": "code",
      "metadata": {
        "id": "youxcnUumb6N"
      },
      "source": [
        "plt.scatter(X_test[:,0],y_test)\n",
        "plt.title('Test data')  \n",
        "plt.xlabel('X')  \n",
        "plt.ylabel('y') \n",
        "plt.show()"
      ],
      "execution_count": null,
      "outputs": []
    },
    {
      "cell_type": "markdown",
      "metadata": {
        "id": "EqReD2tDZ6qx"
      },
      "source": [
        "**Select and train the model**<br>\n",
        "The linear regression model finds the best value for the intercept and slope, which results in a line that best fits the data."
      ]
    },
    {
      "cell_type": "code",
      "metadata": {
        "id": "TyTWw3ptXfOC"
      },
      "source": [
        "reg = LinearRegression().fit(X_train, y_train)"
      ],
      "execution_count": null,
      "outputs": []
    },
    {
      "cell_type": "markdown",
      "metadata": {
        "id": "ShMHByCN4TsL"
      },
      "source": [
        "The model generates the slope and the y intercept of the best fit line. <br>\n",
        "\n",
        "The sign of each coefficient indicates the direction of the relationship between a predictor variable and the response variable.<br>\n",
        "\n",
        "A positive sign indicates that as the predictor variable increases, the response variable also increases.<br>\n",
        "A negative sign indicates that as the predictor variable increases, the response variable decreases.<br>\n",
        "Score is the accuracy of the model, the best score equals 1"
      ]
    },
    {
      "cell_type": "code",
      "metadata": {
        "id": "UGRmxr7dZUbD"
      },
      "source": [
        "print(\"The coefficents =\", reg.coef_)\n",
        "print(\"The y intercept = \",reg.intercept_)\n",
        "#print(reg.predict(X_test))\n",
        "print(\"Score = \", reg.score(X_test, y_test))"
      ],
      "execution_count": null,
      "outputs": []
    },
    {
      "cell_type": "markdown",
      "metadata": {
        "id": "GM1DGKvnea-S"
      },
      "source": [
        "**Make predictions with the trained model**<br>\n",
        "Use the test data to make predictions with the trained model"
      ]
    },
    {
      "cell_type": "code",
      "metadata": {
        "id": "r6g9OZYMdEXH"
      },
      "source": [
        "y_pred = reg.predict(np.array(X_test))"
      ],
      "execution_count": null,
      "outputs": []
    },
    {
      "cell_type": "markdown",
      "metadata": {
        "id": "H8gXvzKLerBQ"
      },
      "source": [
        "**Plot the test values and the predictions**"
      ]
    },
    {
      "cell_type": "code",
      "metadata": {
        "id": "sw2BI2LyacmR"
      },
      "source": [
        "#assign x two values,-3 and 3\n",
        "x_vals = (-3,3)\n",
        "#use the x_values to calc the y_valyes\n",
        "#for Assignment 2 change reg.coef_ to\n",
        "#reg.coef_[0:1] \n",
        "y_vals = reg.intercept_ + reg.coef_ * x_vals\n",
        "#plot the line using the x and y values\n",
        "plt.plot(x_vals, y_vals, color='red')\n",
        "plt.scatter(X_test[:,0],y_test, color='blue')\n",
        "plt.show()"
      ],
      "execution_count": null,
      "outputs": []
    },
    {
      "cell_type": "code",
      "metadata": {
        "id": "RhgwixuxhZhG"
      },
      "source": [
        "print(y_vals)"
      ],
      "execution_count": null,
      "outputs": []
    },
    {
      "cell_type": "markdown",
      "metadata": {
        "id": "Tbn4SFy8cI5E"
      },
      "source": [
        "**Assignment 1**<br>\n",
        "In the synthetic data, change the noise to 0.9 <br>\n",
        "What impact does 90% noise have on the score? "
      ]
    },
    {
      "cell_type": "markdown",
      "metadata": {
        "id": "HGGibDxHc4Y1"
      },
      "source": [
        "**Assignment 2**<br>\n",
        "Increase the number of features to 100. <br>\n",
        "You will also need to change the code in the last plot.<br>\n",
        "Why are there so many coefficients? How many are there?<br>\n"
      ]
    }
  ]
}