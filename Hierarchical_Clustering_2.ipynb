{
  "nbformat": 4,
  "nbformat_minor": 0,
  "metadata": {
    "colab": {
      "name": "Hierarchical Clustering 2.ipynb",
      "private_outputs": true,
      "provenance": [],
      "authorship_tag": "ABX9TyMsNx9HLKl3Nd+UfsAaG7Qx",
      "include_colab_link": true
    },
    "kernelspec": {
      "name": "python3",
      "display_name": "Python 3"
    }
  },
  "cells": [
    {
      "cell_type": "markdown",
      "metadata": {
        "id": "view-in-github",
        "colab_type": "text"
      },
      "source": [
        "<a href=\"https://colab.research.google.com/github/cagBRT/Machine-Learning/blob/master/Hierarchical_Clustering_2.ipynb\" target=\"_parent\"><img src=\"https://colab.research.google.com/assets/colab-badge.svg\" alt=\"Open In Colab\"/></a>"
      ]
    },
    {
      "cell_type": "code",
      "metadata": {
        "id": "tHK0Fgfi4NoJ"
      },
      "source": [
        "!git clone -l -s https://github.com/cagBRT/Machine-Learning.git cloned-repo\n",
        "%cd cloned-repo"
      ],
      "execution_count": null,
      "outputs": []
    },
    {
      "cell_type": "markdown",
      "metadata": {
        "id": "KzaxMRqrsH3M"
      },
      "source": [
        "Import libraries"
      ]
    },
    {
      "cell_type": "code",
      "metadata": {
        "id": "t4zcX3gP4FmU"
      },
      "source": [
        "import matplotlib.pyplot as plt\n",
        "import pandas as pd\n",
        "%matplotlib inline\n",
        "import numpy as np\n",
        "from pandas import read_csv\n",
        "import scipy.cluster.hierarchy as shc\n",
        "from sklearn.cluster import AgglomerativeClustering"
      ],
      "execution_count": null,
      "outputs": []
    },
    {
      "cell_type": "markdown",
      "metadata": {
        "id": "aPuS5dBasK7t"
      },
      "source": [
        "Get the data and prepare the data<br>\n",
        "The data is from the pima indians diabetes dataset. <br>\n",
        "The class is 0 or 1. This is the outcome of the person getting diabetes or not,"
      ]
    },
    {
      "cell_type": "code",
      "metadata": {
        "id": "FBE8sFAm3965"
      },
      "source": [
        "path = \"pima_indians_diabetes.csv\"\n",
        "headernames = ['preg', 'plas', 'pres', 'skin', 'test', 'mass', 'pedi', 'age', 'class']\n",
        "data = read_csv(path, names = headernames)"
      ],
      "execution_count": null,
      "outputs": []
    },
    {
      "cell_type": "code",
      "metadata": {
        "id": "Fv3wv69lx42h"
      },
      "source": [
        "data"
      ],
      "execution_count": null,
      "outputs": []
    },
    {
      "cell_type": "code",
      "metadata": {
        "id": "XYOxC5rRbxwT"
      },
      "source": [
        "#!cat pima_indians_diabetes.csv"
      ],
      "execution_count": null,
      "outputs": []
    },
    {
      "cell_type": "markdown",
      "metadata": {
        "id": "rLrmdsi-xj_r"
      },
      "source": [
        "Convert all the data to numeric data"
      ]
    },
    {
      "cell_type": "code",
      "metadata": {
        "id": "wU1ntte06GUj"
      },
      "source": [
        "data[\"preg\"] = pd.to_numeric(data[1:][\"preg\"], downcast=\"float\")\n",
        "data[\"plas\"] = pd.to_numeric(data[1:][\"plas\"], downcast=\"float\")\n",
        "data[\"pres\"] = pd.to_numeric(data[1:][\"pres\"], downcast=\"float\")\n",
        "data[\"skin\"] = pd.to_numeric(data[1:][\"skin\"], downcast=\"float\")\n",
        "data[\"test\"] = pd.to_numeric(data[1:][\"test\"], downcast=\"float\")\n",
        "data[\"age\"] = pd.to_numeric(data[1:][\"age\"], downcast=\"float\")\n",
        "\n",
        "data[\"mass\"] = pd.to_numeric(data[1:][\"mass\"], downcast=\"float\")\n",
        "data[\"pedi\"] = pd.to_numeric(data[1:][\"pedi\"], downcast=\"float\")\n",
        "data[\"age\"] = pd.to_numeric(data[1:][\"age\"], downcast=\"float\")\n",
        "data[\"class\"] = pd.to_numeric(data[1:][\"class\"], downcast=\"float\")"
      ],
      "execution_count": null,
      "outputs": []
    },
    {
      "cell_type": "code",
      "metadata": {
        "id": "G0-JceoSye8S"
      },
      "source": [
        "data"
      ],
      "execution_count": null,
      "outputs": []
    },
    {
      "cell_type": "markdown",
      "metadata": {
        "id": "CCvRBIW4y9V9"
      },
      "source": [
        "Split the data into features and labels"
      ]
    },
    {
      "cell_type": "code",
      "metadata": {
        "id": "sQWIg-zzUGOs"
      },
      "source": [
        "array = data.values\n",
        "X = array[:,0:8]\n",
        "Y = array[:,8]"
      ],
      "execution_count": null,
      "outputs": []
    },
    {
      "cell_type": "code",
      "metadata": {
        "id": "_QvXH3EhSInj"
      },
      "source": [
        "Y.shape"
      ],
      "execution_count": null,
      "outputs": []
    },
    {
      "cell_type": "markdown",
      "metadata": {
        "id": "dqNvcEi5zB44"
      },
      "source": [
        "Drop the 0 row."
      ]
    },
    {
      "cell_type": "code",
      "metadata": {
        "id": "sD8RA8ZB7k4k"
      },
      "source": [
        "data = data.drop([0])"
      ],
      "execution_count": null,
      "outputs": []
    },
    {
      "cell_type": "code",
      "metadata": {
        "id": "MepdsjhW5XMG"
      },
      "source": [
        "print(data.shape)\n",
        "data.head()"
      ],
      "execution_count": null,
      "outputs": []
    },
    {
      "cell_type": "markdown",
      "metadata": {
        "id": "krJEFzDmzT9z"
      },
      "source": [
        "Examine the data stats"
      ]
    },
    {
      "cell_type": "code",
      "metadata": {
        "id": "Ri7j4pEtakGX"
      },
      "source": [
        "data.describe"
      ],
      "execution_count": null,
      "outputs": []
    },
    {
      "cell_type": "markdown",
      "metadata": {
        "id": "avamStkKzX-c"
      },
      "source": [
        "Pick two features to plot"
      ]
    },
    {
      "cell_type": "code",
      "metadata": {
        "id": "huzNlZVyqz29"
      },
      "source": [
        "patient_data = data[\"skin\"], data[\"test\"]"
      ],
      "execution_count": null,
      "outputs": []
    },
    {
      "cell_type": "code",
      "metadata": {
        "id": "le3wyOlt81Nj"
      },
      "source": [
        "plt.figure(figsize = (10, 7))\n",
        "plt.scatter(patient_data[0],patient_data[1])\n",
        "plt.xlabel(\"skin\")\n",
        "plt.ylabel(\"test\")"
      ],
      "execution_count": null,
      "outputs": []
    },
    {
      "cell_type": "markdown",
      "metadata": {
        "id": "l8ZBZSW0VxLx"
      },
      "source": [
        "The dendrograms<br>\n",
        "Starting from each label at the bottom, you can see a vertical line up to a horizontal line. <br>\n",
        "The height of that horizontal line tells the distance at which this label was merged into another label or cluster. <br>\n",
        "You can find that other cluster by following the other vertical line down again. <br>\n",
        "\n",
        "If you don't encounter another horizontal line, it was just merged with the other label you reach, otherwise it was merged into another cluster that was formed earlier."
      ]
    },
    {
      "cell_type": "markdown",
      "metadata": {
        "id": "jdSbV6eYV4mM"
      },
      "source": [
        "Horizontal lines are cluster merges<br>\n",
        "Vertical lines tell you which clusters/labels were part of merge forming that new cluster<br>\n",
        "Heights of the horizontal lines tell you about the distance that needed to be \"bridged\" to form the new cluster"
      ]
    },
    {
      "cell_type": "code",
      "metadata": {
        "id": "7gZA3X3R4l0Q"
      },
      "source": [
        "plt.figure(figsize = (20, 10))\n",
        "plt.title(\"Patient Dendograms\")\n",
        "plt.xlabel('sample index')\n",
        "plt.ylabel('distance')\n",
        "dend = shc.dendrogram(shc.linkage(data, method = 'ward'))"
      ],
      "execution_count": null,
      "outputs": []
    },
    {
      "cell_type": "markdown",
      "metadata": {
        "id": "mL6Ag0iRZBgV"
      },
      "source": [
        "A huge jump in distance is typically what we're interested in if we want to select for a certain number of clusters. "
      ]
    },
    {
      "cell_type": "code",
      "metadata": {
        "id": "J2DDqx6XZSqR"
      },
      "source": [
        "def fancy_dendrogram(*args, **kwargs):\n",
        "    max_d = kwargs.pop('max_d', None)\n",
        "    if max_d and 'color_threshold' not in kwargs:\n",
        "        kwargs['color_threshold'] = max_d\n",
        "    annotate_above = kwargs.pop('annotate_above', 0)\n",
        "\n",
        "    ddata = shc.dendrogram(*args, **kwargs)\n",
        "\n",
        "    if not kwargs.get('no_plot', False):\n",
        "        plt.title('Hierarchical Clustering Dendrogram (truncated)')\n",
        "        plt.xlabel('sample index or (cluster size)')\n",
        "        plt.ylabel('distance')\n",
        "        for i, d, c in zip(ddata['icoord'], ddata['dcoord'], ddata['color_list']):\n",
        "            x = 0.5 * sum(i[1:3])\n",
        "            y = d[1]\n",
        "            if y > annotate_above:\n",
        "                plt.plot(x, y, 'o', c=c)\n",
        "                plt.annotate(\"%.3g\" % y, (x, y), xytext=(0, -5),\n",
        "                             textcoords='offset points',\n",
        "                             va='top', ha='center')\n",
        "        if max_d:\n",
        "            plt.axhline(y=max_d, c='k')\n",
        "    return ddata\n"
      ],
      "execution_count": null,
      "outputs": []
    },
    {
      "cell_type": "markdown",
      "metadata": {
        "id": "-1jBtjjN0HtK"
      },
      "source": [
        "Set the cutoff for the distance"
      ]
    },
    {
      "cell_type": "code",
      "metadata": {
        "id": "mZHQqJujGOok"
      },
      "source": [
        "# set cut-off to 50\n",
        "max_d = 2500  # max_d as in max_distance\n",
        "Z = shc.linkage(data, 'ward')"
      ],
      "execution_count": null,
      "outputs": []
    },
    {
      "cell_type": "code",
      "metadata": {
        "id": "-XUm_m4XZV-F"
      },
      "source": [
        "fancy_dendrogram(\n",
        "    Z,\n",
        "    truncate_mode='lastp',\n",
        "    p=12,\n",
        "    leaf_rotation=90.,\n",
        "    leaf_font_size=12.,\n",
        "    show_contracted=True,\n",
        "    annotate_above=10,\n",
        "    max_d=max_d,  # plot a horizontal cut-off line\n",
        ")\n",
        "plt.show()"
      ],
      "execution_count": null,
      "outputs": []
    },
    {
      "cell_type": "markdown",
      "metadata": {
        "id": "BO8hBE0e0Z0T"
      },
      "source": [
        "Make predictions"
      ]
    },
    {
      "cell_type": "code",
      "metadata": {
        "id": "jHF2eU7ZrUn6"
      },
      "source": [
        "cluster = AgglomerativeClustering(n_clusters = 2, affinity = 'euclidean', linkage = 'ward')\n",
        "cluster.fit_predict(patient_data)"
      ],
      "execution_count": null,
      "outputs": []
    },
    {
      "cell_type": "markdown",
      "metadata": {
        "id": "zDCIbC911CD1"
      },
      "source": [
        "scipy.cluster.hierarchy.fcluster can be used to flatten the dendrogram, obtaining as a result an assignation of the original data points to single clusters.<br>\n",
        "\n",
        "This assignation mostly depends on a distance threshold t - the maximum inter-cluster distance allowed:"
      ]
    },
    {
      "cell_type": "code",
      "metadata": {
        "id": "Sjr_93bCrsvX"
      },
      "source": [
        "from scipy.cluster.hierarchy import fcluster\n",
        "clusters = fcluster(Z, max_d, criterion='distance')\n",
        "clusters"
      ],
      "execution_count": null,
      "outputs": []
    },
    {
      "cell_type": "code",
      "metadata": {
        "id": "PVLmQeJT8cNS"
      },
      "source": [
        "plt.figure(figsize = (10, 7))\n",
        "plt.scatter(patient_data[0], patient_data[1], c = clusters, cmap = 'rainbow')\n",
        "plt.xlabel(\"skin\")\n",
        "plt.ylabel(\"test\")"
      ],
      "execution_count": null,
      "outputs": []
    },
    {
      "cell_type": "code",
      "metadata": {
        "id": "b7bxJEwiRVRE"
      },
      "source": [
        "# Python script for confusion matrix creation.\n",
        "from sklearn.metrics import confusion_matrix\n",
        "from sklearn.metrics import accuracy_score\n",
        "from sklearn.metrics import classification_report"
      ],
      "execution_count": null,
      "outputs": []
    },
    {
      "cell_type": "code",
      "metadata": {
        "id": "83IbAuXuQkyP"
      },
      "source": [
        "results = confusion_matrix(Y[1:], clusters)\n",
        "print ('Confusion Matrix :')\n",
        "print(results)\n",
        "print ('Accuracy Score :',accuracy_score(Y[1:], clusters))\n",
        "print('Classification Report : ')\n",
        "print (classification_report(Y[1:], clusters))"
      ],
      "execution_count": null,
      "outputs": []
    }
  ]
}