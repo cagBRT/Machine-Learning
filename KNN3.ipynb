{
  "nbformat": 4,
  "nbformat_minor": 0,
  "metadata": {
    "colab": {
      "name": "KNN3.ipynb",
      "provenance": [],
      "include_colab_link": true
    },
    "kernelspec": {
      "name": "python3",
      "display_name": "Python 3"
    }
  },
  "cells": [
    {
      "cell_type": "markdown",
      "metadata": {
        "id": "view-in-github",
        "colab_type": "text"
      },
      "source": [
        "<a href=\"https://colab.research.google.com/github/cagBRT/Machine-Learning/blob/master/KNN3.ipynb\" target=\"_parent\"><img src=\"https://colab.research.google.com/assets/colab-badge.svg\" alt=\"Open In Colab\"/></a>"
      ]
    },
    {
      "cell_type": "code",
      "metadata": {
        "id": "csEWAu8X_l2t"
      },
      "source": [
        "import numpy as np\n",
        "import matplotlib.pyplot as plt\n",
        "from sklearn import neighbors, datasets\n",
        "from sklearn.model_selection import train_test_split\n",
        "from sklearn.metrics import classification_report, confusion_matrix\n",
        "from random import seed\n",
        "from random import random\n",
        "from random import randint\n",
        "from sklearn.neighbors import KNeighborsClassifier"
      ],
      "execution_count": 22,
      "outputs": []
    },
    {
      "cell_type": "markdown",
      "metadata": {
        "id": "PsZQfcTsAJyB"
      },
      "source": [
        "**Set the number of neighbors to vote**"
      ]
    },
    {
      "cell_type": "code",
      "metadata": {
        "id": "cGk8veVpAWxL"
      },
      "source": [
        "n_neighbors = 2 #change to 5"
      ],
      "execution_count": 23,
      "outputs": []
    },
    {
      "cell_type": "markdown",
      "metadata": {
        "id": "NaWnEYvhAZpV"
      },
      "source": [
        "**Get and prepare the data**"
      ]
    },
    {
      "cell_type": "code",
      "metadata": {
        "id": "gCn0HuqnG2ul"
      },
      "source": [
        "from sklearn.datasets import make_classification\n",
        "# Generate Balanced Data\n",
        "X,y = make_classification(n_samples=2000, n_features=2, n_informative=2,n_redundant=0, n_repeated=0, n_classes=3, n_clusters_per_class=1,class_sep=2,\n",
        "                          flip_y=0,weights=[0.33,0.33,0.33], random_state=randint(0,20))\n",
        "#f, (ax1,ax2) = plt.subplots(nrows=1, ncols=2,figsize=(20,8))\n",
        "#sns.scatterplot(Xb[:,0],Xb[:,1],hue=y,ax=ax1);\n",
        "#ax1.set_title(\"No Imbalance\");"
      ],
      "execution_count": 24,
      "outputs": []
    },
    {
      "cell_type": "code",
      "metadata": {
        "colab": {
          "base_uri": "https://localhost:8080/"
        },
        "id": "LOu3impvXdFk",
        "outputId": "d7a952e2-f9a7-4bec-f426-665b4e317514"
      },
      "source": [
        "X.shape"
      ],
      "execution_count": 25,
      "outputs": [
        {
          "output_type": "execute_result",
          "data": {
            "text/plain": [
              "(2000, 2)"
            ]
          },
          "metadata": {
            "tags": []
          },
          "execution_count": 25
        }
      ]
    },
    {
      "cell_type": "code",
      "metadata": {
        "id": "Knt2RzY5X4hr"
      },
      "source": [
        "X_train, X_test, y_train, y_test = train_test_split(\n",
        "    X, y, test_size=0.33, random_state=42)"
      ],
      "execution_count": 26,
      "outputs": []
    },
    {
      "cell_type": "markdown",
      "metadata": {
        "id": "7jhK436kBblj"
      },
      "source": [
        "**Do classification for both uniform and distance weights**<br>\n",
        ">‘uniform’ : uniform weights. All points in each neighborhood are weighted equally.\n",
        "\n",
        ">‘distance’ : weight points by the inverse of their distance. in this case, closer neighbors of a query point will have a greater influence than neighbors which are further away."
      ]
    },
    {
      "cell_type": "code",
      "metadata": {
        "id": "oXtQoEf7Xq4a"
      },
      "source": [
        "clf_U = neighbors.KNeighborsClassifier(n_neighbors, weights='uniform')\n",
        "U_trained=clf_U.fit(X_train, y_train)\n",
        "y_U_pred = clf_U.predict(X_test)\n"
      ],
      "execution_count": 27,
      "outputs": []
    },
    {
      "cell_type": "code",
      "metadata": {
        "id": "IKCXdZIyYRHf"
      },
      "source": [
        "clf_D = neighbors.KNeighborsClassifier(n_neighbors, weights='distance')\n",
        "D_trained =clf_D.fit(X_train, y_train)\n",
        "y_D_pred = clf_D.predict(X_test)"
      ],
      "execution_count": 28,
      "outputs": []
    },
    {
      "cell_type": "code",
      "metadata": {
        "colab": {
          "base_uri": "https://localhost:8080/"
        },
        "id": "lh3TTPR3fLS9",
        "outputId": "2f3a60b1-40f9-4e8a-b0ef-3b5c0cc17bd1"
      },
      "source": [
        "print(confusion_matrix(y_test, y_U_pred))\n",
        "print(classification_report(y_test, y_U_pred))\n",
        "\n",
        "print(confusion_matrix(y_test, y_D_pred))\n",
        "print(classification_report(y_test, y_D_pred))"
      ],
      "execution_count": 29,
      "outputs": [
        {
          "output_type": "stream",
          "text": [
            "[[217   0   0]\n",
            " [  0 211   1]\n",
            " [  0   6 225]]\n",
            "              precision    recall  f1-score   support\n",
            "\n",
            "           0       1.00      1.00      1.00       217\n",
            "           1       0.97      1.00      0.98       212\n",
            "           2       1.00      0.97      0.98       231\n",
            "\n",
            "    accuracy                           0.99       660\n",
            "   macro avg       0.99      0.99      0.99       660\n",
            "weighted avg       0.99      0.99      0.99       660\n",
            "\n",
            "[[217   0   0]\n",
            " [  0 208   4]\n",
            " [  0   4 227]]\n",
            "              precision    recall  f1-score   support\n",
            "\n",
            "           0       1.00      1.00      1.00       217\n",
            "           1       0.98      0.98      0.98       212\n",
            "           2       0.98      0.98      0.98       231\n",
            "\n",
            "    accuracy                           0.99       660\n",
            "   macro avg       0.99      0.99      0.99       660\n",
            "weighted avg       0.99      0.99      0.99       660\n",
            "\n"
          ],
          "name": "stdout"
        }
      ]
    },
    {
      "cell_type": "code",
      "metadata": {
        "id": "DxYrfF43i7bQ"
      },
      "source": [
        "error = []\n",
        "\n",
        "# Calculating error for K values between 1 and 40\n",
        "for i in range(1, 40):\n",
        "    knn = KNeighborsClassifier(n_neighbors=i)\n",
        "    knn.fit(X_train, y_train)\n",
        "    pred_i = knn.predict(X_test)\n",
        "    error.append(np.mean(pred_i != y_test))"
      ],
      "execution_count": 30,
      "outputs": []
    },
    {
      "cell_type": "code",
      "metadata": {
        "id": "RrywYY10i2vK",
        "outputId": "fd78a8de-93c7-49bc-bd55-b2cc15c6c0e2",
        "colab": {
          "base_uri": "https://localhost:8080/",
          "height": 421
        }
      },
      "source": [
        "plt.figure(figsize=(12, 6))\n",
        "plt.plot(range(1, 40), error, color='red', linestyle='dashed', marker='o',\n",
        "         markerfacecolor='blue', markersize=10)\n",
        "plt.title('Error Rate K Value')\n",
        "plt.xlabel('K Value')\n",
        "plt.ylabel('Mean Error')\n"
      ],
      "execution_count": 31,
      "outputs": [
        {
          "output_type": "execute_result",
          "data": {
            "text/plain": [
              "Text(0, 0.5, 'Mean Error')"
            ]
          },
          "metadata": {
            "tags": []
          },
          "execution_count": 31
        },
        {
          "output_type": "display_data",
          "data": {
            "image/png": "[encoded data removed]",
            "text/plain": [
              "<Figure size 864x432 with 1 Axes>"
            ]
          },
          "metadata": {
            "tags": [],
            "needs_background": "light"
          }
        }
      ]
    }
  ]
}