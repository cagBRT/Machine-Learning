{
  "nbformat": 4,
  "nbformat_minor": 0,
  "metadata": {
    "colab": {
      "name": "HyperParameterTuning 1.ipynb",
      "private_outputs": true,
      "provenance": [],
      "authorship_tag": "ABX9TyOBJTn/IginSCK3W+cLgIee",
      "include_colab_link": true
    },
    "kernelspec": {
      "name": "python3",
      "display_name": "Python 3"
    },
    "language_info": {
      "name": "python"
    }
  },
  "cells": [
    {
      "cell_type": "markdown",
      "metadata": {
        "id": "view-in-github",
        "colab_type": "text"
      },
      "source": [
        "<a href=\"https://colab.research.google.com/github/cagBRT/Machine-Learning/blob/master/HyperParameterTuning_1.ipynb\" target=\"_parent\"><img src=\"https://colab.research.google.com/assets/colab-badge.svg\" alt=\"Open In Colab\"/></a>"
      ]
    },
    {
      "cell_type": "code",
      "source": [
        "from sklearn.linear_model import LogisticRegression\n",
        "from sklearn.model_selection import GridSearchCV\n",
        "from sklearn.model_selection import train_test_split\n",
        "import numpy as np\n",
        "from sklearn.datasets import make_classification\n",
        "from collections import Counter\n",
        "from numpy import where\n",
        "from matplotlib import pyplot\n",
        "from sklearn.datasets import make_blobs\n",
        "from sklearn.datasets import make_moons\n",
        "import matplotlib.pyplot as plt\n",
        "from sklearn.tree import DecisionTreeClassifier"
      ],
      "metadata": {
        "id": "nW1XjyijHKpw"
      },
      "execution_count": null,
      "outputs": []
    },
    {
      "cell_type": "code",
      "source": [
        "# create dataset\n",
        "X, y = make_blobs(\n",
        "   n_samples=3000, n_features=10,\n",
        "   centers=2,random_state=0, cluster_std=7\n",
        ")"
      ],
      "metadata": {
        "id": "sP4Ld0ilH6vQ"
      },
      "execution_count": null,
      "outputs": []
    },
    {
      "cell_type": "code",
      "source": [
        "plt.scatter(X[:,0],X[:,1],c=y)\n",
        "plt.show()"
      ],
      "metadata": {
        "id": "wkgKx-KTLedi"
      },
      "execution_count": null,
      "outputs": []
    },
    {
      "cell_type": "markdown",
      "source": [
        "**class sklearn.linear_model.LogisticRegression**(penalty='l2', *, dual=False, tol=0.0001, C=1.0, fit_intercept=True, intercept_scaling=1, class_weight=None, random_state=None, solver='lbfgs', max_iter=100, multi_class='auto', verbose=0, warm_start=False, n_jobs=None, l1_ratio=None)\n"
      ],
      "metadata": {
        "id": "pdqBo0HLOlhE"
      }
    },
    {
      "cell_type": "code",
      "source": [
        "from numpy.core.function_base import logspace\n",
        "# Instantiating logistic regression classifier\n",
        "tree = DecisionTreeClassifier()"
      ],
      "metadata": {
        "id": "k4d4oospHX-5"
      },
      "execution_count": null,
      "outputs": []
    },
    {
      "cell_type": "code",
      "source": [
        "X_train, X_test, y_train, y_test = train_test_split(\n",
        "    X, y, test_size=0.2, random_state=42)"
      ],
      "metadata": {
        "id": "tknkK4WyLrub"
      },
      "execution_count": null,
      "outputs": []
    },
    {
      "cell_type": "code",
      "source": [
        "tree.fit(X_train,y_train)\n",
        "predictions = tree.predict(X_test)"
      ],
      "metadata": {
        "id": "F8UDkbKOKK9U"
      },
      "execution_count": null,
      "outputs": []
    },
    {
      "cell_type": "code",
      "source": [
        "# Use score method to get accuracy of model\n",
        "score = tree.score(X_test, y_test)\n",
        "print(score, \"without hyperparameter turning\")"
      ],
      "metadata": {
        "id": "xf4lVtRwMAf-"
      },
      "execution_count": null,
      "outputs": []
    },
    {
      "cell_type": "markdown",
      "source": [
        "# **Grid search**"
      ],
      "metadata": {
        "id": "KSMKUyv4QqSN"
      }
    },
    {
      "cell_type": "code",
      "source": [
        "# Creating the hyperparameter grid\n",
        "#c_space = np.logspace(-5, 8, 15)\n",
        "#param_grid = {'C': c_space}\n",
        "choice=[1,2,3,4,5,6,7,8,9]\n",
        "\n",
        "param_dist = {\"max_depth\": [3, None],\n",
        "              \"max_features\": choice,\n",
        "              \"min_samples_leaf\": choice,\n",
        "              \"criterion\": [\"gini\", \"entropy\"]}"
      ],
      "metadata": {
        "id": "Vmz9A03EM6MB"
      },
      "execution_count": null,
      "outputs": []
    },
    {
      "cell_type": "code",
      "source": [
        "# Instantiating the GridSearchCV object\n",
        "tree_cv = GridSearchCV(tree, param_dist, cv = 4)"
      ],
      "metadata": {
        "id": "C0RBQMAYHa7V"
      },
      "execution_count": null,
      "outputs": []
    },
    {
      "cell_type": "code",
      "source": [
        "tree_cv.fit(X, y)"
      ],
      "metadata": {
        "id": "eyS9ecIoHekY"
      },
      "execution_count": null,
      "outputs": []
    },
    {
      "cell_type": "code",
      "execution_count": null,
      "metadata": {
        "id": "-Ai6stbmG50R"
      },
      "outputs": [],
      "source": [
        "# Print the tuned parameters and score\n",
        "print(\"Tuned Logistic Regression Parameters: {}\".format(tree_cv.best_params_))\n",
        "print(\"Best score is {}\".format(tree_cv.best_score_))"
      ]
    },
    {
      "cell_type": "markdown",
      "source": [
        "# **Randomized Search**"
      ],
      "metadata": {
        "id": "LkQnSrpaQt26"
      }
    },
    {
      "cell_type": "code",
      "source": [
        "from scipy.stats import randint\n",
        "from sklearn.tree import DecisionTreeClassifier\n",
        "from sklearn.model_selection import RandomizedSearchCV"
      ],
      "metadata": {
        "id": "3cAFR7nFQwyL"
      },
      "execution_count": null,
      "outputs": []
    },
    {
      "cell_type": "code",
      "source": [
        "# Creating the hyperparameter grid\n",
        "param_dist = {\"max_depth\": [3, None],\n",
        "              \"max_features\": randint(1, 9),\n",
        "              \"min_samples_leaf\": randint(1, 9),\n",
        "              \"criterion\": [\"gini\", \"entropy\"]}"
      ],
      "metadata": {
        "id": "24l6Ya4pQ2H1"
      },
      "execution_count": null,
      "outputs": []
    },
    {
      "cell_type": "code",
      "source": [
        "tree_rs = RandomizedSearchCV(tree, param_dist, cv = 5)"
      ],
      "metadata": {
        "id": "Op8Rd1gxQ9U1"
      },
      "execution_count": null,
      "outputs": []
    },
    {
      "cell_type": "code",
      "source": [
        "tree_rs.fit(X,y)\n",
        "\n",
        "print(\"Tuned Logistic Regression Parameters: {}\".format(tree_rs.best_params_))\n",
        "print(\"Best score is {}\".format(tree_rs.best_score_))"
      ],
      "metadata": {
        "id": "FzN45mY6RPen"
      },
      "execution_count": null,
      "outputs": []
    }
  ]
}