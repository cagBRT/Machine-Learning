{
  "nbformat": 4,
  "nbformat_minor": 0,
  "metadata": {
    "colab": {
      "name": "Hierarchical Clustering 1.ipynb",
      "private_outputs": true,
      "provenance": [],
      "authorship_tag": "ABX9TyPExk6OvKHKJlRWt7DfEH35",
      "include_colab_link": true
    },
    "kernelspec": {
      "name": "python3",
      "display_name": "Python 3"
    }
  },
  "cells": [
    {
      "cell_type": "markdown",
      "metadata": {
        "id": "view-in-github",
        "colab_type": "text"
      },
      "source": [
        "<a href=\"https://colab.research.google.com/github/cagBRT/Machine-Learning/blob/master/Hierarchical_Clustering_1.ipynb\" target=\"_parent\"><img src=\"https://colab.research.google.com/assets/colab-badge.svg\" alt=\"Open In Colab\"/></a>"
      ]
    },
    {
      "cell_type": "code",
      "metadata": {
        "id": "_IcKKbZTvYa8"
      },
      "source": [
        "!git clone -l -s https://github.com/cagBRT/Machine-Learning.git cloned-repo\n",
        "%cd cloned-repo\n",
        "!ls"
      ],
      "execution_count": null,
      "outputs": []
    },
    {
      "cell_type": "markdown",
      "metadata": {
        "id": "6fBO0nTesAOL"
      },
      "source": [
        "Hierarchical clustering is another unsupervised learning algorithm that is used to group together the unlabeled data points having similar characteristics.\n"
      ]
    },
    {
      "cell_type": "markdown",
      "metadata": {
        "id": "hDgqPPJnrA-s"
      },
      "source": [
        "Hierarchical clustering"
      ]
    },
    {
      "cell_type": "markdown",
      "metadata": {
        "id": "B2Hwzn_esgvA"
      },
      "source": [
        "Steps to Perform Agglomerative Hierarchical Clustering\n",
        "We are going to explain the most used and important Hierarchical clustering i.e. agglomerative. The steps to perform the same is as follows −\n",
        "\n",
        ">Step 1 − Treat each data point as single cluster. So, there are K clusters at the start. The number of data points will also be K at start.\n",
        "\n",
        ">Step 2 − To form a cluster by joining two closet datapoints. This will result in total of K-1 clusters.\n",
        "\n",
        ">Step 3 − Form more clusters, by joining two closest clusters. This will result in total of K-2 clusters.\n",
        "\n",
        ">Step 4 − Form one big cluster by repeating the above three steps until K would become 0 i.e. no more data points left to join.\n",
        "\n",
        ">Step 5 − At last, after making one single big cluster, dendrograms will be used to divide into multiple clusters depending upon the problem.<br><br>\n",
        "\n",
        "*A dendrogram is a diagram that shows the hierarchical relationship between objects. It is most commonly created as an output from hierarchical clustering.*"
      ]
    },
    {
      "cell_type": "code",
      "metadata": {
        "id": "i_VjpR8optSe"
      },
      "source": [
        "%matplotlib inline\n",
        "import matplotlib.pyplot as plt\n",
        "import numpy as np\n",
        "from scipy.cluster.hierarchy import dendrogram, linkage\n",
        "from matplotlib import pyplot as plt\n",
        "from sklearn.cluster import AgglomerativeClustering\n"
      ],
      "execution_count": null,
      "outputs": []
    },
    {
      "cell_type": "markdown",
      "metadata": {
        "id": "TnL5Ye0KrHH3"
      },
      "source": [
        "Create and plot some data "
      ]
    },
    {
      "cell_type": "code",
      "metadata": {
        "id": "2dma3wljhs53"
      },
      "source": [
        "#NUMBER OF DATA POINTS\n",
        "N = 20\n",
        "\n",
        "#NUMBER OF CLUSTERS\n",
        "C = 3"
      ],
      "execution_count": null,
      "outputs": []
    },
    {
      "cell_type": "code",
      "metadata": {
        "id": "oN46JDhyf3hK"
      },
      "source": [
        "from sklearn.datasets import make_blobs\n",
        "X, y = make_blobs(n_samples=N, centers=C, n_features=2,\n",
        "                  random_state=0)\n",
        "\n",
        "labels = range(1, N+1)\n",
        "plt.figure(figsize = (7, 7))\n",
        "plt.subplots_adjust(bottom = 0.1)\n",
        "plt.scatter(X[:,0],X[:,1], label = 'True Position')\n",
        "for label, x, y in zip(labels, X[:, 0], X[:, 1]):\n",
        "   plt.annotate(\n",
        "      label,xy = (x, y), xytext = (-3, 3),textcoords = 'offset points', ha = 'right', va = 'bottom')\n",
        "plt.show()\n"
      ],
      "execution_count": null,
      "outputs": []
    },
    {
      "cell_type": "markdown",
      "metadata": {
        "id": "eEa6pwN2taKp"
      },
      "source": [
        "We can see that we have three clusters in our datapoints but in the real world data, there can be thousands of clusters. \n",
        "<br>\n",
        "Next, we will be plotting the dendrograms of our datapoints by using Scipy library"
      ]
    },
    {
      "cell_type": "markdown",
      "metadata": {
        "id": "yKwEUCkPtic2"
      },
      "source": [
        "Once the big cluster is formed, the longest vertical distance is selected. <br>\n",
        "A vertical line is then drawn through it. As the horizontal line crosses the blue line at two points, the number of clusters would be two."
      ]
    },
    {
      "cell_type": "code",
      "metadata": {
        "id": "bPrFuhoGrMBg"
      },
      "source": [
        "linked = linkage(X, 'single')\n",
        "labelList = range(1, N+1)\n",
        "plt.figure(figsize = (10, 5))\n",
        "dendrogram(linked, orientation = 'top',labels = labelList, distance_sort ='descending',show_leaf_counts = True)\n",
        "plt.xlabel('sample index')\n",
        "plt.ylabel('distance')\n",
        "plt.show()"
      ],
      "execution_count": null,
      "outputs": []
    },
    {
      "cell_type": "markdown",
      "metadata": {
        "id": "9a7okvNZtwnu"
      },
      "source": [
        "Make predictions"
      ]
    },
    {
      "cell_type": "code",
      "metadata": {
        "id": "KtpC_59ntu-Y"
      },
      "source": [
        "cluster = AgglomerativeClustering(n_clusters = 3, affinity = 'euclidean', linkage = 'ward')\n",
        "cluster.fit_predict(X)"
      ],
      "execution_count": null,
      "outputs": []
    },
    {
      "cell_type": "markdown",
      "metadata": {
        "id": "FOVtFIjTt5lH"
      },
      "source": [
        "Color the datapoints by group"
      ]
    },
    {
      "cell_type": "code",
      "metadata": {
        "id": "laywU9K9t4II"
      },
      "source": [
        "plt.scatter(X[:,0],X[:,1], c = cluster.labels_, cmap = 'rainbow')"
      ],
      "execution_count": null,
      "outputs": []
    },
    {
      "cell_type": "markdown",
      "metadata": {
        "id": "40TY-MThHBfs"
      },
      "source": [
        "**Assignment** <br>\n",
        "- Change the number of clusters in the data set to 4 clusters. How does the model respond?<br>\n",
        "- Increase the number of data points to 100, then 1000, then 10,000 - How does the model respond?<br>\n",
        "- Try different combinations of data points and number of clusters. "
      ]
    }
  ]
}