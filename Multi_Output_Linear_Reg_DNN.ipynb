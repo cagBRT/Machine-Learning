{
  "nbformat": 4,
  "nbformat_minor": 0,
  "metadata": {
    "colab": {
      "private_outputs": true,
      "provenance": [],
      "authorship_tag": "ABX9TyNnMX2k7pEFgS2chrlJHsZ6",
      "include_colab_link": true
    },
    "kernelspec": {
      "name": "python3",
      "display_name": "Python 3"
    },
    "language_info": {
      "name": "python"
    }
  },
  "cells": [
    {
      "cell_type": "markdown",
      "metadata": {
        "id": "view-in-github",
        "colab_type": "text"
      },
      "source": [
        "<a href=\"https://colab.research.google.com/github/cagBRT/Machine-Learning/blob/master/Multi_Output_Linear_Reg_DNN.ipynb\" target=\"_parent\"><img src=\"https://colab.research.google.com/assets/colab-badge.svg\" alt=\"Open In Colab\"/></a>"
      ]
    },
    {
      "cell_type": "markdown",
      "source": [
        "# Multi Ouptput Linear Regression with DNNs"
      ],
      "metadata": {
        "id": "ggyNMwkFAPFV"
      }
    },
    {
      "cell_type": "markdown",
      "source": [
        "**Get the libraries**"
      ],
      "metadata": {
        "id": "oH82m2HrCapf"
      }
    },
    {
      "cell_type": "code",
      "source": [
        "from numpy import mean\n",
        "from numpy import asarray\n",
        "from numpy import std\n",
        "from sklearn.datasets import make_regression\n",
        "from sklearn.model_selection import RepeatedKFold\n",
        "from keras.models import Sequential\n",
        "from keras.layers import Dense"
      ],
      "metadata": {
        "id": "2SvT8GEo9_bU"
      },
      "execution_count": null,
      "outputs": []
    },
    {
      "cell_type": "code",
      "source": [
        " X, y = make_regression(n_samples=1000, n_features=10, n_informative=5, n_targets=3, random_state=2)"
      ],
      "metadata": {
        "id": "3RSa7VfI-C7m"
      },
      "execution_count": null,
      "outputs": []
    },
    {
      "cell_type": "code",
      "source": [
        "# evaluate a model using repeated k-fold cross-validation\n",
        "def evaluate_model(X, y):\n",
        " results = list()\n",
        " n_inputs, n_outputs = X.shape[1], y.shape[1]\n",
        " # define evaluation procedure\n",
        " cv = RepeatedKFold(n_splits=10, n_repeats=3, random_state=1)\n",
        " # enumerate folds\n",
        " for train_ix, test_ix in cv.split(X):\n",
        "  # prepare data\n",
        "  X_train, X_test = X[train_ix], X[test_ix]\n",
        "  y_train, y_test = y[train_ix], y[test_ix]\n",
        " # define model\n",
        " model = get_model(n_inputs, n_outputs)\n",
        " # fit model\n",
        " model.fit(X_train, y_train, verbose=0, epochs=100)\n",
        " # evaluate model on test set\n",
        " mae = model.evaluate(X_test, y_test, verbose=0)\n",
        " # store result\n",
        " print('>%.3f' % mae)\n",
        " results.append(mae)\n",
        " return results"
      ],
      "metadata": {
        "id": "_F2KZikf-IdP"
      },
      "execution_count": null,
      "outputs": []
    },
    {
      "cell_type": "code",
      "execution_count": null,
      "metadata": {
        "id": "F51nJO969xAb"
      },
      "outputs": [],
      "source": [
        "results = evaluate_model(X, y)\n",
        "# summarize performance\n",
        "print('MAE: %.3f (%.3f)' % (mean(results), std(results)))"
      ]
    },
    {
      "cell_type": "markdown",
      "source": [
        "\n",
        "\n",
        "---\n",
        "\n"
      ],
      "metadata": {
        "id": "DaHF1Bmh_AaJ"
      }
    },
    {
      "cell_type": "code",
      "source": [
        "n_inputs, n_outputs = X.shape[1], y.shape[1]"
      ],
      "metadata": {
        "id": "OA1ICS7j--2G"
      },
      "execution_count": null,
      "outputs": []
    },
    {
      "cell_type": "code",
      "source": [
        " model = Sequential()\n",
        " model.add(Dense(20, input_dim=n_inputs, kernel_initializer='he_uniform', activation='relu'))\n",
        " model.add(Dense(n_outputs))\n",
        " model.compile(loss='mae', optimizer='adam')"
      ],
      "metadata": {
        "id": "8UYyFRvmAFAt"
      },
      "execution_count": null,
      "outputs": []
    },
    {
      "cell_type": "code",
      "source": [
        "# make a prediction for new data\n",
        "row = [-0.99859353,2.19284309,-0.42632569,-0.21043258,-1.13655612,-0.55671602,-0.63169045,-0.87625098,-0.99445578,-0.3677487]\n",
        "newX = asarray([row])\n",
        "yhat = model.predict(newX)\n",
        "print('Predicted: %s' % yhat[0])"
      ],
      "metadata": {
        "id": "p8UER1lr-mRz"
      },
      "execution_count": null,
      "outputs": []
    }
  ]
}