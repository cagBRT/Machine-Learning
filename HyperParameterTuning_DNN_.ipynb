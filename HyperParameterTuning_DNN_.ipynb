{
  "nbformat": 4,
  "nbformat_minor": 0,
  "metadata": {
    "colab": {
      "name": "HyperParameterTuning DNN .ipynb",
      "private_outputs": true,
      "provenance": [],
      "authorship_tag": "ABX9TyMzV1MsFek1dHX1BqFlbjlg",
      "include_colab_link": true
    },
    "kernelspec": {
      "name": "python3",
      "display_name": "Python 3"
    },
    "language_info": {
      "name": "python"
    }
  },
  "cells": [
    {
      "cell_type": "markdown",
      "metadata": {
        "id": "view-in-github",
        "colab_type": "text"
      },
      "source": [
        "<a href=\"https://colab.research.google.com/github/cagBRT/Machine-Learning/blob/master/HyperParameterTuning_DNN_.ipynb\" target=\"_parent\"><img src=\"https://colab.research.google.com/assets/colab-badge.svg\" alt=\"Open In Colab\"/></a>"
      ]
    },
    {
      "cell_type": "code",
      "source": [
        "!pip install --upgrade pip\n",
        "!pip install --upgrade \"jax[cpu]\""
      ],
      "metadata": {
        "id": "derip4nOgAGx"
      },
      "execution_count": null,
      "outputs": []
    },
    {
      "cell_type": "code",
      "source": [
        "!pip install scikeras"
      ],
      "metadata": {
        "id": "nViqpxxRhIOI"
      },
      "execution_count": null,
      "outputs": []
    },
    {
      "cell_type": "code",
      "source": [
        "import numpy as np\n",
        "import pandas as pd\n",
        "import tensorflow as tf\n",
        "from sklearn.model_selection import GridSearchCV\n",
        "from tensorflow.keras.models import Sequential\n",
        "from tensorflow.keras.layers import Dense\n",
        "from scikeras.wrappers import KerasClassifier"
      ],
      "metadata": {
        "id": "kw4SNM9PfqvP"
      },
      "execution_count": null,
      "outputs": []
    },
    {
      "cell_type": "code",
      "source": [
        "# fix random seed for reproducibility\n",
        "seed = 7\n",
        "tf.random.set_seed(seed)"
      ],
      "metadata": {
        "id": "A0uuA52yhuS8"
      },
      "execution_count": null,
      "outputs": []
    },
    {
      "cell_type": "code",
      "source": [
        "url = 'http://archive.ics.uci.edu/ml/machine-learning-databases/glass/glass.data'\n",
        "col_names = ['id','ri','na','mg','al','si','k','ca','ba','fe','glass_type']\n",
        "glass = pd.read_csv(url, names=col_names, index_col='id')\n",
        "glass.sort_values('al', inplace=True)\n",
        "glass.head()"
      ],
      "metadata": {
        "id": "7IYbUtxWhwTR"
      },
      "execution_count": null,
      "outputs": []
    },
    {
      "cell_type": "code",
      "source": [
        "# types 1, 2, 3 are window glass\n",
        "# types 5, 6, 7 are household glass\n",
        "glass['household'] = glass.glass_type.map({1:0, 2:0, 3:0, 5:1, 6:1, 7:1})\n",
        "glass.head()"
      ],
      "metadata": {
        "id": "lHN5rfLBh8Ia"
      },
      "execution_count": null,
      "outputs": []
    },
    {
      "cell_type": "code",
      "source": [
        "feature_cols = ['ri','na','mg','al','si','k','ca','ba','fe','glass_type']\n",
        "X = glass[feature_cols]\n",
        "y = glass['household']"
      ],
      "metadata": {
        "id": "RuS5aMqgh_jv"
      },
      "execution_count": null,
      "outputs": []
    },
    {
      "cell_type": "code",
      "source": [
        "X.shape"
      ],
      "metadata": {
        "id": "NOz1A9C1ik8b"
      },
      "execution_count": null,
      "outputs": []
    },
    {
      "cell_type": "markdown",
      "source": [
        "# **Create the model**"
      ],
      "metadata": {
        "id": "QrQlbdybp-e5"
      }
    },
    {
      "cell_type": "code",
      "source": [
        "# Function to create model, required for KerasClassifier\n",
        "def create_model():\n",
        "\t# create model\n",
        "\tmodel = Sequential()\n",
        "\tmodel.add(Dense(12, input_shape=(10,), activation='relu'))\n",
        "\tmodel.add(Dense(1, activation='sigmoid'))\n",
        "\t# Compile model\n",
        "\tmodel.compile(loss='binary_crossentropy', optimizer='adam', metrics=['accuracy'])\n",
        "\treturn model"
      ],
      "metadata": {
        "id": "HHHCY_eHhrrD"
      },
      "execution_count": null,
      "outputs": []
    },
    {
      "cell_type": "code",
      "source": [
        "# create model\n",
        "model = KerasClassifier(model=create_model, verbose=0,epochs=10,batch_size=20)"
      ],
      "metadata": {
        "id": "Fqq5crtciF-z"
      },
      "execution_count": null,
      "outputs": []
    },
    {
      "cell_type": "code",
      "source": [
        "model.fit(X,y)\n",
        "predictions=model.predict(X)\n",
        "score=model.score(X,y)\n",
        "print(score)"
      ],
      "metadata": {
        "id": "BUful_M9jHmJ"
      },
      "execution_count": null,
      "outputs": []
    },
    {
      "cell_type": "markdown",
      "source": [
        "# **Search for Batch Size and Epochs**"
      ],
      "metadata": {
        "id": "rM4rH1GeqCbv"
      }
    },
    {
      "cell_type": "code",
      "source": [
        "# define the grid search parameters\n",
        "batch_size = [5,10,20]\n",
        "epochs = [10, 50, 100]\n",
        "param_grid = dict(batch_size=batch_size, epochs=epochs)"
      ],
      "metadata": {
        "id": "8FjaBlrWiIlW"
      },
      "execution_count": null,
      "outputs": []
    },
    {
      "cell_type": "code",
      "source": [
        "grid = GridSearchCV(estimator=model, param_grid=param_grid, n_jobs=-1, cv=3)\n",
        "grid_result = grid.fit(X, y)"
      ],
      "metadata": {
        "id": "SFFqFo8LiKgT"
      },
      "execution_count": null,
      "outputs": []
    },
    {
      "cell_type": "code",
      "execution_count": null,
      "metadata": {
        "id": "SR01i9TYfgMa"
      },
      "outputs": [],
      "source": [
        "# summarize results\n",
        "print(\"Best: %f using %s\" % (grid_result.best_score_, grid_result.best_params_))\n",
        "means = grid_result.cv_results_['mean_test_score']\n",
        "stds = grid_result.cv_results_['std_test_score']\n",
        "params = grid_result.cv_results_['params']\n",
        "for mean, stdev, param in zip(means, stds, params):\n",
        "    print(\"%f (%f) with: %r\" % (mean, stdev, param))"
      ]
    },
    {
      "cell_type": "markdown",
      "source": [
        "# **Search for Optimizer**"
      ],
      "metadata": {
        "id": "8INok5dcqHXM"
      }
    },
    {
      "cell_type": "code",
      "source": [
        "model = KerasClassifier(model=create_model, loss=\"binary_crossentropy\", epochs=100, batch_size=10, verbose=0)"
      ],
      "metadata": {
        "id": "eBsuYBLlqSxI"
      },
      "execution_count": null,
      "outputs": []
    },
    {
      "cell_type": "code",
      "source": [
        "# define the grid search parameters\n",
        "optimizer = ['SGD', 'RMSprop', 'Adagrad', 'Adadelta', 'Adam', 'Adamax', 'Nadam']\n",
        "param_grid = dict(optimizer=optimizer)\n",
        "grid = GridSearchCV(estimator=model, param_grid=param_grid, n_jobs=-1, cv=3)"
      ],
      "metadata": {
        "id": "RVMgwigzqVe1"
      },
      "execution_count": null,
      "outputs": []
    },
    {
      "cell_type": "code",
      "source": [
        "grid_result = grid.fit(X, y)"
      ],
      "metadata": {
        "id": "fAYJfZwcqXks"
      },
      "execution_count": null,
      "outputs": []
    },
    {
      "cell_type": "code",
      "source": [
        "# summarize results\n",
        "print(\"Best: %f using %s\" % (grid_result.best_score_, grid_result.best_params_))\n",
        "means = grid_result.cv_results_['mean_test_score']\n",
        "stds = grid_result.cv_results_['std_test_score']\n",
        "params = grid_result.cv_results_['params']\n",
        "for mean, stdev, param in zip(means, stds, params):\n",
        "    print(\"%f (%f) with: %r\" % (mean, stdev, param))"
      ],
      "metadata": {
        "id": "MgkQ8YCuqL7d"
      },
      "execution_count": null,
      "outputs": []
    },
    {
      "cell_type": "markdown",
      "source": [
        "# **Search for Learning Rate and Momentum**"
      ],
      "metadata": {
        "id": "6S_5iRk8qnOL"
      }
    },
    {
      "cell_type": "code",
      "source": [
        "model = KerasClassifier(model=create_model, loss=\"binary_crossentropy\", optimizer=\"Adamax\", epochs=100, batch_size=10, verbose=0)"
      ],
      "metadata": {
        "id": "FmnrLq0Dq3Yk"
      },
      "execution_count": null,
      "outputs": []
    },
    {
      "cell_type": "code",
      "source": [
        "# define the grid search parameters\n",
        "learn_rate = [0.001, 0.01, 0.1, 0.2, 0.3]\n",
        "momentum = [0.0, 0.2, 0.4, 0.6, 0.8, 0.9]\n",
        "param_grid = dict(optimizer__learning_rate=learn_rate, optimizer__momentum=momentum)\n",
        "grid = GridSearchCV(estimator=model, param_grid=param_grid, n_jobs=-1, cv=3)"
      ],
      "metadata": {
        "id": "311SApxlq8lN"
      },
      "execution_count": null,
      "outputs": []
    },
    {
      "cell_type": "code",
      "source": [
        "grid_result = grid.fit(X, y)"
      ],
      "metadata": {
        "id": "rxiMsg5Pq-dx"
      },
      "execution_count": null,
      "outputs": []
    },
    {
      "cell_type": "code",
      "source": [
        "# summarize results\n",
        "print(\"Best: %f using %s\" % (grid_result.best_score_, grid_result.best_params_))\n",
        "means = grid_result.cv_results_['mean_test_score']\n",
        "stds = grid_result.cv_results_['std_test_score']\n",
        "params = grid_result.cv_results_['params']\n",
        "for mean, stdev, param in zip(means, stds, params):\n",
        "    print(\"%f (%f) with: %r\" % (mean, stdev, param))"
      ],
      "metadata": {
        "id": "w_TS34Ggqwg1"
      },
      "execution_count": null,
      "outputs": []
    },
    {
      "cell_type": "markdown",
      "source": [
        "# **Search for Weight Initialization**"
      ],
      "metadata": {
        "id": "G1I2vtsCrOQW"
      }
    },
    {
      "cell_type": "code",
      "source": [
        "init_mode = ['uniform', 'lecun_uniform', 'normal', 'zero', 'glorot_normal', 'glorot_uniform', 'he_normal', 'he_uniform']\n",
        "param_grid = dict(model__init_mode=init_mode)"
      ],
      "metadata": {
        "id": "HkYXJzcDrUST"
      },
      "execution_count": null,
      "outputs": []
    },
    {
      "cell_type": "markdown",
      "source": [
        "**Assignment: find the best weight initialization for the model and data**"
      ],
      "metadata": {
        "id": "rmFSm7IBrV2W"
      }
    },
    {
      "cell_type": "code",
      "source": [
        ""
      ],
      "metadata": {
        "id": "3v8_uuemrcFX"
      },
      "execution_count": null,
      "outputs": []
    },
    {
      "cell_type": "markdown",
      "source": [
        "# **Search for Activation Function**"
      ],
      "metadata": {
        "id": "NXo1pF93rl18"
      }
    },
    {
      "cell_type": "code",
      "source": [
        "activation = ['softmax', 'softplus', 'softsign', 'relu', 'tanh', 'sigmoid', 'hard_sigmoid', 'linear']\n",
        "param_grid = dict(model__activation=activation)"
      ],
      "metadata": {
        "id": "DLBREy7XrqX2"
      },
      "execution_count": null,
      "outputs": []
    },
    {
      "cell_type": "markdown",
      "source": [
        "Assignment: find the best activation function for the model and data"
      ],
      "metadata": {
        "id": "Az4pjNZLrrmz"
      }
    },
    {
      "cell_type": "markdown",
      "source": [
        "# **Search Dropout Regularization**"
      ],
      "metadata": {
        "id": "EHzZzQR_r3Nx"
      }
    },
    {
      "cell_type": "code",
      "source": [
        "weight_constraint = [1.0, 2.0, 3.0, 4.0, 5.0]\n",
        "dropout_rate = [0.0, 0.1, 0.2, 0.3, 0.4, 0.5, 0.6, 0.7, 0.8, 0.9]\n",
        "param_grid = dict(model__dropout_rate=dropout_rate, model__weight_constraint=weight_constraint)"
      ],
      "metadata": {
        "id": "A-NR3k3or9ax"
      },
      "execution_count": null,
      "outputs": []
    },
    {
      "cell_type": "markdown",
      "source": [
        "# **Number of Neurons in Hidden Layer**"
      ],
      "metadata": {
        "id": "2F7I9W-VsF6e"
      }
    },
    {
      "cell_type": "code",
      "source": [
        "neurons = [1, 5, 10, 15, 20, 25, 30]\n",
        "param_grid = dict(model__neurons=neurons)"
      ],
      "metadata": {
        "id": "3E4MFF54sGIH"
      },
      "execution_count": null,
      "outputs": []
    },
    {
      "cell_type": "markdown",
      "source": [
        "**Use a Sample of Your Dataset**. Because networks are slow to train, try training them on a smaller sample of your training dataset, just to get an idea of general directions of parameters rather than optimal configurations.<br>\n",
        "\n",
        "**Start with Coarse Grids**. Start with coarse-grained grids and zoom into finer grained grids once you can narrow the scope.<br>\n",
        "\n",
        "**Do not Transfer Results**. Results are generally problem specific. Try to avoid favorite configurations on each new problem that you see. It is unlikely that optimal results you discover on one problem will transfer to your next project. Instead look for broader trends like number of layers or relationships between parameters.<br>\n",
        "\n",
        "**Reproducibility is a Problem**. Although we set the seed for the random number generator in NumPy, the results are not 100% reproducible. There is more to reproducibility when grid searching wrapped Keras models than is presented in this post."
      ],
      "metadata": {
        "id": "PkB8XldKsf_G"
      }
    }
  ]
}