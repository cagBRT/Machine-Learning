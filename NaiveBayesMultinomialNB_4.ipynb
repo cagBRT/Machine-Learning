{
  "nbformat": 4,
  "nbformat_minor": 0,
  "metadata": {
    "colab": {
      "name": "NaiveBayesMultinomialNB.ipynb",
      "private_outputs": true,
      "provenance": [],
      "authorship_tag": "ABX9TyMKv3PVfoJcwnkUpwVGR2gl",
      "include_colab_link": true
    },
    "kernelspec": {
      "name": "python3",
      "display_name": "Python 3"
    }
  },
  "cells": [
    {
      "cell_type": "markdown",
      "metadata": {
        "id": "view-in-github",
        "colab_type": "text"
      },
      "source": [
        "<a href=\"https://colab.research.google.com/github/cagBRT/Machine-Learning/blob/master/NaiveBayesMultinomialNB_4.ipynb\" target=\"_parent\"><img src=\"https://colab.research.google.com/assets/colab-badge.svg\" alt=\"Open In Colab\"/></a>"
      ]
    },
    {
      "cell_type": "markdown",
      "metadata": {
        "id": "ZFojCMRhzU15"
      },
      "source": [
        "In Multinomial Naïve Bayes the features are assumed to be drawn from a simple Multinomial distribution. This type of Naïve Bayes is most appropriate for the features that represents discrete counts."
      ]
    },
    {
      "cell_type": "markdown",
      "metadata": {
        "id": "oLB60cidz9-U"
      },
      "source": [
        "Naïve Bayes, which is computationally very efficient and easy to implement, is a learning algorithm frequently used in text classification problems."
      ]
    },
    {
      "cell_type": "code",
      "metadata": {
        "id": "3w5SA8EuCoQ_"
      },
      "source": [
        "from sklearn.feature_extraction import DictVectorizer\n",
        "import numpy as np\n",
        "from sklearn.naive_bayes import MultinomialNB\n",
        "from IPython.display import Image\n",
        "import matplotlib.pyplot as plt"
      ],
      "execution_count": null,
      "outputs": []
    },
    {
      "cell_type": "markdown",
      "metadata": {
        "id": "gjiv9XNIZ91e"
      },
      "source": [
        "Create text data<br>\n",
        "Transform the data into vectors<br>"
      ]
    },
    {
      "cell_type": "code",
      "metadata": {
        "id": "ImE__1MgCovU"
      },
      "source": [
        "#the object and the number in that area\n",
        "data = [\n",
        "{'house': 100, 'street': 50, 'shop': 25, 'car': 100, 'tree': 20},\n",
        "\n",
        "{'house': 5, 'street': 5, 'shop': 0, 'car': 10, 'tree': 500, 'river': 1},\n",
        "{'house': 50, 'street': 23, 'shop': 12, 'car': 230, 'tree': 100, 'river': 0}\n",
        "] \n",
        "dv = DictVectorizer(sparse=False)\n",
        "X = dv.fit_transform(data)\n",
        "#The class 1=city, 0=country\n",
        "Y = np.array([1, 0,1])\n",
        "print(X)\n",
        "#car house river shop street tree (alphabetical order)"
      ],
      "execution_count": null,
      "outputs": []
    },
    {
      "cell_type": "markdown",
      "metadata": {
        "id": "wE331bsnce1p"
      },
      "source": [
        "The output classes are:<br>\n",
        " >1 for city <br>\n",
        "  0 for the countryside."
      ]
    },
    {
      "cell_type": "code",
      "metadata": {
        "id": "lCzOkprOfZg6"
      },
      "source": [
        "print(Y)"
      ],
      "execution_count": null,
      "outputs": []
    },
    {
      "cell_type": "markdown",
      "metadata": {
        "id": "eGnR0XAcappZ"
      },
      "source": [
        "Create and train the model"
      ]
    },
    {
      "cell_type": "code",
      "metadata": {
        "id": "AKreeqoXDFJV"
      },
      "source": [
        "mnb = MultinomialNB()\n",
        "mnb.fit(X, Y)"
      ],
      "execution_count": null,
      "outputs": []
    },
    {
      "cell_type": "code",
      "metadata": {
        "id": "_F0NfbfyDNCJ"
      },
      "source": [
        "test_data = data = [\n",
        "{'house': 80, 'street': 20, 'shop': 15, 'car': 70, 'tree': 10, 'river': 1}]"
      ],
      "execution_count": null,
      "outputs": []
    },
    {
      "cell_type": "code",
      "metadata": {
        "id": "7cu6R3L0C9BY"
      },
      "source": [
        "mnb.predict(dv.fit_transform(test_data))"
      ],
      "execution_count": null,
      "outputs": []
    },
    {
      "cell_type": "markdown",
      "source": [
        "**Assignment**:<br>\n",
        "1. Add more rows to the dataset<br>\n",
        "You will need to add a row in the data and add a city or country label in the labels<br>\n",
        "Train the model, change to test data. <br>\n",
        "How well does the model predict?\n",
        "\n",
        "2. Add more columns to the data set<br>\n",
        "You will need to add more columns to the test data also. You can add things like people, businesses that are not shops, open area, etc. \n",
        "How well does the model predict?\n"
      ],
      "metadata": {
        "id": "IK-u5iSXBYhd"
      }
    }
  ]
}