{
  "nbformat": 4,
  "nbformat_minor": 0,
  "metadata": {
    "colab": {
      "name": "DecisionTrees1b.ipynb",
      "private_outputs": true,
      "provenance": [],
      "authorship_tag": "ABX9TyOLwazuYAuV6+LgPeglQqqU",
      "include_colab_link": true
    },
    "kernelspec": {
      "name": "python3",
      "display_name": "Python 3"
    },
    "language_info": {
      "name": "python"
    }
  },
  "cells": [
    {
      "cell_type": "markdown",
      "metadata": {
        "id": "view-in-github",
        "colab_type": "text"
      },
      "source": [
        "<a href=\"https://colab.research.google.com/github/cagBRT/Machine-Learning/blob/master/DecisionTrees1b.ipynb\" target=\"_parent\"><img src=\"https://colab.research.google.com/assets/colab-badge.svg\" alt=\"Open In Colab\"/></a>"
      ]
    },
    {
      "cell_type": "markdown",
      "metadata": {
        "id": "6tlx5w44RULx"
      },
      "source": [
        ""
      ]
    },
    {
      "cell_type": "markdown",
      "metadata": {
        "id": "DCTPjQ4SvKez"
      },
      "source": [
        "**Gini impurity**: measures the frequency of any element in the dataset being mislabelled when it is randomly labelled. <br>\n",
        "Minimum gini index = 0<br>\n",
        "> index=0 when the all the contained elements in the node are of the same unique class, meaning the node will be split again. <br>\n",
        "\n",
        "Maximum gini index=0.5<br>\n",
        ">When the probability of the two classes is the same. If data is randomly labelled at a node and the probability of mislabelling is decided by one of two choices. "
      ]
    },
    {
      "cell_type": "markdown",
      "metadata": {
        "id": "ykRcDzPRwm4s"
      },
      "source": [
        "**Entropy**: measure of disorder if the features with the target<br>\n",
        "The optimium split is chosen by the feature with less entropy.<br>\n",
        "Minimum entropy = 0<br>\n",
        "Max entropy = 1<br>\n"
      ]
    },
    {
      "cell_type": "markdown",
      "metadata": {
        "id": "kF5f7uaF5on-"
      },
      "source": [
        "gini is slightly faster than entropy<br>\n",
        "entropy is slightly higher performance"
      ]
    },
    {
      "cell_type": "code",
      "metadata": {
        "id": "JjM32j9b7REa"
      },
      "source": [
        "import numpy as np\n",
        "import pandas as pd\n",
        "from sklearn.metrics import confusion_matrix\n",
        "from sklearn.model_selection import train_test_split\n",
        "from sklearn.tree import DecisionTreeClassifier\n",
        "from sklearn.metrics import accuracy_score\n",
        "from sklearn.metrics import classification_report"
      ],
      "execution_count": null,
      "outputs": []
    },
    {
      "cell_type": "code",
      "metadata": {
        "id": "16q-k81e7V1L"
      },
      "source": [
        "# Function importing Dataset\n",
        "\n",
        "data = pd.read_csv(\n",
        "'https://archive.ics.uci.edu/ml/machine-learning-'+\n",
        "'databases/balance-scale/balance-scale.data',\n",
        "    sep= ',', header = None)\n",
        "      \n",
        "print (\"Dataset Shape: \", data.shape)\n",
        "print (\"Dataset: \",data.head())"
      ],
      "execution_count": null,
      "outputs": []
    },
    {
      "cell_type": "markdown",
      "metadata": {
        "id": "w8-mZyggSeSK"
      },
      "source": [
        "Split the data into training and test sets"
      ]
    },
    {
      "cell_type": "code",
      "metadata": {
        "id": "o8Ru02DD7Y7x"
      },
      "source": [
        "X = data.values[:, 1:5]\n",
        "Y = data.values[:, 0]\n",
        "\n",
        "X_train, X_test, y_train, y_test = train_test_split( \n",
        "  X, Y, test_size = 0.3, random_state = 100)"
      ],
      "execution_count": null,
      "outputs": []
    },
    {
      "cell_type": "markdown",
      "metadata": {
        "id": "zVnaSKu0TfuE"
      },
      "source": [
        "Create two models: <br>\n",
        "1. One using gini\n",
        "2. One using entropy"
      ]
    },
    {
      "cell_type": "code",
      "metadata": {
        "id": "CJh3n8Hm7c4k"
      },
      "source": [
        "# Create the gini model\n",
        "clf_gini = DecisionTreeClassifier(criterion = \"gini\",\n",
        "           random_state = 100,max_depth=3, min_samples_leaf=5)\n",
        "  \n",
        "# train the gini model\n",
        "clf_gini.fit(X_train, y_train)"
      ],
      "execution_count": null,
      "outputs": []
    },
    {
      "cell_type": "code",
      "metadata": {
        "id": "SFSf2HWp7fXT"
      },
      "source": [
        "# Create the entropy model\n",
        "clf_entropy = DecisionTreeClassifier(\n",
        "            criterion = \"entropy\", random_state = 100,\n",
        "            max_depth = 3, min_samples_leaf = 5)\n",
        "  \n",
        "# train the entropy model\n",
        "clf_entropy.fit(X_train, y_train)"
      ],
      "execution_count": null,
      "outputs": []
    },
    {
      "cell_type": "code",
      "metadata": {
        "id": "Crsl_qFB7iXo"
      },
      "source": [
        "# Function to make predictions\n",
        "def prediction(X_test, clf_object):\n",
        "  \n",
        "    # Predicton on test with giniIndex\n",
        "    y_pred = clf_object.predict(X_test)\n",
        "    print(\"Predicted values:\")\n",
        "    print(y_pred)\n",
        "    return y_pred"
      ],
      "execution_count": null,
      "outputs": []
    },
    {
      "cell_type": "code",
      "metadata": {
        "id": "jfU5iGbE7l6x"
      },
      "source": [
        "# Function to calculate accuracy\n",
        "def cal_accuracy(y_test, y_pred):\n",
        "      \n",
        "    print(\"Confusion Matrix: \",\n",
        "        confusion_matrix(y_test, y_pred))\n",
        "      \n",
        "    print (\"Accuracy : \",\n",
        "    accuracy_score(y_test,y_pred)*100)\n",
        "      \n",
        "    print(\"Report : \",\n",
        "    classification_report(y_test, y_pred))"
      ],
      "execution_count": null,
      "outputs": []
    },
    {
      "cell_type": "code",
      "metadata": {
        "id": "d8ZjMGQc62Ud"
      },
      "source": [
        "# Operational Phase\n",
        "print(\"Results Using Gini Index:\")\n",
        "      \n",
        "# Prediction using gini\n",
        "y_pred_gini = prediction(X_test, clf_gini)\n",
        "cal_accuracy(y_test, y_pred_gini)\n",
        "      \n",
        "print(\"Results Using Entropy:\")\n",
        "# Prediction using entropy\n",
        "y_pred_entropy = prediction(X_test, clf_entropy)\n",
        "cal_accuracy(y_test, y_pred_entropy)"
      ],
      "execution_count": null,
      "outputs": []
    }
  ]
}