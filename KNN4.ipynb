{
  "nbformat": 4,
  "nbformat_minor": 0,
  "metadata": {
    "colab": {
      "name": "KNN4.ipynb",
      "private_outputs": true,
      "provenance": [],
      "authorship_tag": "ABX9TyNuicMDt9akQQa27iETFrg4",
      "include_colab_link": true
    },
    "kernelspec": {
      "name": "python3",
      "display_name": "Python 3"
    }
  },
  "cells": [
    {
      "cell_type": "markdown",
      "metadata": {
        "id": "view-in-github",
        "colab_type": "text"
      },
      "source": [
        "<a href=\"https://colab.research.google.com/github/cagBRT/Machine-Learning/blob/master/KNN4.ipynb\" target=\"_parent\"><img src=\"https://colab.research.google.com/assets/colab-badge.svg\" alt=\"Open In Colab\"/></a>"
      ]
    },
    {
      "cell_type": "markdown",
      "metadata": {
        "id": "nZEYT6N1E-tJ"
      },
      "source": [
        "This notebook experiments with the KNeighbors classification algorithm. <br>\n",
        "Then compares at the error of the algorithm with different K values. <br> "
      ]
    },
    {
      "cell_type": "code",
      "metadata": {
        "id": "HJh6lG1dhzFL"
      },
      "source": [
        "import numpy as np\n",
        "import matplotlib.pyplot as plt\n",
        "import pandas as pd"
      ],
      "execution_count": null,
      "outputs": []
    },
    {
      "cell_type": "markdown",
      "metadata": {
        "id": "Z0p6gR8MFNwe"
      },
      "source": [
        "**Get the data**"
      ]
    },
    {
      "cell_type": "code",
      "metadata": {
        "id": "nUx73OWBiDks"
      },
      "source": [
        "url = \"https://archive.ics.uci.edu/ml/machine-learning-databases/iris/iris.data\"\n",
        "\n",
        "# Assign colum names to the dataset\n",
        "names = ['sepal-length', 'sepal-width', 'petal-length', 'petal-width', \n",
        "         'Class']\n",
        "# Read dataset to pandas dataframe\n",
        "dataset = pd.read_csv(url, names=names)"
      ],
      "execution_count": null,
      "outputs": []
    },
    {
      "cell_type": "code",
      "metadata": {
        "id": "FYgsYI5OiHCl"
      },
      "source": [
        "dataset.head()"
      ],
      "execution_count": null,
      "outputs": []
    },
    {
      "cell_type": "markdown",
      "metadata": {
        "id": "adlmBq3NFVHs"
      },
      "source": [
        "**Select the all the features for training.** <br>\n",
        "**Select the final column (Class) for the labels**"
      ]
    },
    {
      "cell_type": "code",
      "metadata": {
        "id": "uvII6gE0iKdG"
      },
      "source": [
        "X = dataset.iloc[:, :-1].values\n",
        "y = dataset.iloc[:, 4].values"
      ],
      "execution_count": null,
      "outputs": []
    },
    {
      "cell_type": "markdown",
      "metadata": {
        "id": "j2tq2uDJFr0F"
      },
      "source": [
        "**Split the data into training and test sets**"
      ]
    },
    {
      "cell_type": "code",
      "metadata": {
        "id": "cPK9sqjFiNnJ"
      },
      "source": [
        "from sklearn.model_selection import train_test_split\n",
        "X_train, X_test, y_train, y_test = train_test_split(X, y, test_size=0.20)"
      ],
      "execution_count": null,
      "outputs": []
    },
    {
      "cell_type": "markdown",
      "metadata": {
        "id": "_73daRNWFwmq"
      },
      "source": [
        "**Scale the data**"
      ]
    },
    {
      "cell_type": "code",
      "metadata": {
        "id": "1aghlzrtiR0r"
      },
      "source": [
        "from sklearn.preprocessing import StandardScaler\n",
        "scaler = StandardScaler()\n",
        "scaler.fit(X_train)\n",
        "\n",
        "X_train = scaler.transform(X_train)\n",
        "X_test = scaler.transform(X_test)\n"
      ],
      "execution_count": null,
      "outputs": []
    },
    {
      "cell_type": "markdown",
      "metadata": {
        "id": "CXZmTez-Fzcj"
      },
      "source": [
        "**Train the model**"
      ]
    },
    {
      "cell_type": "code",
      "metadata": {
        "id": "S63QMaLWiVQI"
      },
      "source": [
        "from sklearn.neighbors import KNeighborsClassifier\n",
        "classifier = KNeighborsClassifier(n_neighbors=5)\n",
        "classifier.fit(X_train, y_train)"
      ],
      "execution_count": null,
      "outputs": []
    },
    {
      "cell_type": "markdown",
      "metadata": {
        "id": "sY6aZxanF2ZI"
      },
      "source": [
        "**Make predictions using the test set features**"
      ]
    },
    {
      "cell_type": "code",
      "metadata": {
        "id": "7fFSBTKTiYbo"
      },
      "source": [
        "y_pred = classifier.predict(X_test)"
      ],
      "execution_count": null,
      "outputs": []
    },
    {
      "cell_type": "markdown",
      "metadata": {
        "id": "7v661eKyF8ag"
      },
      "source": [
        "**Calculate the confusion matrix**"
      ]
    },
    {
      "cell_type": "code",
      "metadata": {
        "id": "SEdyJVaBibz7"
      },
      "source": [
        "from sklearn.metrics import classification_report, confusion_matrix\n",
        "print(confusion_matrix(y_test, y_pred))\n",
        "print(classification_report(y_test, y_pred))"
      ],
      "execution_count": null,
      "outputs": []
    },
    {
      "cell_type": "markdown",
      "metadata": {
        "id": "hXLfh2I0GAvC"
      },
      "source": [
        "**Plot and compare the model performance for different values of K**"
      ]
    },
    {
      "cell_type": "code",
      "metadata": {
        "id": "Lcam9Wo_igj1"
      },
      "source": [
        "error = []\n",
        "\n",
        "# Calculating error for K values between 1 and 40\n",
        "for i in range(1, 40):\n",
        "    knn = KNeighborsClassifier(n_neighbors=i)\n",
        "    knn.fit(X_train, y_train)\n",
        "    pred_i = knn.predict(X_test)\n",
        "    error.append(np.mean(pred_i != y_test))"
      ],
      "execution_count": null,
      "outputs": []
    },
    {
      "cell_type": "code",
      "metadata": {
        "id": "7Cg9ds_-ipno"
      },
      "source": [
        "plt.figure(figsize=(12, 6))\n",
        "plt.plot(range(1, 40), error, color='red', linestyle='dashed', marker='o',\n",
        "         markerfacecolor='blue', markersize=10)\n",
        "plt.title('Error Rate K Value')\n",
        "plt.xlabel('K Value')\n",
        "plt.ylabel('Mean Error')\n"
      ],
      "execution_count": null,
      "outputs": []
    },
    {
      "cell_type": "markdown",
      "metadata": {
        "id": "DjX8aglGGM5T"
      },
      "source": [
        "**Assignment 1**<br>\n",
        "What value of K should you select?<br>\n",
        "What should you consider when making the decision? "
      ]
    },
    {
      "cell_type": "markdown",
      "metadata": {
        "id": "Bvrnp1jsH9xw"
      },
      "source": [
        "Assignment 2<br>\n",
        "The code below creates a synthetic dataset. <br>\n",
        "1. Modify the size of the dataset<br>\n",
        "2. Modify the ratio of train and test sets<br>\n",
        "\n",
        "Record what happens to the confusion matrix and the K plot. <br>"
      ]
    },
    {
      "cell_type": "code",
      "metadata": {
        "id": "b3OjPTNGGrQo"
      },
      "source": [
        "from sklearn.datasets import make_classification\n",
        "from random import seed\n",
        "from random import random\n",
        "from random import randint\n",
        "# Generate Balanced Data\n",
        "X,y = make_classification(n_samples=100, n_features=2, \n",
        "                          n_redundant=0, n_repeated=0, n_classes=3, \n",
        "                          n_clusters_per_class=1,class_sep=2,\n",
        "                          flip_y=0,weights=[0.33,0.33,0.33], \n",
        "                          random_state=randint(0,20))"
      ],
      "execution_count": null,
      "outputs": []
    },
    {
      "cell_type": "code",
      "metadata": {
        "id": "BCqM0YsJHB0b"
      },
      "source": [
        "n_neighbors=2"
      ],
      "execution_count": null,
      "outputs": []
    },
    {
      "cell_type": "code",
      "metadata": {
        "id": "m--kqN46G3rB"
      },
      "source": [
        "X_train, X_test, y_train, y_test = train_test_split(\n",
        "    X, y, test_size=0.33, random_state=42)"
      ],
      "execution_count": null,
      "outputs": []
    },
    {
      "cell_type": "code",
      "metadata": {
        "id": "V1JY9Ro6G-Ud"
      },
      "source": [
        "from sklearn.neighbors import KNeighborsClassifier\n",
        "from sklearn import neighbors, datasets\n",
        "clf_U = neighbors.KNeighborsClassifier(n_neighbors, weights='uniform')\n",
        "U_trained=clf_U.fit(X_train, y_train)\n",
        "y_U_pred = clf_U.predict(X_test)"
      ],
      "execution_count": null,
      "outputs": []
    },
    {
      "cell_type": "code",
      "metadata": {
        "id": "2xsvQ2fdHe-Z"
      },
      "source": [
        "print(confusion_matrix(y_test, y_U_pred))\n",
        "print(classification_report(y_test, y_U_pred))"
      ],
      "execution_count": null,
      "outputs": []
    },
    {
      "cell_type": "code",
      "metadata": {
        "id": "KdZmEhk7Hlbv"
      },
      "source": [
        "error = []\n",
        "\n",
        "# Calculating error for K values between 1 and 40\n",
        "for i in range(1, 40):\n",
        "    knn = KNeighborsClassifier(n_neighbors=i)\n",
        "    knn.fit(X_train, y_train)\n",
        "    pred_i = knn.predict(X_test)\n",
        "    error.append(np.mean(pred_i != y_test))"
      ],
      "execution_count": null,
      "outputs": []
    },
    {
      "cell_type": "code",
      "metadata": {
        "id": "QJsUHfsiH5Mj"
      },
      "source": [
        "plt.figure(figsize=(12, 6))\n",
        "plt.plot(range(1, 40), error, color='red', linestyle='dashed', marker='o',\n",
        "         markerfacecolor='blue', markersize=10)\n",
        "plt.title('Error Rate K Value')\n",
        "plt.xlabel('K Value')\n",
        "plt.ylabel('Mean Error')"
      ],
      "execution_count": null,
      "outputs": []
    }
  ]
}