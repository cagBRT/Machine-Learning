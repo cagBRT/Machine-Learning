{
  "nbformat": 4,
  "nbformat_minor": 0,
  "metadata": {
    "colab": {
      "name": "Logistic Regression NB4.ipynb",
      "private_outputs": true,
      "provenance": [],
      "authorship_tag": "ABX9TyPiZxYMoZBoN1nsPHGwGUCz",
      "include_colab_link": true
    },
    "kernelspec": {
      "name": "python3",
      "display_name": "Python 3"
    }
  },
  "cells": [
    {
      "cell_type": "markdown",
      "metadata": {
        "id": "view-in-github",
        "colab_type": "text"
      },
      "source": [
        "<a href=\"https://colab.research.google.com/github/cagBRT/Machine-Learning/blob/master/Logistic_Regression_NB4.ipynb\" target=\"_parent\"><img src=\"https://colab.research.google.com/assets/colab-badge.svg\" alt=\"Open In Colab\"/></a>"
      ]
    },
    {
      "cell_type": "code",
      "metadata": {
        "id": "7hXvuookQ4fV"
      },
      "source": [
        "# Clone the entire repo.\n",
        "!git clone -l -s https://github.com/cagBRT/Machine-Learning.git cloned-repo\n",
        "%cd cloned-repo\n",
        "!ls"
      ],
      "execution_count": null,
      "outputs": []
    },
    {
      "cell_type": "code",
      "metadata": {
        "id": "KfNEuiziQ_bp"
      },
      "source": [
        "import pandas as pd\n",
        "import numpy as np\n",
        "from sklearn import preprocessing\n",
        "import matplotlib.pyplot as plt \n",
        "plt.rc(\"font\", size=14)\n",
        "from sklearn.linear_model import LogisticRegression\n",
        "from sklearn.model_selection import train_test_split\n",
        "import seaborn as sns\n",
        "sns.set(style=\"white\")\n",
        "sns.set(style=\"whitegrid\", color_codes=True)"
      ],
      "execution_count": null,
      "outputs": []
    },
    {
      "cell_type": "markdown",
      "metadata": {
        "id": "-lGZsQChReXn"
      },
      "source": [
        "**Attribute Information:**\n",
        "\n",
        "Input variables:<br>\n",
        "# bank client data:<br>\n",
        "1 - age (numeric)<br>\n",
        "2 - job : type of job (categorical: 'admin.','blue-collar','entrepreneur','housemaid','management','retired','self-employed','services','student','technician','unemployed','unknown')<br>\n",
        "3 - marital : marital status (categorical: 'divorced','married','single','unknown'; note: 'divorced' means divorced or widowed)<br>\n",
        "4 - education (categorical: 'basic.4y','basic.6y','basic.9y','high.school','illiterate','professional.course','university.degree','unknown')<br>\n",
        "5 - default: has credit in default? (categorical: 'no','yes','unknown')<br>\n",
        "6 - housing: has housing loan? (categorical: 'no','yes','unknown')<br>\n",
        "7 - loan: has personal loan? (categorical: 'no','yes','unknown')<br>\n",
        "# related with the last contact of the current campaign:<br>\n",
        "8 - contact: contact communication type (categorical: 'cellular','telephone')<br>\n",
        "9 - month: last contact month of year (categorical: 'jan', 'feb', 'mar', ..., 'nov', 'dec')<br>\n",
        "10 - day_of_week: last contact day of the week (categorical: 'mon','tue','wed','thu','fri')<br>\n",
        "11 - duration: last contact duration, in seconds (numeric). Important note: this attribute highly affects the output target (e.g., if duration=0 then y='no'). Yet, the duration is not known before a call is performed. Also, after the end of the call y is obviously known. Thus, this input should only be included for benchmark purposes and should be discarded if the intention is to have a realistic predictive model.<br>\n",
        "# other attributes:\n",
        "12 - campaign: number of contacts performed during this campaign and for this client (numeric, includes last contact)<br>\n",
        "13 - pdays: number of days that passed by after the client was last contacted from a previous campaign (numeric; 999 means client was not previously contacted)<br>\n",
        "14 - previous: number of contacts performed before this campaign and for this client (numeric)<br>\n",
        "15 - poutcome: outcome of the previous marketing campaign (categorical: 'failure','nonexistent','success')<br>\n",
        "# social and economic context attributes<br>\n",
        "16 - emp.var.rate: employment variation rate - quarterly indicator (numeric)<br>\n",
        "17 - cons.price.idx: consumer price index - monthly indicator (numeric)<br>\n",
        "18 - cons.conf.idx: consumer confidence index - monthly indicator (numeric)<br>\n",
        "19 - euribor3m: euribor 3 month rate - daily indicator (numeric)<br>\n",
        "20 - nr.employed: number of employees - quarterly indicator (numeric)<br>\n",
        "\n",
        "Output variable (desired target):<br>\n",
        "21 - y - has the client subscribed a term deposit? (binary: 'yes','no')<br>"
      ]
    },
    {
      "cell_type": "code",
      "metadata": {
        "id": "nles2bapRB4N"
      },
      "source": [
        "data = pd.read_csv('bank-full.csv', sep=\";\",error_bad_lines=False, skipinitialspace = True, quotechar='\"')\n",
        "dataframe = pd.DataFrame(data)"
      ],
      "execution_count": null,
      "outputs": []
    },
    {
      "cell_type": "code",
      "metadata": {
        "id": "jBxzLrZxREK4"
      },
      "source": [
        "dataframe.tail(10)"
      ],
      "execution_count": null,
      "outputs": []
    },
    {
      "cell_type": "code",
      "metadata": {
        "id": "20ifEy_TRrqB"
      },
      "source": [
        "dataframe = dataframe.dropna()\n",
        "dataframe.shape\n",
        "dataframe.columns"
      ],
      "execution_count": null,
      "outputs": []
    },
    {
      "cell_type": "code",
      "metadata": {
        "id": "DRKEa4IPRtuJ"
      },
      "source": [
        "dataframe[\"education\"]"
      ],
      "execution_count": null,
      "outputs": []
    },
    {
      "cell_type": "code",
      "metadata": {
        "id": "Ayig_OhrR2OP"
      },
      "source": [
        "dataframe['education']=np.where(dataframe['education'] =='primary', 'Basic', dataframe['education'])\n",
        "dataframe['education']=np.where(dataframe['education'] =='secondary', 'Basic', dataframe['education'])\n",
        "dataframe['education']=np.where(dataframe['education'] =='tertiary', 'Basic', dataframe['education'])"
      ],
      "execution_count": null,
      "outputs": []
    },
    {
      "cell_type": "code",
      "metadata": {
        "id": "K4T5QjrsR49-"
      },
      "source": [
        "dataframe['education'].unique()"
      ],
      "execution_count": null,
      "outputs": []
    },
    {
      "cell_type": "code",
      "metadata": {
        "id": "kiWXiIDaR7Wv"
      },
      "source": [
        "dataframe['y'].value_counts"
      ],
      "execution_count": null,
      "outputs": []
    }
  ]
}