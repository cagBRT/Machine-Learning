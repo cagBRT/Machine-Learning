{
  "nbformat": 4,
  "nbformat_minor": 0,
  "metadata": {
    "colab": {
      "name": "Copy of CrossValidation.ipynb",
      "private_outputs": true,
      "provenance": []
    },
    "kernelspec": {
      "name": "python3",
      "display_name": "Python 3"
    }
  },
  "cells": [
    {
      "cell_type": "markdown",
      "metadata": {
        "id": "skeDVtEBtb25"
      },
      "source": [
        "# **Cross Validation (CV)**"
      ]
    },
    {
      "cell_type": "markdown",
      "metadata": {
        "id": "_fcm9DObt2_5"
      },
      "source": [
        "When training a model the first thing we do is:\n",
        ">divide the data into training and test sets\n",
        "\n",
        "The model is trained on the training set. <br>\n",
        "Then to test the accuracy of the model predictions, it is tested using data it has never seen before... the test set. "
      ]
    },
    {
      "cell_type": "markdown",
      "metadata": {
        "id": "5JVnPGpRuRB4"
      },
      "source": [
        "Once we have a model that is close to our performance criteria, we can do hyperparameter tuning to select the best hyperparameters for the model. "
      ]
    },
    {
      "cell_type": "markdown",
      "metadata": {
        "id": "LMUFfx4rug2i"
      },
      "source": [
        "The problem with this approach is:\n",
        ">We may actually now fit the hyperparameters to the test set. <br>\n",
        "**Leading to a risk of overfitting on the test set** because the parameters can be tweaked to get optimal model performance. <br>\n",
        "\n",
        "A common method to solve this problem is to divide the test set into test and validate sets. Then train on the training set, test on the test set, and when ready, validate performance on the validation set."
      ]
    },
    {
      "cell_type": "markdown",
      "metadata": {
        "id": "Lm7OqaoUtyHw"
      },
      "source": [
        "The downsides of this method are: \n",
        "1. Reducing the amount of data available for training the model. \n",
        "2. The results of the model performance are variable depending upon the random selection of the training and test sets. "
      ]
    },
    {
      "cell_type": "markdown",
      "metadata": {
        "id": "JlqzutJhwEqz"
      },
      "source": [
        "This problem can be solved by using **Cross-validation(CV)**"
      ]
    },
    {
      "cell_type": "markdown",
      "metadata": {
        "id": "3rlpaSm7wPpE"
      },
      "source": [
        "If we use Cross-validation, a validation set is no longer necessary. We need only the training and the test set. "
      ]
    },
    {
      "cell_type": "markdown",
      "metadata": {
        "id": "HhM3yzY0wshU"
      },
      "source": [
        "There are several cross-validation methods: <br>\n",
        "- Holdout\n",
        "- K-fold CV\n",
        "- Repeated random sub-sampling"
      ]
    },
    {
      "cell_type": "code",
      "metadata": {
        "id": "4HptFcgwQi9n"
      },
      "source": [
        "import numpy as np\n",
        "from sklearn.model_selection import train_test_split"
      ],
      "execution_count": null,
      "outputs": []
    },
    {
      "cell_type": "markdown",
      "metadata": {
        "id": "7gWw4hsd47qx"
      },
      "source": [
        "# **Holdout**\n",
        "This is the basic method for testing models. <br>\n",
        "1. Split the dataset into training and test sets.<br>\n",
        "2. Train the model on the training set<br>\n",
        "3. Test the model on the test set. "
      ]
    },
    {
      "cell_type": "markdown",
      "metadata": {
        "id": "i3MbOCS3AnlP"
      },
      "source": [
        "**Create synthetic data**<br>\n",
        "The data has 10 sets of a datapoint and its label.<br>"
      ]
    },
    {
      "cell_type": "code",
      "metadata": {
        "id": "ZzmK-lJ1QP-0"
      },
      "source": [
        "X, y = np.arange(20).reshape((10, 2)), range(10)\n",
        "X"
      ],
      "execution_count": null,
      "outputs": []
    },
    {
      "cell_type": "code",
      "metadata": {
        "id": "sBl1z2V4QlZo"
      },
      "source": [
        "list(y)"
      ],
      "execution_count": null,
      "outputs": []
    },
    {
      "cell_type": "markdown",
      "metadata": {
        "id": "h6cikBZkfyMk"
      },
      "source": [
        "**Train-test split**"
      ]
    },
    {
      "cell_type": "markdown",
      "metadata": {
        "id": "TRvsaFREAuSV"
      },
      "source": [
        "Split the dataset into training and test sets. Use 80% of the data for training. \n",
        "30% for testing.\n"
      ]
    },
    {
      "cell_type": "code",
      "metadata": {
        "id": "0n-jWi0eQzn0"
      },
      "source": [
        "X_train, X_test, y_train, y_test = train_test_split(\n",
        "    X, y, test_size=0.20, random_state=4)"
      ],
      "execution_count": null,
      "outputs": []
    },
    {
      "cell_type": "code",
      "metadata": {
        "id": "AFq5AhItQ5HW"
      },
      "source": [
        "X_train"
      ],
      "execution_count": null,
      "outputs": []
    },
    {
      "cell_type": "code",
      "metadata": {
        "id": "Ba_xFPyjQ7qN"
      },
      "source": [
        "y_train"
      ],
      "execution_count": null,
      "outputs": []
    },
    {
      "cell_type": "code",
      "metadata": {
        "id": "GEjHrOqWQ_bh"
      },
      "source": [
        "X_test"
      ],
      "execution_count": null,
      "outputs": []
    },
    {
      "cell_type": "code",
      "metadata": {
        "id": "oFWlhh3ZQV9g"
      },
      "source": [
        "y_test"
      ],
      "execution_count": null,
      "outputs": []
    },
    {
      "cell_type": "markdown",
      "metadata": {
        "id": "WWu_HYtK6AAo"
      },
      "source": [
        "Since this is the method we normally use to test the model, we have a lot of examples of the Holdout method. <br>\n",
        "We can stop here. "
      ]
    },
    {
      "cell_type": "markdown",
      "metadata": {
        "id": "cWOvHjPITK1P"
      },
      "source": [
        "# **K-Fold Cross Validation**"
      ]
    },
    {
      "cell_type": "markdown",
      "metadata": {
        "id": "H7yBXyhBB4fd"
      },
      "source": [
        "Create data"
      ]
    },
    {
      "cell_type": "code",
      "metadata": {
        "id": "dyWuDvxkB3Or"
      },
      "source": [
        "from sklearn.model_selection import KFold\n",
        "X = np.array([[1, 2], [3, 5], [0, 2], [3, 4], [5, 4], [2, 1]])\n",
        "y = np.array([1, 2, 3, 4, 5, 6])"
      ],
      "execution_count": null,
      "outputs": []
    },
    {
      "cell_type": "markdown",
      "metadata": {
        "id": "CM4s1KlzB-5z"
      },
      "source": [
        "Setup the K-fold"
      ]
    },
    {
      "cell_type": "code",
      "metadata": {
        "id": "PIugjEd2B-Dx"
      },
      "source": [
        "kf = KFold(n_splits=2)\n",
        "kf.get_n_splits(X)\n",
        "print(kf)"
      ],
      "execution_count": null,
      "outputs": []
    },
    {
      "cell_type": "code",
      "metadata": {
        "id": "aNachWlKTOVJ"
      },
      "source": [
        "for train_index, test_index in kf.split(X):\n",
        "    print(\"TRAIN:\", train_index, \"TEST:\", test_index)\n",
        "    X_train, X_test = X[train_index], X[test_index]\n",
        "    y_train, y_test = y[train_index], y[test_index]"
      ],
      "execution_count": null,
      "outputs": []
    },
    {
      "cell_type": "markdown",
      "metadata": {
        "id": "Ni7DYbxhb0Hu"
      },
      "source": [
        "# **Random Shuffle Split**"
      ]
    },
    {
      "cell_type": "markdown",
      "metadata": {
        "id": "81XQUw_4JlYI"
      },
      "source": [
        "Create data"
      ]
    },
    {
      "cell_type": "code",
      "metadata": {
        "id": "HEaFgCPib0SK"
      },
      "source": [
        "from sklearn.model_selection import ShuffleSplit\n",
        "X = np.arange(10)\n",
        "ss = ShuffleSplit(n_splits=5, test_size=0.25, random_state=0)\n",
        "X"
      ],
      "execution_count": null,
      "outputs": []
    },
    {
      "cell_type": "markdown",
      "metadata": {
        "id": "akJhjWQyJm4R"
      },
      "source": [
        "Shuffle split"
      ]
    },
    {
      "cell_type": "code",
      "metadata": {
        "id": "ETIzhJ8fJdAw"
      },
      "source": [
        "for train_index, test_index in ss.split(X):\n",
        "    print(\"%s %s\" % (train_index, test_index))"
      ],
      "execution_count": null,
      "outputs": []
    },
    {
      "cell_type": "markdown",
      "metadata": {
        "id": "XPX_JAdwftIU"
      },
      "source": [
        "https://scikit-learn.org/stable/modules/cross_validation.html\n"
      ]
    }
  ]
}