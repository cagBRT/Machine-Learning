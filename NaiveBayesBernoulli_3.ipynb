{
  "nbformat": 4,
  "nbformat_minor": 0,
  "metadata": {
    "colab": {
      "name": "NaiveBayesBernoulli 2.ipynb",
      "private_outputs": true,
      "provenance": [],
      "authorship_tag": "ABX9TyO+6ogJ1McqTHkCsw2nE5+J",
      "include_colab_link": true
    },
    "kernelspec": {
      "name": "python3",
      "display_name": "Python 3"
    }
  },
  "cells": [
    {
      "cell_type": "markdown",
      "metadata": {
        "id": "view-in-github",
        "colab_type": "text"
      },
      "source": [
        "<a href=\"https://colab.research.google.com/github/cagBRT/Machine-Learning/blob/master/NaiveBayesBernoulli_3.ipynb\" target=\"_parent\"><img src=\"https://colab.research.google.com/assets/colab-badge.svg\" alt=\"Open In Colab\"/></a>"
      ]
    },
    {
      "cell_type": "markdown",
      "metadata": {
        "id": "Kd83t2qDyxKA"
      },
      "source": [
        "Another important Naive Bayes model is Bernoulli Naïve Bayes in which features are assumed to be binary (0s and 1s). <br>\n",
        "Text classification with ‘bag of words’ model can be an application of Bernoulli Naïve Bayes."
      ]
    },
    {
      "cell_type": "code",
      "metadata": {
        "id": "DXoOPzeqBi1g"
      },
      "source": [
        "# Clone the entire repo.\n",
        "!git clone -l -s https://github.com/cagBRT/Machine-Learning.git cloned-repo\n",
        "%cd cloned-repo"
      ],
      "execution_count": null,
      "outputs": []
    },
    {
      "cell_type": "markdown",
      "metadata": {
        "id": "Hv0MoM-4AIHz"
      },
      "source": [
        "If X is random variable Bernoulli-distributed, it can assume only two values (let’s call them 0 and 1)"
      ]
    },
    {
      "cell_type": "code",
      "metadata": {
        "id": "wavKBB654ezr"
      },
      "source": [
        "from sklearn.datasets import make_classification\n",
        "import numpy as np\n",
        "from sklearn.naive_bayes import BernoulliNB\n",
        "from sklearn.model_selection import train_test_split\n",
        "\n",
        "from IPython.display import Image\n",
        "import matplotlib.pyplot as plt"
      ],
      "execution_count": null,
      "outputs": []
    },
    {
      "cell_type": "markdown",
      "metadata": {
        "id": "-jTZVVPrAYtd"
      },
      "source": [
        "Bernoulli naive Bayes expects binary feature vectors, however, the class BernoulliNB has a binarize parameter which allows specifying a threshold that will be used internally to transform the features:"
      ]
    },
    {
      "cell_type": "markdown",
      "metadata": {
        "id": "nlDtAxug_h2w"
      },
      "source": [
        "**Generate a random dataset**"
      ]
    },
    {
      "cell_type": "code",
      "metadata": {
        "id": "x7EXrm_H_Iq5"
      },
      "source": [
        "nb_samples = 600\n",
        "X, Y = make_classification(n_samples=nb_samples,n_clusters_per_class=1, n_features=2, n_informative=1, n_redundant=0)"
      ],
      "execution_count": null,
      "outputs": []
    },
    {
      "cell_type": "markdown",
      "metadata": {
        "id": "47XmNd9nAkEO"
      },
      "source": [
        "We will use 0.0 as a binary threshold, so each point can be characterized by the quadrant where it’s located"
      ]
    },
    {
      "cell_type": "markdown",
      "metadata": {
        "id": "V29IiJLS_lLK"
      },
      "source": [
        "**Scatter plot the dataset**"
      ]
    },
    {
      "cell_type": "code",
      "metadata": {
        "id": "romytRN869MJ"
      },
      "source": [
        "plt.figure(figsize=(10,5))\n",
        "fig = plt.scatter(X[:,0],X[:,1], marker='o', c=X[:,1],\n",
        "            s=25)\n",
        "plt.xlabel(\"X[:,0]\")\n",
        "plt.ylabel(\"X[:,1]\")\n",
        "plt.colorbar(fig)\n",
        "plt.show()"
      ],
      "execution_count": null,
      "outputs": []
    },
    {
      "cell_type": "markdown",
      "metadata": {
        "id": "3XHBC7tp_oJh"
      },
      "source": [
        "**Split the test and training data**"
      ]
    },
    {
      "cell_type": "code",
      "metadata": {
        "id": "HPG7RRmF4jb4"
      },
      "source": [
        "X_train, X_test, Y_train, Y_test = train_test_split(X, Y, test_size=0.25)"
      ],
      "execution_count": null,
      "outputs": []
    },
    {
      "cell_type": "markdown",
      "metadata": {
        "id": "X2kNu9BpqMnV"
      },
      "source": [
        "Plot the training data, X is the training data, Y-axis is the label (0,1)"
      ]
    },
    {
      "cell_type": "code",
      "metadata": {
        "id": "motMK3lHp2tg"
      },
      "source": [
        "plt.figure(figsize=(10,5))\n",
        "fig = plt.scatter(X_train[:,0],Y_train, marker='o', c=X_train[:,0], s=25)\n",
        "plt.xlabel(\"X_train[:,0]\")\n",
        "plt.ylabel(\"y_train\")\n",
        "plt.colorbar(fig)\n",
        "plt.show()"
      ],
      "execution_count": null,
      "outputs": []
    },
    {
      "cell_type": "markdown",
      "metadata": {
        "id": "xfu85998qXxf"
      },
      "source": [
        "Plot the testing data, X is the test data, Y-axis is the label (0,1)"
      ]
    },
    {
      "cell_type": "code",
      "metadata": {
        "id": "A7_ekjLvqeOK"
      },
      "source": [
        "plt.figure(figsize=(10,5))\n",
        "fig = plt.scatter(X_test[:,0],Y_test, marker='o', c=X_test[:,0],s=25)\n",
        "plt.xlabel(\"X_test[:,0]\")\n",
        "plt.ylabel(\"y_test\")\n",
        "plt.colorbar(fig)\n",
        "plt.show()"
      ],
      "execution_count": null,
      "outputs": []
    },
    {
      "cell_type": "markdown",
      "metadata": {
        "id": "WFjFUN8Y_tFe"
      },
      "source": [
        "**Create and train the model**"
      ]
    },
    {
      "cell_type": "code",
      "metadata": {
        "id": "_iEPECeM_siK"
      },
      "source": [
        "bnb = BernoulliNB(binarize=0.0)\n",
        "bnb.fit(X_train, Y_train)"
      ],
      "execution_count": null,
      "outputs": []
    },
    {
      "cell_type": "markdown",
      "metadata": {
        "id": "vIZUIs1aAsuw"
      },
      "source": [
        "If we want to understand how the binary classifier worked, it’s useful to see how the data have been internally binarized:"
      ]
    },
    {
      "cell_type": "markdown",
      "metadata": {
        "id": "08JVkg3S_00g"
      },
      "source": [
        "**Determine Model performance**"
      ]
    },
    {
      "cell_type": "code",
      "metadata": {
        "id": "IvhVtirB_zjY"
      },
      "source": [
        "bnb.score(X_test, Y_test)"
      ],
      "execution_count": null,
      "outputs": []
    },
    {
      "cell_type": "markdown",
      "metadata": {
        "id": "0dJ6Hkte_4HO"
      },
      "source": [
        "**Make a prediction with the model**"
      ]
    },
    {
      "cell_type": "code",
      "metadata": {
        "id": "AJ1XqcG12Jls"
      },
      "source": [
        "plt.figure(figsize=(10,5))\n",
        "fig = plt.scatter(X_test[:,0],Y_test, marker='o', c=X_test[:,0],s=25)\n",
        "plt.plot([0,0,1,1],[0,1,0,1], 'r+')\n",
        "plt.xlabel(\"X_test[:,0]\")\n",
        "plt.ylabel(\"y_test\")\n",
        "plt.colorbar(fig)\n",
        "plt.show()"
      ],
      "execution_count": null,
      "outputs": []
    },
    {
      "cell_type": "code",
      "metadata": {
        "id": "gEzRy1Tp6udt"
      },
      "source": [
        "data = np.array([[0, 0], [0, 1], [1, 0], [1, 1]])\n",
        "bnb.predict(data)"
      ],
      "execution_count": null,
      "outputs": []
    }
  ]
}