{
  "nbformat": 4,
  "nbformat_minor": 0,
  "metadata": {
    "colab": {
      "name": "DecisionTrees2.ipynb",
      "private_outputs": true,
      "provenance": [],
      "authorship_tag": "ABX9TyNn7Uaj22XjmbuTUz7tDcvP",
      "include_colab_link": true
    },
    "kernelspec": {
      "name": "python3",
      "display_name": "Python 3"
    },
    "language_info": {
      "name": "python"
    }
  },
  "cells": [
    {
      "cell_type": "markdown",
      "metadata": {
        "id": "view-in-github",
        "colab_type": "text"
      },
      "source": [
        "<a href=\"https://colab.research.google.com/github/cagBRT/Machine-Learning/blob/master/DecisionTrees2.ipynb\" target=\"_parent\"><img src=\"https://colab.research.google.com/assets/colab-badge.svg\" alt=\"Open In Colab\"/></a>"
      ]
    },
    {
      "cell_type": "markdown",
      "metadata": {
        "id": "uwIZP4wVfuwJ"
      },
      "source": [
        "**Advantages of Decision Tree Algorithm:**<br>\n",
        "\n",
        "- Understanding the results is easier than other models. You can have the technical team program your decision tree model, so it works faster, and you can apply it to new instances. Its calculations have inclusion tests according to an instance, which is a qualitative or a quantitative model.<br>\n",
        "\n",
        "- It is non-parametric. The independent variables present in our problem don’t have to follow any specific probability distributions due to this reason. You can have collinear variables. Whether they are discriminating or not, it doesn’t have an impact on your decision tree because it doesn’t have to choose those variables.<br>\n",
        "\n",
        "- They are capable of working with missing values. CHAID puts all the missing values in a category, which you can merge with another one or keep separate from others.<br>\n",
        "\n",
        "- Extreme individual values (such as outliers) don’t have much effect on the decision trees. You can isolate them in small nodes so that they don’t affect the entire classification.<br>\n",
        "\n",
        "- It gives you a great visual representation of a decision-making process. Every branch of a decision tree stands for the factors that can affect your decisions, and you get to see a bigger picture. You can use decision trees to improve communication in your team. <br>"
      ]
    },
    {
      "cell_type": "markdown",
      "metadata": {
        "id": "j_B0chNtf8WV"
      },
      "source": [
        "**Disadvantages of Decision Tree Algorithm**<br>\n",
        "- It doesn’t analyze all the independent variables simultaneously. Instead, it evaluates them sequentially. Due to this, the tree never revises the division of a node at any level, which can cause bias in the tree’s choices. <br>\n",
        "\n",
        "- Modifying even a single variable can affect the entire tree if it’s close to the top. There are ways to solve this problem. For example, you can construct the tree on multiple samples and aggregate them according to a mean (or vote); this is called resampling. However, it leads to another set of problems as it reduces the readability of the model by making it more complex. So, through resampling, you can get rid of the best qualities of decision trees. Why is it a problem? Suppose one variable has all the qualities of a particular group, but it also has the quality according to which the tree splits. In this case, the tree would put it in the wrong class just because it has that important quality. <br>\n",
        "\n",
        "- All the nodes of a specific level in a decision tree depend on the nodes in their previous levels. In other words, how you define the nodes on level ‘n +1’ depends entirely on your definition for the nodes on the level ‘n.’ If your definition at level ‘n’ is wrong, all the subsequent levels and the nodes present in those levels would also be wrong\n"
      ]
    },
    {
      "cell_type": "markdown",
      "metadata": {
        "id": "nyWRtOuuZiqv"
      },
      "source": [
        "**Decision Tree Classifier on the Iris Dataset**"
      ]
    },
    {
      "cell_type": "code",
      "metadata": {
        "id": "NS3nZ1FzHNga"
      },
      "source": [
        "from sklearn import metrics #Import scikit-learn metrics module for accuracy calculation\n",
        "from sklearn import tree"
      ],
      "execution_count": null,
      "outputs": []
    },
    {
      "cell_type": "code",
      "metadata": {
        "id": "1A5Dwz0kVvcx"
      },
      "source": [
        "from sklearn.datasets import load_iris\n",
        "from sklearn import tree\n",
        "iris = load_iris()\n",
        "X, y = iris.data, iris.target\n",
        "clf = tree.DecisionTreeClassifier()\n",
        "clf = clf.fit(X, y)"
      ],
      "execution_count": null,
      "outputs": []
    },
    {
      "cell_type": "code",
      "metadata": {
        "id": "WlIhbjKbWMX2"
      },
      "source": [
        "X.shape"
      ],
      "execution_count": null,
      "outputs": []
    },
    {
      "cell_type": "code",
      "metadata": {
        "id": "XqojyQzMVzUF"
      },
      "source": [
        "tree.plot_tree(clf) "
      ],
      "execution_count": null,
      "outputs": []
    },
    {
      "cell_type": "code",
      "metadata": {
        "id": "EvKR0rkSW78x"
      },
      "source": [
        "import graphviz \n",
        "dot_data = tree.export_graphviz(clf, out_file=None) \n",
        "graph = graphviz.Source(dot_data) \n",
        "graph.render(\"iris\") "
      ],
      "execution_count": null,
      "outputs": []
    },
    {
      "cell_type": "markdown",
      "metadata": {
        "id": "R14Fte97t3TF"
      },
      "source": [
        "Plot the Decision Tree"
      ]
    },
    {
      "cell_type": "code",
      "metadata": {
        "id": "8nGKG9uKW_aF"
      },
      "source": [
        "dot_data = tree.export_graphviz(clf, out_file=None, \n",
        "                     feature_names=iris.feature_names,  \n",
        "                     class_names=iris.target_names,  \n",
        "                     filled=True, rounded=True,  \n",
        "                     special_characters=True)  \n",
        "graph = graphviz.Source(dot_data)  \n",
        "graph "
      ],
      "execution_count": null,
      "outputs": []
    }
  ]
}