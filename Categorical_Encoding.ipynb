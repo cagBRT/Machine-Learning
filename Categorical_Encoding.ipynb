{
  "nbformat": 4,
  "nbformat_minor": 0,
  "metadata": {
    "colab": {
      "private_outputs": true,
      "provenance": [],
      "authorship_tag": "ABX9TyNmuqg0x8M+CxxRPZO38CrE",
      "include_colab_link": true
    },
    "kernelspec": {
      "name": "python3",
      "display_name": "Python 3"
    },
    "language_info": {
      "name": "python"
    }
  },
  "cells": [
    {
      "cell_type": "markdown",
      "metadata": {
        "id": "view-in-github",
        "colab_type": "text"
      },
      "source": [
        "<a href=\"https://colab.research.google.com/github/cagBRT/Machine-Learning/blob/master/Categorical_Encoding.ipynb\" target=\"_parent\"><img src=\"https://colab.research.google.com/assets/colab-badge.svg\" alt=\"Open In Colab\"/></a>"
      ]
    },
    {
      "cell_type": "markdown",
      "source": [
        "# Categorical Encoding<br>\n",
        "This notebook covers a number of encoding algorithms found in the sklearn encoders library"
      ],
      "metadata": {
        "id": "oo8bVVImwZMz"
      }
    },
    {
      "cell_type": "code",
      "execution_count": null,
      "metadata": {
        "id": "al-8CMRXvPgO"
      },
      "outputs": [],
      "source": [
        "# Clone the entire repo.\n",
        "!git clone -s https://github.com/cagBRT/Machine-Learning.git cloned-repo\n",
        "%cd cloned-repo"
      ]
    },
    {
      "cell_type": "code",
      "source": [
        "from IPython.display import Image"
      ],
      "metadata": {
        "id": "BVJnlQFCvtEF"
      },
      "execution_count": null,
      "outputs": []
    },
    {
      "cell_type": "markdown",
      "source": [
        "**Categorical encoding is the process of transforming a categorical column into one (or more) numeric column(s).**"
      ],
      "metadata": {
        "id": "qxS6cr52v70K"
      }
    },
    {
      "cell_type": "markdown",
      "source": [
        "With numbers it’s easy to find relations (such as “bigger”, “smaller”, “double”, “half”).\n",
        "\n",
        "With strings a computer can say pretty much only whether they are “equal” or “different”."
      ],
      "metadata": {
        "id": "nmEgxxy3wHxV"
      }
    },
    {
      "cell_type": "markdown",
      "source": [
        "- **Supervised/Unsupervised**: when the encoding is based solely on the categorical column, then it’s unsupervised. Otherwise, if the encoding is based on some function of the original column and a second (numeric) column, then it’s supervised.<br>\n",
        "- **Output dimension**: the encoding of a categorical column may produce one numeric column (output dimension = 1) or many numeric columns (output dimension > 1).\n",
        "<br>\n",
        "- **Mapping**: if each level has always the same output — whether a scalar (e.g. OrdinalEncoder) or an array (e.g. OneHotEncoder)— then the mapping is unique. On the contrary, if the same level is “allowed” to have different possible outputs, then the mapping is not unique.\n",
        "<br>"
      ],
      "metadata": {
        "id": "15sopr1Iw2Ea"
      }
    },
    {
      "cell_type": "code",
      "source": [
        "Image(\"images/oneHot.png\")"
      ],
      "metadata": {
        "id": "D1tjygzavxYn"
      },
      "execution_count": null,
      "outputs": []
    },
    {
      "cell_type": "code",
      "source": [
        "!pip install category_encoders\n",
        "import category_encoders as ce"
      ],
      "metadata": {
        "id": "rT8NgsBXwRTR"
      },
      "execution_count": null,
      "outputs": []
    },
    {
      "cell_type": "code",
      "source": [
        "import pandas as pd\n",
        "filename = 'BankChurners.csv'\n",
        "df = pd.read_csv(filename)\n",
        "df = df[df.columns[:-2]]\n",
        "df = df.sample(frac=1.0, random_state=99)\n",
        "print(df.shape)\n",
        "df.head()"
      ],
      "metadata": {
        "id": "ITn2z1wDxZA0"
      },
      "execution_count": null,
      "outputs": []
    },
    {
      "cell_type": "code",
      "source": [
        "X= df.drop('Attrition_Flag', axis=1)\n",
        "y=df[\"Attrition_Flag\"]"
      ],
      "metadata": {
        "id": "a4cX-XKWLv-v"
      },
      "execution_count": null,
      "outputs": []
    },
    {
      "cell_type": "code",
      "source": [
        "X"
      ],
      "metadata": {
        "id": "SXcBVqmJMgUy"
      },
      "execution_count": null,
      "outputs": []
    },
    {
      "cell_type": "code",
      "source": [
        "y"
      ],
      "metadata": {
        "id": "nUpYNenTMhWt"
      },
      "execution_count": null,
      "outputs": []
    },
    {
      "cell_type": "markdown",
      "source": [
        "# OrdinalEncoder\n",
        "Each level is mapped to an integer, from 1 to L (where L is the number of levels)."
      ],
      "metadata": {
        "id": "AL9iRrZGxGUF"
      }
    },
    {
      "cell_type": "code",
      "source": [
        "sorted_x = sorted(set(df.Education_Level))\n",
        "df.Education_Level = (df.Education_Level).replace(dict(zip(sorted_x, range(1, len(sorted_x) + 1))))"
      ],
      "metadata": {
        "id": "lFQhd1qmwqVC"
      },
      "execution_count": null,
      "outputs": []
    },
    {
      "cell_type": "markdown",
      "source": [
        "Ordinal encoding often produces nonsense, especially if the levels have no intrinsic order.\n",
        "\n",
        "It’s only a representation of convenience, used often to save memory, or as an intermediate step for other types of encoding."
      ],
      "metadata": {
        "id": "Ide7uzx7ySH6"
      }
    },
    {
      "cell_type": "code",
      "source": [
        "df"
      ],
      "metadata": {
        "id": "i2864HmXx8hR"
      },
      "execution_count": null,
      "outputs": []
    },
    {
      "cell_type": "markdown",
      "source": [
        "# sklearn OrdinalEncoder"
      ],
      "metadata": {
        "id": "10QqhiqM-ZH1"
      }
    },
    {
      "cell_type": "code",
      "source": [
        "from sklearn.preprocessing import LabelEncoder\n",
        "ce_ord = ce.OrdinalEncoder(cols = ['Education_Level'])\n",
        "ce_ord.fit_transform(df)"
      ],
      "metadata": {
        "id": "21zzaMGp-j5c"
      },
      "execution_count": null,
      "outputs": []
    },
    {
      "cell_type": "markdown",
      "source": [
        "\n",
        "\n",
        "---\n",
        "\n",
        "\n",
        "\n",
        "---\n",
        "\n"
      ],
      "metadata": {
        "id": "lJZYHjeOzDkT"
      }
    },
    {
      "cell_type": "markdown",
      "source": [
        "# CountEncoder\n",
        "\n",
        "Each level is mapped to the number of observations of that level."
      ],
      "metadata": {
        "id": "82a5AN1pynRK"
      }
    },
    {
      "cell_type": "code",
      "source": [
        "df = pd.read_csv(filename)\n",
        "df = df[df.columns[:-2]]\n",
        "df = df.sample(frac=1.0, random_state=99)\n",
        "print(df.shape)\n",
        "df.head()"
      ],
      "metadata": {
        "id": "H5VHGgcZyqqb"
      },
      "execution_count": null,
      "outputs": []
    },
    {
      "cell_type": "code",
      "source": [
        "df.Education_Level = df.Education_Level.replace(df.Education_Level.value_counts().to_dict())"
      ],
      "metadata": {
        "id": "zukzVNYBzLiQ"
      },
      "execution_count": null,
      "outputs": []
    },
    {
      "cell_type": "markdown",
      "source": [
        "Count encoding can be useful as an indicator of the “credibility” of each level. <br>\n",
        "For instance, a machine learning algorithm may automatically decide to take into account the information brought by the level only if its count is above some threshold."
      ],
      "metadata": {
        "id": "pCsEpr7wzo3n"
      }
    },
    {
      "cell_type": "code",
      "source": [
        "df"
      ],
      "metadata": {
        "id": "4nRgoe2Kzbd5"
      },
      "execution_count": null,
      "outputs": []
    },
    {
      "cell_type": "markdown",
      "source": [
        "\n",
        "\n",
        "---\n",
        "\n",
        "\n",
        "\n",
        "---\n",
        "\n"
      ],
      "metadata": {
        "id": "qDFl3zOYz6b6"
      }
    },
    {
      "cell_type": "markdown",
      "source": [
        "# OneHotEncoder\n",
        "\n",
        "The OneHotEncoder is the algorithm for excellence (and the most used).\n",
        "\n",
        "Each level is mapped to a dummy column (i.e. a column of 0/1), indicating whether that level is carried by that row."
      ],
      "metadata": {
        "id": "QBkEzZXDz4Bd"
      }
    },
    {
      "cell_type": "markdown",
      "source": [
        "Initially, your input is a single column, after encoding, your output consists of L columns (one for each level of the original column).\n",
        "\n",
        "**This is why one-hot encoding should be handled with care:** you may end up with a dataframe that is far bigger than the original one."
      ],
      "metadata": {
        "id": "e_EsnfmO7Hue"
      }
    },
    {
      "cell_type": "code",
      "source": [
        "df = pd.read_csv(filename)\n",
        "df = df[df.columns[:-2]]\n",
        "df = df.sample(frac=1.0, random_state=99)\n",
        "print(df.shape)\n",
        "df.head()"
      ],
      "metadata": {
        "id": "dee0CQLL0KxS"
      },
      "execution_count": null,
      "outputs": []
    },
    {
      "cell_type": "markdown",
      "source": [
        "**Convert one column (Education_Level) to multiple columns**"
      ],
      "metadata": {
        "id": "Fm_7FlKg5MfL"
      }
    },
    {
      "cell_type": "code",
      "source": [
        "ce_ord = ce.OrdinalEncoder(cols = ['Education_Level'])\n",
        "ce_ord.fit_transform(X, y)"
      ],
      "metadata": {
        "id": "Nqa3Ye6I0HJy"
      },
      "execution_count": null,
      "outputs": []
    },
    {
      "cell_type": "markdown",
      "source": [
        "**The down side**, as you can see, is the columns have generic numbers instead of names. You now have to change the column names to something like Education_Level1,Education_Level2, etc."
      ],
      "metadata": {
        "id": "bk2MTYNP5YKZ"
      }
    },
    {
      "cell_type": "markdown",
      "source": [
        "# sklearn OneHotEncoder\n",
        "Use the sklearn OneHotEncoder instead"
      ],
      "metadata": {
        "id": "WCnnEflZ5xfp"
      }
    },
    {
      "cell_type": "code",
      "source": [
        "df = pd.read_csv(filename)\n",
        "df = df[df.columns[:-2]]\n",
        "df = df.sample(frac=1.0, random_state=99)\n",
        "print(df.shape)\n",
        "df.head()"
      ],
      "metadata": {
        "id": "55pjSkQl6cZg"
      },
      "execution_count": null,
      "outputs": []
    },
    {
      "cell_type": "code",
      "source": [
        "from sklearn.preprocessing import OneHotEncoder\n",
        "\n",
        "encoder=OneHotEncoder(sparse_output=False)\n",
        "\n",
        "df_encoded = pd.DataFrame (encoder.fit_transform(df[['Education_Level']]))\n",
        "\n",
        "df_encoded.columns = encoder.get_feature_names_out(['Education_Level'])\n",
        "\n",
        "df.drop(['Education_Level'] ,axis=1, inplace=True)\n",
        "\n",
        "df_ed_level_encoded= pd.concat([df, df_encoded ], axis=1)"
      ],
      "metadata": {
        "id": "VsZTW8SA4KqA"
      },
      "execution_count": null,
      "outputs": []
    },
    {
      "cell_type": "markdown",
      "source": [
        "Scroll to the end of the columns and see the one hot encoding of Education_Level"
      ],
      "metadata": {
        "id": "fhRGnt3t62L6"
      }
    },
    {
      "cell_type": "code",
      "source": [
        "df_ed_level_encoded"
      ],
      "metadata": {
        "id": "q88JxbBA6ntB"
      },
      "execution_count": null,
      "outputs": []
    },
    {
      "cell_type": "markdown",
      "source": [
        "\n",
        "\n",
        "---\n",
        "\n",
        "\n",
        "\n",
        "---\n",
        "\n"
      ],
      "metadata": {
        "id": "ZAh9PFgr7Zt6"
      }
    },
    {
      "cell_type": "markdown",
      "source": [
        "# SumEncoder"
      ],
      "metadata": {
        "id": "wT8TwYES7ae0"
      }
    },
    {
      "cell_type": "markdown",
      "source": [
        "Sum Encoder compares the mean of the dependent variable (target) for a given level of a categorical column to the overall mean of the target.\n",
        "\n",
        "Sum Encoding is very similar to OHE and both of them are commonly used in Linear Regression (LR) types of models.\n",
        "\n",
        "If you use Category-Encoders it will look like this code below."
      ],
      "metadata": {
        "id": "nzEKKVAg86m6"
      }
    },
    {
      "cell_type": "markdown",
      "source": [
        "SumEncoder (as the next 3 encoders) belongs to a class called “contrast encodings”. These encodings are designed to have a specific behaviour when used in regression problems. In other words, you use one of these encodings if you want the regression coefficients to have some specific properties.\n",
        "\n",
        "In particular, SumEncoder is used when you want the regression coefficients to have zero-sum."
      ],
      "metadata": {
        "id": "A-KiKd4A71Cr"
      }
    },
    {
      "cell_type": "markdown",
      "source": [
        "**Simple example of SumEncoder**"
      ],
      "metadata": {
        "id": "FAqcWOgF9HFC"
      }
    },
    {
      "cell_type": "code",
      "source": [
        "df2 = pd.DataFrame({\n",
        "    'color':[\"a\", \"b\", \"c\", \"d\"],\n",
        "    'outcome':[1, 2,  0, 1]})"
      ],
      "metadata": {
        "id": "cZVgolXV9I0u"
      },
      "execution_count": null,
      "outputs": []
    },
    {
      "cell_type": "code",
      "source": [
        "df2"
      ],
      "metadata": {
        "id": "g24_qy3u9a2T"
      },
      "execution_count": null,
      "outputs": []
    },
    {
      "cell_type": "markdown",
      "source": [
        "Step1: convert strings to numbers<br>\n",
        "Step2: convert numbers to SumEncoder"
      ],
      "metadata": {
        "id": "Ap_Zw0Bcp_GF"
      }
    },
    {
      "cell_type": "code",
      "source": [
        "ce_ord=ce.OrdinalEncoder(cols=['color'])\n",
        "ce_ord.fit_transform(df2,df2.outcome)\n",
        "\n",
        "ce_sum = ce.SumEncoder(cols = ['color'])\n",
        "ce_sum.fit_transform(df2,df2.outcome)"
      ],
      "metadata": {
        "id": "VPJQinw49O66"
      },
      "execution_count": null,
      "outputs": []
    },
    {
      "cell_type": "markdown",
      "source": [
        "\n",
        "\n",
        "---\n",
        "\n"
      ],
      "metadata": {
        "id": "pzc-IhMO9WT7"
      }
    },
    {
      "cell_type": "markdown",
      "source": [
        "**Dataframe example of SumEncoder**"
      ],
      "metadata": {
        "id": "6QXZdaD7F3Hg"
      }
    },
    {
      "cell_type": "code",
      "source": [
        "df = pd.read_csv(filename)\n",
        "df = df[df.columns[:-2]]\n",
        "df = df.sample(frac=1.0, random_state=99)\n",
        "print(df.shape)\n",
        "df.head(20)"
      ],
      "metadata": {
        "id": "8yfb2pJo8TcQ"
      },
      "execution_count": null,
      "outputs": []
    },
    {
      "cell_type": "markdown",
      "source": [
        "**SumEncode the categorical data**"
      ],
      "metadata": {
        "id": "AhAAIAeT_acz"
      }
    },
    {
      "cell_type": "code",
      "source": [
        "ce_sum = ce.SumEncoder(cols = ['Education_Level'])\n",
        "df_se= ce_sum.fit_transform(df)"
      ],
      "metadata": {
        "id": "cOB1r0n0Ezat"
      },
      "execution_count": null,
      "outputs": []
    },
    {
      "cell_type": "code",
      "source": [
        "df_se.head(20)"
      ],
      "metadata": {
        "id": "u8ikGEUwFhok"
      },
      "execution_count": null,
      "outputs": []
    },
    {
      "cell_type": "markdown",
      "source": [
        "# BackwardDifferenceEncoder"
      ],
      "metadata": {
        "id": "hRhI8zGiF7jV"
      }
    },
    {
      "cell_type": "markdown",
      "source": [
        "This encoder is useful for ordinal variables, i.e. variables whose levels can be ordered in a meaningful way. BackwardDifferenceEncoder is designed to compare adjacent levels."
      ],
      "metadata": {
        "id": "mCAd3ZBZGB2P"
      }
    },
    {
      "cell_type": "markdown",
      "source": [
        "Suppose you have an ordinable variable (e.g. education level) and you want to know how it is related to a numeric variable (e.g. income). It may be interesting to compare each couple of consecutive levels (e.g. bachelors vs. high-school, masters vs. bachelors) with respect to the target variable. This is what BackwardDifferenceEncoder is designed for."
      ],
      "metadata": {
        "id": "RTLFKbdlGUjv"
      }
    },
    {
      "cell_type": "markdown",
      "source": [
        "\n",
        "\n",
        "---\n",
        "\n"
      ],
      "metadata": {
        "id": "L1_K-7IsJim0"
      }
    },
    {
      "cell_type": "markdown",
      "source": [
        "**Simple Example**"
      ],
      "metadata": {
        "id": "pGLYdf48JfWs"
      }
    },
    {
      "cell_type": "code",
      "source": [
        "df2 = pd.DataFrame({\n",
        "    'color':[\"a\", \"b\", \"c\", \"d\"],\n",
        "    'outcome':[1, 2,  0, 1]})\n",
        "df2"
      ],
      "metadata": {
        "id": "JrdNaE6eG0Mc"
      },
      "execution_count": null,
      "outputs": []
    },
    {
      "cell_type": "code",
      "source": [
        "X2 = df2.drop('outcome', axis = 1)\n",
        "y2 = df2.drop('color', axis = 1)"
      ],
      "metadata": {
        "id": "B6Jf3y_MHRdC"
      },
      "execution_count": null,
      "outputs": []
    },
    {
      "cell_type": "code",
      "source": [
        "ce_backward = ce.BackwardDifferenceEncoder(cols = ['color'])\n",
        "ce_backward.fit_transform(X2, y2)"
      ],
      "metadata": {
        "id": "KHWLSWPmGpW6"
      },
      "execution_count": null,
      "outputs": []
    },
    {
      "cell_type": "markdown",
      "source": [
        "\n",
        "\n",
        "---\n",
        "\n"
      ],
      "metadata": {
        "id": "25jPtlgLJkQl"
      }
    },
    {
      "cell_type": "code",
      "source": [
        "ce_backward = ce.BackwardDifferenceEncoder(cols = ['Education_Level'])\n",
        "ce_backward.fit_transform(X,y)"
      ],
      "metadata": {
        "id": "MTptXF23IpX7"
      },
      "execution_count": null,
      "outputs": []
    },
    {
      "cell_type": "markdown",
      "source": [
        "# Helmert\n",
        "HelmertEncoder is very similar to BackwardDifferenceEncoder, but instead of being compared just to the previous one, each level is compared with all the previous levels.\n",
        "\n"
      ],
      "metadata": {
        "id": "2YoRbYuTJmAR"
      }
    },
    {
      "cell_type": "code",
      "source": [
        "ce_helmert = ce.HelmertEncoder(cols = ['Education_Level'])\n",
        "ce_helmert.fit_transform(X,y)"
      ],
      "metadata": {
        "id": "IX13Nh8IJvIc"
      },
      "execution_count": null,
      "outputs": []
    },
    {
      "cell_type": "markdown",
      "source": [
        "# Polynomial Encoder"
      ],
      "metadata": {
        "id": "gIzFcRx-LLA4"
      }
    },
    {
      "cell_type": "markdown",
      "source": [
        "PolynomialEncoder is designed to quantify linear, quadratic and cubic behaviors of the target variable with respect to the categorical variable."
      ],
      "metadata": {
        "id": "oM0JPBEuLOHY"
      }
    },
    {
      "cell_type": "markdown",
      "source": [
        "How can a numeric variable have a linear (or quadratic, or cubic) relation with a variable that is not numeric? <br>\n",
        "\n",
        "This is based on the assumption that the underlying categorical variable has levels that are not only ordinable, but also equally spaced.\n",
        "\n",
        "**For this reason, use it with care, only when you are sure that the assumption is reasonable.**"
      ],
      "metadata": {
        "id": "AkcNpYzkqXnT"
      }
    },
    {
      "cell_type": "code",
      "source": [
        "ce_poly = ce.PolynomialEncoder(cols = ['Education_Level'])\n",
        "ce_poly.fit_transform(X,y)"
      ],
      "metadata": {
        "id": "u962ACQELQiE"
      },
      "execution_count": null,
      "outputs": []
    },
    {
      "cell_type": "markdown",
      "source": [
        "# BinaryEncoder"
      ],
      "metadata": {
        "id": "4sLAymSpqQgS"
      }
    },
    {
      "cell_type": "markdown",
      "source": [
        "BinaryEncoder is basically the same of OrdinalEncoder, the only difference is that the integers are converted to binary numbers, then every positional digit is encoded."
      ],
      "metadata": {
        "id": "tx-kI6v8rJ7F"
      }
    },
    {
      "cell_type": "markdown",
      "source": [
        "**Simple Example**"
      ],
      "metadata": {
        "id": "gAVP8IRTrma_"
      }
    },
    {
      "cell_type": "code",
      "source": [
        "df2 = pd.DataFrame({\n",
        "    'color':[\"a\", \"b\", \"c\", \"d\",\"e\"],\n",
        "    'outcome':[1, 2,  0, 1,0]})\n",
        "df2"
      ],
      "metadata": {
        "id": "K3RinL9Jroo8"
      },
      "execution_count": null,
      "outputs": []
    },
    {
      "cell_type": "code",
      "source": [
        "bin_color=ce.BinaryEncoder(cols=['color'])\n",
        "bin_color.fit_transform(df2.color,df2.outcome)"
      ],
      "metadata": {
        "id": "wpX0u765r3yi"
      },
      "execution_count": null,
      "outputs": []
    },
    {
      "cell_type": "code",
      "source": [
        "ce_bin = ce.BinaryEncoder(cols = ['Education_Level'])\n",
        "ce_bin.fit_transform(X, y)"
      ],
      "metadata": {
        "id": "Z5nXoXc4qQxp"
      },
      "execution_count": null,
      "outputs": []
    },
    {
      "cell_type": "markdown",
      "source": [
        "# BaseNEncoder"
      ],
      "metadata": {
        "id": "BS7yNelGs3GC"
      }
    },
    {
      "cell_type": "markdown",
      "source": [
        "BaseNEncoder is simply a generalization of the BinaryEncoder. <br>\n",
        "\n",
        "In fact, in BinaryEncoder, the numbers are in base 2, whereas in BaseNEncoder, numbers are in base n, with n greater than 1.\n",
        "\n",
        "Base-N encoder encodes the categories into arrays of their base-N representation. A base of 1 is equivalent to one-hot encoding (not really base-1, but useful), a base of 2 is equivalent to binary encoding. N=number of actual categories is equivalent to vanilla ordinal encoding.\n"
      ],
      "metadata": {
        "id": "5exLtJz9s-J0"
      }
    },
    {
      "cell_type": "markdown",
      "source": [
        "This method is only relevant if this estimator is used as a sub-estimator of a meta-estimator, e.g. used inside a Pipeline. Otherwise it has no effect.\n",
        "\n"
      ],
      "metadata": {
        "id": "Xl9U3v-yt1HI"
      }
    },
    {
      "cell_type": "markdown",
      "source": [
        "**Simple Example**"
      ],
      "metadata": {
        "id": "aVt4uLIlxbq_"
      }
    },
    {
      "cell_type": "code",
      "source": [
        "df2 = pd.DataFrame({\n",
        "    'color':[\"a\", \"b\", \"c\", \"d\",\"e\"],\n",
        "    'outcome':[1, 2,  0, 1, 0]})\n",
        "df2"
      ],
      "metadata": {
        "id": "U_YUpJNbs3Uz"
      },
      "execution_count": null,
      "outputs": []
    },
    {
      "cell_type": "code",
      "source": [
        "ce_basen = ce.BaseNEncoder(cols = ['color'])\n",
        "ce_basen.fit_transform(df2.color,df2.outcome)"
      ],
      "metadata": {
        "id": "8_GJhZ6StFXQ"
      },
      "execution_count": null,
      "outputs": []
    },
    {
      "cell_type": "markdown",
      "source": [
        "\n",
        "\n",
        "---\n",
        "\n",
        "\n",
        "\n",
        "---\n",
        "\n"
      ],
      "metadata": {
        "id": "tCf0RluPxcxy"
      }
    },
    {
      "cell_type": "code",
      "source": [
        "ce_basen = ce.BaseNEncoder(cols = ['Education_Level'])\n",
        "ce_basen.fit_transform(X, y)"
      ],
      "metadata": {
        "id": "K0Yu28Pzu0K9"
      },
      "execution_count": null,
      "outputs": []
    },
    {
      "cell_type": "markdown",
      "source": [
        "# HashingEncoder\n",
        "\n",
        "A multivariate hashing implementation with configurable dimensionality/precision.\n",
        "\n",
        "The advantage of this encoder is that it does not maintain a dictionary of observed categories. Consequently, the encoder does not grow in size and accepts new values during data scoring by design.\n",
        "\n",
        "It’s important to read about how max_process & max_sample work before setting them manually, inappropriate setting slows down encoding.\n",
        "\n",
        "Default value of ‘max_process’ is 1 on Windows because multiprocessing might cause issues, see in : https://github.com/scikit-learn-contrib/categorical-encoding/issues/215 https://docs.python.org/2/library/multiprocessing.html?highlight=process#windows"
      ],
      "metadata": {
        "id": "A0baQAU0vJ1R"
      }
    },
    {
      "cell_type": "markdown",
      "source": [
        "**Hashing** is the process of transforming any given key or a string of characters into another value. This is usually represented by a shorter, fixed-length value or key that represents and makes it easier to find or employ the original string. The most popular use for hashing is the implementation of hash tables."
      ],
      "metadata": {
        "id": "FdAKHQIfweFz"
      }
    },
    {
      "cell_type": "markdown",
      "source": [
        "**Simple Example**"
      ],
      "metadata": {
        "id": "qo92Uy20xS1b"
      }
    },
    {
      "cell_type": "code",
      "source": [
        "df2 = pd.DataFrame({\n",
        "    'color':[\"a\", \"b\", \"c\", \"d\",\"e\"],\n",
        "    'outcome':[1, 2,  0, 1, 0]})\n",
        "df2"
      ],
      "metadata": {
        "id": "rJ1bZ-Ivvobu"
      },
      "execution_count": null,
      "outputs": []
    },
    {
      "cell_type": "code",
      "source": [
        "ce_hash = ce.HashingEncoder(cols = ['color'])\n",
        "ce_hash.fit_transform(df2.color,df2.outcome)"
      ],
      "metadata": {
        "id": "2T3Ak3ZVvKCk"
      },
      "execution_count": null,
      "outputs": []
    },
    {
      "cell_type": "markdown",
      "source": [
        "\n",
        "\n",
        "---\n",
        "\n",
        "\n",
        "\n",
        "---\n",
        "\n"
      ],
      "metadata": {
        "id": "yRGbqgkqxX38"
      }
    },
    {
      "cell_type": "code",
      "source": [
        "ce_hash = ce.HashingEncoder(cols = ['Education_Level'])\n",
        "ce_hash.fit_transform(X, y)"
      ],
      "metadata": {
        "id": "vwMLJBUkwm1G"
      },
      "execution_count": null,
      "outputs": []
    },
    {
      "cell_type": "markdown",
      "source": [
        "The fundamental property of hashing is that the resulting integer is uniformly distributed. So, if you take a divisor big enough, it’s unlikely that two different strings are mapped to the same integer. Why would that be useful? Actually, this has a very practical application called “hashing trick”.\n",
        "\n",
        "Imagine that you want to make an email spam classifier using a logistic regression. You could do that by one-hot-encoding all the words contained in your dataset. The main downsides are that you would need to store the mapping in a separate dictionary and your model dimensions would change any time that new strings appear.\n",
        "\n",
        "These issues may be easily overcome by using the hashing trick, because by hashing the input, you don’t need a dictionary anymore and your output dimension is fixed (it depends only on the divisor that you choose initially). Moreover, for the properties of hashing, you are granted that a new string will likely have a different encoding than the existing ones.\n",
        "\n"
      ],
      "metadata": {
        "id": "EV-lXaIYxEZ5"
      }
    },
    {
      "cell_type": "markdown",
      "source": [
        "# TargetEncoder"
      ],
      "metadata": {
        "id": "QlDahS83xmki"
      }
    },
    {
      "cell_type": "markdown",
      "source": [
        "This method is only relevant if this estimator is used as a sub-estimator of a meta-estimator, e.g. used inside a Pipeline. Otherwise it has no effect."
      ],
      "metadata": {
        "id": "hhYWD4xqyckO"
      }
    },
    {
      "cell_type": "markdown",
      "source": [
        "Some encoders behave differently on whether y is given or not. This is mainly due to regularisation in order to avoid overfitting.\n",
        "\n",
        "**On training data transform should be called with y**,<br>\n",
        "**On test data without**."
      ],
      "metadata": {
        "id": "TzqZdL_nykSD"
      }
    },
    {
      "cell_type": "markdown",
      "source": [
        "In TargetEncoder, the weight depends on the group numerosity and on a parameter called “smoothing”. When smoothing is 0, we rely solely on group means. Then, as smoothing increases, the global mean weights more and more, leading to a stronger regularization.\n",
        "\n"
      ],
      "metadata": {
        "id": "UTUhUsnryODn"
      }
    },
    {
      "cell_type": "markdown",
      "source": [
        "**Simple Example**"
      ],
      "metadata": {
        "id": "cv8RdHpUzlyw"
      }
    },
    {
      "cell_type": "code",
      "source": [
        "df2 = pd.DataFrame({\n",
        "    'color':[\"a\", \"b\", \"c\", \"d\",\"e\"],\n",
        "    'outcome':[1, 2,  0, 1, 0]})\n",
        "df2"
      ],
      "metadata": {
        "id": "ddQjQfvXxvs_"
      },
      "execution_count": null,
      "outputs": []
    },
    {
      "cell_type": "code",
      "source": [
        "# Target with default parameters\n",
        "ce_target = ce.TargetEncoder(cols = ['color'])\n",
        "\n",
        "ce_target.fit(df2.color, df2.outcome)\n",
        "# Must pass the series for y in v1.2.8\n",
        "\n",
        "ce_target.transform(df2.color, df2.outcome)"
      ],
      "metadata": {
        "id": "P9cyhLwrxqex"
      },
      "execution_count": null,
      "outputs": []
    },
    {
      "cell_type": "code",
      "source": [
        "df = pd.read_csv(filename)\n",
        "df = df[df.columns[:-2]]\n",
        "df = df.sample(frac=1.0, random_state=99)\n",
        "print(df.shape)\n",
        "df.head()\n"
      ],
      "metadata": {
        "id": "oKOIMLwFz_ZL"
      },
      "execution_count": null,
      "outputs": []
    },
    {
      "cell_type": "code",
      "source": [
        "df['Attrition_Flag'].replace(['Existing Customer','Attrited Customer'],\n",
        "                        [0,1], inplace=True)"
      ],
      "metadata": {
        "id": "FbBe5Kx515IZ"
      },
      "execution_count": null,
      "outputs": []
    },
    {
      "cell_type": "code",
      "source": [
        "ce_target = ce.TargetEncoder(cols = ['Education_Level'])\n",
        "ce_target.fit(X, y)\n",
        "ce_target.transform(X, y)"
      ],
      "metadata": {
        "id": "-G4ebsvKzXkf"
      },
      "execution_count": null,
      "outputs": []
    },
    {
      "cell_type": "markdown",
      "source": [
        "\n",
        "\n",
        "---\n",
        "\n",
        "\n",
        "\n",
        "---\n",
        "\n"
      ],
      "metadata": {
        "id": "3jrUh9SCzXW9"
      }
    }
  ]
}