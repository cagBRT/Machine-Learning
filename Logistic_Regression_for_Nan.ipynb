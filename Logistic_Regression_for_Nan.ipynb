{
  "nbformat": 4,
  "nbformat_minor": 0,
  "metadata": {
    "colab": {
      "name": "Logistic Regression for Nan.ipynb",
      "private_outputs": true,
      "provenance": [],
      "authorship_tag": "ABX9TyOOT7RuGJf5dezZhnK80fr2",
      "include_colab_link": true
    },
    "kernelspec": {
      "name": "python3",
      "display_name": "Python 3"
    }
  },
  "cells": [
    {
      "cell_type": "markdown",
      "metadata": {
        "id": "view-in-github",
        "colab_type": "text"
      },
      "source": [
        "<a href=\"https://colab.research.google.com/github/cagBRT/Machine-Learning/blob/master/Logistic_Regression_for_Nan.ipynb\" target=\"_parent\"><img src=\"https://colab.research.google.com/assets/colab-badge.svg\" alt=\"Open In Colab\"/></a>"
      ]
    },
    {
      "cell_type": "code",
      "metadata": {
        "id": "5SsgOyNl12La"
      },
      "source": [
        "import matplotlib.pyplot as plt\n",
        "import seaborn as sns\n",
        "from sklearn.model_selection import train_test_split\n",
        "from sklearn.linear_model import LogisticRegression\n",
        "from sklearn import metrics\n",
        "from sklearn.datasets import make_classification\n"
      ],
      "execution_count": null,
      "outputs": []
    },
    {
      "cell_type": "markdown",
      "metadata": {
        "id": "8XF4uLzv3F75"
      },
      "source": [
        "**Make Sythnetic Data**<br>\n",
        "300 samples<br>\n",
        "30 input features<br>\n",
        "2 classes<br>\n"
      ]
    },
    {
      "cell_type": "code",
      "metadata": {
        "id": "nU2ic_vv10_9"
      },
      "source": [
        "X,y = make_classification(n_samples=300, n_features=30,  n_classes=2, n_clusters_per_class=1)"
      ],
      "execution_count": null,
      "outputs": []
    },
    {
      "cell_type": "code",
      "metadata": {
        "id": "LTGcslMhWt0u"
      },
      "source": [
        "X"
      ],
      "execution_count": null,
      "outputs": []
    },
    {
      "cell_type": "code",
      "metadata": {
        "id": "ZlpePdXH25tB"
      },
      "source": [
        "X_train, X_test, y_train, y_test = train_test_split(\n",
        "    X, y, test_size=0.27, random_state=42)"
      ],
      "execution_count": null,
      "outputs": []
    },
    {
      "cell_type": "markdown",
      "metadata": {
        "id": "cBLGkrA53-dZ"
      },
      "source": [
        "**The data is split into 219 training samples and 81 test samples**"
      ]
    },
    {
      "cell_type": "code",
      "metadata": {
        "id": "QB4LzDUM3mXy"
      },
      "source": [
        "print(\"X_train: \", X_train.shape)\n",
        "print(\"X_test: \", X_test.shape)"
      ],
      "execution_count": null,
      "outputs": []
    },
    {
      "cell_type": "markdown",
      "metadata": {
        "id": "1hxsUI504CRS"
      },
      "source": [
        "**Train the model on the training data**"
      ]
    },
    {
      "cell_type": "code",
      "metadata": {
        "id": "1ZOZf7MY4ha_"
      },
      "source": [
        "model_lr = LogisticRegression(random_state=0).fit(X_train, y_train)"
      ],
      "execution_count": null,
      "outputs": []
    },
    {
      "cell_type": "markdown",
      "metadata": {
        "id": "cL44vx3351Xo"
      },
      "source": [
        "**Predict with the model**"
      ]
    },
    {
      "cell_type": "code",
      "metadata": {
        "id": "OBMah56K53XT"
      },
      "source": [
        "predictions = model_lr.predict(X_test)"
      ],
      "execution_count": null,
      "outputs": []
    },
    {
      "cell_type": "markdown",
      "metadata": {
        "id": "_Y6pjI7659yv"
      },
      "source": [
        "**Measure accuracy of the model**"
      ]
    },
    {
      "cell_type": "code",
      "metadata": {
        "id": "-fjKuYAB6FbO"
      },
      "source": [
        "# Use score method to get accuracy of model\n",
        "score = model_lr.score(X_test, y_test)\n",
        "print(score)"
      ],
      "execution_count": null,
      "outputs": []
    },
    {
      "cell_type": "markdown",
      "metadata": {
        "id": "HN0PLDUc6b1y"
      },
      "source": [
        "**The confusion matrix**<br>\n",
        "The model makes: <br>\n",
        ">Correct true positive predictions, position [0,0]<br>\n",
        "Correct true negative predictions, position [1,1]<br>\n",
        "False positves,position [0,1]<br>\n",
        "False negative, position [1,0]<br>"
      ]
    },
    {
      "cell_type": "code",
      "metadata": {
        "id": "_CKjfsfr6cAW"
      },
      "source": [
        "cm = metrics.confusion_matrix(y_test, predictions)\n",
        "print(cm)"
      ],
      "execution_count": null,
      "outputs": []
    },
    {
      "cell_type": "markdown",
      "metadata": {
        "id": "LRjXid5z7S6T"
      },
      "source": [
        "**The confusion matrix plotted nicely**"
      ]
    },
    {
      "cell_type": "code",
      "metadata": {
        "id": "mld4Z7r-7EyR"
      },
      "source": [
        "plt.figure(figsize=(9,9))\n",
        "sns.heatmap(cm, annot=True, fmt=\".3f\", linewidths=.5, square = True, cmap = 'Blues_r');\n",
        "plt.ylabel('Actual label');\n",
        "plt.xlabel('Predicted label');\n",
        "all_sample_title = 'Accuracy Score: {0}'.format(score)\n",
        "plt.title(all_sample_title, size = 15);"
      ],
      "execution_count": null,
      "outputs": []
    }
  ]
}