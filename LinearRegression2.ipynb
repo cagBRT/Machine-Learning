{
  "nbformat": 4,
  "nbformat_minor": 0,
  "metadata": {
    "colab": {
      "name": "LinearRegression2.ipynb",
      "private_outputs": true,
      "provenance": [],
      "authorship_tag": "ABX9TyNvJkfaZ6f9e820WE2iSAAD",
      "include_colab_link": true
    },
    "kernelspec": {
      "name": "python3",
      "display_name": "Python 3"
    }
  },
  "cells": [
    {
      "cell_type": "markdown",
      "metadata": {
        "id": "view-in-github",
        "colab_type": "text"
      },
      "source": [
        "<a href=\"https://colab.research.google.com/github/cagBRT/Machine-Learning/blob/master/LinearRegression2.ipynb\" target=\"_parent\"><img src=\"https://colab.research.google.com/assets/colab-badge.svg\" alt=\"Open In Colab\"/></a>"
      ]
    },
    {
      "cell_type": "markdown",
      "metadata": {
        "id": "BBGFq5o1urWZ"
      },
      "source": [
        "**Import the required libraries**"
      ]
    },
    {
      "cell_type": "code",
      "metadata": {
        "id": "NzsMVHAiJA4t"
      },
      "source": [
        "import numpy as np\n",
        "import matplotlib.pyplot as plt\n",
        "from sklearn.linear_model import LinearRegression\n",
        "from sklearn import datasets, linear_model\n",
        "from sklearn.datasets import load_diabetes \n",
        "from sklearn.model_selection import train_test_split\n",
        "from sklearn.metrics import mean_squared_error, r2_score"
      ],
      "execution_count": null,
      "outputs": []
    },
    {
      "cell_type": "markdown",
      "metadata": {
        "id": "PAXfk-nGuviW"
      },
      "source": [
        "**Load the dataset**<br>\n",
        "This is a real dataset from the sklearn library"
      ]
    },
    {
      "cell_type": "code",
      "metadata": {
        "id": "ygxKScsku3Pt"
      },
      "source": [
        "diabetes = load_diabetes()"
      ],
      "execution_count": null,
      "outputs": []
    },
    {
      "cell_type": "code",
      "metadata": {
        "id": "9d7318E5u-5l"
      },
      "source": [
        "diabetes.DESCR"
      ],
      "execution_count": null,
      "outputs": []
    },
    {
      "cell_type": "code",
      "metadata": {
        "id": "CA-1bTVzu7Vi"
      },
      "source": [
        "diabetes.feature_names"
      ],
      "execution_count": null,
      "outputs": []
    },
    {
      "cell_type": "code",
      "metadata": {
        "id": "WZgqQ5yeQTbZ"
      },
      "source": [
        "# Load the diabetes dataset\n",
        "diabetes_X, diabetes_y = datasets.load_diabetes(return_X_y=True)\n",
        "\n",
        "# Use only one feature - in the case 'age'\n",
        "#For assignment 1, change the 0 to another column\n",
        "#For Assignment 2, comment out the line below\n",
        "diabetes_X = diabetes_X[:, np.newaxis, 0]\n",
        "\n",
        "#split into train and test datasets\n",
        "X_train, X_test, y_train, y_test = train_test_split(diabetes_X, diabetes_y, test_size=0.2, random_state=0)\n",
        "X_train.shape\n"
      ],
      "execution_count": null,
      "outputs": []
    },
    {
      "cell_type": "code",
      "metadata": {
        "id": "GYE7XgvcQ35h"
      },
      "source": [
        "print(diabetes_X.shape)\n",
        "print(X_train.shape)\n",
        "print(X_test.shape)"
      ],
      "execution_count": null,
      "outputs": []
    },
    {
      "cell_type": "code",
      "metadata": {
        "id": "XjyYN0Uv9flh"
      },
      "source": [
        "print(y_train)"
      ],
      "execution_count": null,
      "outputs": []
    },
    {
      "cell_type": "markdown",
      "metadata": {
        "id": "MhXNDzwovfbH"
      },
      "source": [
        "**Create and train the model**"
      ]
    },
    {
      "cell_type": "code",
      "metadata": {
        "id": "W5pYa8-hRCWV"
      },
      "source": [
        "# Create linear regression object\n",
        "regr = linear_model.LinearRegression()"
      ],
      "execution_count": null,
      "outputs": []
    },
    {
      "cell_type": "code",
      "metadata": {
        "id": "xyOQBytXQgcr"
      },
      "source": [
        "# Train the model using the training sets\n",
        "regr.fit(X_train, y_train)"
      ],
      "execution_count": null,
      "outputs": []
    },
    {
      "cell_type": "markdown",
      "metadata": {
        "id": "dtHLb1fEvljy"
      },
      "source": [
        "**Test the model** "
      ]
    },
    {
      "cell_type": "code",
      "metadata": {
        "id": "JJ3MZpEsvlu0"
      },
      "source": [
        "# Make predictions using the testing set\n",
        "y_pred = regr.predict(X_test)"
      ],
      "execution_count": null,
      "outputs": []
    },
    {
      "cell_type": "markdown",
      "metadata": {
        "id": "x8rT0XfkCtBm"
      },
      "source": [
        "**Get the slope and y-intercept**<br>\n",
        "The slope and y-intercept for diabetes and age<br>\n",
        "As you can see, our model is not very accurate"
      ]
    },
    {
      "cell_type": "code",
      "metadata": {
        "id": "pPXNcgLtP04d"
      },
      "source": [
        "# The coefficients\n",
        "print('Coefficients: ', regr.coef_)\n",
        "print('Intercept: ', regr.intercept_)\n",
        "# The mean squared error\n",
        "print('Mean squared error: %.2f'\n",
        "      % mean_squared_error(y_test, y_pred))\n",
        "# The coefficient of determination: 1 is perfect prediction\n",
        "print('Score: ',regr.score(X_test, y_test))"
      ],
      "execution_count": null,
      "outputs": []
    },
    {
      "cell_type": "code",
      "metadata": {
        "id": "qgbeFXOCvUY4"
      },
      "source": [
        "print(regr.coef_[0])\n",
        "print(X_test[0][0])"
      ],
      "execution_count": null,
      "outputs": []
    },
    {
      "cell_type": "markdown",
      "metadata": {
        "id": "1t7CaPtFILSs"
      },
      "source": [
        "**Plot the line and the test data**"
      ]
    },
    {
      "cell_type": "code",
      "metadata": {
        "id": "Kmp844n1ikSm"
      },
      "source": [
        "#assign x two values,-3 and 3\n",
        "x_vals = (-.2,.2)\n",
        "y_vals = regr.intercept_ + regr.coef_[0:1] * x_vals\n",
        "#plot the line using the x and y values\n",
        "plt.plot(x_vals, y_vals, color='red')\n",
        "plt.scatter(X_test[:,0],y_test, color='blue')\n",
        "plt.show()"
      ],
      "execution_count": null,
      "outputs": []
    },
    {
      "cell_type": "markdown",
      "metadata": {
        "id": "gruunEHBDOrS"
      },
      "source": [
        "**Assignment 1**<br>\n",
        "1. Pick a different feature\n",
        "2. Train the model\n",
        "3. Plot the line and the model"
      ]
    },
    {
      "cell_type": "markdown",
      "metadata": {
        "id": "lI5GBVmNDbFG"
      },
      "source": [
        "**Assignment 2**<br>\n",
        "Use all the features for a multiple linear regression<br>\n",
        "1. Comment out the line where you select a feature<br>\n",
        "2. Notice what happens to the coefficients <br>\n",
        "3. Use the plot function below to plot"
      ]
    },
    {
      "cell_type": "markdown",
      "metadata": {
        "id": "nDX9X56yClKD"
      },
      "source": [
        "**Plot when using all the features**"
      ]
    },
    {
      "cell_type": "code",
      "metadata": {
        "id": "Qv5GQcEIQj3x"
      },
      "source": [
        "# Plot outputs\n",
        "plt.figure(figsize=[10,10]) \n",
        "for i in range(9):\n",
        "  plt.plot(X_test[:][i],regr.intercept_ + regr.coef_[i]*X_test[i], color='red')\n",
        " \n",
        "plt.scatter(X_test[:,0],y_test, color='blue')\n",
        "plt.xticks()\n",
        "plt.xlabel(\"X_test\")\n",
        "plt.ylabel(\"y_test\")\n",
        "plt.show()"
      ],
      "execution_count": null,
      "outputs": []
    }
  ]
}