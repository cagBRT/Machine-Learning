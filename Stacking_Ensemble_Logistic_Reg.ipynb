{
  "nbformat": 4,
  "nbformat_minor": 0,
  "metadata": {
    "colab": {
      "provenance": [],
      "include_colab_link": true
    },
    "kernelspec": {
      "name": "python3",
      "display_name": "Python 3"
    },
    "language_info": {
      "name": "python"
    }
  },
  "cells": [
    {
      "cell_type": "markdown",
      "metadata": {
        "id": "view-in-github",
        "colab_type": "text"
      },
      "source": [
        "<a href=\"https://colab.research.google.com/github/cagBRT/Machine-Learning/blob/master/Stacking_Ensemble_Logistic_Reg.ipynb\" target=\"_parent\"><img src=\"https://colab.research.google.com/assets/colab-badge.svg\" alt=\"Open In Colab\"/></a>"
      ]
    },
    {
      "cell_type": "markdown",
      "source": [
        "# Stacking Generalization is an ensemble machine learning algorithm.\n",
        "\n",
        "It uses a meta-learning algorithm to learn how to best combine the predictions from two or more base machine learning algorithms."
      ],
      "metadata": {
        "id": "yIn64D4grtH0"
      }
    },
    {
      "cell_type": "markdown",
      "source": [
        "Given multiple machine learning models that are skillful on a problem, but in different ways, how do you choose which model to use (trust)?"
      ],
      "metadata": {
        "id": "sm2nyPoSr_Ff"
      }
    },
    {
      "cell_type": "markdown",
      "source": [
        "Unlike bagging, **in stacking, the models are typically different** (e.g. not all decision trees) and fit on the same dataset (e.g. instead of samples of the training dataset).\n",
        "\n",
        "Unlike boosting, **in stacking, a single model is used to learn how to best combine the predictions from the contributing models** (e.g. instead of a sequence of models that correct the predictions of prior models)."
      ],
      "metadata": {
        "id": "YwjsELGzsCND"
      }
    },
    {
      "cell_type": "markdown",
      "source": [
        "**Level-0 Models (Base-Models):** Models fit on the training data and whose predictions are compiled.\n",
        "\n",
        "\n",
        "**Level-1 Model (Meta-Model):** Model that learns how to best combine the predictions of the base models.\n"
      ],
      "metadata": {
        "id": "7CU78153sMpB"
      }
    },
    {
      "cell_type": "markdown",
      "source": [
        "Stacking can be implemented from scratch, although this can be challenging for beginners.\n",
        "\n",
        "For an example of implementing stacking from scratch in Python, see the tutorial:\n",
        "\n",
        "How to Implement Stacked Generalization (Stacking) From Scratch With Python\n",
        "For an example of implementing stacking from scratch for deep learning, see the tutorial:\n",
        "\n",
        "How to Develop a Stacking Ensemble for Deep Learning Neural Networks in Python\n",
        "The scikit-learn Python machine learning library provides an implementation of stacking for machine learning.\n",
        "\n"
      ],
      "metadata": {
        "id": "ysRGRAMesb1J"
      }
    },
    {
      "cell_type": "markdown",
      "source": [
        "# Import the Libraries"
      ],
      "metadata": {
        "id": "bH8vU72_3KM2"
      }
    },
    {
      "cell_type": "code",
      "source": [
        "# 1. compare standalone models for binary classification\n",
        "# 2. compare ensemble to each baseline classifier\n",
        "from numpy import mean\n",
        "from numpy import std\n",
        "from sklearn.datasets import make_classification\n",
        "from sklearn.model_selection import cross_val_score\n",
        "from sklearn.model_selection import RepeatedStratifiedKFold\n",
        "from sklearn.linear_model import LogisticRegression\n",
        "from sklearn.neighbors import KNeighborsClassifier\n",
        "from sklearn.tree import DecisionTreeClassifier\n",
        "from sklearn.svm import SVC\n",
        "from sklearn.naive_bayes import GaussianNB\n",
        "from sklearn.ensemble import StackingClassifier\n",
        "from matplotlib import pyplot"
      ],
      "metadata": {
        "id": "ExzUovUIspHY"
      },
      "execution_count": null,
      "outputs": []
    },
    {
      "cell_type": "markdown",
      "source": [
        "# Helper functions"
      ],
      "metadata": {
        "id": "XeoqXNNty0tz"
      }
    },
    {
      "cell_type": "code",
      "source": [
        "# get the dataset\n",
        "def get_dataset():\n",
        " X, y = make_classification(n_samples=1000, n_features=20, n_informative=15, n_redundant=5, random_state=1)\n",
        " return X, y"
      ],
      "metadata": {
        "id": "YiZrw13BswWw"
      },
      "execution_count": null,
      "outputs": []
    },
    {
      "cell_type": "code",
      "source": [
        "# get a list of models to evaluate\n",
        "def get_models():\n",
        "\tmodels = dict()\n",
        "\tmodels['lr'] = LogisticRegression()\n",
        "\tmodels['knn'] = KNeighborsClassifier()\n",
        "\tmodels['cart'] = DecisionTreeClassifier()\n",
        "\tmodels['svm'] = SVC()\n",
        "\tmodels['bayes'] = GaussianNB()\n",
        "\treturn models"
      ],
      "metadata": {
        "id": "AeuvuN0uszgx"
      },
      "execution_count": null,
      "outputs": []
    },
    {
      "cell_type": "code",
      "source": [
        "# evaluate a given model using cross-validation\n",
        "def evaluate_model(model, X, y):\n",
        "\tcv = RepeatedStratifiedKFold(n_splits=10, n_repeats=3, random_state=1)\n",
        "\tscores = cross_val_score(model, X, y, scoring='accuracy', cv=cv, n_jobs=-1, error_score='raise')\n",
        "\treturn scores\n"
      ],
      "metadata": {
        "id": "nZg-izj1s4hV"
      },
      "execution_count": null,
      "outputs": []
    },
    {
      "cell_type": "markdown",
      "source": [
        "**Generate the data**"
      ],
      "metadata": {
        "id": "EblpL-uZy_8v"
      }
    },
    {
      "cell_type": "code",
      "source": [
        "X, y = get_dataset()"
      ],
      "metadata": {
        "id": "pRDfkif3wjZc"
      },
      "execution_count": null,
      "outputs": []
    },
    {
      "cell_type": "markdown",
      "source": [
        "# Evaluate the models"
      ],
      "metadata": {
        "id": "_7bb_4G8zE7I"
      }
    },
    {
      "cell_type": "code",
      "source": [
        "# get the models to evaluate\n",
        "models = get_models()\n",
        "# evaluate the models and store results\n",
        "results, names = list(), list()\n",
        "for name, model in models.items():\n",
        "\tscores = evaluate_model(model, X, y)\n",
        "\tresults.append(scores)\n",
        "\tnames.append(name)\n",
        "\tprint('>%s %.3f (%.3f)' % (name, mean(scores), std(scores)))"
      ],
      "metadata": {
        "colab": {
          "base_uri": "https://localhost:8080/"
        },
        "id": "7YGaH8diwpx_",
        "outputId": "d0dd8aaa-450e-405f-db6a-cd76ce3c78dc"
      },
      "execution_count": null,
      "outputs": [
        {
          "output_type": "stream",
          "name": "stdout",
          "text": [
            ">lr 0.866 (0.029)\n",
            ">knn 0.931 (0.025)\n",
            ">cart 0.829 (0.044)\n",
            ">svm 0.957 (0.020)\n",
            ">bayes 0.833 (0.031)\n"
          ]
        }
      ]
    },
    {
      "cell_type": "code",
      "source": [
        "# plot model performance for comparison\n",
        "pyplot.boxplot(results, labels=names, showmeans=True)\n",
        "pyplot.show()"
      ],
      "metadata": {
        "colab": {
          "base_uri": "https://localhost:8080/",
          "height": 431
        },
        "id": "EQA9FfZys7mc",
        "outputId": "f884d924-df08-4002-b6ff-abe9bf523f2c"
      },
      "execution_count": null,
      "outputs": [
        {
          "output_type": "display_data",
          "data": {
            "text/plain": [
              "<Figure size 640x480 with 1 Axes>"
            ],
            "image/png": "[encoded data removed]"
          },
          "metadata": {}
        }
      ]
    },
    {
      "cell_type": "markdown",
      "source": [
        "We can see that in this case, SVM performs the best with about 95.7 percent mean accuracy."
      ],
      "metadata": {
        "id": "axCeJCH7tMYo"
      }
    },
    {
      "cell_type": "markdown",
      "source": [
        "A box-and-whisker plot is then created comparing the distribution accuracy scores for each model, allowing us to clearly see that KNN and SVM perform better on average than LR, CART, and Bayes."
      ],
      "metadata": {
        "id": "fr4juEVMtQez"
      }
    },
    {
      "cell_type": "markdown",
      "source": [
        "# Compare the models to Stacking"
      ],
      "metadata": {
        "id": "eDHdsGfCzLwL"
      }
    },
    {
      "cell_type": "markdown",
      "source": [
        "We have five different algorithms that perform well, presumably in different ways on this dataset.\n",
        "\n",
        "Next, we can try to combine these five models into a single ensemble model using stacking.\n",
        "\n",
        "We can use a logistic regression model to learn how to best combine the predictions from each of the separate five models.\n",
        "\n"
      ],
      "metadata": {
        "id": "2Gm9dK5itX8l"
      }
    },
    {
      "cell_type": "code",
      "source": [
        "# get a stacking ensemble of models\n",
        "def get_stacking():\n",
        " # define the base models\n",
        " level0 = list()\n",
        " level0.append(('lr', LogisticRegression()))\n",
        " level0.append(('knn', KNeighborsClassifier()))\n",
        " level0.append(('cart', DecisionTreeClassifier()))\n",
        " level0.append(('svm', SVC()))\n",
        " level0.append(('bayes', GaussianNB()))\n",
        " # define meta learner model\n",
        " level1 = LogisticRegression()\n",
        " # define the stacking ensemble\n",
        " model = StackingClassifier(estimators=level0, final_estimator=level1, cv=5)\n",
        " return model"
      ],
      "metadata": {
        "id": "fla0BrxMtM4A"
      },
      "execution_count": null,
      "outputs": []
    },
    {
      "cell_type": "code",
      "source": [
        "# get a list of models to evaluate\n",
        "def get_models_stacking():\n",
        " models = dict()\n",
        " models['lr'] = LogisticRegression()\n",
        " models['knn'] = KNeighborsClassifier()\n",
        " models['cart'] = DecisionTreeClassifier()\n",
        " models['svm'] = SVC()\n",
        " models['bayes'] = GaussianNB()\n",
        " models['stacking'] = get_stacking()\n",
        " return models"
      ],
      "metadata": {
        "id": "v4t6uD-Jtt2V"
      },
      "execution_count": null,
      "outputs": []
    },
    {
      "cell_type": "code",
      "source": [
        "# evaluate a give model using cross-validation\n",
        "def evaluate_model(model, X, y):\n",
        " cv = RepeatedStratifiedKFold(n_splits=10, n_repeats=3, random_state=1)\n",
        " scores = cross_val_score(model, X, y, scoring='accuracy', cv=cv, n_jobs=-1, error_score='raise')\n",
        " return scores"
      ],
      "metadata": {
        "id": "SbPNqaDdtz2a"
      },
      "execution_count": null,
      "outputs": []
    },
    {
      "cell_type": "code",
      "source": [
        "# define dataset\n",
        "X, y = get_dataset()"
      ],
      "metadata": {
        "id": "4JEcorbozaOW"
      },
      "execution_count": null,
      "outputs": []
    },
    {
      "cell_type": "code",
      "source": [
        "# get the models to evaluate\n",
        "models = get_models_stacking()\n",
        "# evaluate the models and store results\n",
        "results, names = list(), list()\n",
        "for name, model in models.items():\n",
        " scores = evaluate_model(model, X, y)\n",
        " results.append(scores)\n",
        " names.append(name)\n",
        " print('>%s %.3f (%.3f)' % (name, mean(scores), std(scores)))\n",
        "# plot model performance for comparison\n"
      ],
      "metadata": {
        "colab": {
          "base_uri": "https://localhost:8080/"
        },
        "id": "tSlxIAqHzVhZ",
        "outputId": "a40eecf1-bf9f-4021-8789-e805401936ee"
      },
      "execution_count": null,
      "outputs": [
        {
          "output_type": "stream",
          "name": "stdout",
          "text": [
            ">lr 0.866 (0.029)\n",
            ">knn 0.931 (0.025)\n",
            ">cart 0.826 (0.041)\n",
            ">svm 0.957 (0.020)\n",
            ">bayes 0.833 (0.031)\n",
            ">stacking 0.963 (0.018)\n"
          ]
        }
      ]
    },
    {
      "cell_type": "code",
      "source": [
        "pyplot.boxplot(results, labels=names, showmeans=True)\n",
        "pyplot.show()"
      ],
      "metadata": {
        "colab": {
          "base_uri": "https://localhost:8080/",
          "height": 432
        },
        "id": "JGNh_2FZ3_Dc",
        "outputId": "b206bea8-24a9-4d32-f717-2ee9404e7382"
      },
      "execution_count": null,
      "outputs": [
        {
          "output_type": "display_data",
          "data": {
            "text/plain": [
              "<Figure size 640x480 with 1 Axes>"
            ],
            "image/png": "[encoded data removed]"
          },
          "metadata": {}
        }
      ]
    },
    {
      "cell_type": "markdown",
      "source": [
        "Here, we can see that the mean and median accuracy for the stacking model sits slightly higher than the SVM model.\n",
        "\n"
      ],
      "metadata": {
        "id": "J9dt4HUwuW2X"
      }
    },
    {
      "cell_type": "markdown",
      "source": [
        "If we choose a stacking ensemble as our final model, we can fit and use it to make predictions on new data just like any other model.\n",
        "\n",
        "First, the stacking ensemble is fit on all available data, then the predict() function can be called to make predictions on new data.\n",
        "\n",
        "The example below demonstrates this on our binary classification dataset"
      ],
      "metadata": {
        "id": "QpNVwBTaue4y"
      }
    },
    {
      "cell_type": "markdown",
      "source": [
        "# Make a prediction with the Stacking Ensemble"
      ],
      "metadata": {
        "id": "TvmwqLiSz5FA"
      }
    },
    {
      "cell_type": "markdown",
      "source": [
        "Running the example fits the stacking ensemble model on the entire dataset and is then used to make a prediction on a new row of data, as we might when using the model in an application."
      ],
      "metadata": {
        "id": "_A8vsWs7upP5"
      }
    },
    {
      "cell_type": "markdown",
      "source": [
        "Define the stack"
      ],
      "metadata": {
        "id": "KxqLNHE_4S2s"
      }
    },
    {
      "cell_type": "markdown",
      "source": [
        "# Use the model to make a prediction"
      ],
      "metadata": {
        "id": "Pk5aWpF64awp"
      }
    },
    {
      "cell_type": "code",
      "source": [
        "# define the base models\n",
        "level0 = list()\n",
        "level0.append(('lr', LogisticRegression()))\n",
        "level0.append(('knn', KNeighborsClassifier()))\n",
        "level0.append(('cart', DecisionTreeClassifier()))\n",
        "level0.append(('svm', SVC()))\n",
        "level0.append(('bayes', GaussianNB()))\n",
        "# define meta learner model\n",
        "level1 = LogisticRegression()"
      ],
      "metadata": {
        "id": "0jOfPpF85L0z"
      },
      "execution_count": null,
      "outputs": []
    },
    {
      "cell_type": "code",
      "source": [
        "model_stack = StackingClassifier(estimators=level0, final_estimator=level1, cv=5)\n",
        "# fit the model on all available data\n",
        "model_stack.fit(X, y)\n",
        "# make a prediction for one example\n",
        "data = [[2.47475454,0.40165523,1.68081787,2.88940715,0.91704519,-3.07950644,4.39961206,0.72464273,-4.86563631,-6.06338084,-1.22209949,-0.4699618,1.01222748,-0.6899355,-0.53000581,6.86966784,-3.27211075,-6.59044146,-2.21290585,-3.139579]]\n",
        "yhat = model_stack.predict(data)\n",
        "print('Predicted Class: %d' % (yhat))"
      ],
      "metadata": {
        "colab": {
          "base_uri": "https://localhost:8080/"
        },
        "id": "54tScqzw4Ycu",
        "outputId": "bd056a90-33ac-4e37-c296-ccd0e0b10a51"
      },
      "execution_count": null,
      "outputs": [
        {
          "output_type": "stream",
          "name": "stdout",
          "text": [
            "Predicted Class: 0\n"
          ]
        }
      ]
    }
  ]
}