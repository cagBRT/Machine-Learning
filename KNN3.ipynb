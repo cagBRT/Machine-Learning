{
  "nbformat": 4,
  "nbformat_minor": 0,
  "metadata": {
    "colab": {
      "name": "KNN3.ipynb",
      "provenance": [],
      "include_colab_link": true
    },
    "kernelspec": {
      "name": "python3",
      "display_name": "Python 3"
    }
  },
  "cells": [
    {
      "cell_type": "markdown",
      "metadata": {
        "id": "view-in-github",
        "colab_type": "text"
      },
      "source": [
        "<a href=\"https://colab.research.google.com/github/cagBRT/Machine-Learning/blob/master/KNN3.ipynb\" target=\"_parent\"><img src=\"https://colab.research.google.com/assets/colab-badge.svg\" alt=\"Open In Colab\"/></a>"
      ]
    },
    {
      "cell_type": "markdown",
      "metadata": {
        "id": "amigxplJ56mQ"
      },
      "source": [
        "Using the KNeighbors algorithm from SKLearn, experiment with different dataset sizes, number of features, and number of neighbors. <br>\n",
        "The notebook will produce the confusion matrix for both the uniform and the distance versions of the algorithm. "
      ]
    },
    {
      "cell_type": "code",
      "metadata": {
        "id": "csEWAu8X_l2t"
      },
      "source": [
        "import numpy as np\n",
        "import matplotlib.pyplot as plt\n",
        "from sklearn import neighbors, datasets\n",
        "from sklearn.model_selection import train_test_split\n",
        "from sklearn.metrics import classification_report, confusion_matrix\n",
        "from random import seed\n",
        "from random import random\n",
        "from random import randint\n",
        "from sklearn.neighbors import KNeighborsClassifier"
      ],
      "execution_count": 10,
      "outputs": []
    },
    {
      "cell_type": "markdown",
      "metadata": {
        "id": "PsZQfcTsAJyB"
      },
      "source": [
        "**Set the number of neighbors to vote**"
      ]
    },
    {
      "cell_type": "code",
      "metadata": {
        "id": "cGk8veVpAWxL"
      },
      "source": [
        "n_neighbors = 5 #change "
      ],
      "execution_count": 11,
      "outputs": []
    },
    {
      "cell_type": "markdown",
      "metadata": {
        "id": "NaWnEYvhAZpV"
      },
      "source": [
        "**Get and prepare the data**"
      ]
    },
    {
      "cell_type": "code",
      "metadata": {
        "id": "gCn0HuqnG2ul"
      },
      "source": [
        "from sklearn.datasets import make_classification\n",
        "# Generate Balanced Data\n",
        "X,y = make_classification(n_samples=50, n_features=2, \n",
        "                          n_redundant=0, n_repeated=0, n_classes=3, \n",
        "                          n_clusters_per_class=1,class_sep=2,\n",
        "                          flip_y=0,weights=[0.33,0.33,0.33], \n",
        "                          random_state=randint(0,20))"
      ],
      "execution_count": 12,
      "outputs": []
    },
    {
      "cell_type": "code",
      "metadata": {
        "id": "LOu3impvXdFk",
        "colab": {
          "base_uri": "https://localhost:8080/"
        },
        "outputId": "6a29a7e6-fab1-4713-8179-0ef171a2cf29"
      },
      "source": [
        "X.shape"
      ],
      "execution_count": 13,
      "outputs": [
        {
          "output_type": "execute_result",
          "data": {
            "text/plain": [
              "(50, 2)"
            ]
          },
          "metadata": {},
          "execution_count": 13
        }
      ]
    },
    {
      "cell_type": "code",
      "metadata": {
        "id": "Knt2RzY5X4hr"
      },
      "source": [
        "X_train, X_test, y_train, y_test = train_test_split(\n",
        "    X, y, test_size=0.33, random_state=42)"
      ],
      "execution_count": 14,
      "outputs": []
    },
    {
      "cell_type": "markdown",
      "metadata": {
        "id": "7jhK436kBblj"
      },
      "source": [
        "**Do classification for both uniform and distance weights**<br>\n",
        ">‘uniform’ : uniform weights. All points in each neighborhood are weighted equally.\n",
        "\n",
        ">‘distance’ : weight points by the inverse of their distance. in this case, closer neighbors of a query point will have a greater influence than neighbors which are further away."
      ]
    },
    {
      "cell_type": "code",
      "metadata": {
        "id": "oXtQoEf7Xq4a"
      },
      "source": [
        "clf_U = neighbors.KNeighborsClassifier(n_neighbors, weights='uniform')\n",
        "U_trained=clf_U.fit(X_train, y_train)\n",
        "y_U_pred = clf_U.predict(X_test)\n"
      ],
      "execution_count": 15,
      "outputs": []
    },
    {
      "cell_type": "code",
      "metadata": {
        "id": "IKCXdZIyYRHf"
      },
      "source": [
        "clf_D = neighbors.KNeighborsClassifier(n_neighbors, weights='distance')\n",
        "D_trained =clf_D.fit(X_train, y_train)\n",
        "y_D_pred = clf_D.predict(X_test)"
      ],
      "execution_count": 17,
      "outputs": []
    },
    {
      "cell_type": "markdown",
      "metadata": {
        "id": "T2tyW_oyBaST"
      },
      "source": [
        "**Create a confusion matrix and classification report for each of the weights**"
      ]
    },
    {
      "cell_type": "code",
      "metadata": {
        "id": "lh3TTPR3fLS9",
        "colab": {
          "base_uri": "https://localhost:8080/"
        },
        "outputId": "a1523ade-24ea-45ab-bde7-bdb44c3c4bf6"
      },
      "source": [
        "print(\"clf_U model\")\n",
        "print(confusion_matrix(y_test, y_U_pred))\n",
        "print(classification_report(y_test, y_U_pred))\n",
        "\n",
        "print(\"clf_D model\")\n",
        "print(confusion_matrix(y_test, y_D_pred))\n",
        "print(classification_report(y_test, y_D_pred))"
      ],
      "execution_count": 19,
      "outputs": [
        {
          "output_type": "stream",
          "name": "stdout",
          "text": [
            "clf_U model\n",
            "[[4 0 0]\n",
            " [0 7 0]\n",
            " [0 0 6]]\n",
            "              precision    recall  f1-score   support\n",
            "\n",
            "           0       1.00      1.00      1.00         4\n",
            "           1       1.00      1.00      1.00         7\n",
            "           2       1.00      1.00      1.00         6\n",
            "\n",
            "    accuracy                           1.00        17\n",
            "   macro avg       1.00      1.00      1.00        17\n",
            "weighted avg       1.00      1.00      1.00        17\n",
            "\n",
            "clf_D model\n",
            "[[4 0 0]\n",
            " [0 7 0]\n",
            " [0 0 6]]\n",
            "              precision    recall  f1-score   support\n",
            "\n",
            "           0       1.00      1.00      1.00         4\n",
            "           1       1.00      1.00      1.00         7\n",
            "           2       1.00      1.00      1.00         6\n",
            "\n",
            "    accuracy                           1.00        17\n",
            "   macro avg       1.00      1.00      1.00        17\n",
            "weighted avg       1.00      1.00      1.00        17\n",
            "\n"
          ]
        }
      ]
    },
    {
      "cell_type": "markdown",
      "metadata": {
        "id": "hfViIizA4Xm8"
      },
      "source": [
        "**Assignment** <br>\n",
        "1. Change the number of neighbors and see the effect, if any,  on the confusion matrices. \n",
        "2. Try different dataset sizes. How does the algorithm perform?\n",
        "3. Change the number of features. Start with 2 then progress up to 40. How does the alogrithm perform?\n",
        "4. Change class_sep=1 in the dataset. How does the algorithm perform when the classes are closer together?\n"
      ]
    }
  ]
}