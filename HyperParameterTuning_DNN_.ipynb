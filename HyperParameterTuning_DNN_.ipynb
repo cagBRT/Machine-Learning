{
  "nbformat": 4,
  "nbformat_minor": 0,
  "metadata": {
    "colab": {
      "name": "HyperParameterTuning DNN .ipynb",
      "private_outputs": true,
      "provenance": [],
      "authorship_tag": "ABX9TyN3/PC2sZ0QpLtgqTYEuqSz",
      "include_colab_link": true
    },
    "kernelspec": {
      "name": "python3",
      "display_name": "Python 3"
    },
    "language_info": {
      "name": "python"
    }
  },
  "cells": [
    {
      "cell_type": "markdown",
      "metadata": {
        "id": "view-in-github",
        "colab_type": "text"
      },
      "source": [
        "<a href=\"https://colab.research.google.com/github/cagBRT/Machine-Learning/blob/master/HyperParameterTuning_DNN_.ipynb\" target=\"_parent\"><img src=\"https://colab.research.google.com/assets/colab-badge.svg\" alt=\"Open In Colab\"/></a>"
      ]
    },
    {
      "cell_type": "code",
      "source": [
        "!pip install --upgrade pip\n",
        "!pip install --upgrade \"jax[cpu]\""
      ],
      "metadata": {
        "id": "derip4nOgAGx"
      },
      "execution_count": null,
      "outputs": []
    },
    {
      "cell_type": "code",
      "source": [
        "!pip install scikeras"
      ],
      "metadata": {
        "id": "nViqpxxRhIOI"
      },
      "execution_count": null,
      "outputs": []
    },
    {
      "cell_type": "code",
      "source": [
        "import numpy as np\n",
        "import pandas as pd\n",
        "import tensorflow as tf\n",
        "from sklearn.model_selection import GridSearchCV\n",
        "from tensorflow.keras.models import Sequential\n",
        "from tensorflow.keras.layers import Dense\n",
        "from scikeras.wrappers import KerasClassifier\n",
        "from sklearn.model_selection import RandomizedSearchCV"
      ],
      "metadata": {
        "id": "kw4SNM9PfqvP"
      },
      "execution_count": null,
      "outputs": []
    },
    {
      "cell_type": "code",
      "source": [
        "# fix random seed for reproducibility\n",
        "seed = 7\n",
        "tf.random.set_seed(seed)"
      ],
      "metadata": {
        "id": "A0uuA52yhuS8"
      },
      "execution_count": null,
      "outputs": []
    },
    {
      "cell_type": "code",
      "source": [
        "url = 'http://archive.ics.uci.edu/ml/machine-learning-databases/glass/glass.data'\n",
        "col_names = ['id','ri','na','mg','al','si','k','ca','ba','fe','glass_type']\n",
        "glass = pd.read_csv(url, names=col_names, index_col='id')\n",
        "glass.sort_values('al', inplace=True)\n",
        "glass.head()"
      ],
      "metadata": {
        "id": "7IYbUtxWhwTR"
      },
      "execution_count": null,
      "outputs": []
    },
    {
      "cell_type": "code",
      "source": [
        "# types 1, 2, 3 are window glass\n",
        "# types 5, 6, 7 are household glass\n",
        "glass['household'] = glass.glass_type.map({1:0, 2:0, 3:0, 5:1, 6:1, 7:1})\n",
        "glass.head()"
      ],
      "metadata": {
        "id": "lHN5rfLBh8Ia"
      },
      "execution_count": null,
      "outputs": []
    },
    {
      "cell_type": "code",
      "source": [
        "feature_cols = ['ri','na','mg','al','si','k','ca','ba','fe','glass_type']\n",
        "X = glass[feature_cols]\n",
        "y = glass['household']"
      ],
      "metadata": {
        "id": "RuS5aMqgh_jv"
      },
      "execution_count": null,
      "outputs": []
    },
    {
      "cell_type": "code",
      "source": [
        "X.shape"
      ],
      "metadata": {
        "id": "NOz1A9C1ik8b"
      },
      "execution_count": null,
      "outputs": []
    },
    {
      "cell_type": "code",
      "source": [
        "# Function to create model, required for KerasClassifier\n",
        "def create_model():\n",
        "\t# create model\n",
        "\tmodel = Sequential()\n",
        "\tmodel.add(Dense(12, input_shape=(10,), activation='relu'))\n",
        "\tmodel.add(Dense(1, activation='sigmoid'))\n",
        "\t# Compile model\n",
        "\tmodel.compile(loss='binary_crossentropy', optimizer='adam', metrics=['accuracy'])\n",
        "\treturn model"
      ],
      "metadata": {
        "id": "HHHCY_eHhrrD"
      },
      "execution_count": null,
      "outputs": []
    },
    {
      "cell_type": "code",
      "source": [
        "# create model\n",
        "model = KerasClassifier(model=create_model, verbose=0,epochs=10,batch_size=20)"
      ],
      "metadata": {
        "id": "Fqq5crtciF-z"
      },
      "execution_count": null,
      "outputs": []
    },
    {
      "cell_type": "code",
      "source": [
        "model.fit(X,y)\n",
        "predictions=model.predict(X)\n",
        "score=model.score(X,y)\n",
        "print(score)"
      ],
      "metadata": {
        "id": "BUful_M9jHmJ"
      },
      "execution_count": null,
      "outputs": []
    },
    {
      "cell_type": "markdown",
      "source": [
        "# **Grid Search**"
      ],
      "metadata": {
        "id": "td-qhB3AosYN"
      }
    },
    {
      "cell_type": "code",
      "source": [
        "# define the grid search parameters\n",
        "batch_size = [5,10,20]\n",
        "epochs = [10, 50, 100]\n",
        "param_grid = dict(batch_size=batch_size, epochs=epochs)"
      ],
      "metadata": {
        "id": "8FjaBlrWiIlW"
      },
      "execution_count": null,
      "outputs": []
    },
    {
      "cell_type": "code",
      "source": [
        "grid = GridSearchCV(estimator=model, param_grid=param_grid, n_jobs=-1, cv=3)\n",
        "grid_result = grid.fit(X, y)"
      ],
      "metadata": {
        "id": "SFFqFo8LiKgT"
      },
      "execution_count": null,
      "outputs": []
    },
    {
      "cell_type": "code",
      "execution_count": null,
      "metadata": {
        "id": "SR01i9TYfgMa"
      },
      "outputs": [],
      "source": [
        "# summarize results\n",
        "print(\"Best: %f using %s\" % (grid_result.best_score_, grid_result.best_params_))\n",
        "means = grid_result.cv_results_['mean_test_score']\n",
        "stds = grid_result.cv_results_['std_test_score']\n",
        "params = grid_result.cv_results_['params']\n",
        "for mean, stdev, param in zip(means, stds, params):\n",
        "    print(\"%f (%f) with: %r\" % (mean, stdev, param))"
      ]
    },
    {
      "cell_type": "markdown",
      "source": [
        "# **Random Search**"
      ],
      "metadata": {
        "id": "GH2hravnov1p"
      }
    },
    {
      "cell_type": "code",
      "source": [
        "random = RandomizedSearchCV(model, param_grid,n_iter=9)"
      ],
      "metadata": {
        "id": "nZC8CUGonDUj"
      },
      "execution_count": null,
      "outputs": []
    },
    {
      "cell_type": "code",
      "source": [
        "random.fit(X,y)"
      ],
      "metadata": {
        "id": "uLKuZ24bnUrX"
      },
      "execution_count": null,
      "outputs": []
    },
    {
      "cell_type": "code",
      "source": [
        "print(\"Tuned Logistic Regression Parameters: {}\".format(random.best_params_))\n",
        "print(\"Best score is {}\".format(random.best_score_))"
      ],
      "metadata": {
        "id": "6oRVmsdNnZ7r"
      },
      "execution_count": null,
      "outputs": []
    }
  ]
}