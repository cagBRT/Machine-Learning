{
  "nbformat": 4,
  "nbformat_minor": 0,
  "metadata": {
    "colab": {
      "provenance": [],
      "include_colab_link": true
    },
    "kernelspec": {
      "name": "python3",
      "display_name": "Python 3"
    },
    "language_info": {
      "name": "python"
    }
  },
  "cells": [
    {
      "cell_type": "markdown",
      "metadata": {
        "id": "view-in-github",
        "colab_type": "text"
      },
      "source": [
        "<a href=\"https://colab.research.google.com/github/cagBRT/Machine-Learning/blob/master/Stacking_Ensemble_Linear_Reg.ipynb\" target=\"_parent\"><img src=\"https://colab.research.google.com/assets/colab-badge.svg\" alt=\"Open In Colab\"/></a>"
      ]
    },
    {
      "cell_type": "markdown",
      "source": [
        "# Stacking Generalization for Linear Regression"
      ],
      "metadata": {
        "id": "yIn64D4grtH0"
      }
    },
    {
      "cell_type": "markdown",
      "source": [
        "# Linear Regression"
      ],
      "metadata": {
        "id": "tdfjJvUsus7C"
      }
    },
    {
      "cell_type": "code",
      "source": [
        "# test regression dataset\n",
        "from sklearn.datasets import make_regression\n",
        "# define dataset\n",
        "X, y = make_regression(n_samples=1000, n_features=20, n_informative=15, noise=0.1, random_state=1)\n",
        "# summarize the dataset\n",
        "print(X.shape, y.shape)"
      ],
      "metadata": {
        "colab": {
          "base_uri": "https://localhost:8080/"
        },
        "id": "UjaNATUNutH3",
        "outputId": "8181a78f-b03e-4613-c134-f597b5dd846b"
      },
      "execution_count": null,
      "outputs": [
        {
          "output_type": "stream",
          "name": "stdout",
          "text": [
            "(1000, 20) (1000,)\n"
          ]
        }
      ]
    },
    {
      "cell_type": "code",
      "source": [
        "# compare ensemble to each standalone models for regression\n",
        "from numpy import mean\n",
        "from numpy import std\n",
        "from sklearn.datasets import make_regression\n",
        "from sklearn.model_selection import cross_val_score\n",
        "from sklearn.model_selection import RepeatedKFold\n",
        "from sklearn.linear_model import LinearRegression\n",
        "from sklearn.neighbors import KNeighborsRegressor\n",
        "from sklearn.tree import DecisionTreeRegressor\n",
        "from sklearn.svm import SVR\n",
        "from sklearn.ensemble import StackingRegressor\n",
        "from matplotlib import pyplot"
      ],
      "metadata": {
        "id": "3upWix7gvByY"
      },
      "execution_count": null,
      "outputs": []
    },
    {
      "cell_type": "code",
      "source": [
        "# get a list of models to evaluate\n",
        "def get_models():\n",
        " models = dict()\n",
        " models['knn'] = KNeighborsRegressor()\n",
        " models['cart'] = DecisionTreeRegressor()\n",
        " models['svm'] = SVR()\n",
        " return models"
      ],
      "metadata": {
        "id": "BY6ckFc0u2eZ"
      },
      "execution_count": null,
      "outputs": []
    },
    {
      "cell_type": "code",
      "source": [
        "# evaluate a given model using cross-validation\n",
        "def evaluate_model(model, X, y):\n",
        " cv = RepeatedKFold(n_splits=10, n_repeats=3, random_state=1)\n",
        " scores = cross_val_score(model, X, y, scoring='neg_mean_absolute_error', cv=cv, n_jobs=-1, error_score='raise')\n",
        " return scores"
      ],
      "metadata": {
        "id": "Rf5x8vtWu7rI"
      },
      "execution_count": null,
      "outputs": []
    },
    {
      "cell_type": "code",
      "source": [
        "# get the dataset\n",
        "def get_dataset():\n",
        " X, y = make_regression(n_samples=1000, n_features=20, n_informative=15, noise=0.1, random_state=1)\n",
        " return X, y"
      ],
      "metadata": {
        "id": "izGu17uC6dKR"
      },
      "execution_count": null,
      "outputs": []
    },
    {
      "cell_type": "code",
      "source": [
        "# define dataset\n",
        "X, y = get_dataset()\n",
        "# get the models to evaluate\n",
        "models = get_models()\n",
        "# evaluate the models and store results\n",
        "results, names = list(), list()\n",
        "for name, model in models.items():\n",
        "\tscores = evaluate_model(model, X, y)\n",
        "\tresults.append(scores)\n",
        "\tnames.append(name)\n",
        "\tprint('>%s %.3f (%.3f)' % (name, mean(scores), std(scores)))\n"
      ],
      "metadata": {
        "colab": {
          "base_uri": "https://localhost:8080/"
        },
        "id": "VPvfLNAAvXc5",
        "outputId": "62cbce8e-4132-4514-af27-9a1a51c443e8"
      },
      "execution_count": null,
      "outputs": [
        {
          "output_type": "stream",
          "name": "stdout",
          "text": [
            ">knn -101.019 (7.161)\n",
            ">cart -147.375 (11.804)\n",
            ">svm -162.419 (12.565)\n"
          ]
        }
      ]
    },
    {
      "cell_type": "code",
      "source": [
        "# plot model performance for comparison\n",
        "pyplot.boxplot(results, labels=names, showmeans=True)\n",
        "pyplot.show()"
      ],
      "metadata": {
        "colab": {
          "base_uri": "https://localhost:8080/",
          "height": 430
        },
        "id": "0WEJ0zAF0f8K",
        "outputId": "0e1df9ae-99ef-4047-8b20-7f5790866c3f"
      },
      "execution_count": null,
      "outputs": [
        {
          "output_type": "display_data",
          "data": {
            "text/plain": [
              "<Figure size 640x480 with 1 Axes>"
            ],
            "image/png": "[encoded data removed]"
          },
          "metadata": {}
        }
      ]
    },
    {
      "cell_type": "markdown",
      "source": [
        "We can see that in this case, KNN performs the best with a mean negative MAE of about -100."
      ],
      "metadata": {
        "id": "vVpqJji3vfqB"
      }
    },
    {
      "cell_type": "markdown",
      "source": [
        "We have three different algorithms that perform well, presumably in different ways on this dataset.\n",
        "\n",
        "Next, we can try to combine these three models into a single ensemble model using stacking.\n",
        "\n",
        "We can use a linear regression model to learn how to best combine the predictions from each of the separate three models."
      ],
      "metadata": {
        "id": "11kkrbl9vm9-"
      }
    },
    {
      "cell_type": "code",
      "source": [
        "# compare ensemble to each standalone models for regression\n",
        "\n",
        "# get a stacking ensemble of models\n",
        "def get_stacking():\n",
        " # define the base models\n",
        " level0 = list()\n",
        " level0.append(('knn', KNeighborsRegressor()))\n",
        " level0.append(('cart', DecisionTreeRegressor()))\n",
        " level0.append(('svm', SVR()))\n",
        " # define meta learner model\n",
        " level1 = LinearRegression()\n",
        " # define the stacking ensemble\n",
        " model = StackingRegressor(estimators=level0, final_estimator=level1, cv=5)\n",
        " return model"
      ],
      "metadata": {
        "id": "FszjEA5d0vak"
      },
      "execution_count": null,
      "outputs": []
    },
    {
      "cell_type": "code",
      "source": [
        "# get a list of models to evaluate\n",
        "def get_models():\n",
        " models = dict()\n",
        " models['knn'] = KNeighborsRegressor()\n",
        " models['cart'] = DecisionTreeRegressor()\n",
        " models['svm'] = SVR()\n",
        " models['stacking'] = get_stacking()\n",
        " return models"
      ],
      "metadata": {
        "id": "EahnYsDH0yU5"
      },
      "execution_count": null,
      "outputs": []
    },
    {
      "cell_type": "code",
      "source": [
        "# evaluate a given model using cross-validation\n",
        "def evaluate_model(model, X, y):\n",
        " cv = RepeatedKFold(n_splits=10, n_repeats=3, random_state=1)\n",
        " scores = cross_val_score(model, X, y, scoring='neg_mean_absolute_error', cv=cv, n_jobs=-1, error_score='raise')\n",
        " return scores"
      ],
      "metadata": {
        "id": "U5q8-hRd01WN"
      },
      "execution_count": null,
      "outputs": []
    },
    {
      "cell_type": "code",
      "source": [
        "# define dataset\n",
        "X, y = get_dataset()\n",
        "# get the models to evaluate\n",
        "models_stack = get_models()\n",
        "# evaluate the models and store results\n",
        "results, names = list(), list()\n",
        "for name, model in models_stack.items():\n",
        " scores = evaluate_model(model, X, y)\n",
        " results.append(scores)\n",
        " names.append(name)\n",
        " print('>%s %.3f (%.3f)' % (name, mean(scores), std(scores)))\n"
      ],
      "metadata": {
        "colab": {
          "base_uri": "https://localhost:8080/"
        },
        "id": "kzGyjVnnvh47",
        "outputId": "e1d5056c-e9e8-44b9-87e5-affdeebd2125"
      },
      "execution_count": null,
      "outputs": [
        {
          "output_type": "stream",
          "name": "stdout",
          "text": [
            ">knn -101.019 (7.161)\n",
            ">cart -147.799 (10.795)\n",
            ">svm -162.419 (12.565)\n",
            ">stacking -56.629 (5.325)\n"
          ]
        }
      ]
    },
    {
      "cell_type": "code",
      "source": [
        "# plot model performance for comparison\n",
        "pyplot.boxplot(results, labels=names, showmeans=True)\n",
        "pyplot.show()"
      ],
      "metadata": {
        "colab": {
          "base_uri": "https://localhost:8080/",
          "height": 433
        },
        "id": "FZNv130d04aJ",
        "outputId": "4c36a9be-d492-484f-f3fd-cf8d3cc7d103"
      },
      "execution_count": null,
      "outputs": [
        {
          "output_type": "display_data",
          "data": {
            "text/plain": [
              "<Figure size 640x480 with 1 Axes>"
            ],
            "image/png": "[encoded data removed]"
          },
          "metadata": {}
        }
      ]
    },
    {
      "cell_type": "markdown",
      "source": [
        "A box plot is created showing the distribution of model error scores. Here, we can see that the mean and median scores for the stacking model sit much higher than any individual model."
      ],
      "metadata": {
        "id": "E0S03VbAwC8i"
      }
    },
    {
      "cell_type": "markdown",
      "source": [
        "# Make a prediction"
      ],
      "metadata": {
        "id": "R6TQJnD760dg"
      }
    },
    {
      "cell_type": "markdown",
      "source": [
        "If we choose a stacking ensemble as our final model, we can fit and use it to make predictions on new data just like any other model.\n",
        "\n",
        "First, the stacking ensemble is fit on all available data, then the predict() function can be called to make predictions on new data."
      ],
      "metadata": {
        "id": "OPEcZBQ6wILj"
      }
    },
    {
      "cell_type": "code",
      "source": [
        "# define dataset\n",
        "X, y = make_regression(n_samples=1000, n_features=20, n_informative=15, noise=0.1, random_state=1)\n",
        "# define the base models\n",
        "level0 = list()\n",
        "level0.append(('knn', KNeighborsRegressor()))\n",
        "level0.append(('cart', DecisionTreeRegressor()))\n",
        "level0.append(('svm', SVR()))\n",
        "# define meta learner model\n",
        "level1 = LinearRegression()\n",
        "# define the stacking ensemble\n",
        "model = StackingRegressor(estimators=level0, final_estimator=level1, cv=5)\n",
        "# fit the model on all available data\n",
        "model.fit(X, y)\n",
        "# make a prediction for one example\n",
        "data = [[0.59332206,-0.56637507,1.34808718,-0.57054047,-0.72480487,1.05648449,0.77744852,0.07361796,0.88398267,2.02843157,1.01902732,0.11227799,0.94218853,0.26741783,0.91458143,-0.72759572,1.08842814,-0.61450942,-0.69387293,1.69169009]]\n",
        "yhat = model.predict(data)\n",
        "print('Predicted Value: %.3f' % (yhat))"
      ],
      "metadata": {
        "colab": {
          "base_uri": "https://localhost:8080/"
        },
        "id": "tzlGno0kwJBG",
        "outputId": "bf1842cc-9859-483f-8758-ff614a0f0fcb"
      },
      "execution_count": null,
      "outputs": [
        {
          "output_type": "stream",
          "name": "stdout",
          "text": [
            "Predicted Value: 556.556\n"
          ]
        }
      ]
    }
  ]
}