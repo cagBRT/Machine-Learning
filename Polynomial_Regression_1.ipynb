{
  "nbformat": 4,
  "nbformat_minor": 0,
  "metadata": {
    "colab": {
      "private_outputs": true,
      "provenance": [],
      "authorship_tag": "ABX9TyNUaKQuulMSmj3Lff/Gda3n",
      "include_colab_link": true
    },
    "kernelspec": {
      "name": "python3",
      "display_name": "Python 3"
    },
    "language_info": {
      "name": "python"
    }
  },
  "cells": [
    {
      "cell_type": "markdown",
      "metadata": {
        "id": "view-in-github",
        "colab_type": "text"
      },
      "source": [
        "<a href=\"https://colab.research.google.com/github/cagBRT/Machine-Learning/blob/master/Polynomial_Regression_1.ipynb\" target=\"_parent\"><img src=\"https://colab.research.google.com/assets/colab-badge.svg\" alt=\"Open In Colab\"/></a>"
      ]
    },
    {
      "cell_type": "code",
      "source": [
        "# Clone the entire repo.\n",
        "!git clone -s https://github.com/cagBRT/Machine-Learning.git cloned-repo\n",
        "%cd cloned-repo"
      ],
      "metadata": {
        "id": "bTqDGf2hGc5f"
      },
      "execution_count": null,
      "outputs": []
    },
    {
      "cell_type": "code",
      "source": [
        "import pandas as pd\n",
        "import numpy as np"
      ],
      "metadata": {
        "id": "YEvEsiBMFbRU"
      },
      "execution_count": null,
      "outputs": []
    },
    {
      "cell_type": "code",
      "source": [
        "atl_pumpkins = pd.read_csv(\"/content/atlanta_9-24-2016_9-30-2017.csv\")\n",
        "cat_map = {\n",
        "    'sml': 0,\n",
        "    'med': 1,\n",
        "    'med-lge': 2,\n",
        "    'lge': 3,\n",
        "    'xlge': 4,\n",
        "    'exjbo': 5\n",
        "}\n",
        "atl_pumpkins = atl_pumpkins.assign(\n",
        "    size=atl_pumpkins['Item Size'].map(cat_map),\n",
        "    price=atl_pumpkins['High Price'] + atl_pumpkins['Low Price'] / 2,\n",
        "    size_class=(atl_pumpkins['Item Size'].map(cat_map) >= 2).astype(int)\n",
        ")\n",
        "atl_pumpkins = atl_pumpkins.drop([c for c in atl_pumpkins.columns if c not in ['size', 'price', 'size_class']],\n",
        "                                 axis='columns')\n",
        "atl_pumpkins = atl_pumpkins.dropna()"
      ],
      "metadata": {
        "id": "bFqQReaL1bz_"
      },
      "execution_count": null,
      "outputs": []
    },
    {
      "cell_type": "code",
      "source": [
        "atl_pumpkins.head()"
      ],
      "metadata": {
        "id": "kLeHy3fe1i8l"
      },
      "execution_count": null,
      "outputs": []
    },
    {
      "cell_type": "code",
      "source": [
        "prices = atl_pumpkins.values[:, :1]\n",
        "sizes = atl_pumpkins.values[:, 1:2]"
      ],
      "metadata": {
        "id": "Oop_-TPf1ltZ"
      },
      "execution_count": null,
      "outputs": []
    },
    {
      "cell_type": "code",
      "source": [
        "from sklearn.preprocessing import PolynomialFeatures\n",
        "from sklearn.linear_model import LinearRegression\n",
        "poly = PolynomialFeatures(degree=2)\n",
        "prices_poly = poly.fit_transform(prices)\n",
        "\n",
        "clf = LinearRegression()\n",
        "clf.fit(prices_poly, sizes)\n",
        "predicted_sizes = np.round(clf.predict(prices_poly))"
      ],
      "metadata": {
        "id": "gxhTx9-_1osC"
      },
      "execution_count": null,
      "outputs": []
    },
    {
      "cell_type": "code",
      "source": [
        "import numpy as np\n",
        "import itertools\n",
        "\n",
        "class PolynomialFeatures:\n",
        "    def __init__(self, degree=2):\n",
        "        self.degree = degree\n",
        "\n",
        "    def fit_transform(self, X):\n",
        "        nvars = X.shape[1]\n",
        "        var_combos = []\n",
        "\n",
        "        for i in range(0, self.degree):\n",
        "            var_combos += itertools.combinations_with_replacement(set(range(nvars)), i + 1)\n",
        "\n",
        "        mat = np.zeros((X.shape[0], len(var_combos)))\n",
        "\n",
        "        for i, var_combo in enumerate(var_combos):\n",
        "            mat[:, i] = np.prod(X[:, var_combo], axis=1)\n",
        "\n",
        "        return mat"
      ],
      "metadata": {
        "id": "NKzPpe3a1slS"
      },
      "execution_count": null,
      "outputs": []
    },
    {
      "cell_type": "code",
      "source": [
        "class LinearRegression:\n",
        "    def __init__(self, degree=2):\n",
        "        self.degree = degree\n",
        "\n",
        "    def fit(self, X, y):\n",
        "        self.betas = np.linalg.inv(X.T @ X) @ X.T @ y\n",
        "\n",
        "    def predict(self, X):\n",
        "        return X @ self.betas\n"
      ],
      "metadata": {
        "id": "0bXu1txT1ved"
      },
      "execution_count": null,
      "outputs": []
    },
    {
      "cell_type": "code",
      "source": [
        "poly = PolynomialFeatures(degree=2)\n",
        "prices_poly = poly.fit_transform(prices)\n",
        "\n",
        "clf = LinearRegression()\n",
        "clf.fit(prices_poly, sizes)\n",
        "predicted_sizes = np.round(clf.predict(prices_poly))\n"
      ],
      "metadata": {
        "id": "IBWW9iDFFOt2"
      },
      "execution_count": null,
      "outputs": []
    },
    {
      "cell_type": "code",
      "source": [
        "import matplotlib.pyplot as plt\n",
        "plt.style.use('fivethirtyeight')\n",
        "\n",
        "pd.Series((sizes - predicted_sizes).flatten()).value_counts().sort_index().plot.bar(\n",
        "    title='$y - \\hat{y}$'\n",
        ")"
      ],
      "metadata": {
        "id": "O3JdHaO8FRbT"
      },
      "execution_count": null,
      "outputs": []
    },
    {
      "cell_type": "code",
      "source": [
        "pd.Series(\n",
        "    np.abs((sizes - predicted_sizes).flatten()) <= 1\n",
        ").value_counts().plot.bar(title='Accuracy Within 1 Class')\n"
      ],
      "metadata": {
        "id": "fLlTQZXKFVJX"
      },
      "execution_count": null,
      "outputs": []
    }
  ]
}