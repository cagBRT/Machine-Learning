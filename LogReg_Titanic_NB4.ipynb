{
  "nbformat": 4,
  "nbformat_minor": 0,
  "metadata": {
    "colab": {
      "name": "LogReg Titanic NB4.ipynb",
      "private_outputs": true,
      "provenance": [],
      "authorship_tag": "ABX9TyPo938zOKguJs7HCcOgnzRh",
      "include_colab_link": true
    },
    "kernelspec": {
      "name": "python3",
      "display_name": "Python 3"
    }
  },
  "cells": [
    {
      "cell_type": "markdown",
      "metadata": {
        "id": "view-in-github",
        "colab_type": "text"
      },
      "source": [
        "<a href=\"https://colab.research.google.com/github/cagBRT/Machine-Learning/blob/master/LogReg_Titanic_NB4.ipynb\" target=\"_parent\"><img src=\"https://colab.research.google.com/assets/colab-badge.svg\" alt=\"Open In Colab\"/></a>"
      ]
    },
    {
      "cell_type": "markdown",
      "metadata": {
        "id": "9CYLYrsXCRy6"
      },
      "source": [
        "# Using Logistic Regression on the Titanic Dataset"
      ]
    },
    {
      "cell_type": "code",
      "metadata": {
        "id": "aOU9Qu3jLz81"
      },
      "source": [
        "# Clone the entire repo.\n",
        "!git clone -l -s https://github.com/cagBRT/Machine-Learning.git cloned-repo\n",
        "%cd cloned-repo"
      ],
      "execution_count": null,
      "outputs": []
    },
    {
      "cell_type": "markdown",
      "metadata": {
        "id": "6bUBz81Xb1DD"
      },
      "source": [
        "**Import libraries**"
      ]
    },
    {
      "cell_type": "code",
      "metadata": {
        "id": "8bbxnl5XJ9E6"
      },
      "source": [
        "# pandas\n",
        "import pandas as pd\n",
        "from pandas import Series,DataFrame\n",
        "from sklearn.model_selection import train_test_split \n",
        "\n",
        "# numpy, matplotlib, seaborn\n",
        "import numpy as np\n",
        "import matplotlib.pyplot as plt\n",
        "import seaborn as sns\n",
        "sns.set_style('whitegrid')\n",
        "%matplotlib inline\n",
        "from sklearn import metrics\n",
        "\n",
        "# machine learning\n",
        "from sklearn.linear_model import LogisticRegression"
      ],
      "execution_count": null,
      "outputs": []
    },
    {
      "cell_type": "markdown",
      "metadata": {
        "id": "MxaeZB9Rb5Kr"
      },
      "source": [
        "**Load the Titanic dataset**<br>\n",
        "This is the dataset from the Titanic. <br>\n",
        "It lists the following information: \n",
        "Passenger Survived, Boarding Class (1,2,3)<br>\n",
        "Passenger Name, Sex, Age<br>\n",
        "Sibsp = number of siblings/spouses the passenger has on board<br>\n",
        "Parch = number of parents/children the passenger has on board<br>\n",
        "The passenger ticket number, fare paid, cabin number<br>\n",
        "Where the passenger boarded the ship<br>"
      ]
    },
    {
      "cell_type": "code",
      "metadata": {
        "id": "1Hrn8ibSLvEO"
      },
      "source": [
        "titanic_df = pd.read_csv(\"train.csv\")\n",
        "test_df    = pd.read_csv(\"test.csv\")\n",
        "\n",
        "# preview the data\n",
        "titanic_df.head()"
      ],
      "execution_count": null,
      "outputs": []
    },
    {
      "cell_type": "markdown",
      "metadata": {
        "id": "cmEY2aX3cAoW"
      },
      "source": [
        "**Look at the data**"
      ]
    },
    {
      "cell_type": "code",
      "metadata": {
        "id": "3Wkya8HFMduo"
      },
      "source": [
        "test_df"
      ],
      "execution_count": null,
      "outputs": []
    },
    {
      "cell_type": "markdown",
      "metadata": {
        "id": "vc-tc9XoLZdh"
      },
      "source": [
        "Where are values missing in the data? Check both the train and test data<br>\n",
        "What should be done about the missing data?<br>"
      ]
    },
    {
      "cell_type": "code",
      "metadata": {
        "id": "uJBUIX6RI3HD"
      },
      "source": [
        "titanic_df.info()\n",
        "print(\"----------------------------\\n\\n\")\n",
        "test_df.info()"
      ],
      "execution_count": null,
      "outputs": []
    },
    {
      "cell_type": "code",
      "metadata": {
        "id": "jlzXB16sVurh"
      },
      "source": [
        "titanic_df.columns"
      ],
      "execution_count": null,
      "outputs": []
    },
    {
      "cell_type": "markdown",
      "metadata": {
        "id": "LDAeuyJaFibt"
      },
      "source": [
        "**Assignment**<br>\n",
        "Given the information about the dataset that you have so far, what features are important? Which can we drop? "
      ]
    },
    {
      "cell_type": "markdown",
      "metadata": {
        "id": "6GbiAn4YGJlD"
      },
      "source": [
        "# **Learning about the data**"
      ]
    },
    {
      "cell_type": "markdown",
      "metadata": {
        "id": "7qfMdQC6cHWZ"
      },
      "source": [
        "**Plot the data**<br>\n",
        "Show age, sex, and who survived<br>\n",
        "0 = not survived<br>\n",
        "1 = survived"
      ]
    },
    {
      "cell_type": "code",
      "metadata": {
        "id": "zgrErYS3VP7O"
      },
      "source": [
        "import seaborn as sns\n",
        "sns.set(style=\"white\")\n",
        "\n",
        "sns.relplot(x=\"Age\", y=\"Survived\",  size=\"Sex\",\n",
        "            sizes=(40, 400), alpha=.5, palette=\"bright\",\n",
        "            height=6, data=titanic_df)"
      ],
      "execution_count": null,
      "outputs": []
    },
    {
      "cell_type": "markdown",
      "metadata": {
        "id": "WkjEvu1McR4T"
      },
      "source": [
        "**Drop columns that may not have an impact on survival rates**<br>\n",
        "The passenger name and passenger ID have no impact on the survival rate. <br>\n",
        "The ticket number also has no impact on survival rates. "
      ]
    },
    {
      "cell_type": "markdown",
      "metadata": {
        "id": "dfrcZfrHL-CX"
      },
      "source": [
        "**The embark column**"
      ]
    },
    {
      "cell_type": "code",
      "metadata": {
        "id": "lmEHNjVqI6Zd"
      },
      "source": [
        "# drop unnecessary columns, these columns won't be useful in analysis and prediction\n",
        "titanic_df = titanic_df.drop(['PassengerId','Name','Ticket'], axis=1)\n",
        "test_df    = test_df.drop(['Name','Ticket'], axis=1)"
      ],
      "execution_count": null,
      "outputs": []
    },
    {
      "cell_type": "markdown",
      "metadata": {
        "id": "zUVPNmh2cjhs"
      },
      "source": [
        "There are three places where people onboarded: S, C, Q<br>\n",
        "S = SouthHampton, England<br>\n",
        "C = Cherboug, France<br>\n",
        "Q = Queenstown, Ireland<br>\n",
        "<br>\n",
        "Some of the data is missing from the embark column. What should we do about the missing data? "
      ]
    },
    {
      "cell_type": "markdown",
      "metadata": {
        "id": "7EknkqX0HyJY"
      },
      "source": [
        "One idea is to assume the missing values are from South Hampton, since this is the most largest embark group. "
      ]
    },
    {
      "cell_type": "code",
      "metadata": {
        "id": "DZ279K85HTJA"
      },
      "source": [
        "# only in titanic_df, fill the two missing values with the most occurred value, which is \"S\".\n",
        "titanic_df[\"Embarked\"] = titanic_df[\"Embarked\"].fillna(\"S\")"
      ],
      "execution_count": null,
      "outputs": []
    },
    {
      "cell_type": "markdown",
      "metadata": {
        "id": "bGVlkBXRIKCP"
      },
      "source": [
        "When we plot the survived vs embark, we see that those from South Hampton were least likely to survive. <br>\n",
        "Since we used South Hampton for the missing data, how could this skew the data? "
      ]
    },
    {
      "cell_type": "code",
      "metadata": {
        "id": "Q999M-ELIFkT"
      },
      "source": [
        "# plot\n",
        "sns.factorplot('Embarked','Survived', data=titanic_df,size=4,aspect=3)"
      ],
      "execution_count": null,
      "outputs": []
    },
    {
      "cell_type": "markdown",
      "metadata": {
        "id": "1mKvRvjhJxtM"
      },
      "source": [
        "Plotting all three embark locations by the number of passengers that boarded, the number that survived, and the percent of survival, we see South Hampton had the lowest survival rate. <br>\n",
        "Why?"
      ]
    },
    {
      "cell_type": "code",
      "metadata": {
        "id": "1tg2xOFGI3xU"
      },
      "source": [
        "fig, (axis1,axis2,axis3) = plt.subplots(1,3,figsize=(15,5))\n",
        "\n",
        "# sns.factorplot('Embarked',data=titanic_df,kind='count',order=['S','C','Q'],ax=axis1)\n",
        "# sns.factorplot('Survived',hue=\"Embarked\",data=titanic_df,kind='count',order=[1,0],ax=axis2)\n",
        "sns.countplot(x='Embarked', data=titanic_df, ax=axis1)\n",
        "sns.countplot(x='Survived', hue=\"Embarked\", data=titanic_df, order=[1,0], ax=axis2)\n",
        "\n",
        "# group by embarked, and get the mean for survived passengers for each value in Embarked\n",
        "embark_perc = titanic_df[[\"Embarked\", \"Survived\"]].groupby(['Embarked'],as_index=False).mean()\n",
        "sns.barplot(x='Embarked', y='Survived', data=embark_perc,order=['S','C','Q'],ax=axis3)"
      ],
      "execution_count": null,
      "outputs": []
    },
    {
      "cell_type": "markdown",
      "metadata": {
        "id": "JBPVGw5GKZRM"
      },
      "source": [
        "What should we do about the embark column? \n",
        "1. Consider Embarked column in predictions,\n",
        "and remove \"S\" dummy variable, \n",
        "and leave \"C\" & \"Q\", since they seem to have a good rate for Survival.\n",
        "\n",
        "2. Don't create dummy variables for Embarked column, just drop it, \n",
        "because logically, Embarked doesn't seem to be useful in prediction."
      ]
    },
    {
      "cell_type": "markdown",
      "metadata": {
        "id": "PZIcvDptKoQ_"
      },
      "source": [
        "In this first instance, the column is dropped. <br>\n",
        "As an experiment, uncomment the code below and don't drop the column. <br>\n",
        "How does the change affect the model?"
      ]
    },
    {
      "cell_type": "code",
      "metadata": {
        "id": "tazavANBI_s7"
      },
      "source": [
        "\n",
        "#embark_dummies_titanic  = pd.get_dummies(titanic_df['Embarked'])\n",
        "#embark_dummies_titanic.drop(['S'], axis=1, inplace=True)\n",
        "\n",
        "#embark_dummies_test  = pd.get_dummies(test_df['Embarked'])\n",
        "#embark_dummies_test.drop(['S'], axis=1, inplace=True)\n",
        "\n",
        "#titanic_df = titanic_df.join(embark_dummies_titanic)\n",
        "#test_df    = test_df.join(embark_dummies_test)\n",
        "\n",
        "titanic_df.drop(['Embarked'], axis=1,inplace=True)\n",
        "test_df.drop(['Embarked'], axis=1,inplace=True)\n"
      ],
      "execution_count": null,
      "outputs": []
    },
    {
      "cell_type": "markdown",
      "metadata": {
        "id": "mxO77xbULJLW"
      },
      "source": [
        "**The Fare column**<br>\n",
        "There is a missing value in the fare column. <br>\n",
        "What should be done about it?"
      ]
    },
    {
      "cell_type": "markdown",
      "metadata": {
        "id": "wNer4bNdNEhA"
      },
      "source": [
        "In this case the missing fare is filled with the mean of the fares. <br>\n",
        "The fare data is binned to help the model with predictions. "
      ]
    },
    {
      "cell_type": "code",
      "metadata": {
        "id": "48UDIIBFM7h-"
      },
      "source": [
        "# Fare\n",
        "\n",
        "# only for test_df, since there is a missing \"Fare\" values\n",
        "test_df[\"Fare\"].fillna(test_df[\"Fare\"].median(), inplace=True)\n",
        "\n",
        "# convert from float to int\n",
        "titanic_df['Fare'] = titanic_df['Fare'].astype(int)\n",
        "test_df['Fare']    = test_df['Fare'].astype(int)\n",
        "\n",
        "# get fare for survived & didn't survive passengers \n",
        "fare_not_survived = titanic_df[\"Fare\"][titanic_df[\"Survived\"] == 0]\n",
        "fare_survived     = titanic_df[\"Fare\"][titanic_df[\"Survived\"] == 1]\n",
        "\n",
        "# get average and std for fare of survived/not survived passengers\n",
        "avgerage_fare = DataFrame([fare_not_survived.mean(), fare_survived.mean()])\n",
        "std_fare      = DataFrame([fare_not_survived.std(), fare_survived.std()])\n",
        "\n",
        "# plot\n",
        "fig = titanic_df['Fare'].plot(kind='hist', figsize=(15,3),bins=100, xlim=(0,100))\n",
        "fig.set_xlabel(\"Binned Fares\")"
      ],
      "execution_count": null,
      "outputs": []
    },
    {
      "cell_type": "code",
      "metadata": {
        "id": "R1EnQzDJJD4r"
      },
      "source": [
        "avgerage_fare.index.names = std_fare.index.names = [\"Survived\"]\n",
        "fig2 = avgerage_fare.plot(yerr=std_fare,kind='bar',legend=False)\n",
        "fig2.set_ylabel(\"Std fare\")"
      ],
      "execution_count": null,
      "outputs": []
    },
    {
      "cell_type": "markdown",
      "metadata": {
        "id": "xlfqvLtLPfn8"
      },
      "source": [
        "**Age Column**<br>\n",
        "The age column is missing a lot of values. <br>\n",
        "What should be done about the missing data?\n"
      ]
    },
    {
      "cell_type": "code",
      "metadata": {
        "id": "52R-HD2uQAq6"
      },
      "source": [
        "# get average, std, and number of NaN values in titanic_df\n",
        "average_age_titanic   = titanic_df[\"Age\"].mean()\n",
        "std_age_titanic       = titanic_df[\"Age\"].std()\n",
        "count_nan_age_titanic = titanic_df[\"Age\"].isnull().sum()\n",
        "print(\"Ave training age: \", average_age_titanic)\n",
        "print(\"Std training age: \",std_age_titanic)\n",
        "print(\"Num of missing age training values: \", count_nan_age_titanic)"
      ],
      "execution_count": null,
      "outputs": []
    },
    {
      "cell_type": "code",
      "metadata": {
        "id": "J9rIkIxsQa8X"
      },
      "source": [
        "# get average, std, and number of NaN values in test_df\n",
        "average_age_test   = test_df[\"Age\"].mean()\n",
        "std_age_test       = test_df[\"Age\"].std()\n",
        "count_nan_age_test = test_df[\"Age\"].isnull().sum()\n",
        "print(\"Ave test age: \", average_age_test)\n",
        "print(\"Std test age: \",std_age_test)\n",
        "print(\"Num of missing age test values: \", count_nan_age_test)"
      ],
      "execution_count": null,
      "outputs": []
    },
    {
      "cell_type": "code",
      "metadata": {
        "id": "lQv3QdzGQv-0"
      },
      "source": [
        "# generate random numbers between (mean - std) & (mean + std)\n",
        "rand_1 = np.random.randint(average_age_titanic - std_age_titanic, average_age_titanic + std_age_titanic, size = count_nan_age_titanic)\n",
        "rand_2 = np.random.randint(average_age_test - std_age_test, average_age_test + std_age_test, size = count_nan_age_test)\n"
      ],
      "execution_count": null,
      "outputs": []
    },
    {
      "cell_type": "markdown",
      "metadata": {
        "id": "XXXIXF-iREbh"
      },
      "source": [
        "Plot the ages using bins <br>\n",
        "Drop all the rows missing data. "
      ]
    },
    {
      "cell_type": "code",
      "metadata": {
        "id": "bJNR9maYJHsE"
      },
      "source": [
        "# Age \n",
        "fig, (axis1,axis2) = plt.subplots(1,2,figsize=(15,4))\n",
        "axis1.set_title('Original Age values - Titanic')\n",
        "axis2.set_title('New Age values - Titanic')\n",
        "\n",
        "# plot original Age values\n",
        "# NOTE: drop all null values, and convert to int\n",
        "titanic_df['Age'].dropna().astype(int).hist(bins=70, ax=axis1)\n",
        "test_df['Age'].dropna().astype(int).hist(bins=70, ax=axis1)\n",
        "\n",
        "# fill NaN values in Age column with random values generated\n",
        "titanic_df[\"Age\"][np.isnan(titanic_df[\"Age\"])] = rand_1\n",
        "test_df[\"Age\"][np.isnan(test_df[\"Age\"])] = rand_2\n",
        "\n",
        "# convert from float to int\n",
        "titanic_df['Age'] = titanic_df['Age'].astype(int)\n",
        "test_df['Age']    = test_df['Age'].astype(int)\n",
        "        \n",
        "# plot new Age Values\n",
        "titanic_df['Age'].hist(bins=70, ax=axis2)\n",
        "# test_df['Age'].hist(bins=70, ax=axis4)"
      ],
      "execution_count": null,
      "outputs": []
    },
    {
      "cell_type": "code",
      "metadata": {
        "id": "kmbeBHnhJLMe"
      },
      "source": [
        "# .... continue with plot Age column\n",
        "\n",
        "# peaks for survived/not survived passengers by their age\n",
        "facet = sns.FacetGrid(titanic_df, hue=\"Survived\",aspect=4)\n",
        "facet.map(sns.kdeplot,'Age',shade= True)\n",
        "facet.set(xlim=(0, titanic_df['Age'].max()))\n",
        "facet.add_legend()"
      ],
      "execution_count": null,
      "outputs": []
    },
    {
      "cell_type": "code",
      "metadata": {
        "id": "tMVVmA1GRu6T"
      },
      "source": [
        "# average survived passengers by age\n",
        "fig, axis1 = plt.subplots(1,1,figsize=(18,4))\n",
        "average_age = titanic_df[[\"Age\", \"Survived\"]].groupby(['Age'],as_index=False).mean()\n",
        "sns.barplot(x='Age', y='Survived', data=average_age)"
      ],
      "execution_count": null,
      "outputs": []
    },
    {
      "cell_type": "markdown",
      "metadata": {
        "id": "fCfsnapjSNuF"
      },
      "source": [
        "**The cabin column**<br>\n",
        "The cabin column is missing a lot of data. <br>\n",
        "Drop the cabin column. "
      ]
    },
    {
      "cell_type": "code",
      "metadata": {
        "id": "IsCVmM1tJPaY"
      },
      "source": [
        "# Cabin\n",
        "# It has a lot of NaN values, so it won't cause a remarkable impact on prediction\n",
        "titanic_df.drop(\"Cabin\",axis=1,inplace=True)\n",
        "test_df.drop(\"Cabin\",axis=1,inplace=True)"
      ],
      "execution_count": null,
      "outputs": []
    },
    {
      "cell_type": "markdown",
      "metadata": {
        "id": "6V5J5ZBOSYPT"
      },
      "source": [
        "**The SibSp and ParCh columns**<br>\n",
        "The family columns have data about who was on board with their spouses, children, parents, siblings. <br>\n",
        "We can simplify the data by saying just saying of a passenger was with a family member or not. <br>\n",
        "Create a new column called family.<br>\n",
        "1 = with sibling or spouse<br>\n",
        "1 = with parent or child<br>\n",
        "Drop the SibSp and Parch columns"
      ]
    },
    {
      "cell_type": "code",
      "metadata": {
        "id": "5reagf9OJSmz"
      },
      "source": [
        "# Family\n",
        "\n",
        "# Instead of having two columns Parch & SibSp, \n",
        "# we can have only one column represent if the passenger had any family member aboard or not,\n",
        "# Meaning, if having any family member(whether parent, brother, ...etc) will increase chances of Survival or not.\n",
        "titanic_df['Family'] =  titanic_df[\"Parch\"] + titanic_df[\"SibSp\"]\n",
        "titanic_df['Family'].loc[titanic_df['Family'] > 0] = 1\n",
        "titanic_df['Family'].loc[titanic_df['Family'] == 0] = 0\n",
        "\n",
        "test_df['Family'] =  test_df[\"Parch\"] + test_df[\"SibSp\"]\n",
        "test_df['Family'].loc[test_df['Family'] > 0] = 1\n",
        "test_df['Family'].loc[test_df['Family'] == 0] = 0\n",
        "\n",
        "# drop Parch & SibSp\n",
        "titanic_df = titanic_df.drop(['SibSp','Parch'], axis=1)\n",
        "test_df    = test_df.drop(['SibSp','Parch'], axis=1)"
      ],
      "execution_count": null,
      "outputs": []
    },
    {
      "cell_type": "markdown",
      "metadata": {
        "id": "JkRvdvvbTjd3"
      },
      "source": [
        "**Plot the new family column**"
      ]
    },
    {
      "cell_type": "code",
      "metadata": {
        "id": "qTso6-rPTS_r"
      },
      "source": [
        "# plot\n",
        "fig, (axis1,axis2) = plt.subplots(1,2,sharex=True,figsize=(10,5))\n",
        "\n",
        "# sns.factorplot('Family',data=titanic_df,kind='count',ax=axis1)\n",
        "sns.countplot(x='Family', data=titanic_df, order=[1,0], ax=axis1)\n",
        "\n",
        "# average of survived for those who had/didn't have any family member\n",
        "family_perc = titanic_df[[\"Family\", \"Survived\"]].groupby(['Family'],as_index=False).mean()\n",
        "sns.barplot(x='Family', y='Survived', data=family_perc, order=[1,0], ax=axis2)\n",
        "\n",
        "axis1.set_xticklabels([\"With Family\",\"Alone\"], rotation=0)"
      ],
      "execution_count": null,
      "outputs": []
    },
    {
      "cell_type": "markdown",
      "metadata": {
        "id": "AAAqsmHpTozD"
      },
      "source": [
        "**The Sex column**<br>\n",
        "We can guess that the sex of the passenger is important because of the tradition of women and children first in the lifeboats. "
      ]
    },
    {
      "cell_type": "markdown",
      "metadata": {
        "id": "39LEiBClT5h-"
      },
      "source": [
        "Let's consider all passengers under the age of 16 to be children. All over 16 to be adults. <br>\n",
        "Let's create a new column called Person. <br>\n",
        "Person will have three values: <br>\n",
        "males<br>\n",
        "females<br>\n",
        "children<br>\n",
        "Drop the sex column"
      ]
    },
    {
      "cell_type": "code",
      "metadata": {
        "id": "r35Wdf7aUXf6"
      },
      "source": [
        "# Sex\n",
        "\n",
        "# As we see, children(age < ~16) on aboard seem to have a high chances for Survival.\n",
        "# So, we can classify passengers as males, females, and child\n",
        "def get_person(passenger):\n",
        "    age,sex = passenger\n",
        "    return 'child' if age < 16 else sex\n",
        "    \n",
        "titanic_df['Person'] = titanic_df[['Age','Sex']].apply(get_person,axis=1)\n",
        "test_df['Person']    = test_df[['Age','Sex']].apply(get_person,axis=1)\n",
        "\n",
        "# No need to use Sex column since we created Person column\n",
        "titanic_df.drop(['Sex'],axis=1,inplace=True)\n",
        "test_df.drop(['Sex'],axis=1,inplace=True)"
      ],
      "execution_count": null,
      "outputs": []
    },
    {
      "cell_type": "markdown",
      "metadata": {
        "id": "2cA9HjAHUxYK"
      },
      "source": [
        "Let's create new columns: <br>\n",
        "Child<br>\n",
        "Female (this column records both female and male)<br> \n",
        "Drop the Person column"
      ]
    },
    {
      "cell_type": "code",
      "metadata": {
        "id": "EWlYoRpOJWTf"
      },
      "source": [
        "# create dummy variables for Person column, & \n",
        "# drop Male as it has the lowest average of survived passengers\n",
        "person_dummies_titanic  = pd.get_dummies(titanic_df['Person'])\n",
        "person_dummies_titanic.columns = ['Child','Female','Male']\n",
        "person_dummies_titanic.drop(['Male'], axis=1, inplace=True)\n",
        "\n",
        "person_dummies_test  = pd.get_dummies(test_df['Person'])\n",
        "person_dummies_test.columns = ['Child','Female','Male']\n",
        "person_dummies_test.drop(['Male'], axis=1, inplace=True)\n",
        "\n",
        "titanic_df = titanic_df.join(person_dummies_titanic)\n",
        "test_df    = test_df.join(person_dummies_test)\n",
        "\n",
        "fig, (axis1,axis2) = plt.subplots(1,2,figsize=(10,5))\n",
        "\n",
        "# sns.factorplot('Person',data=titanic_df,kind='count',ax=axis1)\n",
        "sns.countplot(x='Person', data=titanic_df, ax=axis1)\n",
        "\n",
        "# average of survived for each Person(male, female, or child)\n",
        "person_perc = titanic_df[[\"Person\", \"Survived\"]].groupby(['Person'],as_index=False).mean()\n",
        "sns.barplot(x='Person', y='Survived', data=person_perc, ax=axis2, order=['male','female','child'])\n",
        "\n",
        "titanic_df.drop(['Person'],axis=1,inplace=True)\n",
        "test_df.drop(['Person'],axis=1,inplace=True)"
      ],
      "execution_count": null,
      "outputs": []
    },
    {
      "cell_type": "markdown",
      "metadata": {
        "id": "duMEEfiCV-gS"
      },
      "source": [
        "What columns do we have now?"
      ]
    },
    {
      "cell_type": "code",
      "metadata": {
        "id": "TsDN99XqVt32"
      },
      "source": [
        "titanic_df.columns"
      ],
      "execution_count": null,
      "outputs": []
    },
    {
      "cell_type": "markdown",
      "metadata": {
        "id": "cyVEsWc7WCOI"
      },
      "source": [
        "**The Pclass column**<br>\n",
        "Use one-hot encoding to contain the information about the passenger classes. <br>\n",
        "We can use three columns or two columns for this information<br>\n",
        "We will use two columns:<br>\n",
        "Class 1<br>\n",
        "Class 2 and 3<br>\n",
        "Drop the PClass column"
      ]
    },
    {
      "cell_type": "code",
      "metadata": {
        "id": "LOG_y7gUJZLZ"
      },
      "source": [
        "# Pclass\n",
        "\n",
        "# sns.factorplot('Pclass',data=titanic_df,kind='count',order=[1,2,3])\n",
        "sns.factorplot('Pclass','Survived',order=[1,2,3], data=titanic_df,size=5)\n",
        "\n",
        "# create dummy variables for Pclass column, & drop 3rd class as it has the lowest average of survived passengers\n",
        "pclass_dummies_titanic  = pd.get_dummies(titanic_df['Pclass'])\n",
        "pclass_dummies_titanic.columns = ['Class_1','Class_2','Class_3']\n",
        "pclass_dummies_titanic.drop(['Class_3'], axis=1, inplace=True)\n",
        "\n",
        "pclass_dummies_test  = pd.get_dummies(test_df['Pclass'])\n",
        "pclass_dummies_test.columns = ['Class_1','Class_2','Class_3']\n",
        "pclass_dummies_test.drop(['Class_3'], axis=1, inplace=True)\n",
        "\n",
        "titanic_df.drop(['Pclass'],axis=1,inplace=True)\n",
        "test_df.drop(['Pclass'],axis=1,inplace=True)\n",
        "\n",
        "titanic_df = titanic_df.join(pclass_dummies_titanic)\n",
        "test_df    = test_df.join(pclass_dummies_test)"
      ],
      "execution_count": null,
      "outputs": []
    },
    {
      "cell_type": "code",
      "metadata": {
        "id": "YiiN1ak2WYWX"
      },
      "source": [
        "titanic_df.columns"
      ],
      "execution_count": null,
      "outputs": []
    },
    {
      "cell_type": "code",
      "metadata": {
        "id": "rESkJyNuXAxX"
      },
      "source": [
        "print(titanic_df.value_counts('Class_1'))\n",
        "print(titanic_df.value_counts('Class_2'))"
      ],
      "execution_count": null,
      "outputs": []
    },
    {
      "cell_type": "code",
      "metadata": {
        "id": "l9-5P45DJcCf"
      },
      "source": [
        "# define training and testing sets\n",
        "X_train = titanic_df.drop(\"Survived\",axis=1)\n",
        "Y_train = titanic_df[\"Survived\"]\n",
        "X_test  = test_df.drop(\"PassengerId\",axis=1).copy()\n"
      ],
      "execution_count": null,
      "outputs": []
    },
    {
      "cell_type": "code",
      "metadata": {
        "id": "xNlBVDb6L6Uo"
      },
      "source": [
        "print(X_train)\n",
        "print(Y_train)"
      ],
      "execution_count": null,
      "outputs": []
    },
    {
      "cell_type": "markdown",
      "metadata": {
        "id": "qdjiwucjdIS2"
      },
      "source": [
        "**Create, train, and predict with the model**"
      ]
    },
    {
      "cell_type": "code",
      "metadata": {
        "id": "nJZcmWDvN-Xg"
      },
      "source": [
        "X_train2,X_test2,y_train2,y_test2=train_test_split(X_train,Y_train,test_size=0.20,random_state=0)"
      ],
      "execution_count": null,
      "outputs": []
    },
    {
      "cell_type": "code",
      "metadata": {
        "id": "e1y2i0g0Jevf"
      },
      "source": [
        "# Logistic Regression\n",
        "\n",
        "logreg = LogisticRegression()\n",
        "\n",
        "logreg.fit(X_train2, y_train2)\n",
        "\n",
        "Y_pred = logreg.predict(X_test2)\n",
        "\n",
        "logreg.score(X_train2, y_train2)"
      ],
      "execution_count": null,
      "outputs": []
    },
    {
      "cell_type": "markdown",
      "metadata": {
        "id": "UWb8Pg3YdQb7"
      },
      "source": [
        "**The predicted values**"
      ]
    },
    {
      "cell_type": "code",
      "metadata": {
        "id": "3p-YEBlDPgZ1"
      },
      "source": [
        "Y_pred"
      ],
      "execution_count": null,
      "outputs": []
    },
    {
      "cell_type": "code",
      "metadata": {
        "id": "yHrSobemPMgr"
      },
      "source": [
        "df_check = pd.DataFrame()\n",
        "df_check[\"test values\"] = y_test2\n",
        "df_check[\"predictions\"] = Y_pred\n",
        "df_check.head(20)"
      ],
      "execution_count": null,
      "outputs": []
    },
    {
      "cell_type": "markdown",
      "metadata": {
        "id": "-A--wKt5dUzg"
      },
      "source": [
        "**Look at the confusion matrix**"
      ]
    },
    {
      "cell_type": "code",
      "metadata": {
        "id": "4OqOm7uASBJT"
      },
      "source": [
        "cnf_matrix = metrics.confusion_matrix(y_test2, Y_pred)\n",
        "cnf_matrix"
      ],
      "execution_count": null,
      "outputs": []
    },
    {
      "cell_type": "markdown",
      "metadata": {
        "id": "a833n4Jmddb3"
      },
      "source": [
        "**Look at the correlation between the features and the likelyhood of surviving**"
      ]
    },
    {
      "cell_type": "code",
      "metadata": {
        "id": "POV7w_kiJnC0"
      },
      "source": [
        "# get Correlation Coefficient for each feature using Logistic Regression\n",
        "coeff_df = DataFrame(titanic_df.columns.delete(0))\n",
        "coeff_df.columns = ['Features']\n",
        "coeff_df[\"Coefficient Estimate\"] = pd.Series(logreg.coef_[0])\n",
        "\n",
        "# preview\n",
        "coeff_df"
      ],
      "execution_count": null,
      "outputs": []
    }
  ]
}