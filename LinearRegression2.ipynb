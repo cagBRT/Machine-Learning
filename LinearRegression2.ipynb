{
  "nbformat": 4,
  "nbformat_minor": 0,
  "metadata": {
    "colab": {
      "name": "LinearRegression2.ipynb",
      "private_outputs": true,
      "provenance": [],
      "authorship_tag": "ABX9TyMpyo3QIoAvdUC8FBsOSp6y",
      "include_colab_link": true
    },
    "kernelspec": {
      "name": "python3",
      "display_name": "Python 3"
    }
  },
  "cells": [
    {
      "cell_type": "markdown",
      "metadata": {
        "id": "view-in-github",
        "colab_type": "text"
      },
      "source": [
        "<a href=\"https://colab.research.google.com/github/cagBRT/Machine-Learning/blob/master/LinearRegression2.ipynb\" target=\"_parent\"><img src=\"https://colab.research.google.com/assets/colab-badge.svg\" alt=\"Open In Colab\"/></a>"
      ]
    },
    {
      "cell_type": "markdown",
      "metadata": {
        "id": "BBGFq5o1urWZ"
      },
      "source": [
        "**Import the required libraries**"
      ]
    },
    {
      "cell_type": "code",
      "metadata": {
        "id": "NzsMVHAiJA4t"
      },
      "source": [
        "import numpy as np\n",
        "import matplotlib.pyplot as plt\n",
        "from sklearn.linear_model import LinearRegression\n",
        "from sklearn import datasets, linear_model\n",
        "from sklearn.model_selection import train_test_split\n",
        "from sklearn.metrics import mean_squared_error, r2_score"
      ],
      "execution_count": null,
      "outputs": []
    },
    {
      "cell_type": "markdown",
      "metadata": {
        "id": "PAXfk-nGuviW"
      },
      "source": [
        "**Load the dataset**<br>\n",
        "This is a real dataset from the sklearn library"
      ]
    },
    {
      "cell_type": "code",
      "metadata": {
        "id": "ygxKScsku3Pt"
      },
      "source": [
        "diabetes = load_diabetes()"
      ],
      "execution_count": null,
      "outputs": []
    },
    {
      "cell_type": "code",
      "metadata": {
        "id": "9d7318E5u-5l"
      },
      "source": [
        "diabetes.DESCR"
      ],
      "execution_count": null,
      "outputs": []
    },
    {
      "cell_type": "code",
      "metadata": {
        "id": "CA-1bTVzu7Vi"
      },
      "source": [
        "diabetes.feature_names"
      ],
      "execution_count": null,
      "outputs": []
    },
    {
      "cell_type": "code",
      "metadata": {
        "id": "WZgqQ5yeQTbZ"
      },
      "source": [
        "# Load the diabetes dataset\n",
        "diabetes_X, diabetes_y = datasets.load_diabetes(return_X_y=True)\n",
        "\n",
        "# Use only one feature\n",
        "diabetes_X = diabetes_X[:, np.newaxis, 5]\n",
        "\n",
        "#split into train and test datasets\n",
        "X_train, X_test, y_train, y_test = train_test_split(diabetes_X, diabetes_y, test_size=0.2, random_state=0)\n",
        "X_train.shape\n"
      ],
      "execution_count": null,
      "outputs": []
    },
    {
      "cell_type": "code",
      "metadata": {
        "id": "GYE7XgvcQ35h"
      },
      "source": [
        "print(diabetes_X.shape)\n",
        "print(X_train.shape)\n",
        "print(X_test.shape)"
      ],
      "execution_count": null,
      "outputs": []
    },
    {
      "cell_type": "markdown",
      "metadata": {
        "id": "MhXNDzwovfbH"
      },
      "source": [
        "**Create and train the model**"
      ]
    },
    {
      "cell_type": "code",
      "metadata": {
        "id": "W5pYa8-hRCWV"
      },
      "source": [
        "# Create linear regression object\n",
        "regr = linear_model.LinearRegression()"
      ],
      "execution_count": null,
      "outputs": []
    },
    {
      "cell_type": "code",
      "metadata": {
        "id": "xyOQBytXQgcr"
      },
      "source": [
        "# Train the model using the training sets\n",
        "regr.fit(X_train, y_train)"
      ],
      "execution_count": null,
      "outputs": []
    },
    {
      "cell_type": "markdown",
      "metadata": {
        "id": "dtHLb1fEvljy"
      },
      "source": [
        "**Test the model** "
      ]
    },
    {
      "cell_type": "code",
      "metadata": {
        "id": "JJ3MZpEsvlu0"
      },
      "source": [
        "# Make predictions using the testing set\n",
        "y_pred = regr.predict(X_test)"
      ],
      "execution_count": null,
      "outputs": []
    },
    {
      "cell_type": "code",
      "metadata": {
        "id": "pPXNcgLtP04d"
      },
      "source": [
        "# The coefficients\n",
        "print('Coefficients: ', regr.coef_)\n",
        "print('Intercept: ', regr.intercept_)\n",
        "# The mean squared error\n",
        "print('Mean squared error: %.2f'\n",
        "      % mean_squared_error(y_test, y_pred))\n",
        "# The coefficient of determination: 1 is perfect prediction\n",
        "print('Score: ',regr.score(X_test, y_pred))"
      ],
      "execution_count": null,
      "outputs": []
    },
    {
      "cell_type": "markdown",
      "metadata": {
        "id": "1t7CaPtFILSs"
      },
      "source": [
        "**Plot the line and the test data**"
      ]
    },
    {
      "cell_type": "code",
      "metadata": {
        "id": "Qv5GQcEIQj3x"
      },
      "source": [
        "# Plot outputs\n",
        "plt.scatter(diabetes_X_test, diabetes_y_test,  color='black')\n",
        "plt.plot(diabetes_X_test, diabetes_y_pred, color='blue', linewidth=3)\n",
        "\n",
        "plt.xticks(())\n",
        "plt.yticks(())\n",
        "\n",
        "plt.show()"
      ],
      "execution_count": null,
      "outputs": []
    }
  ]
}