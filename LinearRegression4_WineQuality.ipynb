{
  "nbformat": 4,
  "nbformat_minor": 0,
  "metadata": {
    "colab": {
      "name": "LinearRegression4:WineQuality.ipynb",
      "private_outputs": true,
      "provenance": [],
      "authorship_tag": "ABX9TyPU/mNx1gbOs1u1Adyq2QKg",
      "include_colab_link": true
    },
    "kernelspec": {
      "name": "python3",
      "display_name": "Python 3"
    },
    "accelerator": "GPU"
  },
  "cells": [
    {
      "cell_type": "markdown",
      "metadata": {
        "id": "view-in-github",
        "colab_type": "text"
      },
      "source": [
        "<a href=\"https://colab.research.google.com/github/cagBRT/Machine-Learning/blob/master/LinearRegression4_WineQuality.ipynb\" target=\"_parent\"><img src=\"https://colab.research.google.com/assets/colab-badge.svg\" alt=\"Open In Colab\"/></a>"
      ]
    },
    {
      "cell_type": "code",
      "metadata": {
        "id": "UuorcVFPcr04"
      },
      "source": [
        "# Clone the entire repo.\n",
        "!git clone -l -s https://github.com/cagBRT/Machine-Learning.git cloned-repo\n",
        "%cd cloned-repo"
      ],
      "execution_count": null,
      "outputs": []
    },
    {
      "cell_type": "markdown",
      "metadata": {
        "id": "ul2doUVQIwXr"
      },
      "source": [
        "# **Can the quality of wine be predicted from its measureable characteristics?**"
      ]
    },
    {
      "cell_type": "markdown",
      "metadata": {
        "id": "RTfR8FLpO8vQ"
      },
      "source": [
        "**Fixed acidity**: acids are major wine properties and contribute greatly to the wine’s taste. Usually, the total acidity is divided into two groups: the volatile acids and the nonvolatile or fixed acids. Among the fixed acids that you can find in wines are the following: tartaric, malic, citric, and succinic. This variable is expressed in g(tartaricacid)/dm3 in the data sets.<br>\n",
        "**Volatile acidity**: the volatile acidity is basically the process of wine turning into vinegar. In the U.S, the legal limits of Volatile Acidity are 1.2 g/L for red table wine and 1.1 g/L for white table wine. In these data sets, the volatile acidity is expressed in g(aceticacid)/dm3.<br>\n",
        "**Citric acid** is one of the fixed acids that you’ll find in wines. It’s expressed in g/dm3 in the two data sets.<br>\n",
        "**Residual sugar **typically refers to the sugar remaining after fermentation stops, or is stopped. It’s expressed in g/dm3 in the red and white data.<br>\n",
        "**Chlorides** can be a significant contributor to saltiness in wine. Here, you’ll see that it’s expressed in g(sodiumchloride)/dm3.\n",
        "**Free sulfur dioxide**: the part of the sulfur dioxide that is added to a wine and that is lost into it is said to be bound, while the active part is said to be free. The winemaker will always try to get the highest proportion of free sulfur to bind. This variable is expressed in mg/dm3 in the data.<br>\n",
        "**Total sulfur dioxide** is the sum of the bound and the free sulfur dioxide (SO2). Here, it’s expressed in mg/dm3. There are legal limits for sulfur levels in wines: in the EU, red wines can only have 160mg/L, while white and rose wines can have about 210mg/L. Sweet wines are allowed to have 400mg/L. For the US, the legal limits are set at 350mg/L, and for Australia, this is 250mg/L.<br>\n",
        "**Density** is generally used as a measure of the conversion of sugar to alcohol. Here, it’s expressed in g/cm3.<br>\n",
        "**pH** or the potential of hydrogen is a numeric scale to specify the acidity or basicity the wine. As you might know, solutions with a pH less than 7 are acidic, while solutions with a pH greater than 7 are basic. With a pH of 7, pure water is neutral. Most wines have a pH between 2.9 and 3.9 and are therefore acidic.<br>\n",
        "**Sulfate**s are to wine as gluten is to food. You might already know sulfites from the headaches that they can cause. They are a regular part of the winemaking around the world and are considered necessary. In this case, they are expressed in g(potassiumsulphate)/dm3.<br>\n",
        "**Alcohol**: wine is an alcoholic beverage, and as you know, the percentage of alcohol can vary from wine to wine. It shouldn’t be surprised that this variable is included in the data sets, where it’s expressed in % vol.<br>\n",
        "**Quality**: wine experts graded the wine quality between 0 (very bad) and 10 (very excellent). The eventual number is the median of at least three evaluations made by those same wine experts.<br>"
      ]
    },
    {
      "cell_type": "markdown",
      "metadata": {
        "id": "B_SyJzX6OjgM"
      },
      "source": [
        "# **Load the libraries**"
      ]
    },
    {
      "cell_type": "code",
      "metadata": {
        "id": "yT-tH6kSE_V1"
      },
      "source": [
        "from __future__ import absolute_import, division, print_function, unicode_literals\n",
        "\n",
        "# Install TensorFlow\n",
        "try:\n",
        "  # %tensorflow_version only exists in Colab.\n",
        "  %tensorflow_version 2.x\n",
        "except Exception:\n",
        "  pass\n",
        "\n",
        "import tensorflow as tf\n",
        "import pathlib\n",
        "\n",
        "import matplotlib.pyplot as plt\n",
        "import pandas as pd\n",
        "import seaborn as sns\n",
        "import numpy as np\n",
        "\n",
        "from sklearn.linear_model import LinearRegression\n",
        "from keras.utils import to_categorical\n",
        "from tensorflow import keras\n",
        "from tensorflow.keras import layers\n",
        "from sklearn import metrics\n",
        "\n",
        "print(tf.__version__)"
      ],
      "execution_count": null,
      "outputs": []
    },
    {
      "cell_type": "markdown",
      "metadata": {
        "id": "9aWDRwFGOnjE"
      },
      "source": [
        "# **Load the data**\n",
        "The data is in a file:<br>\n",
        ">winequality-red.csv<br>"
      ]
    },
    {
      "cell_type": "code",
      "metadata": {
        "id": "-DaKr4tTFZb3"
      },
      "source": [
        "# Read in white wine data \n",
        "#white = pd.read_csv(\"http://archive.ics.uci.edu/ml/machine-learning-databases/wine-quality/winequality-white.csv\", sep=';')\n",
        "#white = pd.read_csv(\"winequality-white.csv\", sep=';')\n",
        "\n",
        "wines = pd.read_csv(\"winequality-red.csv\", sep=';')"
      ],
      "execution_count": null,
      "outputs": []
    },
    {
      "cell_type": "code",
      "metadata": {
        "id": "8Eun_foKFq7V"
      },
      "source": [
        "wines.tail()"
      ],
      "execution_count": null,
      "outputs": []
    },
    {
      "cell_type": "markdown",
      "metadata": {
        "id": "qiTSR74sO_sS"
      },
      "source": [
        "# **Check out the distribution of the type of wines**"
      ]
    },
    {
      "cell_type": "code",
      "metadata": {
        "id": "8e4fGVfT7avb"
      },
      "source": [
        "wines['quality'].value_counts()"
      ],
      "execution_count": null,
      "outputs": []
    },
    {
      "cell_type": "code",
      "metadata": {
        "id": "MiVtKz5AYR4b"
      },
      "source": [
        "plt.figure(figsize=(15,10))\n",
        "plt.tight_layout()\n",
        "sns.distplot(wines['quality'])"
      ],
      "execution_count": null,
      "outputs": []
    },
    {
      "cell_type": "markdown",
      "metadata": {
        "id": "xBbo1BJIPG04"
      },
      "source": [
        "# **Check for missing data in wines**"
      ]
    },
    {
      "cell_type": "code",
      "metadata": {
        "id": "8Oe8kyVIHyrH"
      },
      "source": [
        "wines.isna().sum()"
      ],
      "execution_count": null,
      "outputs": []
    },
    {
      "cell_type": "markdown",
      "metadata": {
        "id": "vUrhO4ncPLS2"
      },
      "source": [
        "# **Is there a strong correlation between any of the features?**\n",
        "\n",
        "Can the model be simplified (without increasing the mse)  by removing features? <br>\n"
      ]
    },
    {
      "cell_type": "code",
      "metadata": {
        "id": "9hMYRhmaGgnv"
      },
      "source": [
        "corr = wines.corr()\n",
        "sns.heatmap(corr, \n",
        "            xticklabels=corr.columns.values,\n",
        "            yticklabels=corr.columns.values)\n",
        "plt.show()"
      ],
      "execution_count": null,
      "outputs": []
    },
    {
      "cell_type": "markdown",
      "metadata": {
        "id": "yNfi7Xh3PtSa"
      },
      "source": [
        "# **Split the dataset into a training set and a test set**\n",
        "Models with very few hyperparameters will be easy to validate and tune, so you can probably reduce the size of your validation set, but if your model has many hyperparameters, you would want to have a large test set as well"
      ]
    },
    {
      "cell_type": "code",
      "metadata": {
        "id": "usMnFS-mH5sf"
      },
      "source": [
        "#Consider changing the ratio of the train/test split\n",
        "#fac .95 - .5\n",
        "wines_train = wines.sample(frac=.8,random_state=0)\n",
        "wines_test = wines.drop(wines_train.index)\n",
        "print(\"done\")"
      ],
      "execution_count": null,
      "outputs": []
    },
    {
      "cell_type": "code",
      "metadata": {
        "id": "5EKkF2SxH0WM"
      },
      "source": [
        "print(\"Training shape:\",wines_train.shape)\n",
        "print(\"Test shape:\",wines_test.shape)"
      ],
      "execution_count": null,
      "outputs": []
    },
    {
      "cell_type": "code",
      "metadata": {
        "id": "H1rxVuiQLeV-"
      },
      "source": [
        "wines_train"
      ],
      "execution_count": null,
      "outputs": []
    },
    {
      "cell_type": "markdown",
      "metadata": {
        "id": "J_XshQkuPd5b"
      },
      "source": [
        "# **Remove the labels from the dataset**"
      ]
    },
    {
      "cell_type": "code",
      "metadata": {
        "id": "mZgwjudzJGTT"
      },
      "source": [
        "train_labels = wines_train.pop('quality')\n",
        "test_labels = wines_test.pop('quality')"
      ],
      "execution_count": null,
      "outputs": []
    },
    {
      "cell_type": "code",
      "metadata": {
        "id": "Ei8uCJ3zyrKT"
      },
      "source": [
        "wines_train"
      ],
      "execution_count": null,
      "outputs": []
    },
    {
      "cell_type": "code",
      "metadata": {
        "id": "ZOf2VECnxmIj"
      },
      "source": [
        "train_stats = wines_train.describe()\n",
        "train_stats = train_stats.transpose()\n",
        "train_stats"
      ],
      "execution_count": null,
      "outputs": []
    },
    {
      "cell_type": "code",
      "metadata": {
        "id": "aX1uBIHs3kH1"
      },
      "source": [
        "test_stats = wines_test.describe()\n",
        "test_stats = test_stats.transpose()\n",
        "test_stats"
      ],
      "execution_count": null,
      "outputs": []
    },
    {
      "cell_type": "markdown",
      "metadata": {
        "id": "-OZ852UxQSRy"
      },
      "source": [
        "# **Normalize the data**"
      ]
    },
    {
      "cell_type": "code",
      "metadata": {
        "id": "qUSR2qiZJXZ4"
      },
      "source": [
        "def norm(x):\n",
        "  return (x - train_stats['mean']) / train_stats['std']\n",
        "\n",
        "normed_train_data = norm(wines_train)\n",
        "normed_test_data = norm(wines_test)\n",
        "print(\"done\")"
      ],
      "execution_count": null,
      "outputs": []
    },
    {
      "cell_type": "markdown",
      "metadata": {
        "id": "6EeJRG1pYm6B"
      },
      "source": [
        "# **Use the skLearn Linear Regression Model**\n"
      ]
    },
    {
      "cell_type": "code",
      "metadata": {
        "id": "O3hI7CNTYuVh"
      },
      "source": [
        "regressor = LinearRegression()  \n",
        "regressor.fit(wines_train, train_labels)"
      ],
      "execution_count": null,
      "outputs": []
    },
    {
      "cell_type": "code",
      "metadata": {
        "id": "v8OQ1hZ8Igc2"
      },
      "source": [
        "print(regressor.score(wines_test, test_labels))"
      ],
      "execution_count": null,
      "outputs": []
    },
    {
      "cell_type": "markdown",
      "metadata": {
        "id": "aJVDAm_sZVxF"
      },
      "source": [
        "The regression model has to find the most optimal coefficients for all the attributes. To see what coefficients the regression model has chosen:"
      ]
    },
    {
      "cell_type": "code",
      "metadata": {
        "id": "2XA-P1X7ZavP"
      },
      "source": [
        "coeff_df = pd.DataFrame(regressor.coef_, wines_train.columns, columns=['Coefficient'])  \n",
        "coeff_df"
      ],
      "execution_count": null,
      "outputs": []
    },
    {
      "cell_type": "markdown",
      "metadata": {
        "id": "aUBDK5s0Z4o8"
      },
      "source": [
        "This means that for a unit increase in “density”, there is a decrease of 31.51 units in the quality of the wine. Similarly, a unit decrease in “Chlorides“ results in an increase of 1.87 units in the quality of the wine. We can see that the rest of the features have very little effect on the quality of the wine."
      ]
    },
    {
      "cell_type": "code",
      "metadata": {
        "id": "DI92yQ5tZ5jv"
      },
      "source": [
        "y_pred = regressor.predict(wines_test)\n",
        "y_pred.shape"
      ],
      "execution_count": null,
      "outputs": []
    },
    {
      "cell_type": "code",
      "metadata": {
        "id": "qQkGrl2Zbewx"
      },
      "source": [
        "test_labels"
      ],
      "execution_count": null,
      "outputs": []
    },
    {
      "cell_type": "markdown",
      "metadata": {
        "id": "g_1kjIVMaDS9"
      },
      "source": [
        "**Check the difference between the actual and predicted value**"
      ]
    },
    {
      "cell_type": "code",
      "metadata": {
        "id": "OuVpsNhRaDbv"
      },
      "source": [
        "df1 = pd.DataFrame({'Actual': test_labels, 'Predicted': y_pred})\n",
        "df1"
      ],
      "execution_count": null,
      "outputs": []
    },
    {
      "cell_type": "markdown",
      "metadata": {
        "id": "JKyH7ouxayFN"
      },
      "source": [
        "**Plot the actual and predicted values**"
      ]
    },
    {
      "cell_type": "code",
      "metadata": {
        "id": "FWGtS2frayOg"
      },
      "source": [
        "df1.plot(kind='bar',figsize=(15,8))\n",
        "plt.show()"
      ],
      "execution_count": null,
      "outputs": []
    },
    {
      "cell_type": "code",
      "metadata": {
        "id": "M-IliI3ZcPrF"
      },
      "source": [
        "print('Mean Absolute Error:', metrics.mean_absolute_error(test_labels, y_pred))  \n",
        "print('Mean Squared Error:', metrics.mean_squared_error(test_labels, y_pred))  \n",
        "print('Root Mean Squared Error:', np.sqrt(metrics.mean_squared_error(test_labels, y_pred)))\n"
      ],
      "execution_count": null,
      "outputs": []
    },
    {
      "cell_type": "markdown",
      "metadata": {
        "id": "zeAhf34zdA8e"
      },
      "source": [
        "**Need more data**: We need to have a huge amount of data to get the best possible prediction.<br>\n",
        "**Bad assumptions**: We made the assumption that this data has a linear relationship, but that might not be the case. Visualizing the data may help you determine that.<br>\n",
        "**Poor features**: The features we used may not have had a high enough correlation to the values we were trying to predict.<br>"
      ]
    },
    {
      "cell_type": "markdown",
      "metadata": {
        "id": "RcGrpIYHVV6Z"
      },
      "source": [
        "# **Assignment** <br>\n",
        "Select a feature to remove from the model input. It should be one that has zero or close to zero correlation with quality. "
      ]
    },
    {
      "cell_type": "code",
      "metadata": {
        "id": "u6lU6ts5VtE_"
      },
      "source": [
        "corr = wines.corr()\n",
        "sns.heatmap(corr, \n",
        "            xticklabels=corr.columns.values,\n",
        "            yticklabels=corr.columns.values)\n",
        "plt.show()"
      ],
      "execution_count": null,
      "outputs": []
    },
    {
      "cell_type": "code",
      "metadata": {
        "id": "73RLqc4LV_QQ"
      },
      "source": [
        "wines.columns"
      ],
      "execution_count": null,
      "outputs": []
    },
    {
      "cell_type": "code",
      "metadata": {
        "id": "Df1X0s_bWDUn"
      },
      "source": [
        "wines.pop('the column you want to remove')"
      ],
      "execution_count": null,
      "outputs": []
    },
    {
      "cell_type": "code",
      "metadata": {
        "id": "JaS9nXQVV_u7"
      },
      "source": [
        "#Consider changing the ratio of the train/test split\n",
        "#fac .95 - .5\n",
        "wines_train = wines.sample(frac=.8,random_state=0)\n",
        "wines_test = wines.drop(wines_train.index)\n",
        "print(\"done\")"
      ],
      "execution_count": null,
      "outputs": []
    },
    {
      "cell_type": "code",
      "metadata": {
        "id": "mxFZ3wbhWdbW"
      },
      "source": [
        "train_labels = wines_train.pop('quality')\n",
        "test_labels = wines_test.pop('quality')"
      ],
      "execution_count": null,
      "outputs": []
    },
    {
      "cell_type": "code",
      "metadata": {
        "id": "UNoXn4U4WsAp"
      },
      "source": [
        "def norm(x):\n",
        "  return (x - train_stats['mean']) / train_stats['std']\n",
        "\n",
        "normed_train_data = norm(wines_train)\n",
        "normed_test_data = norm(wines_test)\n",
        "print(\"done\")"
      ],
      "execution_count": null,
      "outputs": []
    },
    {
      "cell_type": "code",
      "metadata": {
        "id": "65JFKNeoWxKq"
      },
      "source": [
        "regressor = LinearRegression()  \n",
        "regressor.fit(wines_train, train_labels)"
      ],
      "execution_count": null,
      "outputs": []
    },
    {
      "cell_type": "code",
      "metadata": {
        "id": "Hd9562TmWyL3"
      },
      "source": [
        "coeff_df = pd.DataFrame(regressor.coef_, wines_train.columns, columns=['Coefficient'])  \n",
        "coeff_df"
      ],
      "execution_count": null,
      "outputs": []
    },
    {
      "cell_type": "code",
      "metadata": {
        "id": "kpl1zqKRW2mj"
      },
      "source": [
        "df1 = pd.DataFrame({'Actual': test_labels, 'Predicted': y_pred})\n",
        "df1"
      ],
      "execution_count": null,
      "outputs": []
    },
    {
      "cell_type": "code",
      "metadata": {
        "id": "R_WzyZItW2qq"
      },
      "source": [
        "df1.plot(kind='bar',figsize=(15,8))\n",
        "plt.show()"
      ],
      "execution_count": null,
      "outputs": []
    },
    {
      "cell_type": "code",
      "metadata": {
        "id": "9peTqxzZW_qi"
      },
      "source": [
        "print('Mean Absolute Error:', metrics.mean_absolute_error(test_labels, y_pred))  \n",
        "print('Mean Squared Error:', metrics.mean_squared_error(test_labels, y_pred))  \n",
        "print('Root Mean Squared Error:', np.sqrt(metrics.mean_squared_error(test_labels, y_pred)))\n"
      ],
      "execution_count": null,
      "outputs": []
    }
  ]
}