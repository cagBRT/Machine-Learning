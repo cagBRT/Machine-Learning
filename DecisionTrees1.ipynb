{
  "nbformat": 4,
  "nbformat_minor": 0,
  "metadata": {
    "colab": {
      "name": "DecisionTrees1.ipynb",
      "private_outputs": true,
      "provenance": [],
      "authorship_tag": "ABX9TyNV/dyLPKCV72fvekYJcRNc",
      "include_colab_link": true
    },
    "kernelspec": {
      "name": "python3",
      "display_name": "Python 3"
    },
    "language_info": {
      "name": "python"
    }
  },
  "cells": [
    {
      "cell_type": "markdown",
      "metadata": {
        "id": "view-in-github",
        "colab_type": "text"
      },
      "source": [
        "<a href=\"https://colab.research.google.com/github/cagBRT/Machine-Learning/blob/master/DecisionTrees1.ipynb\" target=\"_parent\"><img src=\"https://colab.research.google.com/assets/colab-badge.svg\" alt=\"Open In Colab\"/></a>"
      ]
    },
    {
      "cell_type": "code",
      "metadata": {
        "id": "E4coQdmHbq3T"
      },
      "source": [
        "from IPython.display import Image"
      ],
      "execution_count": null,
      "outputs": []
    },
    {
      "cell_type": "code",
      "metadata": {
        "id": "sZ--zXXnbI4e"
      },
      "source": [
        "!git clone -l -s https://github.com/cagBRT/Machine-Learning.git cloned-repo\n",
        "%cd cloned-repo"
      ],
      "execution_count": null,
      "outputs": []
    },
    {
      "cell_type": "markdown",
      "metadata": {
        "id": "psT1lRjDZ7ym"
      },
      "source": [
        "A decision tree has branches, nodes, leaves, etc. <br>\n",
        "\n",
        "A root node is an initial node representing the entire sample or population, and it can get further divided into other nodes or homogeneous sets. <br>\n",
        "\n",
        "A decision node consists of two or more nodes that represent separate values of the attribute tested.\n",
        "\n",
        "**A leaf/terminal node does not split into further nodes, and it represents a decision**"
      ]
    },
    {
      "cell_type": "code",
      "metadata": {
        "id": "BuSrPmohbvHu"
      },
      "source": [
        "Image(\"/content/cloned-repo/images/Decision Tree.png\" , width=640)"
      ],
      "execution_count": null,
      "outputs": []
    },
    {
      "cell_type": "code",
      "metadata": {
        "id": "_wSfleyXiADq"
      },
      "source": [
        "Image(\"images/Decision Tree 2.png\" , width=640)"
      ],
      "execution_count": null,
      "outputs": []
    },
    {
      "cell_type": "code",
      "metadata": {
        "id": "ja2uBMSiVfD_"
      },
      "source": [
        "from sklearn import tree\n",
        "X = [[0,0,0], [1,1,1],[1,0,1],[0,1,1],[0,0,1],[0,1,0],[0,1,0]]\n",
        "Y = [0, 1, 0,1,0,1,1]\n",
        "clf = tree.DecisionTreeClassifier()\n",
        "clf = clf.fit(X, Y)"
      ],
      "execution_count": null,
      "outputs": []
    },
    {
      "cell_type": "code",
      "metadata": {
        "id": "gisQvhk2ciER"
      },
      "source": [
        "tree.plot_tree(clf)"
      ],
      "execution_count": null,
      "outputs": []
    },
    {
      "cell_type": "code",
      "metadata": {
        "id": "hrE_jIcWVjmu"
      },
      "source": [
        "clf.predict([[1,0,0]])"
      ],
      "execution_count": null,
      "outputs": []
    },
    {
      "cell_type": "markdown",
      "metadata": {
        "id": "N0Y3HeiJe_Ho"
      },
      "source": [
        "predict_prob is a function that predicts class probabilities of the input samples X.\n",
        "\n",
        "The predicted class probability is the fraction of samples of the same\n",
        "class in a leaf.\n",
        "\n"
      ]
    },
    {
      "cell_type": "code",
      "metadata": {
        "id": "JqDTckZcVpt1"
      },
      "source": [
        "clf.predict_proba([[1,0,0]])\n",
        "clf.predict_proba(X)"
      ],
      "execution_count": null,
      "outputs": []
    }
  ]
}