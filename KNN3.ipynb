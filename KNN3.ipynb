{
  "nbformat": 4,
  "nbformat_minor": 0,
  "metadata": {
    "colab": {
      "name": "KNN3.ipynb",
      "provenance": [],
      "include_colab_link": true
    },
    "kernelspec": {
      "name": "python3",
      "display_name": "Python 3"
    }
  },
  "cells": [
    {
      "cell_type": "markdown",
      "metadata": {
        "id": "view-in-github",
        "colab_type": "text"
      },
      "source": [
        "<a href=\"https://colab.research.google.com/github/cagBRT/Machine-Learning/blob/master/KNN3.ipynb\" target=\"_parent\"><img src=\"https://colab.research.google.com/assets/colab-badge.svg\" alt=\"Open In Colab\"/></a>"
      ]
    },
    {
      "cell_type": "code",
      "metadata": {
        "id": "csEWAu8X_l2t"
      },
      "source": [
        "import numpy as np\n",
        "import matplotlib.pyplot as plt\n",
        "from sklearn import neighbors, datasets\n",
        "from sklearn.model_selection import train_test_split\n",
        "from sklearn.metrics import classification_report, confusion_matrix\n",
        "from random import seed\n",
        "from random import random\n",
        "from random import randint"
      ],
      "execution_count": 573,
      "outputs": []
    },
    {
      "cell_type": "markdown",
      "metadata": {
        "id": "PsZQfcTsAJyB"
      },
      "source": [
        "**Set the number of neighbors to vote**"
      ]
    },
    {
      "cell_type": "code",
      "metadata": {
        "id": "cGk8veVpAWxL"
      },
      "source": [
        "n_neighbors = 2 #change to 5"
      ],
      "execution_count": 574,
      "outputs": []
    },
    {
      "cell_type": "markdown",
      "metadata": {
        "id": "NaWnEYvhAZpV"
      },
      "source": [
        "**Get and prepare the data**"
      ]
    },
    {
      "cell_type": "code",
      "metadata": {
        "id": "gCn0HuqnG2ul"
      },
      "source": [
        "from sklearn.datasets import make_classification\n",
        "# Generate Balanced Data\n",
        "X,y = make_classification(n_samples=2000, n_features=2, n_informative=2,n_redundant=0, n_repeated=0, n_classes=3, n_clusters_per_class=1,class_sep=2,\n",
        "                          flip_y=0,weights=[0.33,0.33,0.33], random_state=randint(0,20))\n",
        "#f, (ax1,ax2) = plt.subplots(nrows=1, ncols=2,figsize=(20,8))\n",
        "#sns.scatterplot(Xb[:,0],Xb[:,1],hue=y,ax=ax1);\n",
        "#ax1.set_title(\"No Imbalance\");"
      ],
      "execution_count": 575,
      "outputs": []
    },
    {
      "cell_type": "code",
      "metadata": {
        "colab": {
          "base_uri": "https://localhost:8080/"
        },
        "id": "LOu3impvXdFk",
        "outputId": "545192a8-dcc1-4d4e-a2dd-b64f88b54a9d"
      },
      "source": [
        "X.shape"
      ],
      "execution_count": 576,
      "outputs": [
        {
          "output_type": "execute_result",
          "data": {
            "text/plain": [
              "(2000, 2)"
            ]
          },
          "metadata": {
            "tags": []
          },
          "execution_count": 576
        }
      ]
    },
    {
      "cell_type": "code",
      "metadata": {
        "id": "Knt2RzY5X4hr"
      },
      "source": [
        "X_train, X_test, y_train, y_test = train_test_split(\n",
        "    X, y, test_size=0.33, random_state=42)"
      ],
      "execution_count": 577,
      "outputs": []
    },
    {
      "cell_type": "markdown",
      "metadata": {
        "id": "7jhK436kBblj"
      },
      "source": [
        "**Do classification for both uniform and distance weights**<br>\n",
        ">‘uniform’ : uniform weights. All points in each neighborhood are weighted equally.\n",
        "\n",
        ">‘distance’ : weight points by the inverse of their distance. in this case, closer neighbors of a query point will have a greater influence than neighbors which are further away."
      ]
    },
    {
      "cell_type": "code",
      "metadata": {
        "id": "oXtQoEf7Xq4a"
      },
      "source": [
        "clf_U = neighbors.KNeighborsClassifier(n_neighbors, weights='uniform')\n",
        "U_trained=clf_U.fit(X_train, y_train)\n",
        "y_U_pred = clf_U.predict(X_test)\n"
      ],
      "execution_count": 578,
      "outputs": []
    },
    {
      "cell_type": "code",
      "metadata": {
        "id": "IKCXdZIyYRHf"
      },
      "source": [
        "clf_D = neighbors.KNeighborsClassifier(n_neighbors, weights='distance')\n",
        "D_trained =clf_D.fit(X_train, y_train)\n",
        "y_D_pred = clf_D.predict(X_test)"
      ],
      "execution_count": 579,
      "outputs": []
    },
    {
      "cell_type": "code",
      "metadata": {
        "colab": {
          "base_uri": "https://localhost:8080/"
        },
        "id": "lh3TTPR3fLS9",
        "outputId": "c7c7607d-6448-4801-cf3e-cf90462d06da"
      },
      "source": [
        "print(confusion_matrix(y_test, y_U_pred))\n",
        "print(classification_report(y_test, y_U_pred))\n",
        "\n",
        "print(confusion_matrix(y_test, y_D_pred))\n",
        "print(classification_report(y_test, y_D_pred))"
      ],
      "execution_count": 580,
      "outputs": [
        {
          "output_type": "stream",
          "text": [
            "[[200   0   4]\n",
            " [  0 229   0]\n",
            " [ 12   0 215]]\n",
            "              precision    recall  f1-score   support\n",
            "\n",
            "           0       0.94      0.98      0.96       204\n",
            "           1       1.00      1.00      1.00       229\n",
            "           2       0.98      0.95      0.96       227\n",
            "\n",
            "    accuracy                           0.98       660\n",
            "   macro avg       0.98      0.98      0.98       660\n",
            "weighted avg       0.98      0.98      0.98       660\n",
            "\n",
            "[[196   0   8]\n",
            " [  0 229   0]\n",
            " [  8   0 219]]\n",
            "              precision    recall  f1-score   support\n",
            "\n",
            "           0       0.96      0.96      0.96       204\n",
            "           1       1.00      1.00      1.00       229\n",
            "           2       0.96      0.96      0.96       227\n",
            "\n",
            "    accuracy                           0.98       660\n",
            "   macro avg       0.98      0.98      0.98       660\n",
            "weighted avg       0.98      0.98      0.98       660\n",
            "\n"
          ],
          "name": "stdout"
        }
      ]
    }
  ]
}