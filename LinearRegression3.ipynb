{
  "nbformat": 4,
  "nbformat_minor": 0,
  "metadata": {
    "colab": {
      "name": "LinearRegression3.ipynb",
      "private_outputs": true,
      "provenance": [],
      "authorship_tag": "ABX9TyOkum8v+AiCA8To0Rd2jdnZ",
      "include_colab_link": true
    },
    "kernelspec": {
      "name": "python3",
      "display_name": "Python 3"
    }
  },
  "cells": [
    {
      "cell_type": "markdown",
      "metadata": {
        "id": "view-in-github",
        "colab_type": "text"
      },
      "source": [
        "<a href=\"https://colab.research.google.com/github/cagBRT/Machine-Learning/blob/master/LinearRegression3.ipynb\" target=\"_parent\"><img src=\"https://colab.research.google.com/assets/colab-badge.svg\" alt=\"Open In Colab\"/></a>"
      ]
    },
    {
      "cell_type": "markdown",
      "source": [
        "In this notebook we use a weather dataset and a classical ML model to become more familiar with linear regression."
      ],
      "metadata": {
        "id": "1Y1BZh1EgQd2"
      }
    },
    {
      "cell_type": "code",
      "metadata": {
        "id": "Mn0PydULVpqq"
      },
      "source": [
        "# Clone the entire repo.\n",
        "!git clone -l -s https://github.com/cagBRT/Machine-Learning.git cloned-repo\n",
        "%cd cloned-repo"
      ],
      "execution_count": null,
      "outputs": []
    },
    {
      "cell_type": "markdown",
      "metadata": {
        "id": "tRzlhKQbRe_t"
      },
      "source": [
        "**Import Libraries**"
      ]
    },
    {
      "cell_type": "code",
      "metadata": {
        "id": "L9JDk2RnS5SW"
      },
      "source": [
        "import pandas as pd\n",
        "import numpy as np\n",
        "import matplotlib.pyplot as plt\n",
        "import seaborn as seabornInstance\n",
        "from sklearn.model_selection import train_test_split\n",
        "from sklearn.linear_model import LinearRegression\n",
        "from sklearn import metrics\n",
        "%matplotlib inline"
      ],
      "execution_count": null,
      "outputs": []
    },
    {
      "cell_type": "markdown",
      "metadata": {
        "id": "xrHH1XECRi0i"
      },
      "source": [
        "**Import the data to a Pandas dataframe**"
      ]
    },
    {
      "cell_type": "code",
      "metadata": {
        "id": "xN6fdMu0Ukb2"
      },
      "source": [
        "dataset = pd.read_csv('weather.csv')"
      ],
      "execution_count": null,
      "outputs": []
    },
    {
      "cell_type": "markdown",
      "metadata": {
        "id": "WgnJ78qSRoZs"
      },
      "source": [
        "**Check the shape of the dataset**"
      ]
    },
    {
      "cell_type": "code",
      "metadata": {
        "id": "yL3u3Cn5V4V-"
      },
      "source": [
        "dataset.shape"
      ],
      "execution_count": null,
      "outputs": []
    },
    {
      "cell_type": "markdown",
      "metadata": {
        "id": "6A42ijQECgxY"
      },
      "source": [
        "**List the feature names**"
      ]
    },
    {
      "cell_type": "code",
      "metadata": {
        "id": "HGfq6OSlCa3n"
      },
      "source": [
        "print(dataset.columns)"
      ],
      "execution_count": null,
      "outputs": []
    },
    {
      "cell_type": "markdown",
      "metadata": {
        "id": "zZfnxFKKRvXc"
      },
      "source": [
        "**ScatterPlot the data**<br>\n",
        "There are 22 different features for the weather.\n",
        "Chose two to plot, in this case MinTemp and MaxTemp."
      ]
    },
    {
      "cell_type": "code",
      "metadata": {
        "id": "7wCPWi4IWBuL"
      },
      "source": [
        "dataset.plot(x='MinTemp', y='MaxTemp', style='o')\n",
        "plt.title('MinTemp vs MaxTemp')\n",
        "plt.xlabel('MinTemp')\n",
        "plt.ylabel('MaxTemp')\n",
        "plt.show()"
      ],
      "execution_count": null,
      "outputs": []
    },
    {
      "cell_type": "markdown",
      "metadata": {
        "id": "2HAZSX1cR2K0"
      },
      "source": [
        "**Reshape the data**<br>\n",
        "The -1 means, figure out the correct shape of the new array. It will be compatible with the original shape"
      ]
    },
    {
      "cell_type": "code",
      "metadata": {
        "id": "RQ3atxUZWMRA"
      },
      "source": [
        "X = dataset['MinTemp'].values.reshape(-1,1)\n",
        "y = dataset['MaxTemp'].values.reshape(-1,1)"
      ],
      "execution_count": null,
      "outputs": []
    },
    {
      "cell_type": "markdown",
      "metadata": {
        "id": "SsMnkiOwR4F7"
      },
      "source": [
        "**Split the data into train and test set**"
      ]
    },
    {
      "cell_type": "code",
      "metadata": {
        "id": "FY3NrjErWPi6"
      },
      "source": [
        "X_train, X_test, y_train, y_test = train_test_split(X, y, test_size=0.2, random_state=0)"
      ],
      "execution_count": null,
      "outputs": []
    },
    {
      "cell_type": "markdown",
      "metadata": {
        "id": "JluJ6WnWSDUv"
      },
      "source": [
        "**Select and train the model**"
      ]
    },
    {
      "cell_type": "code",
      "metadata": {
        "id": "Ye4mGQrMWSJl"
      },
      "source": [
        "regressor = LinearRegression()\n",
        "regressor.fit(X_train, y_train) #training the algorithm"
      ],
      "execution_count": null,
      "outputs": []
    },
    {
      "cell_type": "markdown",
      "metadata": {
        "id": "R65GCOxySGaW"
      },
      "source": [
        "**Print the y intercept and slope**"
      ]
    },
    {
      "cell_type": "code",
      "metadata": {
        "id": "tex-Rsv1WVCs"
      },
      "source": [
        "#To retrieve the intercept:\n",
        "print(regressor.intercept_)\n",
        "#For retrieving the slope:\n",
        "print(regressor.coef_)\n",
        "print(regressor.score(X_train,y_train))"
      ],
      "execution_count": null,
      "outputs": []
    },
    {
      "cell_type": "markdown",
      "metadata": {
        "id": "Jz9nKQ3oSJ1i"
      },
      "source": [
        "**Make predictions using the test set**"
      ]
    },
    {
      "cell_type": "code",
      "metadata": {
        "id": "uQyTC8xIWZxQ"
      },
      "source": [
        "y_pred = regressor.predict(X_test)"
      ],
      "execution_count": null,
      "outputs": []
    },
    {
      "cell_type": "markdown",
      "metadata": {
        "id": "EM1eeC6USOAb"
      },
      "source": [
        "**Compare the actual y value with the predicted value**"
      ]
    },
    {
      "cell_type": "code",
      "metadata": {
        "id": "ZPGNRtsyWcnb"
      },
      "source": [
        "df = pd.DataFrame({'Actual': y_test.flatten(), 'Predicted': y_pred.flatten()})\n",
        "df"
      ],
      "execution_count": null,
      "outputs": []
    },
    {
      "cell_type": "markdown",
      "metadata": {
        "id": "JnAs4Q0sST31"
      },
      "source": [
        "**Plot the line for prediction**"
      ]
    },
    {
      "cell_type": "code",
      "metadata": {
        "id": "8ZGTV1HWWifA"
      },
      "source": [
        "plt.scatter(X_test, y_test,  color='gray')\n",
        "plt.plot(X_test, y_pred, color='red', linewidth=2)\n",
        "plt.title('MinTemp vs MaxTemp')\n",
        "plt.xlabel('MinTemp')\n",
        "plt.ylabel('MaxTemp')\n",
        "plt.show()"
      ],
      "execution_count": null,
      "outputs": []
    },
    {
      "cell_type": "markdown",
      "metadata": {
        "id": "3J0inxhWSZUt"
      },
      "source": [
        "**Print the metrics for the prediction model**"
      ]
    },
    {
      "cell_type": "code",
      "metadata": {
        "id": "M6Nqnh70Wp7w"
      },
      "source": [
        "print('Mean Absolute Error:', metrics.mean_absolute_error(y_test, y_pred))\n",
        "print('Mean Squared Error:', metrics.mean_squared_error(y_test, y_pred))\n",
        "print('Root Mean Squared Error:', np.sqrt(metrics.mean_squared_error(y_test, y_pred)))"
      ],
      "execution_count": null,
      "outputs": []
    },
    {
      "cell_type": "markdown",
      "metadata": {
        "id": "yK243h-HPE9G"
      },
      "source": [
        "# **Assignment**<br>\n",
        "Choose two other columns that contain numerical data and perform linear regression on them.<br>\n",
        "\n",
        "Share your insights with the class."
      ]
    },
    {
      "cell_type": "code",
      "metadata": {
        "id": "Om_dEL1nPHRj"
      },
      "source": [
        "dataset.columns\n",
        "#Chose any two columns for example Temp9am and Temp3pm"
      ],
      "execution_count": null,
      "outputs": []
    },
    {
      "cell_type": "code",
      "metadata": {
        "id": "1hqClxWZgXss"
      },
      "source": [
        "dataset.dtypes"
      ],
      "execution_count": null,
      "outputs": []
    },
    {
      "cell_type": "code",
      "metadata": {
        "id": "bqWOmxzXGLaA"
      },
      "source": [
        "dataset.loc[1]"
      ],
      "execution_count": null,
      "outputs": []
    },
    {
      "cell_type": "markdown",
      "metadata": {
        "id": "MyJHXR0lIWnC"
      },
      "source": [
        "Substitute 'first col' and 'second col' for the columns that you have selected"
      ]
    },
    {
      "cell_type": "code",
      "source": [
        "first_col='Temp9am'\n",
        "second_col='Temp3pm'"
      ],
      "metadata": {
        "id": "E-w0I4BYL6Hj"
      },
      "execution_count": null,
      "outputs": []
    },
    {
      "cell_type": "code",
      "metadata": {
        "id": "9A2A1QJgPHXJ"
      },
      "source": [
        "dataset.plot(x=first_col, y=second_col, style='o')\n",
        "title=first_col+' vs '+second_col\n",
        "plt.title(title)\n",
        "plt.xlabel(first_col)\n",
        "plt.ylabel(second_col)\n",
        "plt.show()"
      ],
      "execution_count": null,
      "outputs": []
    },
    {
      "cell_type": "code",
      "metadata": {
        "id": "Cgfwu6HgQq9S"
      },
      "source": [
        "X = dataset[first_col].values.reshape(-1,1)\n",
        "y = dataset[second_col].values.reshape(-1,1)"
      ],
      "execution_count": null,
      "outputs": []
    },
    {
      "cell_type": "code",
      "metadata": {
        "id": "Y6DX-EW5Q9wJ"
      },
      "source": [
        "X_train, X_test, y_train, y_test = train_test_split(X, y, test_size=0.2, random_state=0)"
      ],
      "execution_count": null,
      "outputs": []
    },
    {
      "cell_type": "code",
      "metadata": {
        "id": "DGMw4g37RB2L"
      },
      "source": [
        "regressor = LinearRegression()\n",
        "regressor.fit(X_train, y_train) #training the algorithm"
      ],
      "execution_count": null,
      "outputs": []
    },
    {
      "cell_type": "code",
      "metadata": {
        "id": "zH0mU23-RE4u"
      },
      "source": [
        "#To retrieve the intercept:\n",
        "print(regressor.intercept_)\n",
        "#For retrieving the slope:\n",
        "print(regressor.coef_)"
      ],
      "execution_count": null,
      "outputs": []
    },
    {
      "cell_type": "code",
      "metadata": {
        "id": "ub-7xEp4RHzN"
      },
      "source": [
        "y_pred = regressor.predict(X_test)"
      ],
      "execution_count": null,
      "outputs": []
    },
    {
      "cell_type": "code",
      "metadata": {
        "id": "z-jdsEELRL0I"
      },
      "source": [
        "df = pd.DataFrame({'Actual': y_test.flatten(), 'Predicted': y_pred.flatten()})\n",
        "df"
      ],
      "execution_count": null,
      "outputs": []
    },
    {
      "cell_type": "code",
      "metadata": {
        "id": "DL5d9gG9RX0C"
      },
      "source": [
        "plt.scatter(X_test, y_test,  color='gray')\n",
        "plt.plot(X_test, y_pred, color='red', linewidth=2)\n",
        "plt.show()"
      ],
      "execution_count": null,
      "outputs": []
    },
    {
      "cell_type": "code",
      "metadata": {
        "id": "8jDjvVY6RaSF"
      },
      "source": [
        "print('Mean Absolute Error:', metrics.mean_absolute_error(y_test, y_pred))\n",
        "print('Mean Squared Error:', metrics.mean_squared_error(y_test, y_pred))\n",
        "print('Root Mean Squared Error:', np.sqrt(metrics.mean_squared_error(y_test, y_pred)))"
      ],
      "execution_count": null,
      "outputs": []
    }
  ]
}