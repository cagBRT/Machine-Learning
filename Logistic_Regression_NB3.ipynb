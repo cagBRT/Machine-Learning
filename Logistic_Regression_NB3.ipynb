{
  "nbformat": 4,
  "nbformat_minor": 0,
  "metadata": {
    "colab": {
      "name": "Logistic Regression NB3.ipynb",
      "private_outputs": true,
      "provenance": [],
      "authorship_tag": "ABX9TyNLhpaQNDNtCgZJNtdgnRdI",
      "include_colab_link": true
    },
    "kernelspec": {
      "name": "python3",
      "display_name": "Python 3"
    }
  },
  "cells": [
    {
      "cell_type": "markdown",
      "metadata": {
        "id": "view-in-github",
        "colab_type": "text"
      },
      "source": [
        "<a href=\"https://colab.research.google.com/github/cagBRT/Machine-Learning/blob/master/Logistic_Regression_NB3.ipynb\" target=\"_parent\"><img src=\"https://colab.research.google.com/assets/colab-badge.svg\" alt=\"Open In Colab\"/></a>"
      ]
    },
    {
      "cell_type": "markdown",
      "metadata": {
        "id": "p8Q7ulDCjBH7"
      },
      "source": [
        "# **Logistic Regression on a small sample of the MNIST dataset**\n",
        "This notebook uses SciKit Learn's logistic regression model on the the MNIST dataset of handwritten digits. <br>\n",
        "The model will divide the data into 10 classifications (digits 0-9)"
      ]
    },
    {
      "cell_type": "markdown",
      "metadata": {
        "id": "q1MK9_kM4gzu"
      },
      "source": [
        "Import the libraries"
      ]
    },
    {
      "cell_type": "code",
      "metadata": {
        "id": "75zsfm3LNFDz"
      },
      "source": [
        "import numpy as np \n",
        "import matplotlib.pyplot as plt\n",
        "from sklearn.model_selection import train_test_split\n",
        "from sklearn.linear_model import LogisticRegression\n",
        "from sklearn import preprocessing\n",
        "import matplotlib.pyplot as plt\n",
        "import seaborn as sns\n",
        "from sklearn import metrics"
      ],
      "execution_count": null,
      "outputs": []
    },
    {
      "cell_type": "markdown",
      "metadata": {
        "id": "JHvxEXANM_Ka"
      },
      "source": [
        "**Get the data**\n",
        "The data is images of hand written digits.  This is a dataset from the sklearn datasets.  "
      ]
    },
    {
      "cell_type": "code",
      "metadata": {
        "id": "B7tQYLGKhNfN"
      },
      "source": [
        "from sklearn.datasets import load_digits\n",
        "digits = load_digits()"
      ],
      "execution_count": null,
      "outputs": []
    },
    {
      "cell_type": "markdown",
      "metadata": {
        "id": "-6CjPVCk4zpq"
      },
      "source": [
        "There are 1797 images and each is 8*8 pixels. \n",
        "There are 1797 labels, one for each image."
      ]
    },
    {
      "cell_type": "code",
      "metadata": {
        "id": "6F6rnmAjhIOz"
      },
      "source": [
        "# Print to show there are 1797 images (8 by 8 images for a dimensionality of 64)\n",
        "print(\"Image Data Shape = \" , digits.data.shape)\n",
        "# Print to show there are 1797 labels (integers from 0–9)\n",
        "print(\"Label Data Shape\", digits.target.shape)"
      ],
      "execution_count": null,
      "outputs": []
    },
    {
      "cell_type": "markdown",
      "metadata": {
        "id": "NC-_Iouu5Fzr"
      },
      "source": [
        "Let's look at some of the images. \n",
        "You will see they are heavily pixelated. The images are digits 0 - 4"
      ]
    },
    {
      "cell_type": "code",
      "metadata": {
        "id": "TfdDlsS_hbaI"
      },
      "source": [
        "plt.figure(figsize=(20,4))\n",
        "for index, (image, label) in enumerate(zip(digits.data[0:5], digits.target[0:5])):\n",
        " plt.subplot(1, 5, index + 1)\n",
        " plt.imshow(np.reshape(image, (8,8)), cmap=plt.cm.gray)\n",
        " plt.title('Training: %i\\n' % label, fontsize = 20)"
      ],
      "execution_count": null,
      "outputs": []
    },
    {
      "cell_type": "markdown",
      "metadata": {
        "id": "roMUJYFrNdC1"
      },
      "source": [
        "**Training - Test Data split**\n",
        "The data is split into 75% for training and 25% for testing. "
      ]
    },
    {
      "cell_type": "code",
      "metadata": {
        "id": "vq8ggKVNhRNQ"
      },
      "source": [
        "x_train, x_test, y_train, y_test = train_test_split(digits.data, digits.target, test_size=0.25, random_state=0)"
      ],
      "execution_count": null,
      "outputs": []
    },
    {
      "cell_type": "markdown",
      "metadata": {
        "id": "to6XljqBNTwX"
      },
      "source": [
        "**Create the model**\n",
        "We are using a classic logistic regression model. \n",
        "In the SciKit library we can modify the parameters for the model. In this instance we will be using the defaults. "
      ]
    },
    {
      "cell_type": "code",
      "metadata": {
        "id": "oDqBMtRSicmx"
      },
      "source": [
        "# all parameters not specified are set to their defaults\n",
        "logisticRegr = LogisticRegression(fit_intercept=True,\n",
        "                        multi_class='auto',\n",
        "                        penalty='l2', #ridge regression\n",
        "                        solver='saga',\n",
        "                        max_iter=10000,\n",
        "                        C=50)"
      ],
      "execution_count": null,
      "outputs": []
    },
    {
      "cell_type": "code",
      "metadata": {
        "id": "GC0TQWILZL7E"
      },
      "source": [
        "print(\"training shape: \",x_train.shape)\n",
        "print(\"label shape: \", y_train.shape)"
      ],
      "execution_count": null,
      "outputs": []
    },
    {
      "cell_type": "markdown",
      "metadata": {
        "id": "qkzp--q3NXU-"
      },
      "source": [
        "**Train the model**<br>\n",
        "Train the model on the training images and the training labels. "
      ]
    },
    {
      "cell_type": "code",
      "metadata": {
        "id": "H4uiW-8Iiel0"
      },
      "source": [
        "logisticRegr.fit(x_train, y_train,)"
      ],
      "execution_count": null,
      "outputs": []
    },
    {
      "cell_type": "markdown",
      "metadata": {
        "id": "Dq8b27fZNim7"
      },
      "source": [
        "**Make predictions with the trained model**\n",
        "Let's test the model by giving it one test case x_test[0]<br>\n",
        "As you can see from the images below, it looks like this is the digit '2'. "
      ]
    },
    {
      "cell_type": "code",
      "metadata": {
        "id": "WYJ0bebv9pKs"
      },
      "source": [
        "plt.figure(figsize=(20,4))\n",
        "for index, (image, label) in enumerate(zip(x_test[0:9], digits.target[0:9])):\n",
        " plt.subplot(1, 10, index + 1)\n",
        " plt.imshow(np.reshape(image, (8,8)), cmap=plt.cm.gray)\n",
        " plt.title('Training: %i\\n' % label, fontsize = 20)"
      ],
      "execution_count": null,
      "outputs": []
    },
    {
      "cell_type": "markdown",
      "metadata": {
        "id": "FPPJ30Vy-K3F"
      },
      "source": [
        "The model predicts x_test[0] is a '2'"
      ]
    },
    {
      "cell_type": "code",
      "metadata": {
        "id": "Xjy0I0YrikfO"
      },
      "source": [
        "# Returns a NumPy Array\n",
        "# Predict for One Observation (image)\n",
        "logisticRegr.predict(x_test[0].reshape(1,-1))"
      ],
      "execution_count": null,
      "outputs": []
    },
    {
      "cell_type": "markdown",
      "metadata": {
        "id": "dTgZiuG5Nr0a"
      },
      "source": [
        "**Make multiple predictions**<br>\n",
        "Have the model make predictions on the first 10 images in the test set.<br>\n",
        "Compare the predictions to the images, is the model predicting accurately?\n"
      ]
    },
    {
      "cell_type": "code",
      "metadata": {
        "id": "hfYstMIQinHU"
      },
      "source": [
        "logisticRegr.predict(x_test[0:10])"
      ],
      "execution_count": null,
      "outputs": []
    },
    {
      "cell_type": "markdown",
      "metadata": {
        "id": "wSSQoK7yNzr3"
      },
      "source": [
        "**Predict with the test set**"
      ]
    },
    {
      "cell_type": "code",
      "metadata": {
        "id": "x-E6B5zYipc3"
      },
      "source": [
        "predictions = logisticRegr.predict(x_test)"
      ],
      "execution_count": null,
      "outputs": []
    },
    {
      "cell_type": "markdown",
      "metadata": {
        "id": "j-RGf1h3N5dR"
      },
      "source": [
        "**What is the model accuracy?**"
      ]
    },
    {
      "cell_type": "code",
      "metadata": {
        "id": "XhQ1O4EvisE2"
      },
      "source": [
        "# Use score method to get accuracy of model\n",
        "score = logisticRegr.score(x_test, y_test)\n",
        "print(score)"
      ],
      "execution_count": null,
      "outputs": []
    },
    {
      "cell_type": "markdown",
      "metadata": {
        "id": "sEqV-CxiOB-x"
      },
      "source": [
        "**The confusion matrix for the digits**<br>\n",
        "The confusion matrix is shown below. <br>\n",
        "This is a matrix for 10 classes. <br>\n",
        "The diagonal from upper left to lower right is for the number of each class that the model predicted correctly. <br>\n",
        "For example:<br>\n",
        "In the first row there is a 37. This means the model got 37 images of handwritten '0's predicted correctly. The rest of the row has '0's. This means it did not mislabel any of the '0' as other digits. <br>\n",
        "The second row has a '40' in the diagonal. This means the model predicted 40 handwritten '1's correctly. It also predicted 2 images of '1's as '8's and 1 image of '1' as a '9'. <br>\n",
        "Each row corresponds to a class and how many were correctly indentified and how many were misidentified. "
      ]
    },
    {
      "cell_type": "code",
      "metadata": {
        "id": "QFU9lAR1iwxY"
      },
      "source": [
        "cm = metrics.confusion_matrix(y_test, predictions)\n",
        "print(cm)"
      ],
      "execution_count": null,
      "outputs": []
    },
    {
      "cell_type": "code",
      "metadata": {
        "id": "QWdEtrKJiz39"
      },
      "source": [
        "plt.figure(figsize=(9,9))\n",
        "sns.heatmap(cm, annot=True, fmt=\".3f\", linewidths=.5, square = True, cmap = 'Blues_r');\n",
        "plt.ylabel('Actual label');\n",
        "plt.xlabel('Predicted label');\n",
        "all_sample_title = 'Accuracy Score: {0}'.format(score)\n",
        "plt.title(all_sample_title, size = 15);"
      ],
      "execution_count": null,
      "outputs": []
    },
    {
      "cell_type": "markdown",
      "metadata": {
        "id": "Bse3UGLxYaNc"
      },
      "source": [
        "List the instances where ground truth and the prediction differ<br>\n",
        "(The model got it wrong)\n"
      ]
    },
    {
      "cell_type": "code",
      "metadata": {
        "id": "5fHeeIDKagRn"
      },
      "source": [
        "index = 0\n",
        "misclassifiedIndexes = []\n",
        "misclassifiedIndexes2 = []\n",
        "print(\"Gnd Truth, Prediction\")\n",
        "for label, predict in zip(y_test, predictions):\n",
        " if label != predict: \n",
        "  print(label, \"\\t\\t\", predict)\n",
        "  misclassifiedIndexes.append(label)\n",
        "  misclassifiedIndexes2.append(predict)\n",
        "  index +=1"
      ],
      "execution_count": null,
      "outputs": []
    },
    {
      "cell_type": "markdown",
      "metadata": {
        "id": "GNlugMEuBED0"
      },
      "source": [
        "When we look at the images and their labels, how many would a human expert have gotten correct?"
      ]
    },
    {
      "cell_type": "code",
      "metadata": {
        "id": "s4QmB_TCa4I-"
      },
      "source": [
        "plt.figure(figsize=(20,4))\n",
        "for plotIndex, badIndex in enumerate(misclassifiedIndexes[0:5]):\n",
        " plt.subplot(1, 5, plotIndex + 1)\n",
        " plt.imshow(np.reshape(x_test[badIndex], (8,8)), cmap=plt.cm.gray)\n",
        " plt.title(\"Predicted {}, Actual {}\".format(misclassifiedIndexes2[plotIndex], misclassifiedIndexes[plotIndex]), fontsize = 15)\n",
        " "
      ],
      "execution_count": null,
      "outputs": []
    }
  ]
}