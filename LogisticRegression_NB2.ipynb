{
  "nbformat": 4,
  "nbformat_minor": 0,
  "metadata": {
    "colab": {
      "name": "LogisticRegression NB2.ipynb",
      "private_outputs": true,
      "provenance": [],
      "authorship_tag": "ABX9TyOTkLWYoMLyIHpSHCZQv2wx",
      "include_colab_link": true
    },
    "kernelspec": {
      "name": "python3",
      "display_name": "Python 3"
    }
  },
  "cells": [
    {
      "cell_type": "markdown",
      "metadata": {
        "id": "view-in-github",
        "colab_type": "text"
      },
      "source": [
        "<a href=\"https://colab.research.google.com/github/cagBRT/Machine-Learning/blob/master/LogisticRegression_NB2.ipynb\" target=\"_parent\"><img src=\"https://colab.research.google.com/assets/colab-badge.svg\" alt=\"Open In Colab\"/></a>"
      ]
    },
    {
      "cell_type": "markdown",
      "metadata": {
        "id": "xQVgs0mvBX7E"
      },
      "source": [
        "Predict if a glass type is household or window based on the amount of aluminum the glass contains."
      ]
    },
    {
      "cell_type": "code",
      "metadata": {
        "id": "X6UfC60C7DBR"
      },
      "source": [
        "# glass identification dataset\n",
        "import pandas as pd\n",
        "import numpy as np\n",
        "import matplotlib.pyplot as plt\n",
        "from sklearn.linear_model import LogisticRegression\n",
        "from sklearn import metrics\n",
        "import seaborn as sns"
      ],
      "execution_count": null,
      "outputs": []
    },
    {
      "cell_type": "code",
      "metadata": {
        "id": "xD0hw0Im6h4N"
      },
      "source": [
        "url = 'http://archive.ics.uci.edu/ml/machine-learning-databases/glass/glass.data'\n",
        "col_names = ['id','ri','na','mg','al','si','k','ca','ba','fe','glass_type']\n",
        "glass = pd.read_csv(url, names=col_names, index_col='id')\n",
        "glass.sort_values('al', inplace=True)\n",
        "glass.head()"
      ],
      "execution_count": null,
      "outputs": []
    },
    {
      "cell_type": "code",
      "metadata": {
        "id": "GAVodpttVe9L"
      },
      "source": [
        "sns.set(style=\"white\")\n",
        "\n",
        "sns.relplot(x=\"glass_type\", y=\"al\", \n",
        "            sizes=(40, 400), alpha=.5, palette=\"bright\",\n",
        "            height=6, data=glass)"
      ],
      "execution_count": null,
      "outputs": []
    },
    {
      "cell_type": "markdown",
      "metadata": {
        "id": "rN2yIW8EBmZ7"
      },
      "source": [
        "There are 4 glass types :<br>\n",
        ">types 1, 2, 3 are window glass<br>\n",
        "types 5, 6, 7 are household glass<br>"
      ]
    },
    {
      "cell_type": "code",
      "metadata": {
        "id": "u_216CWT65ax"
      },
      "source": [
        "# examine glass_type\n",
        "glass.glass_type.value_counts().sort_index()"
      ],
      "execution_count": null,
      "outputs": []
    },
    {
      "cell_type": "markdown",
      "metadata": {
        "id": "m6j64lQMCBrE"
      },
      "source": [
        "Create two categories of glass:<br>\n",
        ">household = 0, window glass, categories 1,2,3<br>\n",
        "household = 1, household glass, categories 5,6,7<br>"
      ]
    },
    {
      "cell_type": "code",
      "metadata": {
        "id": "BGNgvpk86735"
      },
      "source": [
        "# types 1, 2, 3 are window glass\n",
        "# types 5, 6, 7 are household glass\n",
        "glass['household'] = glass.glass_type.map({1:0, 2:0, 3:0, 5:1, 6:1, 7:1})\n",
        "glass.head()"
      ],
      "execution_count": null,
      "outputs": []
    },
    {
      "cell_type": "code",
      "metadata": {
        "id": "14h44t2AWTJM"
      },
      "source": [
        "sns.set(style=\"white\")\n",
        "\n",
        "sns.relplot(x=\"household\", y=\"al\", \n",
        "            sizes=(40, 400), alpha=.5, palette=\"bright\",\n",
        "            height=6, data=glass)\n",
        "plt.show()"
      ],
      "execution_count": null,
      "outputs": []
    },
    {
      "cell_type": "markdown",
      "metadata": {
        "id": "eJUzkM-YCaJg"
      },
      "source": [
        "**Create the Logistic Regression model**"
      ]
    },
    {
      "cell_type": "code",
      "metadata": {
        "id": "Eslz9QGW6SJk"
      },
      "source": [
        "# fit a logistic regression model and store the class predictions\n",
        "logreg = LogisticRegression()"
      ],
      "execution_count": null,
      "outputs": []
    },
    {
      "cell_type": "markdown",
      "metadata": {
        "id": "bf9Ak984CmKy"
      },
      "source": [
        "The only feature we are using is aluminum"
      ]
    },
    {
      "cell_type": "code",
      "metadata": {
        "id": "I4iYdtdP8da8"
      },
      "source": [
        "feature_cols = ['al']\n",
        "X = glass[feature_cols]\n",
        "y = glass.household"
      ],
      "execution_count": null,
      "outputs": []
    },
    {
      "cell_type": "code",
      "metadata": {
        "id": "HyCz5fHLWebU"
      },
      "source": [
        "sns.set(style=\"white\")\n",
        "\n",
        "sns.relplot(x=\"al\", y=\"household\", \n",
        "            sizes=(40, 400), alpha=.5, palette=\"bright\",\n",
        "            height=6, data=glass)\n",
        "plt.show()"
      ],
      "execution_count": null,
      "outputs": []
    },
    {
      "cell_type": "markdown",
      "metadata": {
        "id": "kwguCMuZCxt4"
      },
      "source": [
        "Print the aluminum column"
      ]
    },
    {
      "cell_type": "code",
      "metadata": {
        "id": "_eC7yTLhAUc5"
      },
      "source": [
        "X.head()"
      ],
      "execution_count": null,
      "outputs": []
    },
    {
      "cell_type": "markdown",
      "metadata": {
        "id": "0BFfUxRjC0DC"
      },
      "source": [
        "Print the classifications"
      ]
    },
    {
      "cell_type": "code",
      "metadata": {
        "id": "Sk8smh23CtNS"
      },
      "source": [
        "print(y)"
      ],
      "execution_count": null,
      "outputs": []
    },
    {
      "cell_type": "markdown",
      "metadata": {
        "id": "-Cbwn47LC5iX"
      },
      "source": [
        "Use the al column and the hoousehold column to train the model. <br>\n",
        "Store the predictions in the glass[predictions column]"
      ]
    },
    {
      "cell_type": "code",
      "metadata": {
        "id": "JCdQc1kR8hIy"
      },
      "source": [
        "logreg.fit(X, y)\n",
        "glass['household_pred_class'] = logreg.predict(X)"
      ],
      "execution_count": null,
      "outputs": []
    },
    {
      "cell_type": "code",
      "metadata": {
        "id": "XvvVb7H8DLMD"
      },
      "source": [
        "glass.head()"
      ],
      "execution_count": null,
      "outputs": []
    },
    {
      "cell_type": "code",
      "metadata": {
        "id": "qZJI9XiUDYY0"
      },
      "source": [
        "cnf_matrix = metrics.confusion_matrix(glass['household'],glass['household_pred_class'])\n",
        "cnf_matrix"
      ],
      "execution_count": null,
      "outputs": []
    },
    {
      "cell_type": "code",
      "metadata": {
        "id": "UDJbb_2EWzo6"
      },
      "source": [
        "sns.set(style=\"white\")\n",
        "\n",
        "sns.relplot(x=\"glass_type\", y=\"al\", hue=\"household_pred_class\", \n",
        "            sizes=(40, 400), alpha=.5, palette=\"bright\",\n",
        "            height=6, data=glass)\n",
        "plt.show()"
      ],
      "execution_count": null,
      "outputs": []
    },
    {
      "cell_type": "markdown",
      "metadata": {
        "id": "DJoU3pPoEFyU"
      },
      "source": [
        "# **Predicting Probabilities**"
      ]
    },
    {
      "cell_type": "markdown",
      "metadata": {
        "id": "_rHRM9Zj7PG6"
      },
      "source": [
        "What if we wanted the predicted probabilities instead of just the class predictions, to understand how confident we are in a given prediction?"
      ]
    },
    {
      "cell_type": "code",
      "metadata": {
        "id": "Yd1R78ce7OiS"
      },
      "source": [
        "# store the predicted probabilites of class 1\n",
        "glass['household_pred_prob'] = logreg.predict_proba(X)[:, 1]\n",
        "glass.shape"
      ],
      "execution_count": null,
      "outputs": []
    },
    {
      "cell_type": "code",
      "metadata": {
        "id": "w0rLMbw9AhJY"
      },
      "source": [
        "glass.head()"
      ],
      "execution_count": null,
      "outputs": []
    },
    {
      "cell_type": "code",
      "metadata": {
        "id": "9BEOzSMA7YwE"
      },
      "source": [
        "# plot the predicted probabilities\n",
        "plt.scatter(glass.al, glass.household)\n",
        "plt.plot(glass.al, glass.household_pred_prob, color='red')\n",
        "plt.xlabel('al')\n",
        "plt.ylabel('household')"
      ],
      "execution_count": null,
      "outputs": []
    },
    {
      "cell_type": "markdown",
      "metadata": {
        "id": "OPC5huHa-N0X"
      },
      "source": [
        "The first column indicates the predicted probability of class 0, and the second column indicates the predicted probability of class 1"
      ]
    },
    {
      "cell_type": "code",
      "metadata": {
        "id": "U96WSxSO75Ed"
      },
      "source": [
        "#glass['household_pred_prob'] = logreg.predict_proba(X)[:, 1]\n",
        "#X feature column is al\n",
        "print(logreg.predict_proba(X)[1, :])\n",
        "print(logreg.predict_proba(X)[2, :])\n",
        "print(logreg.predict_proba(X)[213, :])\n",
        "print(logreg.predict_proba(X)[200, :])"
      ],
      "execution_count": null,
      "outputs": []
    },
    {
      "cell_type": "code",
      "metadata": {
        "id": "yFr1iyNx-_Ik"
      },
      "source": [
        "feature_cols, logreg.coef_[0]"
      ],
      "execution_count": null,
      "outputs": []
    },
    {
      "cell_type": "code",
      "metadata": {
        "id": "paQsW09t_ilh"
      },
      "source": [
        "logreg.predict_proba(X)[:, 1]"
      ],
      "execution_count": null,
      "outputs": []
    },
    {
      "cell_type": "code",
      "metadata": {
        "id": "SIcMtBr0FT8a"
      },
      "source": [
        "plt.plot(X,logreg.predict_proba(X)[:, 1])\n",
        "plt.show()"
      ],
      "execution_count": null,
      "outputs": []
    },
    {
      "cell_type": "markdown",
      "metadata": {
        "id": "s7-Bil2V_DMm"
      },
      "source": [
        "Interpretation: A 1 unit increase in 'al' is associated with a 4.18 unit increase in the log-odds of 'household'."
      ]
    },
    {
      "cell_type": "code",
      "metadata": {
        "id": "0R4z1Fel_HBZ"
      },
      "source": [
        "# increasing al by 1 (so that al=3) increases the log-odds by 4.18\n",
        "logodds = 0.64689603 + 4.1804038614510901\n",
        "odds = np.exp(logodds)\n",
        "prob = odds/(1 + odds)\n",
        "prob"
      ],
      "execution_count": null,
      "outputs": []
    },
    {
      "cell_type": "markdown",
      "metadata": {
        "id": "sjuxNBRkF1DX"
      },
      "source": [
        "**Logistic Regression and Categorical Features**"
      ]
    },
    {
      "cell_type": "markdown",
      "metadata": {
        "id": "nMInQ18YGC8r"
      },
      "source": [
        "Use the column high BA "
      ]
    },
    {
      "cell_type": "code",
      "metadata": {
        "id": "kSft_9RNGJ8-"
      },
      "source": [
        "glass['ba']"
      ],
      "execution_count": null,
      "outputs": []
    },
    {
      "cell_type": "code",
      "metadata": {
        "id": "ZbvveVDKF1OG",
        "cellView": "both"
      },
      "source": [
        "glass['high_ba'] = np.where(glass.ba > 0.5, 1, 0)\n",
        "glass['high_ba']"
      ],
      "execution_count": null,
      "outputs": []
    },
    {
      "cell_type": "code",
      "metadata": {
        "id": "vSR8XQGLGthV"
      },
      "source": [
        "# original (continuous) feature\n",
        "fig = sns.lmplot(x='ba', y='household', data=glass, ci=None, logistic=True)\n",
        "fig.set(xlim=(-0.5,3))\n",
        "plt.show()"
      ],
      "execution_count": null,
      "outputs": []
    },
    {
      "cell_type": "code",
      "metadata": {
        "id": "DqZskDofHLfS"
      },
      "source": [
        "# categorical feature\n",
        "sns.lmplot(x='high_ba', y='household', data=glass, ci=None, logistic=True)"
      ],
      "execution_count": null,
      "outputs": []
    },
    {
      "cell_type": "code",
      "metadata": {
        "id": "F8i1pPgzLsY_"
      },
      "source": [
        "# categorical feature, with jitter added\n",
        "sns.lmplot(x='high_ba', y='household', data=glass, ci=None, logistic=True, x_jitter=0.05, y_jitter=0.05)"
      ],
      "execution_count": null,
      "outputs": []
    },
    {
      "cell_type": "code",
      "metadata": {
        "id": "GygmxwHvLwkl"
      },
      "source": [
        "# fit a logistic regression model\n",
        "feature_cols = ['high_ba']\n",
        "X = glass[feature_cols]\n",
        "y = glass.household\n",
        "logreg.fit(X, y)\n"
      ],
      "execution_count": null,
      "outputs": []
    },
    {
      "cell_type": "code",
      "metadata": {
        "id": "73MHmZMYL0fq"
      },
      "source": [
        "# examine the coefficient for high_ba\n",
        "feature_cols, logreg.coef_[0]"
      ],
      "execution_count": null,
      "outputs": []
    }
  ]
}