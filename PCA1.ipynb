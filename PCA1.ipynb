{
  "nbformat": 4,
  "nbformat_minor": 0,
  "metadata": {
    "colab": {
      "name": "PCA1.ipynb",
      "provenance": [],
      "private_outputs": true,
      "authorship_tag": "ABX9TyPq8F3fLSU1cpbjr97tP8ir",
      "include_colab_link": true
    },
    "kernelspec": {
      "name": "python3",
      "display_name": "Python 3"
    }
  },
  "cells": [
    {
      "cell_type": "markdown",
      "metadata": {
        "id": "view-in-github",
        "colab_type": "text"
      },
      "source": [
        "<a href=\"https://colab.research.google.com/github/cagBRT/Machine-Learning/blob/master/PCA1.ipynb\" target=\"_parent\"><img src=\"https://colab.research.google.com/assets/colab-badge.svg\" alt=\"Open In Colab\"/></a>"
      ]
    },
    {
      "cell_type": "markdown",
      "metadata": {
        "id": "C9lx8dEeDeaT"
      },
      "source": [
        "Using synthetic data, find the principal components for the dataset. <br>\n",
        "The use the PCs to plot the data."
      ]
    },
    {
      "cell_type": "code",
      "metadata": {
        "id": "fqPVQOKQznaO"
      },
      "source": [
        "import matplotlib.pyplot as plt\n",
        "import seaborn as sns\n",
        "import pandas as pd\n",
        "import numpy as np\n",
        "%matplotlib inline\n",
        "from pandas.plotting import scatter_matrix\n",
        "from sklearn.datasets import make_blobs\n",
        "from sklearn import decomposition"
      ],
      "execution_count": null,
      "outputs": []
    },
    {
      "cell_type": "markdown",
      "metadata": {
        "id": "DNN300ou7JAu"
      },
      "source": [
        "## Make synthetic data<br>\n",
        ">1000 samples<br>\n",
        "4 clusters<br>\n",
        "10 input features<br>"
      ]
    },
    {
      "cell_type": "code",
      "metadata": {
        "id": "PNKNQQ6_zvGe"
      },
      "source": [
        "X1, Y1 = make_blobs(n_features=10,\n",
        "         n_samples=1000,\n",
        "         centers=4, random_state=4,\n",
        "         cluster_std=2)\n",
        "print(X1.shape)\n",
        "print(Y1.shape)"
      ],
      "execution_count": null,
      "outputs": []
    },
    {
      "cell_type": "code",
      "metadata": {
        "id": "RA1LVhz4PNnQ"
      },
      "source": [
        "df = pd.DataFrame(X1)"
      ],
      "execution_count": null,
      "outputs": []
    },
    {
      "cell_type": "markdown",
      "metadata": {
        "id": "WQmvp--aVP-_"
      },
      "source": [
        "Plot the data each dimension by dimension<br>\n",
        "The scatter_matrix function plots each feature against each feature. <br>\n",
        "With 10 dimensions it is difficult to visualize what is happening with the data."
      ]
    },
    {
      "cell_type": "code",
      "metadata": {
        "id": "Ox274QizQ0rb"
      },
      "source": [
        "scatter_matrix(df, alpha=0.2, figsize=(12, 12), diagonal='kde')\n",
        "plt.show()"
      ],
      "execution_count": null,
      "outputs": []
    },
    {
      "cell_type": "markdown",
      "metadata": {
        "id": "5UyysiaIEt9W"
      },
      "source": [
        "A color version of one of the above plots. <br>\n",
        "Even using color it is still not very easy to vizualize the data."
      ]
    },
    {
      "cell_type": "code",
      "metadata": {
        "id": "GL6Z-3IKCiVV"
      },
      "source": [
        "plt.scatter(df.iloc[:,3],df.iloc[:,2],c=Y1)\n",
        "plt.show()"
      ],
      "execution_count": null,
      "outputs": []
    },
    {
      "cell_type": "markdown",
      "metadata": {
        "id": "3lPmKdkrKuhc"
      },
      "source": [
        "## Create a PCA model<br>\n",
        " X1 is the 1000 x 10 data and Y1 is cluster assignment for the 1000 samples. Create a PCA model with 4 components from sklearn.decomposition.<br>\n",
        "The four components are linear combinations of the 10 original features."
      ]
    },
    {
      "cell_type": "code",
      "source": [
        "num_components=5"
      ],
      "metadata": {
        "id": "kmnICTCtJS2M"
      },
      "execution_count": null,
      "outputs": []
    },
    {
      "cell_type": "code",
      "metadata": {
        "id": "pypgg5Fnzxcv"
      },
      "source": [
        "pca = decomposition.PCA(n_components=num_components)"
      ],
      "execution_count": null,
      "outputs": []
    },
    {
      "cell_type": "markdown",
      "metadata": {
        "id": "5r2VcA6sK3Lv"
      },
      "source": [
        "The simulated data is already centered and scaled, so we can go ahead and fit the PCA model.<br>\n",
        "We will fit the PCA model using fit_transform function to our data X1 and pc contains the four principal components.<br>\n",
        "The function fit_transform will use the principal components to predict the cluster for each of the dataset values."
      ]
    },
    {
      "cell_type": "code",
      "metadata": {
        "id": "w868S8UG0CFe"
      },
      "source": [
        "pc = pca.fit_transform(X1)"
      ],
      "execution_count": null,
      "outputs": []
    },
    {
      "cell_type": "markdown",
      "metadata": {
        "id": "PtaJgpbCLAqD"
      },
      "source": [
        "Make a pandas data frame with the principal components (PCs) and the known cluster assignments.\n",
        "\n"
      ]
    },
    {
      "cell_type": "code",
      "source": [
        "cols=[]\n",
        "for i in range(1,num_components+1):\n",
        "  cols.append('PC'+str(i))\n",
        "cols"
      ],
      "metadata": {
        "id": "bfgVc3yvJLC9"
      },
      "execution_count": null,
      "outputs": []
    },
    {
      "cell_type": "code",
      "metadata": {
        "id": "h2sw12Fl0FKW"
      },
      "source": [
        "pc_df = pd.DataFrame(data = pc ,\n",
        "        columns = cols)\n",
        "pc_df['Cluster'] = Y1\n",
        "pc_df.head(20)"
      ],
      "execution_count": null,
      "outputs": []
    },
    {
      "cell_type": "markdown",
      "metadata": {
        "id": "yJjAprJOLIQA"
      },
      "source": [
        "## Examine the variance explained by each principal component.\n",
        "<br>The first two principal components explains over 70% of the variation in the data.\n",
        "\n",
        "[pca.explained_variance_ratio_](https://scikit-learn.org/stable/modules/generated/sklearn.decomposition.PCA.html)"
      ]
    },
    {
      "cell_type": "code",
      "metadata": {
        "id": "2RR-pz-YLMr9"
      },
      "source": [
        "pca.explained_variance_ratio_"
      ],
      "execution_count": null,
      "outputs": []
    },
    {
      "cell_type": "markdown",
      "metadata": {
        "id": "r5ZBCLkGHZgb"
      },
      "source": [
        "Looking at the cumulative sum of the variance, we can see 92% of the variance is explained with the first four PCs."
      ]
    },
    {
      "cell_type": "code",
      "metadata": {
        "id": "J6i-bX0bHTlI"
      },
      "source": [
        "pca.explained_variance_ratio_.cumsum()"
      ],
      "execution_count": null,
      "outputs": []
    },
    {
      "cell_type": "markdown",
      "metadata": {
        "id": "LuWFVyK2LgTU"
      },
      "source": [
        "Plot the Scree plot"
      ]
    },
    {
      "cell_type": "code",
      "metadata": {
        "id": "4xDbG_di62K8"
      },
      "source": [
        "#Add additional column names here\n",
        "df = pd.DataFrame({'var':pca.explained_variance_ratio_,'PC':cols})\n",
        "plt.plot('PC',\"var\",  data=df, color=\"c\");"
      ],
      "execution_count": null,
      "outputs": []
    },
    {
      "cell_type": "markdown",
      "metadata": {
        "id": "oT_rtiRdLoP1"
      },
      "source": [
        "## Use the top two principal components and make a scatter plot.\n",
        "\n",
        "Use Seaborn’s lmplot to make the PCA plot using the fit_reg=False option and color clusters with ‘hue’."
      ]
    },
    {
      "cell_type": "code",
      "metadata": {
        "id": "XxOrz5YCLu3R"
      },
      "source": [
        "sns.lmplot( x=\"PC1\", y=\"PC2\",\n",
        "  data=pc_df,\n",
        "  fit_reg=False,\n",
        "  hue='Cluster', # color by cluster\n",
        "  legend=True,\n",
        "  scatter_kws={\"s\": 80}) # specify the point size"
      ],
      "execution_count": null,
      "outputs": []
    },
    {
      "cell_type": "markdown",
      "metadata": {
        "id": "BHh21-E2ITHF"
      },
      "source": [
        "##Assignment 1: <br>\n",
        "Change the number of principal components to different values. Can you increase the percentage of explained variation?<br><br>\n",
        "Remember, you will have to add column names when you change the number of PCs."
      ]
    }
  ]
}