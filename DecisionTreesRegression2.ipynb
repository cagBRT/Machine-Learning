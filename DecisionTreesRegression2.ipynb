{
  "nbformat": 4,
  "nbformat_minor": 0,
  "metadata": {
    "colab": {
      "name": "DecisionTreesRegression2.ipynb",
      "private_outputs": true,
      "provenance": [],
      "authorship_tag": "ABX9TyNpQsGKlaRj0ygbLfqanid1",
      "include_colab_link": true
    },
    "kernelspec": {
      "name": "python3",
      "display_name": "Python 3"
    },
    "language_info": {
      "name": "python"
    }
  },
  "cells": [
    {
      "cell_type": "markdown",
      "metadata": {
        "id": "view-in-github",
        "colab_type": "text"
      },
      "source": [
        "<a href=\"https://colab.research.google.com/github/cagBRT/Machine-Learning/blob/master/DecisionTreesRegression2.ipynb\" target=\"_parent\"><img src=\"https://colab.research.google.com/assets/colab-badge.svg\" alt=\"Open In Colab\"/></a>"
      ]
    },
    {
      "cell_type": "markdown",
      "metadata": {
        "id": "XJKgK-e9hjRV"
      },
      "source": [
        "This notebook uses three regression models: ExtraTreesRegressor, KNeighborsRegressor, LinearRegression. \n",
        "\n",
        "It also uses the Olivetti faces dataset. It has 400 images of human faces. "
      ]
    },
    {
      "cell_type": "markdown",
      "metadata": {
        "id": "jdEVJOg8jcmz"
      },
      "source": [
        "This notebook trains the three regression modelss on the faces, then asks each model to recreate the lower half of each image. "
      ]
    },
    {
      "cell_type": "code",
      "metadata": {
        "id": "mI9grE4k8GNw"
      },
      "source": [
        "import numpy as np\n",
        "import matplotlib.pyplot as plt\n",
        "\n",
        "from sklearn.datasets import fetch_olivetti_faces\n",
        "from sklearn.utils.validation import check_random_state\n",
        "\n",
        "from sklearn.ensemble import ExtraTreesRegressor\n",
        "from sklearn.neighbors import KNeighborsRegressor\n",
        "from sklearn.linear_model import LinearRegression\n",
        "from sklearn.linear_model import RidgeCV"
      ],
      "execution_count": null,
      "outputs": []
    },
    {
      "cell_type": "markdown",
      "metadata": {
        "id": "teAVNqMIcWyo"
      },
      "source": [
        "**The [dataset](https://scikit-learn.org/stable/modules/generated/sklearn.datasets.fetch_olivetti_faces.html)**<br>\n",
        "\n",
        "Load the Olivetti faces data-set from AT&T<br>\n",
        ">Classes: 4<br>\n",
        "Samples total: 400<br>\n",
        "Dimensionality: 4096<br>\n",
        "Features: real, between 0 and 1<br>"
      ]
    },
    {
      "cell_type": "code",
      "metadata": {
        "id": "ith08OHj8JBv"
      },
      "source": [
        "# Load the faces datasets\n",
        "data, targets = fetch_olivetti_faces(return_X_y=True)"
      ],
      "execution_count": null,
      "outputs": []
    },
    {
      "cell_type": "code",
      "metadata": {
        "id": "byKikixqkVwE"
      },
      "source": [
        "data.shape"
      ],
      "execution_count": null,
      "outputs": []
    },
    {
      "cell_type": "code",
      "metadata": {
        "id": "4WJ2Q8EyassK"
      },
      "source": [
        "targets"
      ],
      "execution_count": null,
      "outputs": []
    },
    {
      "cell_type": "markdown",
      "metadata": {
        "id": "Yk0DlCd8jrcO"
      },
      "source": [
        "Split the data into training and test sets. The first 30 images are for testing. The rest are for testing"
      ]
    },
    {
      "cell_type": "code",
      "metadata": {
        "id": "3JUe6Ykh8TUF"
      },
      "source": [
        "test = data[targets > 30]\n",
        "train = data[targets < 30]  # Test on independent people\n",
        "print(\"train shape:\",train.shape)\n",
        "print(\"test shape:\",test.shape)"
      ],
      "execution_count": null,
      "outputs": []
    },
    {
      "cell_type": "code",
      "metadata": {
        "id": "cYmLM56S929L"
      },
      "source": [
        "# Test on a subset of people\n",
        "n_faces = 5 #change this number to change the test set number\n",
        "#comment out next line to change face selections\n",
        "rng = check_random_state(1)\n",
        "face_ids = rng.randint(test.shape[0], size=(n_faces ))\n",
        "test = test[face_ids, :]"
      ],
      "execution_count": null,
      "outputs": []
    },
    {
      "cell_type": "code",
      "metadata": {
        "id": "s-l6wT_pFryr"
      },
      "source": [
        "face_ids"
      ],
      "execution_count": null,
      "outputs": []
    },
    {
      "cell_type": "code",
      "metadata": {
        "id": "uFTmUFrk-Tid"
      },
      "source": [
        "n_pixels = data.shape[1]\n",
        "# Upper half of the faces\n",
        "X_train = train[:, :(n_pixels + 1) // 2]\n",
        "# Lower half of the faces\n",
        "y_train = train[:, n_pixels // 2:]\n",
        "X_test = test[:, :(n_pixels + 1) // 2]\n",
        "y_test = test[:, n_pixels // 2:]"
      ],
      "execution_count": null,
      "outputs": []
    },
    {
      "cell_type": "code",
      "metadata": {
        "id": "3t0JBekZsE0j"
      },
      "source": [
        "print(\"X_train shape:\",X_train.shape)\n",
        "print(\"X_test shape:\",X_test.shape)"
      ],
      "execution_count": null,
      "outputs": []
    },
    {
      "cell_type": "code",
      "metadata": {
        "id": "iQkYmcCXdRsO"
      },
      "source": [
        "# Plot some of the images\n",
        "image_shape = (64, 64)\n",
        "n_cols = 1\n",
        "plt.figure(figsize=(2. * n_cols, 2.26 * 5))\n",
        "for i in range(5):\n",
        "    #Stack arrays in sequence horizontally (column wise)\n",
        "    true_face = np.hstack((X_test[i], y_test[i]))#\n",
        "    sub = plt.subplot(5, n_cols, i * n_cols + 1)\n",
        "    sub.axis(\"off\")\n",
        "    sub.imshow(true_face.reshape(image_shape),\n",
        "               cmap=plt.cm.gray,\n",
        "               interpolation=\"nearest\")\n",
        "plt.show()"
      ],
      "execution_count": null,
      "outputs": []
    },
    {
      "cell_type": "markdown",
      "metadata": {
        "id": "Pt6oCcCbebmp"
      },
      "source": [
        "[Extra Trees Classifier: ](https://scikit-learn.org/stable/modules/generated/sklearn.ensemble.ExtraTreesClassifier.html)<br>\n",
        "class sklearn.ensemble.ExtraTreesClassifier(n_estimators=100, *, criterion='gini', max_depth=None, min_samples_split=2, min_samples_leaf=1, min_weight_fraction_leaf=0.0, max_features='auto', max_leaf_nodes=None, min_impurity_decrease=0.0, bootstrap=False, oob_score=False, n_jobs=None, random_state=None, verbose=0, warm_start=False, class_weight=None, ccp_alpha=0.0, max_samples=None)"
      ]
    },
    {
      "cell_type": "markdown",
      "metadata": {
        "id": "AQuCgBYpey4L"
      },
      "source": [
        "[KNeighborsRegressor](https://scikit-learn.org/stable/modules/generated/sklearn.neighbors.KNeighborsRegressor.html)<br>\n",
        "class sklearn.neighbors.KNeighborsRegressor(n_neighbors=5, *, weights='uniform', algorithm='auto', leaf_size=30, p=2, metric='minkowski', metric_params=None, n_jobs=None)"
      ]
    },
    {
      "cell_type": "markdown",
      "metadata": {
        "id": "ZW2qgeakfGPi"
      },
      "source": [
        "[Linear Regression](https://scikit-learn.org/stable/modules/generated/sklearn.linear_model.LinearRegression.html)<br>\n",
        "class sklearn.linear_model.LinearRegression(*, fit_intercept=True, normalize='deprecated', copy_X=True, n_jobs=None, positive=False)"
      ]
    },
    {
      "cell_type": "markdown",
      "metadata": {
        "id": "3yB0HOMpfVgu"
      },
      "source": [
        "[RidgeCV](https://scikit-learn.org/stable/modules/generated/sklearn.linear_model.RidgeCV.html)<br>\n",
        "class sklearn.linear_model.RidgeCV(alphas=(0.1, 1.0, 10.0), *, fit_intercept=True, normalize='deprecated', scoring=None, cv=None, gcv_mode=None, store_cv_values=False, alpha_per_target=False)"
      ]
    },
    {
      "cell_type": "code",
      "metadata": {
        "id": "ZiW-CKNs-Y9H"
      },
      "source": [
        "# Fit estimators\n",
        "ESTIMATORS = {\n",
        "    \"Extra trees\": ExtraTreesRegressor(n_estimators=10, max_features=32,\n",
        "                                       random_state=0),\n",
        "    \"K-nn\": KNeighborsRegressor(),\n",
        "    \"Linear regression\": LinearRegression(),\n",
        "    \"Ridge\": RidgeCV(),\n",
        "}"
      ],
      "execution_count": null,
      "outputs": []
    },
    {
      "cell_type": "code",
      "metadata": {
        "id": "OOYq-e9N-c6M"
      },
      "source": [
        "y_test_predict = dict()\n",
        "for name, estimator in ESTIMATORS.items():\n",
        "    estimator.fit(X_train, y_train)\n",
        "    y_test_predict[name] = estimator.predict(X_test)"
      ],
      "execution_count": null,
      "outputs": []
    },
    {
      "cell_type": "code",
      "metadata": {
        "id": "BoY__86y77Dt"
      },
      "source": [
        "# Plot the completed faces\n",
        "image_shape = (64, 64)\n",
        "\n",
        "n_cols = 1 + len(ESTIMATORS)\n",
        "plt.figure(figsize=(2. * n_cols, 2.26 * n_faces))\n",
        "plt.suptitle(\"Face completion with multi-output estimators\", size=16)\n",
        "\n",
        "for i in range(n_faces):\n",
        "    true_face = np.hstack((X_test[i], y_test[i]))\n",
        "\n",
        "    if i:\n",
        "        sub = plt.subplot(n_faces, n_cols, i * n_cols + 1)\n",
        "    else:\n",
        "        sub = plt.subplot(n_faces, n_cols, i * n_cols + 1,\n",
        "                          title=\"true faces\")\n",
        "\n",
        "    sub.axis(\"off\")\n",
        "    sub.imshow(true_face.reshape(image_shape),\n",
        "               cmap=plt.cm.gray,\n",
        "               interpolation=\"nearest\")\n",
        "\n",
        "    for j, est in enumerate(sorted(ESTIMATORS)):\n",
        "        completed_face = np.hstack((X_test[i], y_test_predict[est][i]))\n",
        "\n",
        "        if i:\n",
        "            sub = plt.subplot(n_faces, n_cols, i * n_cols + 2 + j)\n",
        "\n",
        "        else:\n",
        "            sub = plt.subplot(n_faces, n_cols, i * n_cols + 2 + j,\n",
        "                              title=est)\n",
        "\n",
        "        sub.axis(\"off\")\n",
        "        sub.imshow(completed_face.reshape(image_shape),\n",
        "                   cmap=plt.cm.gray,\n",
        "                   interpolation=\"nearest\")\n",
        "\n",
        "plt.show()"
      ],
      "execution_count": null,
      "outputs": []
    },
    {
      "cell_type": "markdown",
      "metadata": {
        "id": "-G02EAWmcBaN"
      },
      "source": [
        "**Assignment**<br>\n",
        "Change the parameters of the models and note the differences in the faces. "
      ]
    }
  ]
}