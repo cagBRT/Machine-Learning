{
  "nbformat": 4,
  "nbformat_minor": 0,
  "metadata": {
    "colab": {
      "name": "WineQuality.ipynb",
      "provenance": [],
      "private_outputs": true,
      "authorship_tag": "ABX9TyMNN28598cg/kstjSqgrHWO",
      "include_colab_link": true
    },
    "kernelspec": {
      "name": "python3",
      "display_name": "Python 3"
    },
    "accelerator": "GPU"
  },
  "cells": [
    {
      "cell_type": "markdown",
      "metadata": {
        "id": "view-in-github",
        "colab_type": "text"
      },
      "source": [
        "<a href=\"https://colab.research.google.com/github/cagBRT/Machine-Learning/blob/master/HP4%20WineQuality.ipynb\" target=\"_parent\"><img src=\"https://colab.research.google.com/assets/colab-badge.svg\" alt=\"Open In Colab\"/></a>"
      ]
    },
    {
      "cell_type": "code",
      "metadata": {
        "id": "UuorcVFPcr04"
      },
      "source": [
        "# Clone the entire repo.\n",
        "!git clone -l -s https://github.com/cagBRT/Machine-Learning.git cloned-repo\n",
        "%cd cloned-repo\n",
        "!ls"
      ],
      "execution_count": null,
      "outputs": []
    },
    {
      "cell_type": "markdown",
      "metadata": {
        "id": "ul2doUVQIwXr"
      },
      "source": [
        "# **Can the quality of wine be predicted from its measureable characteristics?**"
      ]
    },
    {
      "cell_type": "markdown",
      "metadata": {
        "id": "RTfR8FLpO8vQ"
      },
      "source": [
        "**Fixed acidity**: acids are major wine properties and contribute greatly to the wine’s taste. Usually, the total acidity is divided into two groups: the volatile acids and the nonvolatile or fixed acids. Among the fixed acids that you can find in wines are the following: tartaric, malic, citric, and succinic. This variable is expressed in g(tartaricacid)/dm3 in the data sets.<br>\n",
        "**Volatile acidity**: the volatile acidity is basically the process of wine turning into vinegar. In the U.S, the legal limits of Volatile Acidity are 1.2 g/L for red table wine and 1.1 g/L for white table wine. In these data sets, the volatile acidity is expressed in g(aceticacid)/dm3.<br>\n",
        "**Citric acid** is one of the fixed acids that you’ll find in wines. It’s expressed in g/dm3 in the two data sets.<br>\n",
        "**Residual sugar **typically refers to the sugar remaining after fermentation stops, or is stopped. It’s expressed in g/dm3 in the red and white data.<br>\n",
        "**Chlorides** can be a significant contributor to saltiness in wine. Here, you’ll see that it’s expressed in g(sodiumchloride)/dm3.\n",
        "**Free sulfur dioxide**: the part of the sulfur dioxide that is added to a wine and that is lost into it is said to be bound, while the active part is said to be free. The winemaker will always try to get the highest proportion of free sulfur to bind. This variable is expressed in mg/dm3 in the data.<br>\n",
        "**Total sulfur dioxide** is the sum of the bound and the free sulfur dioxide (SO2). Here, it’s expressed in mg/dm3. There are legal limits for sulfur levels in wines: in the EU, red wines can only have 160mg/L, while white and rose wines can have about 210mg/L. Sweet wines are allowed to have 400mg/L. For the US, the legal limits are set at 350mg/L, and for Australia, this is 250mg/L.<br>\n",
        "**Density** is generally used as a measure of the conversion of sugar to alcohol. Here, it’s expressed in g/cm3.<br>\n",
        "**pH** or the potential of hydrogen is a numeric scale to specify the acidity or basicity the wine. As you might know, solutions with a pH less than 7 are acidic, while solutions with a pH greater than 7 are basic. With a pH of 7, pure water is neutral. Most wines have a pH between 2.9 and 3.9 and are therefore acidic.<br>\n",
        "**Sulfate**s are to wine as gluten is to food. You might already know sulfites from the headaches that they can cause. They are a regular part of the winemaking around the world and are considered necessary. In this case, they are expressed in g(potassiumsulphate)/dm3.<br>\n",
        "**Alcohol**: wine is an alcoholic beverage, and as you know, the percentage of alcohol can vary from wine to wine. It shouldn’t be surprised that this variable is included in the data sets, where it’s expressed in % vol.<br>\n",
        "**Quality**: wine experts graded the wine quality between 0 (very bad) and 10 (very excellent). The eventual number is the median of at least three evaluations made by those same wine experts.<br>"
      ]
    },
    {
      "cell_type": "markdown",
      "metadata": {
        "id": "B_SyJzX6OjgM"
      },
      "source": [
        "# **Load the libraries**"
      ]
    },
    {
      "cell_type": "code",
      "metadata": {
        "id": "yT-tH6kSE_V1"
      },
      "source": [
        "from __future__ import absolute_import, division, print_function, unicode_literals\n",
        "\n",
        "# Install TensorFlow\n",
        "try:\n",
        "  # %tensorflow_version only exists in Colab.\n",
        "  %tensorflow_version 2.x\n",
        "except Exception:\n",
        "  pass\n",
        "\n",
        "import tensorflow as tf\n",
        "import pathlib\n",
        "\n",
        "import matplotlib.pyplot as plt\n",
        "import pandas as pd\n",
        "import seaborn as sns\n",
        "import numpy as np\n",
        "\n",
        "from tensorflow.keras.utils import to_categorical\n",
        "from tensorflow import keras\n",
        "from tensorflow.keras import layers\n",
        "\n",
        "print(tf.__version__)"
      ],
      "execution_count": null,
      "outputs": []
    },
    {
      "cell_type": "markdown",
      "metadata": {
        "id": "9aWDRwFGOnjE"
      },
      "source": [
        "# **Load the data**\n",
        "The data is in two files:<br>\n",
        ">winequality-white.csv<br>\n",
        ">winequality-red.csv<br>"
      ]
    },
    {
      "cell_type": "code",
      "metadata": {
        "id": "-DaKr4tTFZb3"
      },
      "source": [
        "# Read in white wine data \n",
        "#white = pd.read_csv(\"http://archive.ics.uci.edu/ml/machine-learning-databases/wine-quality/winequality-white.csv\", sep=';')\n",
        "white = pd.read_csv(\"winequality-white.csv\", sep=';')\n",
        "\n",
        "# Read in red wine data \n",
        "red = pd.read_csv(\"winequality-red.csv\", sep=';')"
      ],
      "execution_count": null,
      "outputs": []
    },
    {
      "cell_type": "code",
      "metadata": {
        "id": "qbTUJdyMFlPq"
      },
      "source": [
        "# Print info on white wine\n",
        "white.tail()"
      ],
      "execution_count": null,
      "outputs": []
    },
    {
      "cell_type": "code",
      "metadata": {
        "id": "8Eun_foKFq7V"
      },
      "source": [
        "red.tail()"
      ],
      "execution_count": null,
      "outputs": []
    },
    {
      "cell_type": "markdown",
      "metadata": {
        "id": "pD2E2UZZO5G9"
      },
      "source": [
        "# **Combine the two files into one file called wines**"
      ]
    },
    {
      "cell_type": "markdown",
      "metadata": {
        "id": "WCpQv2HYPR9P"
      },
      "source": [
        "\n",
        "**Add a column called type**: <br>\n",
        "red = 1<br>\n",
        "white = 0"
      ]
    },
    {
      "cell_type": "code",
      "metadata": {
        "id": "NXpyqR0qJUx6"
      },
      "source": [
        "#combine reds and whites into one dataset\n",
        "# Add `type` column to `red` with value 1\n",
        "red['type'] = 1\n",
        "\n",
        "# Add `type` column to `white` with value 0\n",
        "white['type'] = 0\n",
        "\n",
        "# Append `white` to `red`\n",
        "wines = red.append(white, ignore_index=True)"
      ],
      "execution_count": null,
      "outputs": []
    },
    {
      "cell_type": "code",
      "metadata": {
        "id": "SMfitEJTQLE8"
      },
      "source": [
        "wines"
      ],
      "execution_count": null,
      "outputs": []
    },
    {
      "cell_type": "markdown",
      "metadata": {
        "id": "qiTSR74sO_sS"
      },
      "source": [
        "# **Check out the distribution of the type of wines**"
      ]
    },
    {
      "cell_type": "code",
      "metadata": {
        "id": "8e4fGVfT7avb"
      },
      "source": [
        "wines['quality'].value_counts()"
      ],
      "execution_count": null,
      "outputs": []
    },
    {
      "cell_type": "markdown",
      "metadata": {
        "id": "xBbo1BJIPG04"
      },
      "source": [
        "# **Check for missing data in wines**"
      ]
    },
    {
      "cell_type": "code",
      "metadata": {
        "id": "8Oe8kyVIHyrH"
      },
      "source": [
        "wines.isna().sum()"
      ],
      "execution_count": null,
      "outputs": []
    },
    {
      "cell_type": "markdown",
      "metadata": {
        "id": "vUrhO4ncPLS2"
      },
      "source": [
        "# **Is there a strong correlation between any of the features?**\n",
        "\n",
        "Can the model be simplified (without increasing the mse)  by removing features? <br>\n"
      ]
    },
    {
      "cell_type": "code",
      "metadata": {
        "id": "9hMYRhmaGgnv"
      },
      "source": [
        "corr = wines.corr()\n",
        "sns.heatmap(corr, \n",
        "            xticklabels=corr.columns.values,\n",
        "            yticklabels=corr.columns.values)\n",
        "plt.show()"
      ],
      "execution_count": null,
      "outputs": []
    },
    {
      "cell_type": "markdown",
      "metadata": {
        "id": "yNfi7Xh3PtSa"
      },
      "source": [
        "# **Split the dataset into a training set and a test set**\n",
        "Models with very few hyperparameters will be easy to validate and tune, so you can probably reduce the size of your validation set, but if your model has many hyperparameters, you would want to have a large test set as well"
      ]
    },
    {
      "cell_type": "markdown",
      "metadata": {
        "id": "PDPVGPojat4J"
      },
      "source": [
        "**The 'frac' variable is a hyperparameter that can be tuned "
      ]
    },
    {
      "cell_type": "code",
      "metadata": {
        "id": "usMnFS-mH5sf"
      },
      "source": [
        "#Consider changing the ratio of the train/test split\n",
        "#fac .95 - .5\n",
        "wines_train = wines.sample(frac=0.5,random_state=0)\n",
        "wines_test = wines.drop(wines_train.index)\n",
        "print(\"done\")"
      ],
      "execution_count": null,
      "outputs": []
    },
    {
      "cell_type": "code",
      "metadata": {
        "id": "H1rxVuiQLeV-"
      },
      "source": [
        "wines_train"
      ],
      "execution_count": null,
      "outputs": []
    },
    {
      "cell_type": "markdown",
      "metadata": {
        "id": "J_XshQkuPd5b"
      },
      "source": [
        "# **Remove the labels from the dataset**"
      ]
    },
    {
      "cell_type": "code",
      "metadata": {
        "id": "mZgwjudzJGTT"
      },
      "source": [
        "train_labels = wines_train.pop('quality')\n",
        "test_labels = wines_test.pop('quality')"
      ],
      "execution_count": null,
      "outputs": []
    },
    {
      "cell_type": "code",
      "metadata": {
        "id": "Ei8uCJ3zyrKT"
      },
      "source": [
        "wines_train"
      ],
      "execution_count": null,
      "outputs": []
    },
    {
      "cell_type": "code",
      "metadata": {
        "id": "ZOf2VECnxmIj"
      },
      "source": [
        "train_stats = wines_train.describe()\n",
        "train_stats = train_stats.transpose()\n",
        "train_stats"
      ],
      "execution_count": null,
      "outputs": []
    },
    {
      "cell_type": "code",
      "metadata": {
        "id": "aX1uBIHs3kH1"
      },
      "source": [
        "test_stats = wines_test.describe()\n",
        "test_stats = test_stats.transpose()\n",
        "test_stats"
      ],
      "execution_count": null,
      "outputs": []
    },
    {
      "cell_type": "markdown",
      "metadata": {
        "id": "-OZ852UxQSRy"
      },
      "source": [
        "# **Normalize the data**"
      ]
    },
    {
      "cell_type": "code",
      "metadata": {
        "id": "qUSR2qiZJXZ4"
      },
      "source": [
        "def norm(x):\n",
        "  return (x - train_stats['mean']) / train_stats['std']\n",
        "\n",
        "normed_train_data = norm(wines_train)\n",
        "normed_test_data = norm(wines_test)\n",
        "print(\"done\")"
      ],
      "execution_count": null,
      "outputs": []
    },
    {
      "cell_type": "markdown",
      "metadata": {
        "id": "QFfFXJVCQVe9"
      },
      "source": [
        "# **Build the model**\n",
        "There are several hyper-parameters that can be tuned in this cell. <br>\n",
        ">**The number of layers**: Increasing the number of hidden layers might improve the accuracy or it might not, it depends on the complexity of the problem that you are trying to solve.<br>\n",
        "Increasing the number of hidden layers much more than the sufficient number of layers will cause accuracy in the test set to decrease. It will cause your network to overfit to the training set.<br>\n",
        "**The activation functions**: <br>\n",
        ">*Sigmoid*: Vanishing gradient problem. For a shallow network with only a few layers that use these activations, this isn’t a big problem.<br>\n",
        ">*Tanh*: (hyperbolic tangent)Vanishing gradient problem<br>\n",
        ">*Relu*: Avoids and rectifies vanishing gradient problem. ReLu could result in Dead Neurons.<br>\n",
        "**The size of layers**: Increasing or decreasing the number of nodes provides a short-cut to increasing the capacity of the model with fewer resources, and modern techniques allow learning algorithms to successfully train deep models<br>\n",
        "**The optimizer**: Optimizers update the weight parameters to minimize the loss function. The loss function acts as a guide to the terrain telling optimizer if it is moving in the right direction to reach the global minimum.<br>\n",
        "**The learning rate of the optimizer**: Must be >= 0. Varies from .001 --><br>\n",
        "**The loss function**: The Mean Squared Error, or MSE, loss is the default loss to use for regression problems. Mathematically, it is the preferred loss function under the inference framework of maximum likelihood if the distribution of the target variable is Gaussian. It is the loss function to be evaluated first and only changed if you have a good reason.\n",
        "\n",
        "<br>\n",
        "\n"
      ]
    },
    {
      "cell_type": "code",
      "metadata": {
        "id": "SkPd6dsHKjOF"
      },
      "source": [
        "\n",
        "from keras import metrics\n",
        "\n",
        "inputs = len(normed_train_data.keys())\n",
        "print(\"number of inputs to the model = \" + str(inputs))\n",
        "\n",
        "def build_model():\n",
        "  model = keras.Sequential([\n",
        "    layers.Dense(124, activation=tf.nn.relu,input_shape=([len(normed_train_data.keys())]),),\n",
        "    layers.Dense(124, activation=tf.nn.relu),\n",
        "    layers.Dense(1)\n",
        "  ])\n",
        "\n",
        "  optimizer = tf.keras.optimizers.RMSprop(0.001)\n",
        "\n",
        "  model.compile(loss='mean_squared_error', \n",
        "                optimizer=optimizer,\n",
        "                metrics=['mean_absolute_error', 'mean_squared_error'])\n",
        "  return model\n",
        "  print(\"done\")"
      ],
      "execution_count": null,
      "outputs": []
    },
    {
      "cell_type": "code",
      "metadata": {
        "id": "9-XvRacbKv-9"
      },
      "source": [
        "model = build_model()\n",
        "print(\"done\")"
      ],
      "execution_count": null,
      "outputs": []
    },
    {
      "cell_type": "code",
      "metadata": {
        "id": "STeikey08EbB"
      },
      "source": [
        "model.summary()"
      ],
      "execution_count": null,
      "outputs": []
    },
    {
      "cell_type": "markdown",
      "metadata": {
        "id": "0H-i6gZRQY8T"
      },
      "source": [
        "# **Train the model**\n",
        "Changing the number of epochs can change the performance of the model. <br>"
      ]
    },
    {
      "cell_type": "code",
      "metadata": {
        "id": "Q8TCn9MsLQsl"
      },
      "source": [
        "EPOCHS = 20\n",
        "history = model.fit(\n",
        "  normed_train_data, train_labels,\n",
        "  epochs=EPOCHS, validation_split = 0.2, verbose=0,batch_size = 16 )"
      ],
      "execution_count": null,
      "outputs": []
    },
    {
      "cell_type": "code",
      "metadata": {
        "id": "m1ZrssAtLWvN"
      },
      "source": [
        "hist = pd.DataFrame(history.history)\n",
        "hist['epochs'] = history.epoch\n",
        "hist.tail(20)"
      ],
      "execution_count": null,
      "outputs": []
    },
    {
      "cell_type": "markdown",
      "metadata": {
        "id": "kdT_MArFQdTN"
      },
      "source": [
        "# **Plot the loss**\n",
        "This is not a good plot. There is a good possibilty that the model might be too complex. "
      ]
    },
    {
      "cell_type": "code",
      "metadata": {
        "id": "IcUBeWYyMsWb"
      },
      "source": [
        "axes = plt.gca()\n",
        "axes.set_ylim([0,1])\n",
        "plt.plot(hist['loss'], label='training loss')\n",
        "plt.plot(hist['val_loss'], label='testing loss')\n",
        "plt.title('Loss')\n",
        "plt.xlabel('epochs')\n",
        "plt.ylabel('loss')\n",
        "plt.legend()"
      ],
      "execution_count": null,
      "outputs": []
    },
    {
      "cell_type": "code",
      "metadata": {
        "id": "vvQR2Y7bYMA5"
      },
      "source": [
        "loss, mae, mse = model.evaluate(normed_test_data, test_labels, verbose=0)\n",
        "\n",
        "print(\"Testing set Mean Abs Error: {:5.2f}\".format(mae))\n"
      ],
      "execution_count": null,
      "outputs": []
    },
    {
      "cell_type": "markdown",
      "metadata": {
        "id": "sIugdAJcQjka"
      },
      "source": [
        "# **Make a prediction with the model**\n",
        "When making predictions, whatever was done to the data during training, must also be done to all data entered into the model for predictions. "
      ]
    },
    {
      "cell_type": "code",
      "metadata": {
        "id": "MRHXx8qzv3C_"
      },
      "source": [
        "#The csv file has 4 wines\n",
        "#Add tge type to the dataframe\n",
        "predict_case = pd.read_csv(\"prediction_cases.csv\", sep=';')\n",
        "typew = [0,0,1,1] \n",
        "predict_case['type'] = typew"
      ],
      "execution_count": null,
      "outputs": []
    },
    {
      "cell_type": "code",
      "metadata": {
        "id": "6BHMumq7wsjy"
      },
      "source": [
        "#pop off the type from the dataframe\n",
        "prediction_labels = predict_case.pop('quality')"
      ],
      "execution_count": null,
      "outputs": []
    },
    {
      "cell_type": "code",
      "metadata": {
        "id": "WGngB4Mhwh4x"
      },
      "source": [
        "#normalize the data\n",
        "normed_prediction_cases = norm(predict_case)\n",
        "normed_prediction_cases "
      ],
      "execution_count": null,
      "outputs": []
    },
    {
      "cell_type": "code",
      "metadata": {
        "id": "nqMFqOHRddP4"
      },
      "source": [
        "#There are four wines that the model has not seem\n",
        "#Choose number 0,1,2,3\n",
        "number = 3\n",
        "test1 = normed_prediction_cases.loc[[number]]\n",
        "test1.transpose()"
      ],
      "execution_count": null,
      "outputs": []
    },
    {
      "cell_type": "code",
      "metadata": {
        "id": "iWmW2-bY0VeE"
      },
      "source": [
        "prediction = model.predict(test1)"
      ],
      "execution_count": null,
      "outputs": []
    },
    {
      "cell_type": "code",
      "metadata": {
        "id": "8Nozx-Uw2SXm"
      },
      "source": [
        "print(prediction)"
      ],
      "execution_count": null,
      "outputs": []
    },
    {
      "cell_type": "code",
      "metadata": {
        "id": "FK4OPWwH8gW8"
      },
      "source": [
        "print(\"prediction is \", prediction)\n",
        "print(\"actual value is \", prediction_labels.iloc[number] )"
      ],
      "execution_count": null,
      "outputs": []
    }
  ]
}