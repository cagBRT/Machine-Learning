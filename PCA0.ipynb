{
  "nbformat": 4,
  "nbformat_minor": 0,
  "metadata": {
    "colab": {
      "name": "PCA0.ipynb",
      "private_outputs": true,
      "provenance": [],
      "authorship_tag": "ABX9TyPbH200T0huffzj51+A039L",
      "include_colab_link": true
    },
    "kernelspec": {
      "name": "python3",
      "display_name": "Python 3"
    }
  },
  "cells": [
    {
      "cell_type": "markdown",
      "metadata": {
        "id": "view-in-github",
        "colab_type": "text"
      },
      "source": [
        "<a href=\"https://colab.research.google.com/github/cagBRT/Machine-Learning/blob/master/PCA0.ipynb\" target=\"_parent\"><img src=\"https://colab.research.google.com/assets/colab-badge.svg\" alt=\"Open In Colab\"/></a>"
      ]
    },
    {
      "cell_type": "markdown",
      "metadata": {
        "id": "qCvnmAIwweZr"
      },
      "source": [
        "**Clone the repo**"
      ]
    },
    {
      "cell_type": "code",
      "metadata": {
        "id": "iqQfm_pdU0-k"
      },
      "source": [
        "# Clone the entire repo.\n",
        "!git clone -l -s https://github.com/cagBRT/Machine-Learning.git cloned-repo\n",
        "%cd cloned-repo"
      ],
      "execution_count": null,
      "outputs": []
    },
    {
      "cell_type": "code",
      "metadata": {
        "id": "3V02BQBFOt_f"
      },
      "source": [
        "from IPython.display import Image\n",
        "Image(\"images/pca0.png\" , width=600)"
      ],
      "execution_count": null,
      "outputs": []
    },
    {
      "cell_type": "code",
      "metadata": {
        "id": "7bvQ2nYUUfbo"
      },
      "source": [
        "from IPython.display import Image\n",
        "Image(\"images/pca1.png\" , width=600)"
      ],
      "execution_count": null,
      "outputs": []
    },
    {
      "cell_type": "markdown",
      "metadata": {
        "id": "d7d6JVzSBequ"
      },
      "source": [
        "# **Principal component analysis (PCA)** \n",
        "PCA is a multivariate technique used to emphasize variation and bring out strong patterns in a dataset. It's often used to make data easy to explore and visualize. It was invented in 1901 by Karl Pearson.\n",
        "\n",
        "When studying many variables at the same time, in order to interpret the information in a more meaningful form, it is necessary to reduce the number of variables to a few linear combinations of the data. Each linear combination will correspond to a principal component (PC). The number of PCs is less than or equal to the smaller of the number of original variables or the number of observations."
      ]
    },
    {
      "cell_type": "code",
      "metadata": {
        "id": "H7JhdYueVy-3"
      },
      "source": [
        "from IPython.display import Image\n",
        "Image(\"images/pca9.png\" , width=600)"
      ],
      "execution_count": null,
      "outputs": []
    },
    {
      "cell_type": "code",
      "metadata": {
        "id": "xwjj47OKVsoU"
      },
      "source": [
        "from IPython.display import Image\n",
        "Image(\"images/pca8.png\" , width=600)"
      ],
      "execution_count": null,
      "outputs": []
    },
    {
      "cell_type": "code",
      "metadata": {
        "id": "OkF_LY72Vicm"
      },
      "source": [
        "from IPython.display import Image\n",
        "Image(\"images/pca7.png\" , width=600)"
      ],
      "execution_count": null,
      "outputs": []
    },
    {
      "cell_type": "code",
      "metadata": {
        "id": "WvMGokEjVV_A"
      },
      "source": [
        "from IPython.display import Image\n",
        "Image(\"images/pca6.png\" , width=600)"
      ],
      "execution_count": null,
      "outputs": []
    },
    {
      "cell_type": "code",
      "metadata": {
        "id": "olrAzTV0VK9J"
      },
      "source": [
        "from IPython.display import Image\n",
        "Image(\"images/pca5.png\" , width=600)"
      ],
      "execution_count": null,
      "outputs": []
    },
    {
      "cell_type": "code",
      "metadata": {
        "id": "dcxvrxPPU-Ih"
      },
      "source": [
        "from IPython.display import Image\n",
        "Image(\"images/pca4.png\" , width=600)"
      ],
      "execution_count": null,
      "outputs": []
    },
    {
      "cell_type": "code",
      "metadata": {
        "id": "-ecFXq6nUpBy"
      },
      "source": [
        "from IPython.display import Image\n",
        "Image(\"images/pca3.png\" , width=600)"
      ],
      "execution_count": null,
      "outputs": []
    },
    {
      "cell_type": "code",
      "metadata": {
        "id": "yzK-KVFMUi1D"
      },
      "source": [
        "from IPython.display import Image\n",
        "Image(\"images/pca2.png\" , width=600)"
      ],
      "execution_count": null,
      "outputs": []
    },
    {
      "cell_type": "code",
      "metadata": {
        "id": "M7ldyGMaW_Ia"
      },
      "source": [
        "from IPython.display import Image\n",
        "Image(\"images/pca15.png\" , width=600)"
      ],
      "execution_count": null,
      "outputs": []
    },
    {
      "cell_type": "code",
      "metadata": {
        "id": "oVflYi7UW6kY"
      },
      "source": [
        "from IPython.display import Image\n",
        "Image(\"images/pca14.png\" , width=600)"
      ],
      "execution_count": null,
      "outputs": []
    },
    {
      "cell_type": "code",
      "metadata": {
        "id": "2q7vwA8JWx8O"
      },
      "source": [
        "from IPython.display import Image\n",
        "Image(\"images/pca13.png\" , width=600)"
      ],
      "execution_count": null,
      "outputs": []
    },
    {
      "cell_type": "code",
      "metadata": {
        "id": "MMYcXMHhWqVm"
      },
      "source": [
        "from IPython.display import Image\n",
        "Image(\"images/pca12.png\" , width=600)"
      ],
      "execution_count": null,
      "outputs": []
    },
    {
      "cell_type": "code",
      "metadata": {
        "id": "IiNacqGeWkob"
      },
      "source": [
        "from IPython.display import Image\n",
        "Image(\"images/pca11.png\" , width=600)"
      ],
      "execution_count": null,
      "outputs": []
    },
    {
      "cell_type": "code",
      "metadata": {
        "id": "q5fSg4dbWRWX"
      },
      "source": [
        "from IPython.display import Image\n",
        "Image(\"images/pca10.png\" , width=600)"
      ],
      "execution_count": null,
      "outputs": []
    },
    {
      "cell_type": "markdown",
      "metadata": {
        "id": "jAnAtGR1wh16"
      },
      "source": [
        "**Import libraries**"
      ]
    },
    {
      "cell_type": "code",
      "metadata": {
        "id": "R7DmpbtP2lnE"
      },
      "source": [
        "import pandas as pd\n",
        "import numpy as np\n",
        "from sklearn.preprocessing import StandardScaler\n",
        "from matplotlib import*\n",
        "import matplotlib.pyplot as plt\n",
        "from matplotlib.cm import register_cmap\n",
        "from scipy import stats\n",
        "from sklearn.decomposition import PCA \n",
        "import seaborn\n"
      ],
      "execution_count": null,
      "outputs": []
    },
    {
      "cell_type": "markdown",
      "metadata": {
        "id": "f3_2HaF26SFA"
      },
      "source": [
        "# **Can we predict how a viewer will rate a movie?**"
      ]
    },
    {
      "cell_type": "markdown",
      "metadata": {
        "id": "zNXU-8X1wlpw"
      },
      "source": [
        "**Load and prepare the data**"
      ]
    },
    {
      "cell_type": "code",
      "metadata": {
        "id": "Aw8l12qj5cly"
      },
      "source": [
        "#Load movie names and movie ratings\n",
        "movies = pd.read_csv('movies_df.csv')"
      ],
      "execution_count": null,
      "outputs": []
    },
    {
      "cell_type": "code",
      "metadata": {
        "id": "AnnUyj2eVVIq"
      },
      "source": [
        "movies = pd.DataFrame(movies)\n",
        "movies"
      ],
      "execution_count": null,
      "outputs": []
    },
    {
      "cell_type": "code",
      "metadata": {
        "id": "bq2aElQxusw-"
      },
      "source": [
        "movies = movies.drop(['title','genres'],axis=1)"
      ],
      "execution_count": null,
      "outputs": []
    },
    {
      "cell_type": "code",
      "metadata": {
        "id": "pktg6DDY5Msy"
      },
      "source": [
        "movies.head(40)"
      ],
      "execution_count": null,
      "outputs": []
    },
    {
      "cell_type": "code",
      "metadata": {
        "id": "RbsQfgrRhZFY"
      },
      "source": [
        "M = movies.pivot_table(index=['userId_x'], columns=['movieId'], values='rating')\n",
        "m = M.shape\n",
        "print(\"shape = \", m)\n",
        "df1 = M.replace(np.nan, 0, regex=True)"
      ],
      "execution_count": null,
      "outputs": []
    },
    {
      "cell_type": "code",
      "metadata": {
        "id": "TH7Tndwp6Ap6"
      },
      "source": [
        "df1.head()"
      ],
      "execution_count": null,
      "outputs": []
    },
    {
      "cell_type": "markdown",
      "metadata": {
        "id": "NKy-XDYzwu7S"
      },
      "source": [
        "**Scale the data**"
      ]
    },
    {
      "cell_type": "code",
      "metadata": {
        "id": "6ZfqbzQZ6Cle"
      },
      "source": [
        "X_std = StandardScaler().fit_transform(df1)"
      ],
      "execution_count": null,
      "outputs": []
    },
    {
      "cell_type": "markdown",
      "metadata": {
        "id": "MYIGL-QbwyN0"
      },
      "source": [
        "**Compute covariance matrix**"
      ]
    },
    {
      "cell_type": "code",
      "metadata": {
        "id": "3EVFQNKC6G5d"
      },
      "source": [
        "mean_vec = np.mean(X_std, axis=0)\n",
        "cov_mat = (X_std - mean_vec).T.dot((X_std - mean_vec)) / (X_std.shape[0]-1)\n",
        "print('Covariance matrix n%s' %cov_mat)"
      ],
      "execution_count": null,
      "outputs": []
    },
    {
      "cell_type": "markdown",
      "metadata": {
        "id": "nbBxpUqbxKNj"
      },
      "source": [
        "**Compute the Principal Components of the data set**"
      ]
    },
    {
      "cell_type": "code",
      "metadata": {
        "id": "p_dg2rEo6J5h"
      },
      "source": [
        "#Calculating eigenvectors and eigenvalues on covariance matrix\n",
        "cov_mat = np.cov(X_std.T)\n",
        "eig_vals, eig_vecs = np.linalg.eig(cov_mat)\n",
        "print('Eigenvectors \\n%s' %eig_vecs)\n",
        "print('\\nEigenvalues \\n%s' %eig_vals)"
      ],
      "execution_count": null,
      "outputs": []
    },
    {
      "cell_type": "markdown",
      "metadata": {
        "id": "zWV8m9eMxd5_"
      },
      "source": [
        "**Compute the feature vector**"
      ]
    },
    {
      "cell_type": "code",
      "metadata": {
        "id": "z3lszu_uxeG4"
      },
      "source": [
        "# Visually confirm that the list is correctly sorted by decreasing eigenvalues\n",
        "eig_pairs = [(np.abs(eig_vals[i]), eig_vecs[:,i]) for i in range(len(eig_vals))]\n",
        "print('Eigenvalues in descending order:')\n",
        "for i in eig_pairs:\n",
        "  print(i[0])"
      ],
      "execution_count": null,
      "outputs": []
    },
    {
      "cell_type": "markdown",
      "metadata": {
        "id": "s4Oz2-kgxsLr"
      },
      "source": [
        "**Use the PCA() function to reduce the dimensionality of the data set**"
      ]
    },
    {
      "cell_type": "code",
      "metadata": {
        "id": "VHAH-JMH6Sr0"
      },
      "source": [
        "pca = PCA(n_components=2)\n",
        "pca.fit_transform(df1)\n",
        "print(pca.explained_variance_ratio_)"
      ],
      "execution_count": null,
      "outputs": []
    },
    {
      "cell_type": "markdown",
      "metadata": {
        "id": "bkls9TJPxztU"
      },
      "source": [
        "**Scree plot expresses the variance associated with each principal component**"
      ]
    },
    {
      "cell_type": "code",
      "metadata": {
        "id": "E3PZJUOH6bY1"
      },
      "source": [
        "pca = PCA().fit(X_std)\n",
        "plt.plot(np.cumsum(pca.explained_variance_ratio_))\n",
        "plt.xlabel('number of components')\n",
        "plt.ylabel('cumulative explained variance')\n",
        "plt.show()"
      ],
      "execution_count": null,
      "outputs": []
    },
    {
      "cell_type": "markdown",
      "metadata": {
        "id": "Q_VMFIY1x7Jl"
      },
      "source": [
        "The scree plot clearly indicates that the first 500 principal components contain the maximum information (variance) within the data. Note that the initial data set had approximately 1550 features which can now be narrowed down to just 500. You can now easily perform further analysis on the data since the redundant or insignificant variables are out. This is the power of dimensionality reduction."
      ]
    }
  ]
}