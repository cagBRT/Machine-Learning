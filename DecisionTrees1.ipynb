{
  "nbformat": 4,
  "nbformat_minor": 0,
  "metadata": {
    "colab": {
      "name": "DecisionTrees1.ipynb",
      "private_outputs": true,
      "provenance": [],
      "authorship_tag": "ABX9TyOLKQ/4DWbuU+SJUMAkGCIL",
      "include_colab_link": true
    },
    "kernelspec": {
      "name": "python3",
      "display_name": "Python 3"
    },
    "language_info": {
      "name": "python"
    }
  },
  "cells": [
    {
      "cell_type": "markdown",
      "metadata": {
        "id": "view-in-github",
        "colab_type": "text"
      },
      "source": [
        "<a href=\"https://colab.research.google.com/github/cagBRT/Machine-Learning/blob/master/DecisionTrees1.ipynb\" target=\"_parent\"><img src=\"https://colab.research.google.com/assets/colab-badge.svg\" alt=\"Open In Colab\"/></a>"
      ]
    },
    {
      "cell_type": "code",
      "metadata": {
        "id": "E4coQdmHbq3T"
      },
      "source": [
        "from IPython.display import Image"
      ],
      "execution_count": null,
      "outputs": []
    },
    {
      "cell_type": "code",
      "metadata": {
        "id": "sZ--zXXnbI4e"
      },
      "source": [
        "!git clone -l -s https://github.com/cagBRT/Machine-Learning.git cloned-repo\n",
        "%cd cloned-repo"
      ],
      "execution_count": null,
      "outputs": []
    },
    {
      "cell_type": "markdown",
      "metadata": {
        "id": "psT1lRjDZ7ym"
      },
      "source": [
        "A decision tree has branches, nodes, leaves, etc. <br>\n",
        "\n",
        "A root node is an initial node representing the entire sample or population, and it can get further divided into other nodes or homogeneous sets. <br>\n",
        "\n",
        "A decision node consists of two or more nodes that represent separate values of the attribute tested.\n",
        "\n",
        "**A leaf/terminal node does not split into further nodes, and it represents a decision**"
      ]
    },
    {
      "cell_type": "code",
      "metadata": {
        "id": "BuSrPmohbvHu"
      },
      "source": [
        "Image(\"/content/cloned-repo/images/Decision Tree.png\" , width=640)"
      ],
      "execution_count": null,
      "outputs": []
    },
    {
      "cell_type": "code",
      "metadata": {
        "id": "_wSfleyXiADq"
      },
      "source": [
        "Image(\"images/Decision Tree 2.png\" , width=640)"
      ],
      "execution_count": null,
      "outputs": []
    },
    {
      "cell_type": "markdown",
      "metadata": {
        "id": "DCTPjQ4SvKez"
      },
      "source": [
        "**Gini impurity**: measures the frequency of any element in the dataset being mislabelled when it is randomly labelled. <br>\n",
        "Minimum gini index = 0<br>\n",
        "> index=0 when the all the contained elements in the node are of the same unique class, meaning the node will be split again. <br>\n",
        "\n",
        "Maximum gini index=0.5<br>\n",
        ">When the probability of the two classes is the same. If data is randomly labelled at a node and the probability of mislabelling is decided by one of two choices. "
      ]
    },
    {
      "cell_type": "markdown",
      "metadata": {
        "id": "ykRcDzPRwm4s"
      },
      "source": [
        "**Entropy**: measure of disorder if the features with the target<br>\n",
        "The optimium split is chosen by the feature with less entropy.<br>\n",
        "Minimum entropy = 0<br>\n",
        "Max entropy = 1<br>\n"
      ]
    },
    {
      "cell_type": "markdown",
      "metadata": {
        "id": "kF5f7uaF5on-"
      },
      "source": [
        "gini is slightly faster than entropy<br>\n",
        "entropy is slightly higher performance"
      ]
    },
    {
      "cell_type": "markdown",
      "metadata": {
        "id": "7EwrEJE8sj_V"
      },
      "source": [
        "Create a small dataset"
      ]
    },
    {
      "cell_type": "code",
      "metadata": {
        "id": "ja2uBMSiVfD_"
      },
      "source": [
        "from sklearn import tree\n",
        "X = [[0,0,0], [1,1,1],[1,0,1],[0,1,1],[0,0,1],[0,1,0],[0,1,0]]\n",
        "Y = [0, 1, 0,1,0,1,1]\n",
        "clf = tree.DecisionTreeClassifier()\n",
        "clf = clf.fit(X, Y)"
      ],
      "execution_count": null,
      "outputs": []
    },
    {
      "cell_type": "markdown",
      "metadata": {
        "id": "OnEQ12PAspmb"
      },
      "source": [
        "Plot the decision tree"
      ]
    },
    {
      "cell_type": "code",
      "metadata": {
        "id": "gisQvhk2ciER"
      },
      "source": [
        "tree.plot_tree(clf)"
      ],
      "execution_count": null,
      "outputs": []
    },
    {
      "cell_type": "markdown",
      "metadata": {
        "id": "skfdGMLAs15m"
      },
      "source": [
        "Use the model to make a prediction"
      ]
    },
    {
      "cell_type": "code",
      "metadata": {
        "id": "hrE_jIcWVjmu"
      },
      "source": [
        "clf.predict([[1,0,0]])"
      ],
      "execution_count": null,
      "outputs": []
    },
    {
      "cell_type": "markdown",
      "metadata": {
        "id": "N0Y3HeiJe_Ho"
      },
      "source": [
        "The predict_prob is a function that predicts class probabilities of the input samples X.\n",
        "\n",
        "The predicted class probability is the fraction of samples of the same\n",
        "class in a leaf.\n",
        "\n"
      ]
    },
    {
      "cell_type": "markdown",
      "metadata": {
        "id": "vwH34dRLtHRe"
      },
      "source": [
        "The probability is shown as:<br>\n",
        "[prob of being in class 0, prob of being in class 1]"
      ]
    },
    {
      "cell_type": "code",
      "metadata": {
        "id": "JqDTckZcVpt1"
      },
      "source": [
        "clf.predict_proba([[1,0,0]])\n",
        "clf.predict_proba(X)"
      ],
      "execution_count": null,
      "outputs": []
    },
    {
      "cell_type": "markdown",
      "metadata": {
        "id": "vp8FFoohtX9e"
      },
      "source": [
        "**Assignment**<br>\n",
        "Modify the dataset<br>\n",
        "1. Add an additional feature to the input\n",
        "2. Add an additional class\n",
        "\n",
        "What happens to the decision tree?"
      ]
    }
  ]
}