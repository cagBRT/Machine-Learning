{
  "nbformat": 4,
  "nbformat_minor": 0,
  "metadata": {
    "colab": {
      "private_outputs": true,
      "provenance": [],
      "authorship_tag": "ABX9TyPBrK/QBn6LaAUbcITv77zj",
      "include_colab_link": true
    },
    "kernelspec": {
      "name": "python3",
      "display_name": "Python 3"
    },
    "language_info": {
      "name": "python"
    }
  },
  "cells": [
    {
      "cell_type": "markdown",
      "metadata": {
        "id": "view-in-github",
        "colab_type": "text"
      },
      "source": [
        "<a href=\"https://colab.research.google.com/github/cagBRT/Machine-Learning/blob/master/Pipelines_for_Ensembles.ipynb\" target=\"_parent\"><img src=\"https://colab.research.google.com/assets/colab-badge.svg\" alt=\"Open In Colab\"/></a>"
      ]
    },
    {
      "cell_type": "markdown",
      "source": [
        "# Using Pipelines for Ensemble Learning"
      ],
      "metadata": {
        "id": "USB9cGFE2FyO"
      }
    },
    {
      "cell_type": "code",
      "source": [
        "# Clone the entire repo.\n",
        "!git clone -s https://github.com/cagBRT/Machine-Learning.git cloned-repo\n",
        "%cd cloned-repo"
      ],
      "metadata": {
        "id": "eB3qdYEP0134"
      },
      "execution_count": null,
      "outputs": []
    },
    {
      "cell_type": "markdown",
      "source": [
        "# Import the libraries"
      ],
      "metadata": {
        "id": "teWjCVpC2xQi"
      }
    },
    {
      "cell_type": "code",
      "source": [
        "import pandas as pd\n",
        "import numpy as np\n",
        "from sklearn.model_selection import train_test_split\n",
        "\n",
        "from sklearn.base import BaseEstimator, TransformerMixin\n",
        "from sklearn.utils.validation import check_is_fitted\n",
        "from sklearn.pipeline import Pipeline\n",
        "from sklearn.impute import SimpleImputer\n",
        "from sklearn.preprocessing import StandardScaler, OneHotEncoder\n",
        "\n",
        "from sklearn.model_selection import GridSearchCV\n",
        "from sklearn.linear_model import LogisticRegression\n",
        "from sklearn.neighbors import KNeighborsClassifier\n",
        "from sklearn.ensemble import RandomForestClassifier\n",
        "from sklearn import svm\n",
        "import warnings\n",
        "warnings.filterwarnings('ignore')\n",
        "\n",
        "from sklearn.ensemble import VotingClassifier\n",
        "\n",
        "from sklearn.compose import ColumnTransformer"
      ],
      "metadata": {
        "id": "n4As3e3_2d2S"
      },
      "execution_count": null,
      "outputs": []
    },
    {
      "cell_type": "markdown",
      "source": [
        "# Get the data"
      ],
      "metadata": {
        "id": "_PLVpQ6f20Kx"
      }
    },
    {
      "cell_type": "code",
      "execution_count": null,
      "metadata": {
        "id": "LFawS9t60dHH"
      },
      "outputs": [],
      "source": [
        "df = pd.read_csv('train.csv')\n",
        "df = df[['Survived','Pclass','Sex','Age','Fare','Embarked']]\n",
        "X = df.iloc[:,1:]\n",
        "y = df.iloc[:,0]\n",
        "X_train, X_test, y_train, y_test = train_test_split(X, y,\n",
        "                                                  test_size = 0.3,\n",
        "                                                  stratify = y,\n",
        "                                                  random_state = 0)"
      ]
    },
    {
      "cell_type": "markdown",
      "source": [
        "# Create custom transformers"
      ],
      "metadata": {
        "id": "tpNrmsQt231N"
      }
    },
    {
      "cell_type": "code",
      "source": [
        "# custom transformer to select specific columns\n",
        "class FeatureSelector(BaseEstimator, TransformerMixin):\n",
        "    def __init__(self, feature_names):\n",
        "        self._feature_names = feature_names\n",
        "\n",
        "    def fit(self, X, y = None):\n",
        "        return self\n",
        "    def transform(self, X, y = None):\n",
        "        return X[self._feature_names]\n",
        "\n",
        "# define the transformer for numeric columns\n",
        "# for 'Age' and 'Fare'\n",
        "numeric_transformer = Pipeline(steps=[\n",
        "    ('imputer', SimpleImputer(strategy='median')),\n",
        "    ('scaler', StandardScaler())\n",
        "])\n",
        "\n",
        "# define the transformer for categorical columns\n",
        "# for 'Sex' and 'Embarked'\n",
        "categorical_transformer1 = Pipeline(steps=[\n",
        "    ('imputer', SimpleImputer(strategy='most_frequent')),\n",
        "    ('onehot', OneHotEncoder(handle_unknown='ignore'))\n",
        "])\n",
        "\n",
        "# define the transformer for categorical columns\n",
        "# for 'Pclass'\n",
        "categorical_transformer2 = Pipeline(steps=[\n",
        "    ('imputer', SimpleImputer(strategy='most_frequent'))\n",
        "])\n"
      ],
      "metadata": {
        "id": "taLPhTiH0m7V"
      },
      "execution_count": null,
      "outputs": []
    },
    {
      "cell_type": "markdown",
      "source": [
        "# Use the column transformer to transform all the required columns"
      ],
      "metadata": {
        "id": "NZXVeUNA3ViO"
      }
    },
    {
      "cell_type": "code",
      "source": [
        "features_preprocessor = ColumnTransformer(\n",
        "    transformers=[\n",
        "        ('numeric',     numeric_transformer,       ['Age','Fare']),\n",
        "        ('categorical1', categorical_transformer1, ['Sex',\n",
        "                                                    'Embarked']),\n",
        "        ('categorical2', categorical_transformer2, ['Pclass'])\n",
        "    ], remainder='passthrough')"
      ],
      "metadata": {
        "id": "AqzeYf711OlV"
      },
      "execution_count": null,
      "outputs": []
    },
    {
      "cell_type": "markdown",
      "source": [
        "# Find the best Estimator using GridSerchCV"
      ],
      "metadata": {
        "id": "RHuVY1yn3fqH"
      }
    },
    {
      "cell_type": "code",
      "source": [
        "# the list of classifiers to use\n",
        "# use random_state for reproducibility\n",
        "classifiers = [\n",
        "    LogisticRegression(random_state=0),\n",
        "    KNeighborsClassifier(),\n",
        "    RandomForestClassifier(random_state=0)\n",
        "]"
      ],
      "metadata": {
        "id": "cNOWVflB1SzY"
      },
      "execution_count": null,
      "outputs": []
    },
    {
      "cell_type": "code",
      "source": [
        "# parameter grids for the various classifiers\n",
        "logregress_parameters = {\n",
        "    'classifier__penalty' : ['l1','l2'],\n",
        "    'classifier__C'       : np.logspace(-3,3,7),\n",
        "    'classifier__solver'  : ['newton-cg', 'lbfgs', 'liblinear'],\n",
        "}\n",
        "knn_parameters = {\n",
        "    'classifier__n_neighbors': np.arange(1, 25, 2)\n",
        "}\n",
        "randomforest_parameters = {\n",
        "    'classifier__n_estimators': [50, 100, 200, 300]\n",
        "}\n"
      ],
      "metadata": {
        "id": "v4qlqYhG1VYd"
      },
      "execution_count": null,
      "outputs": []
    },
    {
      "cell_type": "code",
      "source": [
        "# stores all the parameters in a list\n",
        "parameters = [\n",
        "    logregress_parameters,\n",
        "    knn_parameters,\n",
        "    randomforest_parameters\n",
        "]"
      ],
      "metadata": {
        "id": "8Rm1vvqN1Xsc"
      },
      "execution_count": null,
      "outputs": []
    },
    {
      "cell_type": "code",
      "source": [
        "estimators = []"
      ],
      "metadata": {
        "id": "LNw3K4OM1Z6H"
      },
      "execution_count": null,
      "outputs": []
    },
    {
      "cell_type": "code",
      "source": [
        "# iterate through each classifier and use GridSearchCV\n",
        "for i, classifier in enumerate(classifiers):\n",
        "    # create a Pipeline object\n",
        "    pipe = Pipeline(steps=[\n",
        "        ('preprocessor', features_preprocessor),\n",
        "        ('classifier', classifier)\n",
        "    ])\n",
        "    clf = GridSearchCV(pipe,              # model\n",
        "              param_grid = parameters[i], # hyperparameters\n",
        "              scoring='accuracy',         # metric for scoring\n",
        "              cv=10)                      # number of folds\n",
        "    clf.fit(X, y)\n",
        "    print(\"Tuned Hyperparameters :\", clf.best_params_)\n",
        "    print(\"Accuracy :\", clf.best_score_)\n",
        "    # add the clf to the estimators list\n",
        "    estimators.append((classifier.__class__.__name__, clf))"
      ],
      "metadata": {
        "id": "pA53KX431cRb"
      },
      "execution_count": null,
      "outputs": []
    },
    {
      "cell_type": "code",
      "source": [
        "ensemble = VotingClassifier(estimators, voting='hard')"
      ],
      "metadata": {
        "id": "KyPeUFeX1lot"
      },
      "execution_count": null,
      "outputs": []
    },
    {
      "cell_type": "code",
      "source": [
        "#ensemble = VotingClassifier(estimators, voting='hard')  # default is\n",
        "                                                        # 'hard'\n"
      ],
      "metadata": {
        "id": "gG6UraTI1oD9"
      },
      "execution_count": null,
      "outputs": []
    },
    {
      "cell_type": "code",
      "source": [
        "#ensemble = VotingClassifier(estimators, voting='soft')\n"
      ],
      "metadata": {
        "id": "evPRhYN21qAg"
      },
      "execution_count": null,
      "outputs": []
    },
    {
      "cell_type": "code",
      "source": [
        "#ensemble = VotingClassifier(estimators,\n",
        "#                            voting='soft',\n",
        "#                            weights=[1,1,1])  # n-estimators"
      ],
      "metadata": {
        "id": "TndVAT8l1qBx"
      },
      "execution_count": null,
      "outputs": []
    },
    {
      "cell_type": "code",
      "source": [
        "ensemble.fit(X_train, y_train)"
      ],
      "metadata": {
        "id": "h7D8VMBk1vsR"
      },
      "execution_count": null,
      "outputs": []
    },
    {
      "cell_type": "code",
      "source": [
        "ensemble.score(X_test, y_test)"
      ],
      "metadata": {
        "id": "fbQs4prS1yCj"
      },
      "execution_count": null,
      "outputs": []
    },
    {
      "cell_type": "code",
      "source": [
        "# test data for 2 passengers\n",
        "test_data = {\n",
        "    'Pclass'   : [2,1],\n",
        "    'Sex'      : ['male','female'],\n",
        "    'Age'      : [35,15],\n",
        "    'Fare'     : [90,20],\n",
        "    'Embarked' : ['S','Q']\n",
        "}\n",
        "ensemble.predict(pd.DataFrame.from_dict(test_data))\n",
        "# array([0, 1])"
      ],
      "metadata": {
        "id": "MY33euhN1_yE"
      },
      "execution_count": null,
      "outputs": []
    },
    {
      "cell_type": "markdown",
      "source": [
        "**Assignment:**\n",
        "1. Try the other voting methods\n",
        "2. Select two passsengers from the test.csv file. Use the ensemble to predict their survival. Compare the prediction to the actual values in test.csv"
      ],
      "metadata": {
        "id": "AJr358EK4DBZ"
      }
    }
  ]
}