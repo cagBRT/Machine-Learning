{
  "nbformat": 4,
  "nbformat_minor": 0,
  "metadata": {
    "colab": {
      "name": "PCA3.ipynb",
      "provenance": [],
      "private_outputs": true,
      "authorship_tag": "ABX9TyNC0HEK+cO4T9Fk67412Al3",
      "include_colab_link": true
    },
    "kernelspec": {
      "name": "python3",
      "display_name": "Python 3"
    }
  },
  "cells": [
    {
      "cell_type": "markdown",
      "metadata": {
        "id": "view-in-github",
        "colab_type": "text"
      },
      "source": [
        "<a href=\"https://colab.research.google.com/github/cagBRT/Machine-Learning/blob/master/PCA3.ipynb\" target=\"_parent\"><img src=\"https://colab.research.google.com/assets/colab-badge.svg\" alt=\"Open In Colab\"/></a>"
      ]
    },
    {
      "cell_type": "markdown",
      "metadata": {
        "id": "dQA-lzez7wUZ",
        "colab_type": "text"
      },
      "source": [
        "In this notebook we look at high dimensional data: hand drawn digits.<br>\n",
        "The digits are images 8x8 pixels.<br>\n",
        "This means a supervised classification model will have 64 inputs.<br>\n",
        "Can we reduce the number of inputs to the model?"
      ]
    },
    {
      "cell_type": "code",
      "metadata": {
        "id": "avbXuWWJ53-a",
        "colab_type": "code",
        "colab": {}
      },
      "source": [
        "# Clone the entire repo.\n",
        "!git clone -l -s https://github.com/cagBRT/Machine-Learning.git cloned-repo\n",
        "%cd cloned-repo\n",
        "print(\"done\")"
      ],
      "execution_count": null,
      "outputs": []
    },
    {
      "cell_type": "code",
      "metadata": {
        "id": "iUuszzvpwNw-",
        "colab_type": "code",
        "colab": {}
      },
      "source": [
        "import numpy as np\n",
        "import matplotlib.pyplot as plt\n",
        "import seaborn as sns; sns.set()\n",
        "from sklearn.datasets import load_digits\n",
        "from sklearn.decomposition import PCA\n",
        "from sklearn.tree import DecisionTreeClassifier\n",
        "from sklearn.pipeline import Pipeline\n",
        "from sklearn.model_selection import RepeatedStratifiedKFold\n",
        "from sklearn.model_selection import cross_val_score\n",
        "from numpy import mean\n",
        "from numpy import std"
      ],
      "execution_count": null,
      "outputs": []
    },
    {
      "cell_type": "markdown",
      "metadata": {
        "id": "dj-v9p0V1M0q",
        "colab_type": "text"
      },
      "source": [
        "Load the data: hand drawn digits<br>\n",
        "\n",
        "The data consists of 8×8 pixel images, meaning that they are 64-dimensional (or features)<br>\n",
        "\n",
        "We can use PCA to project them to a more manageable number of dimensions, say two:"
      ]
    },
    {
      "cell_type": "code",
      "metadata": {
        "id": "DGy5x_K6vymV",
        "colab_type": "code",
        "colab": {}
      },
      "source": [
        "digits = load_digits()\n",
        "digits.data.shape"
      ],
      "execution_count": null,
      "outputs": []
    },
    {
      "cell_type": "code",
      "metadata": {
        "id": "N6opOuCbBmju",
        "colab_type": "code",
        "colab": {}
      },
      "source": [
        "X = digits.images.reshape((len(digits.images), -1))\n",
        "y = digits.target"
      ],
      "execution_count": null,
      "outputs": []
    },
    {
      "cell_type": "markdown",
      "metadata": {
        "id": "UUbg2JGpC_AT",
        "colab_type": "text"
      },
      "source": [
        "**Create a model to classifiy the digits** "
      ]
    },
    {
      "cell_type": "code",
      "metadata": {
        "id": "pbugBOeRCxwo",
        "colab_type": "code",
        "colab": {}
      },
      "source": [
        "model_orig = DecisionTreeClassifier()\n",
        "model_orig.fit(X, y)\n",
        "# evaluate model\n",
        "cv = RepeatedStratifiedKFold(n_splits=10, n_repeats=3, random_state=1)\n",
        "n_scores = cross_val_score(model_orig, X, y, scoring='accuracy', cv=cv, n_jobs=-1, error_score='raise')\n",
        "# report performance\n",
        "print('Accuracy: %.3f (%.3f)' % (mean(n_scores), std(n_scores)))"
      ],
      "execution_count": null,
      "outputs": []
    },
    {
      "cell_type": "markdown",
      "metadata": {
        "id": "i-JME-IS9kUI",
        "colab_type": "text"
      },
      "source": [
        "**For the ASSIGNMENT**\n",
        "Change the number of dimensions here"
      ]
    },
    {
      "cell_type": "code",
      "metadata": {
        "id": "cgAWXyTev2kM",
        "colab_type": "code",
        "colab": {}
      },
      "source": [
        "pca = PCA(2)  # project from 64 to 2 dimensions\n",
        "#fit the model to the data\n",
        "projected = pca.fit_transform(X)\n",
        "print(X.shape)\n",
        "print(projected.shape)\n"
      ],
      "execution_count": null,
      "outputs": []
    },
    {
      "cell_type": "markdown",
      "metadata": {
        "id": "1C09SAUZ4FFV",
        "colab_type": "text"
      },
      "source": [
        "We can now plot the first two principal components of each point to learn about the data. <br>\n",
        "There are 10 clusters, one for each digit between 0 - 9. <br>\n",
        "Using just two PCs, we get the following clusters. "
      ]
    },
    {
      "cell_type": "code",
      "metadata": {
        "id": "ed_Hra3DwHMI",
        "colab_type": "code",
        "colab": {}
      },
      "source": [
        "plt.scatter(projected[:, 0], projected[:, 1],\n",
        "            c=digits.target, edgecolor='none', alpha=0.5,\n",
        "            cmap=plt.cm.get_cmap('Spectral', 10))\n",
        "\n",
        "plt.xlabel('component 1')\n",
        "plt.ylabel('component 2')\n",
        "plt.colorbar();"
      ],
      "execution_count": null,
      "outputs": []
    },
    {
      "cell_type": "markdown",
      "metadata": {
        "id": "hBTF_wdQ42oy",
        "colab_type": "text"
      },
      "source": [
        "Each image in the training set is defined by a collection of 64 pixel values, which we will call the vector  𝑥 :\n",
        "\n",
        "𝑥=[𝑥1,𝑥2,𝑥3⋯𝑥64] \n",
        "\n",
        "One way we can think about this is in terms of a pixel basis. That is, to construct the image, we multiply each element of the vector by the pixel it describes, and then add the results together to build the image:\n",
        "\n",
        "image(𝑥)=𝑥1⋅(pixel 1)+𝑥2⋅(pixel 2)+𝑥3⋅(pixel 3)⋯𝑥64⋅(pixel 64)"
      ]
    },
    {
      "cell_type": "code",
      "metadata": {
        "id": "Fw3cz9x76PT8",
        "colab_type": "code",
        "colab": {}
      },
      "source": [
        "from IPython.display import Image\n",
        "Image(\"pixels.png\" , width=640)"
      ],
      "execution_count": null,
      "outputs": []
    },
    {
      "cell_type": "markdown",
      "metadata": {
        "id": "Os5UHHTy6r9V",
        "colab_type": "text"
      },
      "source": [
        "But the pixel-wise representation is not the only choice of basis. We can also use other basis functions, which each contain some pre-defined contribution from each pixel, and write something like\n",
        "\n",
        "$$\n",
        "image(x) = {\\rm mean} + x_1 \\cdot{\\rm (basis~1)} + x_2 \\cdot{\\rm (basis~2)} + x_3 \\cdot{\\rm (basis~3)} \\cdots\n",
        "$$\n",
        "\n",
        "PCA can be thought of as a process of choosing optimal basis functions, such that adding together just the first few of them is enough to suitably reconstruct the bulk of the elements in the dataset.\n",
        "The principal components, which act as the low-dimensional representation of our data, are simply the coefficients that multiply each of the elements in this series.\n",
        "This figure shows a similar depiction of reconstructing this digit using the mean plus the first eight PCA basis functions:"
      ]
    },
    {
      "cell_type": "code",
      "metadata": {
        "id": "ihFk2v0r68Xb",
        "colab_type": "code",
        "colab": {}
      },
      "source": [
        "Image(\"pca.png\" , width=640)"
      ],
      "execution_count": null,
      "outputs": []
    },
    {
      "cell_type": "code",
      "metadata": {
        "id": "g35H_83VymvX",
        "colab_type": "code",
        "colab": {}
      },
      "source": [
        "pca = PCA().fit(digits.data)\n",
        "plt.plot(np.cumsum(pca.explained_variance_ratio_))\n",
        "plt.xlabel('number of components')\n",
        "plt.ylabel('cumulative explained variance');"
      ],
      "execution_count": null,
      "outputs": []
    },
    {
      "cell_type": "markdown",
      "metadata": {
        "id": "vX53CakoCncH",
        "colab_type": "text"
      },
      "source": [
        "**Training the model on the principal components**"
      ]
    },
    {
      "cell_type": "code",
      "metadata": {
        "id": "DF9qqDHoA_Nt",
        "colab_type": "code",
        "colab": {}
      },
      "source": [
        "model = DecisionTreeClassifier()\n",
        "#List of (name, transform) tuples (implementing fit/transform) that are chained, \n",
        "#in the order in which they are chained, with the last object an estimator.\n",
        "pipeline = Pipeline(steps=[('p',pca),('m',model)])\n",
        "pipeline.fit(projected, y)\n",
        "# evaluate model\n",
        "cv = RepeatedStratifiedKFold(n_splits=10, n_repeats=3, random_state=1)\n",
        "n_scores = cross_val_score(pipeline, projected, y, scoring='accuracy', cv=cv, n_jobs=-1, error_score='raise')\n",
        "# report performance\n",
        "print('Accuracy: %.3f (%.3f)' % (mean(n_scores), std(n_scores)))"
      ],
      "execution_count": null,
      "outputs": []
    },
    {
      "cell_type": "markdown",
      "metadata": {
        "id": "jIAGYmQh-ST3",
        "colab_type": "text"
      },
      "source": [
        "# **Assignment**\n",
        "The first model, model_orig was trained using all 64 pixels. It had an 85% accuracy score. <br>\n",
        "\n",
        "The second model, model, was trained using the first two principal components. It had an accuracy of 58%\n",
        "\n",
        "Your assignment: Modify the code for PCA from 2 inputs to more inputs. Try to increase the accuracy of the model using different PCs. "
      ]
    }
  ]
}