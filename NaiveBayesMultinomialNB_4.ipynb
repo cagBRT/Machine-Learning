{
  "nbformat": 4,
  "nbformat_minor": 0,
  "metadata": {
    "colab": {
      "name": "NaiveBayesMultinomialNB.ipynb",
      "private_outputs": true,
      "provenance": [],
      "authorship_tag": "ABX9TyO4PAJbSuLuQY4Eh+496kOL",
      "include_colab_link": true
    },
    "kernelspec": {
      "name": "python3",
      "display_name": "Python 3"
    }
  },
  "cells": [
    {
      "cell_type": "markdown",
      "metadata": {
        "id": "view-in-github",
        "colab_type": "text"
      },
      "source": [
        "<a href=\"https://colab.research.google.com/github/cagBRT/Machine-Learning/blob/master/NaiveBayesMultinomialNB.ipynb\" target=\"_parent\"><img src=\"https://colab.research.google.com/assets/colab-badge.svg\" alt=\"Open In Colab\"/></a>"
      ]
    },
    {
      "cell_type": "markdown",
      "metadata": {
        "id": "ZFojCMRhzU15"
      },
      "source": [
        "In Multinomial Naïve Bayes the features are assumed to be drawn from a simple Multinomial distribution. Such kind of Naïve Bayes are most appropriate for the features that represents discrete counts."
      ]
    },
    {
      "cell_type": "markdown",
      "metadata": {
        "id": "oLB60cidz9-U"
      },
      "source": [
        "Naïve Bayes, which is computationally very efficient and easy to implement, is a learning algorithm frequently used in text classification problems."
      ]
    },
    {
      "cell_type": "code",
      "metadata": {
        "id": "3w5SA8EuCoQ_"
      },
      "source": [
        "from sklearn.feature_extraction import DictVectorizer\n",
        "import numpy as np\n",
        "from sklearn.naive_bayes import MultinomialNB\n",
        "from IPython.display import Image\n",
        "import matplotlib.pyplot as plt"
      ],
      "execution_count": null,
      "outputs": []
    },
    {
      "cell_type": "markdown",
      "metadata": {
        "id": "gjiv9XNIZ91e"
      },
      "source": [
        "Create text data<br>\n",
        "Transform the data into vectors<br>"
      ]
    },
    {
      "cell_type": "code",
      "metadata": {
        "id": "ImE__1MgCovU"
      },
      "source": [
        "data = [\n",
        "{'house': 100, 'street': 50, 'shop': 25, 'car': 100, 'tree': 20},\n",
        "\n",
        "{'house': 5, 'street': 5, 'shop': 0, 'car': 10, 'tree': 500, 'river': 1}\n",
        "] \n",
        "dv = DictVectorizer(sparse=False)\n",
        "X = dv.fit_transform(data)\n",
        "Y = np.array([1, 0])\n",
        "print(X)\n",
        "#car house river shop street tree"
      ],
      "execution_count": null,
      "outputs": []
    },
    {
      "cell_type": "markdown",
      "metadata": {
        "id": "wE331bsnce1p"
      },
      "source": [
        "The output classes are:<br>\n",
        " >1 for city <br>\n",
        "  0 for the countryside."
      ]
    },
    {
      "cell_type": "code",
      "metadata": {
        "id": "lCzOkprOfZg6"
      },
      "source": [
        "print(Y)"
      ],
      "execution_count": null,
      "outputs": []
    },
    {
      "cell_type": "markdown",
      "metadata": {
        "id": "eGnR0XAcappZ"
      },
      "source": [
        "Create and train the model"
      ]
    },
    {
      "cell_type": "code",
      "metadata": {
        "id": "AKreeqoXDFJV"
      },
      "source": [
        "mnb = MultinomialNB()\n",
        "mnb.fit(X, Y)"
      ],
      "execution_count": null,
      "outputs": []
    },
    {
      "cell_type": "code",
      "metadata": {
        "id": "_F0NfbfyDNCJ"
      },
      "source": [
        "test_data = data = [\n",
        "{'house': 80, 'street': 20, 'shop': 15, 'car': 70, 'tree': 10, 'river': 1}]"
      ],
      "execution_count": null,
      "outputs": []
    },
    {
      "cell_type": "code",
      "metadata": {
        "id": "7cu6R3L0C9BY"
      },
      "source": [
        "mnb.predict(dv.fit_transform(test_data))"
      ],
      "execution_count": null,
      "outputs": []
    }
  ]
}
