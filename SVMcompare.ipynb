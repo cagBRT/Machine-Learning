{
  "nbformat": 4,
  "nbformat_minor": 0,
  "metadata": {
    "colab": {
      "name": "SVMcompare.ipynb",
      "provenance": [],
      "include_colab_link": true
    },
    "kernelspec": {
      "name": "python3",
      "display_name": "Python 3"
    }
  },
  "cells": [
    {
      "cell_type": "markdown",
      "metadata": {
        "id": "view-in-github",
        "colab_type": "text"
      },
      "source": [
        "<a href=\"https://colab.research.google.com/github/cagBRT/Machine-Learning/blob/master/SVMcompare.ipynb\" target=\"_parent\"><img src=\"https://colab.research.google.com/assets/colab-badge.svg\" alt=\"Open In Colab\"/></a>"
      ]
    },
    {
      "cell_type": "markdown",
      "metadata": {
        "id": "qeN4Wsv36KXs"
      },
      "source": [
        "Create synthetic data and compare different algorithms\n"
      ]
    },
    {
      "cell_type": "markdown",
      "metadata": {
        "id": "FGUPemcV59pb"
      },
      "source": [
        "**Import Libraries**"
      ]
    },
    {
      "cell_type": "code",
      "metadata": {
        "id": "46yRPCbetYBl"
      },
      "source": [
        "import numpy as np\n",
        "import pylab as pl\n",
        "import pandas as pd\n",
        "\n",
        "from sklearn import svm\n",
        "from sklearn import linear_model\n",
        "from sklearn import tree\n",
        "\n",
        "from sklearn.metrics import confusion_matrix"
      ],
      "execution_count": 11,
      "outputs": []
    },
    {
      "cell_type": "markdown",
      "metadata": {
        "id": "XOrtchjp3mYv"
      },
      "source": [
        "**Create the data**"
      ]
    },
    {
      "cell_type": "code",
      "metadata": {
        "id": "lqgSaKVW3ou6",
        "colab": {
          "base_uri": "https://localhost:8080/"
        },
        "outputId": "b417fd66-ee79-4ac7-aedf-bc1f4d863be3"
      },
      "source": [
        "x_min, x_max = 0, 15\n",
        "y_min, y_max = 0, 10\n",
        "step = .1\n",
        "\n",
        "# to plot the boundary, we're going to create a matrix of every possible point\n",
        "xx, yy = np.meshgrid(np.arange(x_min, x_max, step), np.arange(y_min, y_max, step))\n",
        "\n",
        "df = pd.DataFrame(data={'x': xx.ravel(), 'y': yy.ravel()})\n",
        "\n",
        "#Select different equations or create your own\n",
        "df['color_gauge'] = (df.x-7.5)**2 + (df.y-5)**2\n",
        "#df['color_gauge'] = (df.x-7.5)**3 + (df.y-5)**2\n",
        "#df['color_gauge'] = (df.x-7.5)**2 + (df.y-5)**3\n",
        "#df['color_gauge'] = 5*(df.x-7.5) + (df.y-5)\n",
        "#df['color_gauge'] = (df.x-7.5) - 3*(df.y-5)\n",
        "\n",
        "\n",
        "df['color'] = df.color_gauge.apply(lambda x: \"red\" if x <= 15 else \"green\")\n",
        "df['color_as_int'] = df.color.apply(lambda x: 0 if x==\"red\" else 1)\n",
        "\n",
        "print (\"Points on flag:\")\n",
        "print (df.groupby('color').size())\n",
        "print ()"
      ],
      "execution_count": 12,
      "outputs": [
        {
          "output_type": "stream",
          "name": "stdout",
          "text": [
            "Points on flag:\n",
            "color\n",
            "green    10291\n",
            "red       4709\n",
            "dtype: int64\n",
            "\n"
          ]
        }
      ]
    },
    {
      "cell_type": "code",
      "metadata": {
        "id": "qN-3BhQj3ygO",
        "colab": {
          "base_uri": "https://localhost:8080/",
          "height": 281
        },
        "outputId": "1d790c5d-5275-4340-f359-259b8616cd6f"
      },
      "source": [
        "figure = 1\n",
        "\n",
        "# plot a figure for the entire dataset\n",
        "for color in df.color.unique():\n",
        "    idx = df.color==color\n",
        "    pl.scatter(df[idx].x, df[idx].y, color=color)\n",
        "    pl.title('Actual')"
      ],
      "execution_count": 13,
      "outputs": [
        {
          "output_type": "display_data",
          "data": {
            "text/plain": [
              "<Figure size 432x288 with 1 Axes>"
            ],
            "image/png": "[encoded data removed]"
          },
          "metadata": {
            "needs_background": "light"
          }
        }
      ]
    },
    {
      "cell_type": "markdown",
      "metadata": {
        "id": "hLecVDLg66Dk"
      },
      "source": [
        "Split in test and training sets"
      ]
    },
    {
      "cell_type": "code",
      "metadata": {
        "id": "BIxHeqCg36oR",
        "colab": {
          "base_uri": "https://localhost:8080/"
        },
        "outputId": "0ea9c1e1-4534-430d-dd93-66ad7c777db5"
      },
      "source": [
        "train_idx = df.x < 10\n",
        "\n",
        "train = df[train_idx]\n",
        "test = df[-train_idx]\n",
        "\n",
        "print (\"Training Set Size: %d\" % len(train))\n",
        "print (\"Test Set Size: %d\" % len(test))\n",
        "\n",
        "# train using the x and y position coordiantes\n",
        "cols = [\"x\", \"y\"]"
      ],
      "execution_count": 14,
      "outputs": [
        {
          "output_type": "stream",
          "name": "stdout",
          "text": [
            "Training Set Size: 10000\n",
            "Test Set Size: 5000\n"
          ]
        }
      ]
    },
    {
      "cell_type": "markdown",
      "metadata": {
        "id": "ID6RoL0E68eO"
      },
      "source": [
        "Train the Logicistic Regression Model"
      ]
    },
    {
      "cell_type": "code",
      "metadata": {
        "id": "1lgYRanl4Bae",
        "colab": {
          "base_uri": "https://localhost:8080/"
        },
        "outputId": "47df003a-b068-43e0-a408-18e635216a55"
      },
      "source": [
        "clf = linear_model.LogisticRegression()\n",
        "clf_name = \"Logistic Regression\"\n",
        "\n",
        "# train the classifier\n",
        "clf.fit(train[cols], train.color_as_int)\n",
        "\n",
        "# get the predicted values from the test set\n",
        "test['predicted_color_as_int'] = clf.predict(test[cols])\n",
        "test['pred_color'] = test.predicted_color_as_int.apply(lambda x: \"red\" if x==0 else \"green\")"
      ],
      "execution_count": 15,
      "outputs": [
        {
          "output_type": "stream",
          "name": "stderr",
          "text": [
            "<ipython-input-15-4ee40d113c69>:8: SettingWithCopyWarning: \n",
            "A value is trying to be set on a copy of a slice from a DataFrame.\n",
            "Try using .loc[row_indexer,col_indexer] = value instead\n",
            "\n",
            "See the caveats in the documentation: https://pandas.pydata.org/pandas-docs/stable/user_guide/indexing.html#returning-a-view-versus-a-copy\n",
            "  test['predicted_color_as_int'] = clf.predict(test[cols])\n",
            "<ipython-input-15-4ee40d113c69>:9: SettingWithCopyWarning: \n",
            "A value is trying to be set on a copy of a slice from a DataFrame.\n",
            "Try using .loc[row_indexer,col_indexer] = value instead\n",
            "\n",
            "See the caveats in the documentation: https://pandas.pydata.org/pandas-docs/stable/user_guide/indexing.html#returning-a-view-versus-a-copy\n",
            "  test['pred_color'] = test.predicted_color_as_int.apply(lambda x: \"red\" if x==0 else \"green\")\n"
          ]
        }
      ]
    },
    {
      "cell_type": "code",
      "metadata": {
        "id": "RGEHZfsn6Vco",
        "colab": {
          "base_uri": "https://localhost:8080/",
          "height": 426
        },
        "outputId": "95740026-4d24-47e9-ef1f-a4da57d309b6"
      },
      "source": [
        "# plot each predicted color\n",
        "for color in test.pred_color.unique():\n",
        "  # plot only rows where pred_color is equal to color\n",
        "  idx = test.pred_color==color\n",
        "  pl.scatter(test[idx].x, test[idx].y, color=color)\n",
        "\n",
        "# plot the training set as well\n",
        "for color in train.color.unique():\n",
        "  idx = train.color==color\n",
        "  pl.scatter(train[idx].x, train[idx].y, color=color)\n",
        "\n",
        "# add a dotted line to show the boundary between the training and test set\n",
        "# (everything to the right of the line is in the test set)\n",
        "#this plots a vertical line\n",
        "train_line_y = np.linspace(y_min, y_max) #evenly spaced array from 0 to 10\n",
        "train_line_x = np.repeat(10, len(train_line_y)) #repeat 10 (threshold for traininset) n times\n",
        "# add a black, dotted line to the subplot\n",
        "pl.plot(train_line_x, train_line_y, 'k--', color=\"black\")\n",
        "\n",
        "pl.title(clf_name)\n",
        "print(\"\\n\")\n",
        "print (\"Confusion Matrix for %s:\" % clf_name)\n",
        "print (confusion_matrix(test.color, test.pred_color))\n",
        "pl.show()"
      ],
      "execution_count": 16,
      "outputs": [
        {
          "output_type": "stream",
          "name": "stdout",
          "text": [
            "\n",
            "\n",
            "Confusion Matrix for Logistic Regression:\n",
            "[[   0 4408]\n",
            " [   0  592]]\n"
          ]
        },
        {
          "output_type": "stream",
          "name": "stderr",
          "text": [
            "<ipython-input-16-013d1ca30bb5>:18: UserWarning: color is redundantly defined by the 'color' keyword argument and the fmt string \"k--\" (-> color='k'). The keyword argument will take precedence.\n",
            "  pl.plot(train_line_x, train_line_y, 'k--', color=\"black\")\n"
          ]
        },
        {
          "output_type": "display_data",
          "data": {
            "text/plain": [
              "<Figure size 432x288 with 1 Axes>"
            ],
            "image/png": "[encoded data removed]"
          },
          "metadata": {
            "needs_background": "light"
          }
        }
      ]
    },
    {
      "cell_type": "markdown",
      "metadata": {
        "id": "7JXTMo6N7CE7"
      },
      "source": [
        "Train the Decision Tree Classifier"
      ]
    },
    {
      "cell_type": "code",
      "metadata": {
        "id": "RiqOovNz5cea",
        "colab": {
          "base_uri": "https://localhost:8080/"
        },
        "outputId": "81d14c0a-ac88-4fff-f5df-6b0fbad82c2d"
      },
      "source": [
        "clf = tree.DecisionTreeClassifier()\n",
        "clf_name = \"Decision Tree\"\n",
        "\n",
        "\n",
        "# train the classifier\n",
        "clf.fit(train[cols], train.color_as_int)\n",
        "\n",
        "# get the predicted values from the test set\n",
        "test['predicted_color_as_int'] = clf.predict(test[cols])\n",
        "test['pred_color'] = test.predicted_color_as_int.apply(lambda x: \"red\" if x==0 else \"green\")\n",
        "\n"
      ],
      "execution_count": 17,
      "outputs": [
        {
          "output_type": "stream",
          "name": "stderr",
          "text": [
            "<ipython-input-17-e0a803bd16dc>:9: SettingWithCopyWarning: \n",
            "A value is trying to be set on a copy of a slice from a DataFrame.\n",
            "Try using .loc[row_indexer,col_indexer] = value instead\n",
            "\n",
            "See the caveats in the documentation: https://pandas.pydata.org/pandas-docs/stable/user_guide/indexing.html#returning-a-view-versus-a-copy\n",
            "  test['predicted_color_as_int'] = clf.predict(test[cols])\n",
            "<ipython-input-17-e0a803bd16dc>:10: SettingWithCopyWarning: \n",
            "A value is trying to be set on a copy of a slice from a DataFrame.\n",
            "Try using .loc[row_indexer,col_indexer] = value instead\n",
            "\n",
            "See the caveats in the documentation: https://pandas.pydata.org/pandas-docs/stable/user_guide/indexing.html#returning-a-view-versus-a-copy\n",
            "  test['pred_color'] = test.predicted_color_as_int.apply(lambda x: \"red\" if x==0 else \"green\")\n"
          ]
        }
      ]
    },
    {
      "cell_type": "code",
      "metadata": {
        "id": "FjLgdaNu6huS",
        "colab": {
          "base_uri": "https://localhost:8080/",
          "height": 426
        },
        "outputId": "0979de6e-7164-4127-df45-2eb6b7e564be"
      },
      "source": [
        "# plot each predicted color\n",
        "for color in test.pred_color.unique():\n",
        "  # plot only rows where pred_color is equal to color\n",
        "  idx = test.pred_color==color\n",
        "  pl.scatter(test[idx].x, test[idx].y, color=color)\n",
        "\n",
        "# plot the training set as well\n",
        "for color in train.color.unique():\n",
        "  idx = train.color==color\n",
        "  pl.scatter(train[idx].x, train[idx].y, color=color)\n",
        "\n",
        "# add a dotted line to show the boundary between the training and test set\n",
        "# (everything to the right of the line is in the test set)\n",
        "#this plots a vertical line\n",
        "train_line_y = np.linspace(y_min, y_max) #evenly spaced array from 0 to 10\n",
        "train_line_x = np.repeat(10, len(train_line_y)) #repeat 10 (threshold for traininset) n times\n",
        "# add a black, dotted line to the subplot\n",
        "pl.plot(train_line_x, train_line_y, 'k--', color=\"black\")\n",
        "\n",
        "pl.title(clf_name)\n",
        "print(\"\\n\")\n",
        "print (\"Confusion Matrix for %s:\" % clf_name)\n",
        "print (confusion_matrix(test.color, test.pred_color))\n",
        "pl.show()"
      ],
      "execution_count": 18,
      "outputs": [
        {
          "output_type": "stream",
          "name": "stderr",
          "text": [
            "<ipython-input-18-013d1ca30bb5>:18: UserWarning: color is redundantly defined by the 'color' keyword argument and the fmt string \"k--\" (-> color='k'). The keyword argument will take precedence.\n",
            "  pl.plot(train_line_x, train_line_y, 'k--', color=\"black\")\n"
          ]
        },
        {
          "output_type": "stream",
          "name": "stdout",
          "text": [
            "\n",
            "\n",
            "Confusion Matrix for Decision Tree:\n",
            "[[1950 2458]\n",
            " [   0  592]]\n"
          ]
        },
        {
          "output_type": "display_data",
          "data": {
            "text/plain": [
              "<Figure size 432x288 with 1 Axes>"
            ],
            "image/png": "[encoded data removed]"
          },
          "metadata": {
            "needs_background": "light"
          }
        }
      ]
    },
    {
      "cell_type": "markdown",
      "metadata": {
        "id": "Fc0rr3Aa7GdG"
      },
      "source": [
        "Train the SVM Model"
      ]
    },
    {
      "cell_type": "code",
      "metadata": {
        "id": "USJJECFn5vMq",
        "colab": {
          "base_uri": "https://localhost:8080/"
        },
        "outputId": "99db3fcb-8413-4cbf-dcca-46847d2dba02"
      },
      "source": [
        "clf = svm.SVC(degree=0)\n",
        "clf_name = \"SVM\"\n",
        "\n",
        "\n",
        "# train the classifier\n",
        "clf.fit(train[cols], train.color_as_int)\n",
        "\n",
        "# get the predicted values from the test set\n",
        "test['predicted_color_as_int'] = clf.predict(test[cols])\n",
        "test['pred_color'] = test.predicted_color_as_int.apply(lambda x: \"red\" if x==0 else \"green\")"
      ],
      "execution_count": 20,
      "outputs": [
        {
          "output_type": "stream",
          "name": "stderr",
          "text": [
            "<ipython-input-20-b98d5b1c93f1>:9: SettingWithCopyWarning: \n",
            "A value is trying to be set on a copy of a slice from a DataFrame.\n",
            "Try using .loc[row_indexer,col_indexer] = value instead\n",
            "\n",
            "See the caveats in the documentation: https://pandas.pydata.org/pandas-docs/stable/user_guide/indexing.html#returning-a-view-versus-a-copy\n",
            "  test['predicted_color_as_int'] = clf.predict(test[cols])\n",
            "<ipython-input-20-b98d5b1c93f1>:10: SettingWithCopyWarning: \n",
            "A value is trying to be set on a copy of a slice from a DataFrame.\n",
            "Try using .loc[row_indexer,col_indexer] = value instead\n",
            "\n",
            "See the caveats in the documentation: https://pandas.pydata.org/pandas-docs/stable/user_guide/indexing.html#returning-a-view-versus-a-copy\n",
            "  test['pred_color'] = test.predicted_color_as_int.apply(lambda x: \"red\" if x==0 else \"green\")\n"
          ]
        }
      ]
    },
    {
      "cell_type": "code",
      "metadata": {
        "id": "rv9WwhAE6pqY"
      },
      "source": [
        "# plot each predicted color\n",
        "for color in test.pred_color.unique():\n",
        "  # plot only rows where pred_color is equal to color\n",
        "  idx = test.pred_color==color\n",
        "  pl.scatter(test[idx].x, test[idx].y, color=color)\n",
        "\n",
        "# plot the training set as well\n",
        "for color in train.color.unique():\n",
        "  idx = train.color==color\n",
        "  pl.scatter(train[idx].x, train[idx].y, color=color)\n",
        "\n",
        "# add a dotted line to show the boundary between the training and test set\n",
        "# (everything to the right of the line is in the test set)\n",
        "#this plots a vertical line\n",
        "train_line_y = np.linspace(y_min, y_max) #evenly spaced array from 0 to 10\n",
        "train_line_x = np.repeat(10, len(train_line_y)) #repeat 10 (threshold for traininset) n times\n",
        "# add a black, dotted line to the subplot\n",
        "pl.plot(train_line_x, train_line_y, 'k--', color=\"black\")\n",
        "\n",
        "pl.title(clf_name)\n",
        "print(\"\\n\")\n",
        "print (\"Confusion Matrix for %s:\" % clf_name)\n",
        "print (confusion_matrix(test.color, test.pred_color))\n",
        "pl.show()"
      ],
      "execution_count": null,
      "outputs": []
    },
    {
      "cell_type": "markdown",
      "metadata": {
        "id": "BxE6jAxtE8BR"
      },
      "source": [
        "**Assignment**<br>\n",
        "Try different datasets. <br>\n",
        "Go to the 'Create the Data' code block, you will see a number of lines commented out. Select one of these equations, or create your own. <br>\n",
        "Which algorithms are best for each of the datasets? "
      ]
    }
  ]
}