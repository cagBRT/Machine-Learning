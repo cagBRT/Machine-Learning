{
  "nbformat": 4,
  "nbformat_minor": 0,
  "metadata": {
    "colab": {
      "private_outputs": true,
      "provenance": [],
      "authorship_tag": "ABX9TyMcWZXo2igCaFdxLdZ+0zbL",
      "include_colab_link": true
    },
    "kernelspec": {
      "name": "python3",
      "display_name": "Python 3"
    },
    "language_info": {
      "name": "python"
    }
  },
  "cells": [
    {
      "cell_type": "markdown",
      "metadata": {
        "id": "view-in-github",
        "colab_type": "text"
      },
      "source": [
        "<a href=\"https://colab.research.google.com/github/cagBRT/Machine-Learning/blob/master/Polynomial_Regression.ipynb\" target=\"_parent\"><img src=\"https://colab.research.google.com/assets/colab-badge.svg\" alt=\"Open In Colab\"/></a>"
      ]
    },
    {
      "cell_type": "code",
      "execution_count": null,
      "metadata": {
        "id": "JEg3rSabH8LN"
      },
      "outputs": [],
      "source": [
        "import pandas as pd\n",
        "import numpy as np\n",
        "from sklearn.preprocessing import PolynomialFeatures\n",
        "from sklearn.linear_model import LinearRegression\n",
        "import matplotlib.pyplot as plt"
      ]
    },
    {
      "cell_type": "markdown",
      "source": [
        "## Create the dataset"
      ],
      "metadata": {
        "id": "hT18BG2VL955"
      }
    },
    {
      "cell_type": "code",
      "source": [
        "# Creating Empty DataFrame and Storing it in variable df\n",
        "df = pd.DataFrame()\n",
        "\n",
        "# initialize list of lists\n",
        "data = [[1, 50], [2, 55], [3, 65],[4, 80], [5, 95], [6, 100],[7, 225], [8, 340], [9, 360],\n",
        "        [10,365], [11, 385], [12, 405]]\n",
        "\n",
        "# Create the pandas DataFrame\n",
        "df = pd.DataFrame(data, columns=['Years', 'Salary'])\n",
        "\n",
        "# print dataframe.\n",
        "print(df)"
      ],
      "metadata": {
        "id": "S5u7yLz0IEb9"
      },
      "execution_count": null,
      "outputs": []
    },
    {
      "cell_type": "code",
      "source": [
        "X = df.iloc[:, 1:2].values\n",
        "X"
      ],
      "metadata": {
        "id": "gShIHZjrISfy"
      },
      "execution_count": null,
      "outputs": []
    },
    {
      "cell_type": "code",
      "source": [
        "y= df.iloc[:, :1].values\n",
        "y"
      ],
      "metadata": {
        "id": "K7bZ8p4kJE_Y"
      },
      "execution_count": null,
      "outputs": []
    },
    {
      "cell_type": "markdown",
      "source": [
        "## Plot the dataset"
      ],
      "metadata": {
        "id": "6fRu6ilRMCBf"
      }
    },
    {
      "cell_type": "code",
      "source": [
        "plt.scatter(X, y, color='blue')\n",
        "\n",
        "plt.title('The dataset')\n",
        "plt.xlabel('Salary')\n",
        "plt.ylabel('Years')\n",
        "\n",
        "plt.show()"
      ],
      "metadata": {
        "id": "ncw1_6BVKTNo"
      },
      "execution_count": null,
      "outputs": []
    },
    {
      "cell_type": "markdown",
      "source": [
        "## Create and train a linear regression model"
      ],
      "metadata": {
        "id": "p_PuIpFRMFNb"
      }
    },
    {
      "cell_type": "code",
      "source": [
        "lin = LinearRegression()\n",
        "\n",
        "lin.fit(X, y)"
      ],
      "metadata": {
        "id": "TMz3Msq_JWZF"
      },
      "execution_count": null,
      "outputs": []
    },
    {
      "cell_type": "code",
      "source": [
        "plt.scatter(X, y, color='blue')\n",
        "\n",
        "plt.plot(X, lin.predict(X), color='red')\n",
        "plt.title('Linear Regression')\n",
        "plt.xlabel('Salary')\n",
        "plt.ylabel('Years')\n",
        "\n",
        "plt.show()"
      ],
      "metadata": {
        "id": "6nTvWq3iK3Pm"
      },
      "execution_count": null,
      "outputs": []
    },
    {
      "cell_type": "markdown",
      "source": [
        "## Create and train a polynomial regression model"
      ],
      "metadata": {
        "id": "62MEMuNBMLCY"
      }
    },
    {
      "cell_type": "code",
      "source": [
        "number_poly_degrees=3"
      ],
      "metadata": {
        "id": "aNF0GtUBLwew"
      },
      "execution_count": null,
      "outputs": []
    },
    {
      "cell_type": "code",
      "source": [
        "poly = PolynomialFeatures(degree=number_poly_degrees)\n",
        "X_poly = poly.fit_transform(X)\n",
        "\n",
        "poly.fit(X_poly, y)\n",
        "lin2 = LinearRegression()\n",
        "lin2.fit(X_poly, y)"
      ],
      "metadata": {
        "id": "2P_4hprWJZE7"
      },
      "execution_count": null,
      "outputs": []
    },
    {
      "cell_type": "code",
      "source": [
        "# Visualising the Linear Regression results\n",
        "plt.scatter(X, y, color='blue')\n",
        "\n",
        "plt.plot(X, lin2.predict(poly.fit_transform(X)),\n",
        "         color='red')\n",
        "plt.title('Polynomial Regression')\n",
        "plt.xlabel('Salary')\n",
        "plt.ylabel('Years')\n",
        "\n",
        "plt.show()"
      ],
      "metadata": {
        "id": "9SF1vDclJcrr"
      },
      "execution_count": null,
      "outputs": []
    }
  ]
}