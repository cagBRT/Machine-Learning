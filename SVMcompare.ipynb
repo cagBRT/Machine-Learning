{
  "nbformat": 4,
  "nbformat_minor": 0,
  "metadata": {
    "colab": {
      "name": "SVMcompare.ipynb",
      "provenance": [],
      "include_colab_link": true
    },
    "kernelspec": {
      "name": "python3",
      "display_name": "Python 3"
    }
  },
  "cells": [
    {
      "cell_type": "markdown",
      "metadata": {
        "id": "view-in-github",
        "colab_type": "text"
      },
      "source": [
        "<a href=\"https://colab.research.google.com/github/cagBRT/Machine-Learning/blob/master/SVMcompare.ipynb\" target=\"_parent\"><img src=\"https://colab.research.google.com/assets/colab-badge.svg\" alt=\"Open In Colab\"/></a>"
      ]
    },
    {
      "cell_type": "markdown",
      "metadata": {
        "id": "qeN4Wsv36KXs"
      },
      "source": [
        "Create synthetic data and compare different algorithms\n"
      ]
    },
    {
      "cell_type": "markdown",
      "metadata": {
        "id": "FGUPemcV59pb"
      },
      "source": [
        "**Import Libraries**"
      ]
    },
    {
      "cell_type": "code",
      "metadata": {
        "id": "46yRPCbetYBl"
      },
      "source": [
        "import numpy as np\n",
        "import pylab as pl\n",
        "import pandas as pd\n",
        "\n",
        "from sklearn import svm\n",
        "from sklearn import linear_model\n",
        "from sklearn import tree\n",
        "\n",
        "from sklearn.metrics import confusion_matrix"
      ],
      "execution_count": 7,
      "outputs": []
    },
    {
      "cell_type": "markdown",
      "metadata": {
        "id": "XOrtchjp3mYv"
      },
      "source": [
        "**Create the data**"
      ]
    },
    {
      "cell_type": "code",
      "metadata": {
        "id": "lqgSaKVW3ou6",
        "colab": {
          "base_uri": "https://localhost:8080/"
        },
        "outputId": "76089c8e-43ac-4de6-fb49-e7a031ffcaa9"
      },
      "source": [
        "x_min, x_max = 0, 15\n",
        "y_min, y_max = 0, 10\n",
        "step = .1\n",
        "\n",
        "# to plot the boundary, we're going to create a matrix of every possible point\n",
        "xx, yy = np.meshgrid(np.arange(x_min, x_max, step), np.arange(y_min, y_max, step))\n",
        "\n",
        "df = pd.DataFrame(data={'x': xx.ravel(), 'y': yy.ravel()})\n",
        "\n",
        "#Select different equations or create your own\n",
        "df['color_gauge'] = (df.x-7.5)**2 + (df.y-5)**2\n",
        "#df['color_gauge'] = (df.x-7.5)**3 + (df.y-5)**2\n",
        "#df['color_gauge'] = (df.x-7.5)**2 + (df.y-5)**3\n",
        "#df['color_gauge'] = 5*(df.x-7.5) + (df.y-5)\n",
        "#df['color_gauge'] = (df.x-7.5) - 3*(df.y-5)\n",
        "\n",
        "\n",
        "df['color'] = df.color_gauge.apply(lambda x: \"red\" if x <= 15 else \"green\")\n",
        "df['color_as_int'] = df.color.apply(lambda x: 0 if x==\"red\" else 1)\n",
        "\n",
        "print (\"Points on flag:\")\n",
        "print (df.groupby('color').size())\n",
        "print ()"
      ],
      "execution_count": 69,
      "outputs": [
        {
          "output_type": "stream",
          "text": [
            "Points on flag:\n",
            "color\n",
            "green      956\n",
            "red      14044\n",
            "dtype: int64\n",
            "\n"
          ],
          "name": "stdout"
        }
      ]
    },
    {
      "cell_type": "code",
      "metadata": {
        "id": "qN-3BhQj3ygO",
        "colab": {
          "base_uri": "https://localhost:8080/",
          "height": 281
        },
        "outputId": "de818c20-5c61-43e8-daa2-e4782d81b629"
      },
      "source": [
        "figure = 1\n",
        "\n",
        "# plot a figure for the entire dataset\n",
        "for color in df.color.unique():\n",
        "    idx = df.color==color\n",
        "    pl.scatter(df[idx].x, df[idx].y, color=color)\n",
        "    pl.title('Actual')"
      ],
      "execution_count": 70,
      "outputs": [
        {
          "output_type": "display_data",
          "data": {
            "image/png": "[encoded data removed]",
            "text/plain": [
              "<Figure size 432x288 with 1 Axes>"
            ]
          },
          "metadata": {
            "tags": [],
            "needs_background": "light"
          }
        }
      ]
    },
    {
      "cell_type": "markdown",
      "metadata": {
        "id": "hLecVDLg66Dk"
      },
      "source": [
        "Split in test and training sets"
      ]
    },
    {
      "cell_type": "code",
      "metadata": {
        "id": "BIxHeqCg36oR",
        "colab": {
          "base_uri": "https://localhost:8080/"
        },
        "outputId": "d2f0a927-d11e-418c-c8b8-048a1df5915a"
      },
      "source": [
        "train_idx = df.x < 10\n",
        "\n",
        "train = df[train_idx]\n",
        "test = df[-train_idx]\n",
        "\n",
        "print (\"Training Set Size: %d\" % len(train))\n",
        "print (\"Test Set Size: %d\" % len(test))\n",
        "\n",
        "# train using the x and y position coordiantes\n",
        "cols = [\"x\", \"y\"]"
      ],
      "execution_count": 71,
      "outputs": [
        {
          "output_type": "stream",
          "text": [
            "Training Set Size: 10000\n",
            "Test Set Size: 5000\n"
          ],
          "name": "stdout"
        }
      ]
    },
    {
      "cell_type": "markdown",
      "metadata": {
        "id": "ID6RoL0E68eO"
      },
      "source": [
        "Train the Logicistic Regression Model"
      ]
    },
    {
      "cell_type": "code",
      "metadata": {
        "id": "1lgYRanl4Bae",
        "colab": {
          "base_uri": "https://localhost:8080/"
        },
        "outputId": "e2e37f24-bc8a-4c09-afa9-07fb0f701993"
      },
      "source": [
        "clf = linear_model.LogisticRegression()\n",
        "clf_name = \"Logistic Regression\"\n",
        "\n",
        "# train the classifier\n",
        "clf.fit(train[cols], train.color_as_int)\n",
        "\n",
        "# get the predicted values from the test set\n",
        "test['predicted_color_as_int'] = clf.predict(test[cols])\n",
        "test['pred_color'] = test.predicted_color_as_int.apply(lambda x: \"red\" if x==0 else \"green\")"
      ],
      "execution_count": 72,
      "outputs": [
        {
          "output_type": "stream",
          "text": [
            "/usr/local/lib/python3.6/dist-packages/ipykernel_launcher.py:8: SettingWithCopyWarning: \n",
            "A value is trying to be set on a copy of a slice from a DataFrame.\n",
            "Try using .loc[row_indexer,col_indexer] = value instead\n",
            "\n",
            "See the caveats in the documentation: https://pandas.pydata.org/pandas-docs/stable/user_guide/indexing.html#returning-a-view-versus-a-copy\n",
            "  \n",
            "/usr/local/lib/python3.6/dist-packages/ipykernel_launcher.py:9: SettingWithCopyWarning: \n",
            "A value is trying to be set on a copy of a slice from a DataFrame.\n",
            "Try using .loc[row_indexer,col_indexer] = value instead\n",
            "\n",
            "See the caveats in the documentation: https://pandas.pydata.org/pandas-docs/stable/user_guide/indexing.html#returning-a-view-versus-a-copy\n",
            "  if __name__ == '__main__':\n"
          ],
          "name": "stderr"
        }
      ]
    },
    {
      "cell_type": "code",
      "metadata": {
        "id": "RGEHZfsn6Vco",
        "colab": {
          "base_uri": "https://localhost:8080/",
          "height": 370
        },
        "outputId": "7f5e3956-11fe-459f-a0a0-e50839030ac5"
      },
      "source": [
        "# plot each predicted color\n",
        "for color in test.pred_color.unique():\n",
        "  # plot only rows where pred_color is equal to color\n",
        "  idx = test.pred_color==color\n",
        "  pl.scatter(test[idx].x, test[idx].y, color=color)\n",
        "\n",
        "# plot the training set as well\n",
        "for color in train.color.unique():\n",
        "  idx = train.color==color\n",
        "  pl.scatter(train[idx].x, train[idx].y, color=color)\n",
        "\n",
        "# add a dotted line to show the boundary between the training and test set\n",
        "# (everything to the right of the line is in the test set)\n",
        "#this plots a vertical line\n",
        "train_line_y = np.linspace(y_min, y_max) #evenly spaced array from 0 to 10\n",
        "train_line_x = np.repeat(10, len(train_line_y)) #repeat 10 (threshold for traininset) n times\n",
        "# add a black, dotted line to the subplot\n",
        "pl.plot(train_line_x, train_line_y, 'k--', color=\"black\")\n",
        "\n",
        "pl.title(clf_name)\n",
        "print(\"\\n\")\n",
        "print (\"Confusion Matrix for %s:\" % clf_name)\n",
        "print (confusion_matrix(test.color, test.pred_color))\n",
        "pl.show()"
      ],
      "execution_count": 73,
      "outputs": [
        {
          "output_type": "stream",
          "text": [
            "\n",
            "\n",
            "Confusion Matrix for Logistic Regression:\n",
            "[[ 844    0]\n",
            " [ 104 4052]]\n"
          ],
          "name": "stdout"
        },
        {
          "output_type": "display_data",
          "data": {
            "image/png": "[encoded data removed]",
            "text/plain": [
              "<Figure size 432x288 with 1 Axes>"
            ]
          },
          "metadata": {
            "tags": [],
            "needs_background": "light"
          }
        }
      ]
    },
    {
      "cell_type": "markdown",
      "metadata": {
        "id": "7JXTMo6N7CE7"
      },
      "source": [
        "Train the Decision Tree Classifier"
      ]
    },
    {
      "cell_type": "code",
      "metadata": {
        "id": "RiqOovNz5cea",
        "colab": {
          "base_uri": "https://localhost:8080/"
        },
        "outputId": "c8efa1e5-3e03-4110-8ac7-6a6c8822e1f1"
      },
      "source": [
        "clf = tree.DecisionTreeClassifier()\n",
        "clf_name = \"Decision Tree\"\n",
        "\n",
        "\n",
        "# train the classifier\n",
        "clf.fit(train[cols], train.color_as_int)\n",
        "\n",
        "# get the predicted values from the test set\n",
        "test['predicted_color_as_int'] = clf.predict(test[cols])\n",
        "test['pred_color'] = test.predicted_color_as_int.apply(lambda x: \"red\" if x==0 else \"green\")\n",
        "\n"
      ],
      "execution_count": 74,
      "outputs": [
        {
          "output_type": "stream",
          "text": [
            "/usr/local/lib/python3.6/dist-packages/ipykernel_launcher.py:9: SettingWithCopyWarning: \n",
            "A value is trying to be set on a copy of a slice from a DataFrame.\n",
            "Try using .loc[row_indexer,col_indexer] = value instead\n",
            "\n",
            "See the caveats in the documentation: https://pandas.pydata.org/pandas-docs/stable/user_guide/indexing.html#returning-a-view-versus-a-copy\n",
            "  if __name__ == '__main__':\n",
            "/usr/local/lib/python3.6/dist-packages/ipykernel_launcher.py:10: SettingWithCopyWarning: \n",
            "A value is trying to be set on a copy of a slice from a DataFrame.\n",
            "Try using .loc[row_indexer,col_indexer] = value instead\n",
            "\n",
            "See the caveats in the documentation: https://pandas.pydata.org/pandas-docs/stable/user_guide/indexing.html#returning-a-view-versus-a-copy\n",
            "  # Remove the CWD from sys.path while we load stuff.\n"
          ],
          "name": "stderr"
        }
      ]
    },
    {
      "cell_type": "code",
      "metadata": {
        "id": "FjLgdaNu6huS",
        "colab": {
          "base_uri": "https://localhost:8080/",
          "height": 370
        },
        "outputId": "896a366c-fa10-4ffb-9a27-0f62afcc20eb"
      },
      "source": [
        "# plot each predicted color\n",
        "for color in test.pred_color.unique():\n",
        "  # plot only rows where pred_color is equal to color\n",
        "  idx = test.pred_color==color\n",
        "  pl.scatter(test[idx].x, test[idx].y, color=color)\n",
        "\n",
        "# plot the training set as well\n",
        "for color in train.color.unique():\n",
        "  idx = train.color==color\n",
        "  pl.scatter(train[idx].x, train[idx].y, color=color)\n",
        "\n",
        "# add a dotted line to show the boundary between the training and test set\n",
        "# (everything to the right of the line is in the test set)\n",
        "#this plots a vertical line\n",
        "train_line_y = np.linspace(y_min, y_max) #evenly spaced array from 0 to 10\n",
        "train_line_x = np.repeat(10, len(train_line_y)) #repeat 10 (threshold for traininset) n times\n",
        "# add a black, dotted line to the subplot\n",
        "pl.plot(train_line_x, train_line_y, 'k--', color=\"black\")\n",
        "\n",
        "pl.title(clf_name)\n",
        "print(\"\\n\")\n",
        "print (\"Confusion Matrix for %s:\" % clf_name)\n",
        "print (confusion_matrix(test.color, test.pred_color))\n",
        "pl.show()"
      ],
      "execution_count": 75,
      "outputs": [
        {
          "output_type": "stream",
          "text": [
            "\n",
            "\n",
            "Confusion Matrix for Decision Tree:\n",
            "[[ 450  394]\n",
            " [   0 4156]]\n"
          ],
          "name": "stdout"
        },
        {
          "output_type": "display_data",
          "data": {
            "image/png": "[encoded data removed]",
            "text/plain": [
              "<Figure size 432x288 with 1 Axes>"
            ]
          },
          "metadata": {
            "tags": [],
            "needs_background": "light"
          }
        }
      ]
    },
    {
      "cell_type": "markdown",
      "metadata": {
        "id": "Fc0rr3Aa7GdG"
      },
      "source": [
        "Train the SVM Model"
      ]
    },
    {
      "cell_type": "code",
      "metadata": {
        "id": "USJJECFn5vMq",
        "colab": {
          "base_uri": "https://localhost:8080/"
        },
        "outputId": "0fdc41fc-0507-48f4-d1f4-62a32ddbaa09"
      },
      "source": [
        "clf = svm.SVC(degree=0.5)\n",
        "clf_name = \"SVM\"\n",
        "\n",
        "\n",
        "# train the classifier\n",
        "clf.fit(train[cols], train.color_as_int)\n",
        "\n",
        "# get the predicted values from the test set\n",
        "test['predicted_color_as_int'] = clf.predict(test[cols])\n",
        "test['pred_color'] = test.predicted_color_as_int.apply(lambda x: \"red\" if x==0 else \"green\")"
      ],
      "execution_count": 76,
      "outputs": [
        {
          "output_type": "stream",
          "text": [
            "/usr/local/lib/python3.6/dist-packages/ipykernel_launcher.py:9: SettingWithCopyWarning: \n",
            "A value is trying to be set on a copy of a slice from a DataFrame.\n",
            "Try using .loc[row_indexer,col_indexer] = value instead\n",
            "\n",
            "See the caveats in the documentation: https://pandas.pydata.org/pandas-docs/stable/user_guide/indexing.html#returning-a-view-versus-a-copy\n",
            "  if __name__ == '__main__':\n",
            "/usr/local/lib/python3.6/dist-packages/ipykernel_launcher.py:10: SettingWithCopyWarning: \n",
            "A value is trying to be set on a copy of a slice from a DataFrame.\n",
            "Try using .loc[row_indexer,col_indexer] = value instead\n",
            "\n",
            "See the caveats in the documentation: https://pandas.pydata.org/pandas-docs/stable/user_guide/indexing.html#returning-a-view-versus-a-copy\n",
            "  # Remove the CWD from sys.path while we load stuff.\n"
          ],
          "name": "stderr"
        }
      ]
    },
    {
      "cell_type": "code",
      "metadata": {
        "id": "rv9WwhAE6pqY",
        "colab": {
          "base_uri": "https://localhost:8080/",
          "height": 370
        },
        "outputId": "9044ed0f-bb31-42cb-cedd-9933ba0297ad"
      },
      "source": [
        "# plot each predicted color\n",
        "for color in test.pred_color.unique():\n",
        "  # plot only rows where pred_color is equal to color\n",
        "  idx = test.pred_color==color\n",
        "  pl.scatter(test[idx].x, test[idx].y, color=color)\n",
        "\n",
        "# plot the training set as well\n",
        "for color in train.color.unique():\n",
        "  idx = train.color==color\n",
        "  pl.scatter(train[idx].x, train[idx].y, color=color)\n",
        "\n",
        "# add a dotted line to show the boundary between the training and test set\n",
        "# (everything to the right of the line is in the test set)\n",
        "#this plots a vertical line\n",
        "train_line_y = np.linspace(y_min, y_max) #evenly spaced array from 0 to 10\n",
        "train_line_x = np.repeat(10, len(train_line_y)) #repeat 10 (threshold for traininset) n times\n",
        "# add a black, dotted line to the subplot\n",
        "pl.plot(train_line_x, train_line_y, 'k--', color=\"black\")\n",
        "\n",
        "pl.title(clf_name)\n",
        "print(\"\\n\")\n",
        "print (\"Confusion Matrix for %s:\" % clf_name)\n",
        "print (confusion_matrix(test.color, test.pred_color))\n",
        "pl.show()"
      ],
      "execution_count": 77,
      "outputs": [
        {
          "output_type": "stream",
          "text": [
            "\n",
            "\n",
            "Confusion Matrix for SVM:\n",
            "[[ 460  384]\n",
            " [   0 4156]]\n"
          ],
          "name": "stdout"
        },
        {
          "output_type": "display_data",
          "data": {
            "image/png": "[encoded data removed]",
            "text/plain": [
              "<Figure size 432x288 with 1 Axes>"
            ]
          },
          "metadata": {
            "tags": [],
            "needs_background": "light"
          }
        }
      ]
    },
    {
      "cell_type": "markdown",
      "metadata": {
        "id": "BxE6jAxtE8BR"
      },
      "source": [
        "**Assignment**<br>\n",
        "Try different datasets. <br>\n",
        "Go to the 'Create the Data' code block, you will see a number of lines commented out. Select one of these equations, or create your own. <br>\n",
        "Which algorithms are best for each of the datasets? "
      ]
    }
  ]
}