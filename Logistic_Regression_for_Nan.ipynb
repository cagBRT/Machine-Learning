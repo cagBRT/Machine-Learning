{
  "nbformat": 4,
  "nbformat_minor": 0,
  "metadata": {
    "colab": {
      "name": "Logistic Regression for Nan.ipynb",
      "provenance": [],
      "private_outputs": true,
      "authorship_tag": "ABX9TyP4sukZTlL9IgKhXs3wz9Ap",
      "include_colab_link": true
    },
    "kernelspec": {
      "name": "python3",
      "display_name": "Python 3"
    }
  },
  "cells": [
    {
      "cell_type": "markdown",
      "metadata": {
        "id": "view-in-github",
        "colab_type": "text"
      },
      "source": [
        "<a href=\"https://colab.research.google.com/github/cagBRT/Machine-Learning/blob/master/Logistic_Regression_for_Nan.ipynb\" target=\"_parent\"><img src=\"https://colab.research.google.com/assets/colab-badge.svg\" alt=\"Open In Colab\"/></a>"
      ]
    },
    {
      "cell_type": "code",
      "metadata": {
        "id": "5SsgOyNl12La",
        "colab_type": "code",
        "colab": {}
      },
      "source": [
        "import numpy as np\n",
        "import matplotlib.pyplot as plt\n",
        "from sklearn.model_selection import train_test_split\n",
        "from sklearn.linear_model import LogisticRegression\n",
        "import matplotlib.pyplot as plt\n",
        "import seaborn as sns\n",
        "from sklearn import metrics\n",
        "\n",
        "\n",
        "\n",
        "from matplotlib.colors import ListedColormap\n",
        "from sklearn.model_selection import train_test_split\n",
        "from sklearn.preprocessing import StandardScaler\n",
        "from sklearn.datasets import make_moons, make_circles, make_classification\n",
        "from sklearn.neural_network import MLPClassifier\n",
        "from sklearn.neighbors import KNeighborsClassifier\n",
        "from sklearn.svm import SVC\n",
        "from sklearn.gaussian_process import GaussianProcessClassifier\n",
        "from sklearn.gaussian_process.kernels import RBF\n",
        "from sklearn.tree import DecisionTreeClassifier\n",
        "from sklearn.ensemble import RandomForestClassifier, AdaBoostClassifier\n",
        "from sklearn.naive_bayes import GaussianNB\n",
        "from sklearn.discriminant_analysis import QuadraticDiscriminantAnalysis"
      ],
      "execution_count": null,
      "outputs": []
    },
    {
      "cell_type": "markdown",
      "metadata": {
        "id": "8XF4uLzv3F75",
        "colab_type": "text"
      },
      "source": [
        "**Make Sythnetic Data**<br>\n",
        "300 samples<br>\n",
        "30 input features<br>\n",
        "2 classes<br>\n"
      ]
    },
    {
      "cell_type": "code",
      "metadata": {
        "id": "nU2ic_vv10_9",
        "colab_type": "code",
        "colab": {}
      },
      "source": [
        "X,y = make_classification(n_samples=300, n_features=30,  n_classes=2, n_clusters_per_class=1)"
      ],
      "execution_count": null,
      "outputs": []
    },
    {
      "cell_type": "code",
      "metadata": {
        "id": "ZlpePdXH25tB",
        "colab_type": "code",
        "colab": {}
      },
      "source": [
        "X_train, X_test, y_train, y_test = train_test_split(\n",
        "    X, y, test_size=0.27, random_state=42)"
      ],
      "execution_count": null,
      "outputs": []
    },
    {
      "cell_type": "markdown",
      "metadata": {
        "id": "cBLGkrA53-dZ",
        "colab_type": "text"
      },
      "source": [
        "**The data is split into 219 training samples and 81 test samples**"
      ]
    },
    {
      "cell_type": "code",
      "metadata": {
        "id": "QB4LzDUM3mXy",
        "colab_type": "code",
        "colab": {}
      },
      "source": [
        "print(\"X_train: \", X_train.shape)\n",
        "print(\"X_test: \", X_test.shape)"
      ],
      "execution_count": null,
      "outputs": []
    },
    {
      "cell_type": "markdown",
      "metadata": {
        "id": "1hxsUI504CRS",
        "colab_type": "text"
      },
      "source": [
        "**Train the model on the training data**"
      ]
    },
    {
      "cell_type": "code",
      "metadata": {
        "id": "1ZOZf7MY4ha_",
        "colab_type": "code",
        "colab": {}
      },
      "source": [
        "model_lr = LogisticRegression(random_state=0).fit(X_train, y_train)"
      ],
      "execution_count": null,
      "outputs": []
    },
    {
      "cell_type": "markdown",
      "metadata": {
        "id": "cL44vx3351Xo",
        "colab_type": "text"
      },
      "source": [
        "**Predict with the model**"
      ]
    },
    {
      "cell_type": "code",
      "metadata": {
        "id": "OBMah56K53XT",
        "colab_type": "code",
        "colab": {}
      },
      "source": [
        "predictions = model_lr.predict(X_test)"
      ],
      "execution_count": null,
      "outputs": []
    },
    {
      "cell_type": "markdown",
      "metadata": {
        "id": "_Y6pjI7659yv",
        "colab_type": "text"
      },
      "source": [
        "**Measure accuracy of the model**"
      ]
    },
    {
      "cell_type": "code",
      "metadata": {
        "id": "-fjKuYAB6FbO",
        "colab_type": "code",
        "colab": {}
      },
      "source": [
        "# Use score method to get accuracy of model\n",
        "score = model_lr.score(X_test, y_test)\n",
        "print(score)"
      ],
      "execution_count": null,
      "outputs": []
    },
    {
      "cell_type": "markdown",
      "metadata": {
        "id": "HN0PLDUc6b1y",
        "colab_type": "text"
      },
      "source": [
        "**The confusion matrix**<br>\n",
        "The model makes <br>\n",
        "41 correct true positive predictions<br>\n",
        "38 correct true negative predictions<br>\n",
        "0 false positves<br>\n",
        "2 false negative<br>"
      ]
    },
    {
      "cell_type": "code",
      "metadata": {
        "id": "_CKjfsfr6cAW",
        "colab_type": "code",
        "colab": {}
      },
      "source": [
        "cm = metrics.confusion_matrix(y_test, predictions)\n",
        "print(cm)"
      ],
      "execution_count": null,
      "outputs": []
    },
    {
      "cell_type": "markdown",
      "metadata": {
        "id": "LRjXid5z7S6T",
        "colab_type": "text"
      },
      "source": [
        "**The confusion matrix plotted nicely**"
      ]
    },
    {
      "cell_type": "code",
      "metadata": {
        "id": "mld4Z7r-7EyR",
        "colab_type": "code",
        "colab": {}
      },
      "source": [
        "plt.figure(figsize=(9,9))\n",
        "sns.heatmap(cm, annot=True, fmt=\".3f\", linewidths=.5, square = True, cmap = 'Blues_r');\n",
        "plt.ylabel('Actual label');\n",
        "plt.xlabel('Predicted label');\n",
        "all_sample_title = 'Accuracy Score: {0}'.format(score)\n",
        "plt.title(all_sample_title, size = 15);"
      ],
      "execution_count": null,
      "outputs": []
    }
  ]
}