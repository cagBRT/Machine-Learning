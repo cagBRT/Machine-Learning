{
  "nbformat": 4,
  "nbformat_minor": 0,
  "metadata": {
    "colab": {
      "name": "DecisionTreesRegression3.ipynb",
      "private_outputs": true,
      "provenance": [],
      "authorship_tag": "ABX9TyM7O6nC0GIWfyxclM1njlQc",
      "include_colab_link": true
    },
    "kernelspec": {
      "name": "python3",
      "display_name": "Python 3"
    },
    "language_info": {
      "name": "python"
    }
  },
  "cells": [
    {
      "cell_type": "markdown",
      "metadata": {
        "id": "view-in-github",
        "colab_type": "text"
      },
      "source": [
        "<a href=\"https://colab.research.google.com/github/cagBRT/Machine-Learning/blob/master/DecisionTreesRegression3.ipynb\" target=\"_parent\"><img src=\"https://colab.research.google.com/assets/colab-badge.svg\" alt=\"Open In Colab\"/></a>"
      ]
    },
    {
      "cell_type": "markdown",
      "metadata": {
        "id": "DJjaBmKPUFHF"
      },
      "source": [
        "**Prerequiste knowledge for this notebook:**"
      ]
    },
    {
      "cell_type": "markdown",
      "metadata": {
        "id": "fnLsJaQ2UCqF"
      },
      "source": [
        "default_rng to generate 3 random integers between 0 (inclusive) and 10 (exclusive):"
      ]
    },
    {
      "cell_type": "code",
      "metadata": {
        "id": "X50tyB-eT0Cc"
      },
      "source": [
        "import numpy as np\n",
        "rng = np.random.default_rng(12345)\n",
        "rints = rng.integers(low=0, high=10, size=3)\n",
        "rints"
      ],
      "execution_count": null,
      "outputs": []
    },
    {
      "cell_type": "code",
      "metadata": {
        "id": "M5fynDCDUU7i"
      },
      "source": [
        "rng = np.random.default_rng()\n",
        "rints = rng.random(10)\n",
        "rints"
      ],
      "execution_count": null,
      "outputs": []
    },
    {
      "cell_type": "markdown",
      "metadata": {
        "id": "Q-QD0GnxJjTs"
      },
      "source": [
        "# **Multi-output Decision Tree Regression**"
      ]
    },
    {
      "cell_type": "markdown",
      "metadata": {
        "id": "CIWyYRJYJsGR"
      },
      "source": [
        "The decision trees is used to predict simultaneously the noisy x and y observations of a circle given a single underlying feature. As a result, it learns local linear regressions approximating the circle.\n",
        "\n",
        "We can see that if the maximum depth of the tree (controlled by the max_depth parameter) is set too high, the decision trees learn too fine details of the training data and learn from the noise, i.e. they overfit."
      ]
    },
    {
      "cell_type": "code",
      "metadata": {
        "id": "or5NBOkwJ6hW"
      },
      "source": [
        "import numpy as np\n",
        "import matplotlib.pyplot as plt\n",
        "from sklearn.tree import DecisionTreeRegressor"
      ],
      "execution_count": null,
      "outputs": []
    },
    {
      "cell_type": "markdown",
      "metadata": {
        "id": "6lOrk4dUWI3y"
      },
      "source": [
        "**Create a dataset with noise on the x and y coordinates of a circle**"
      ]
    },
    {
      "cell_type": "code",
      "metadata": {
        "id": "JPsyE7W5J8sK"
      },
      "source": [
        "# Create a random dataset\n",
        "rng = np.random.RandomState(1)\n",
        "X = np.sort(200 * rng.rand(100, 1) - 100, axis=0)\n",
        "y = np.array([np.pi * np.sin(X).ravel(), np.pi * np.cos(X).ravel()]).T\n",
        "#y[::5, :] += (0.5 - rng.rand(20, 2))"
      ],
      "execution_count": null,
      "outputs": []
    },
    {
      "cell_type": "code",
      "metadata": {
        "id": "LieuCiLkKORm"
      },
      "source": [
        "print(\"X shape:\",X.shape)\n",
        "print(\"y share:\",y.shape)"
      ],
      "execution_count": null,
      "outputs": []
    },
    {
      "cell_type": "code",
      "metadata": {
        "id": "usOoYQokMCKK"
      },
      "source": [
        "X[0:10]"
      ],
      "execution_count": null,
      "outputs": []
    },
    {
      "cell_type": "code",
      "metadata": {
        "id": "QB9T8ta9MVDT"
      },
      "source": [
        "y[0:10]"
      ],
      "execution_count": null,
      "outputs": []
    },
    {
      "cell_type": "code",
      "metadata": {
        "id": "jpmrbtosKIrc"
      },
      "source": [
        "plt.figure()\n",
        "s = 25 #size of dots\n",
        "plt.scatter(y[:, 0], y[:, 1])\n",
        "plt.plot()"
      ],
      "execution_count": null,
      "outputs": []
    },
    {
      "cell_type": "code",
      "metadata": {
        "id": "_jwxYYdKLJJ_"
      },
      "source": [
        "# Fit regression models\n",
        "regr_1 = DecisionTreeRegressor(max_depth=2)\n",
        "regr_2 = DecisionTreeRegressor(max_depth=5)\n",
        "regr_3 = DecisionTreeRegressor(max_depth=8)\n",
        "regr_1.fit(X, y)\n",
        "regr_2.fit(X, y)\n",
        "regr_3.fit(X, y)"
      ],
      "execution_count": null,
      "outputs": []
    },
    {
      "cell_type": "code",
      "metadata": {
        "id": "a5ZNAlFDLLW_"
      },
      "source": [
        "# Predict\n",
        "X_test = np.arange(-100.0, 100.0, 0.01)[:, np.newaxis]\n",
        "y_1 = regr_1.predict(X_test)\n",
        "y_2 = regr_2.predict(X_test)\n",
        "y_3 = regr_3.predict(X_test)"
      ],
      "execution_count": null,
      "outputs": []
    },
    {
      "cell_type": "code",
      "metadata": {
        "id": "FX01zj81JfmF"
      },
      "source": [
        "# Plot the results\n",
        "plt.figure()\n",
        "s = 50 \n",
        "plt.scatter(y[:, 0], y[:, 1], c=\"navy\", s=s,\n",
        "             label=\"data\")\n",
        "plt.scatter(y_1[:, 0], y_1[:, 1], c=\"orange\", s=s,\n",
        "             label=\"prediction\")\n",
        "plt.xlabel(\"target 1\")\n",
        "plt.ylabel(\"target 2\")\n",
        "plt.title(\"Multi-output Decision Tree Regression: Max Depth 2\")\n",
        "plt.legend(loc=\"best\")\n",
        "plt.show()"
      ],
      "execution_count": null,
      "outputs": []
    },
    {
      "cell_type": "code",
      "metadata": {
        "id": "B38adKzwQ-Yn"
      },
      "source": [
        "# Plot the results\n",
        "plt.figure()\n",
        "s = 50\n",
        "plt.scatter(y[:, 0], y[:, 1], c=\"navy\", s=s,\n",
        "             label=\"data\")\n",
        "plt.scatter(y_2[:, 0], y_2[:, 1], c=\"red\", s=s,\n",
        "             label=\"Prediction\")\n",
        "\n",
        "plt.xlabel(\"target 1\")\n",
        "plt.ylabel(\"target 2\")\n",
        "plt.title(\"Multi-output Decision Tree Regression: Max Dept 5\")\n",
        "plt.legend(loc=\"best\")\n",
        "plt.show()"
      ],
      "execution_count": null,
      "outputs": []
    },
    {
      "cell_type": "code",
      "metadata": {
        "id": "XOZdJenyRgMG"
      },
      "source": [
        "# Plot the results\n",
        "plt.figure()\n",
        "s = 50\n",
        "plt.scatter(y[:, 0], y[:, 1], c=\"navy\", s=s,\n",
        "             label=\"data\")\n",
        "plt.scatter(y_3[:, 0], y_3[:, 1], c=\"orange\", s=s,\n",
        "             label=\"Prediction\")\n",
        "\n",
        "plt.xlabel(\"target 1\")\n",
        "plt.ylabel(\"target 2\")\n",
        "plt.title(\"Multi-output Decision Tree Regression: Max Depth 8\")\n",
        "plt.legend(loc=\"best\")\n",
        "plt.show()"
      ],
      "execution_count": null,
      "outputs": []
    }
  ]
}