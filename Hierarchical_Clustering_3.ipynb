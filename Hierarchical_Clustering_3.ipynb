{
  "nbformat": 4,
  "nbformat_minor": 0,
  "metadata": {
    "colab": {
      "name": "Hierarchical Clustering 3.ipynb",
      "provenance": [],
      "collapsed_sections": [],
      "include_colab_link": true
    },
    "kernelspec": {
      "name": "python3",
      "display_name": "Python 3"
    }
  },
  "cells": [
    {
      "cell_type": "markdown",
      "metadata": {
        "id": "view-in-github",
        "colab_type": "text"
      },
      "source": [
        "<a href=\"https://colab.research.google.com/github/cagBRT/Machine-Learning/blob/master/Hierarchical_Clustering_3.ipynb\" target=\"_parent\"><img src=\"https://colab.research.google.com/assets/colab-badge.svg\" alt=\"Open In Colab\"/></a>"
      ]
    },
    {
      "cell_type": "markdown",
      "metadata": {
        "id": "IPft1cDWCZST"
      },
      "source": [
        "https://towardsdatascience.com/understanding-the-concept-of-hierarchical-clustering-technique-c6e8243758ec\n"
      ]
    },
    {
      "cell_type": "code",
      "metadata": {
        "id": "1prKDTnQlyrt",
        "colab": {
          "base_uri": "https://localhost:8080/"
        },
        "outputId": "ac2022f0-da5a-4d75-8d69-5f80b1a7dc6b"
      },
      "source": [
        "!git clone -l -s https://github.com/cagBRT/Machine-Learning.git cloned-repo\n",
        "%cd cloned-repo\n",
        "!ls"
      ],
      "execution_count": 1,
      "outputs": [
        {
          "output_type": "stream",
          "name": "stdout",
          "text": [
            "Cloning into 'cloned-repo'...\n",
            "warning: --local is ignored\n",
            "remote: Enumerating objects: 1737, done.\u001b[K\n",
            "remote: Counting objects: 100% (523/523), done.\u001b[K\n",
            "remote: Compressing objects: 100% (235/235), done.\u001b[K\n",
            "remote: Total 1737 (delta 311), reused 481 (delta 288), pack-reused 1214\u001b[K\n",
            "Receiving objects: 100% (1737/1737), 60.10 MiB | 12.35 MiB/s, done.\n",
            "Resolving deltas: 100% (1060/1060), done.\n",
            "Checking out files: 100% (154/154), done.\n",
            "/content/cloned-repo\n",
            " Admission_Predict.csv\t\t   KNN3.ipynb\n",
            " bank.csv\t\t\t   KNN4.ipynb\n",
            " bank-full.csv\t\t\t   KNN_Regression.ipynb\n",
            " blue_line.jpg\t\t\t   LinearRegression1.ipynb\n",
            " boston_housing.csv\t\t   LinearRegression2.ipynb\n",
            " breast_cancer_data.csv\t\t   LinearRegression3.ipynb\n",
            " cardata.data\t\t\t   LinearRegression4_WineQuality.ipynb\n",
            " closeDetail.png\t\t   Logistic_Regression_NB1.ipynb\n",
            " cows_and_wolves2.txt\t\t   LogisticRegression_NB2.ipynb\n",
            " cows_and_wolves3.txt\t\t   Logistic_Regression_NB3.ipynb\n",
            " cows_and_wolves4.txt\t\t   Logistic_Regression_NB4.ipynb\n",
            " cows_and_wolves.txt\t\t   LogReg_Titanic_NB4.ipynb\n",
            " CrossValidation1.ipynb\t\t   Mall_Customers.csv\n",
            " CrossValidation2.ipynb\t\t   movies_df.csv\n",
            " datasets_478_974_mushrooms.csv    NaiveBayesBernoulli_3.ipynb\n",
            " DecisionTrees1b.ipynb\t\t   NaiveBayesGaussian_1.ipynb\n",
            " DecisionTrees1.ipynb\t\t   NaiveBayesGaussian2.ipynb\n",
            " DecisionTrees2.ipynb\t\t   NaiveBayesMultinomial_5.ipynb\n",
            " DecisionTrees3.ipynb\t\t   NaiveBayesMultinomialNB_4.ipynb\n",
            " DecisionTreesRegression1.ipynb    naiveBayes.png\n",
            " DecisionTreesRegression2.ipynb    PCA0.ipynb\n",
            " DecisionTreesRegression3.ipynb    PCA1.ipynb\n",
            " DecisionTreesRegression4.ipynb    PCA2.ipynb\n",
            " diabetesML.ipynb\t\t   PCA3.ipynb\n",
            " dogOrMuffin.ipynb\t\t   PCA4.ipynb\n",
            " fashion-mnist-sprite.png\t   PCA5.ipynb\n",
            " FeatureSelection1.ipynb\t   pca.png\n",
            " FeatureSelection2.ipynb\t   pima_indians_diabetes.csv\n",
            " featureSelectTest.csv\t\t   pixels.png\n",
            " featureSelectTrain.csv\t\t   prediction_cases.csv\n",
            " freak.png\t\t\t   README.md\n",
            " height_weight.csv\t\t   Social_Network_Ads.csv\n",
            " Hierarchical_Clustering_1.ipynb   styleTransfer_1.ipynb\n",
            " Hierarchical_Clustering_2.ipynb   styleTransfer_2.ipynb\n",
            " Hierarchical_Clustering_3.ipynb   styleTransfer.ipynb\n",
            " HierarchicalClustering4.ipynb\t   StyleTransfer.ipynb\n",
            " Hierarchical_Clustering.ipynb\t   SVM3.ipynb\n",
            " hourly_wages.csv\t\t   SVMcompare.ipynb\n",
            "'HP1 Cars.ipynb'\t\t   SVM.ipynb\n",
            "'HP2 Wage_per_hour.ipynb'\t   SVM_MultiClass.ipynb\n",
            "'HP3 boston_housing.ipynb'\t   SVM_QuizAnswers.ipynb\n",
            "'HP3 Iris.ipynb'\t\t   SVM_Quiz.ipynb\n",
            " HP3_WineTypeBC.ipynb\t\t   test.csv\n",
            "'HP4 WineQuality.ipynb'\t\t   testPhone.csv\n",
            "'HP5 muffinOrDog.ipynb'\t\t   TextClassification.ipynb\n",
            "'HP6 fashion_mnist.ipynb'\t   train.csv\n",
            " HyperParameterTuning_1.ipynb\t   trainPhone.csv\n",
            " HyperParameterTuning_DNN_.ipynb   tripAdvisor.ipynb\n",
            " HyperParameter_Tuning.ipynb\t   tripAdvisorReviews.csv\n",
            " images\t\t\t\t   weather.csv\n",
            " IntroToClassification.ipynb\t   winequality-red.csv\n",
            " KNN1.ipynb\t\t\t   winequality-white.csv\n",
            " KNN2.ipynb\t\t\t   wolvesAndCows.ipynb\n"
          ]
        }
      ]
    },
    {
      "cell_type": "code",
      "metadata": {
        "id": "8hFM6v44mS9N"
      },
      "source": [
        "import numpy as np\n",
        "import matplotlib.pyplot as plt\n",
        "import pandas as pd\n",
        "%matplotlib inline\n",
        "\n",
        "import scipy.cluster.hierarchy as sch"
      ],
      "execution_count": 2,
      "outputs": []
    },
    {
      "cell_type": "markdown",
      "metadata": {
        "id": "U3lOiT9p2VRv"
      },
      "source": [
        "This dataset is for mall customers<br>\n"
      ]
    },
    {
      "cell_type": "code",
      "metadata": {
        "id": "C1zwDHuimVg0",
        "colab": {
          "base_uri": "https://localhost:8080/",
          "height": 424
        },
        "outputId": "9928dcec-a548-4c7e-b5c3-0fd97ae6d24e"
      },
      "source": [
        "#importing the dataset\n",
        "dataset = pd.read_csv('Mall_Customers.csv')\n",
        "dataset"
      ],
      "execution_count": 3,
      "outputs": [
        {
          "output_type": "execute_result",
          "data": {
            "text/plain": [
              "     CustomerID   Genre  Age  Annual Income (k$)  Spending Score (1-100)\n",
              "0             1    Male   19                  15                      39\n",
              "1             2    Male   21                  15                      81\n",
              "2             3  Female   20                  16                       6\n",
              "3             4  Female   23                  16                      77\n",
              "4             5  Female   31                  17                      40\n",
              "..          ...     ...  ...                 ...                     ...\n",
              "195         196  Female   35                 120                      79\n",
              "196         197  Female   45                 126                      28\n",
              "197         198    Male   32                 126                      74\n",
              "198         199    Male   32                 137                      18\n",
              "199         200    Male   30                 137                      83\n",
              "\n",
              "[200 rows x 5 columns]"
            ],
            "text/html": [
              "\n",
              "  <div id=\"df-dd06e95b-1c9e-4c99-a1f9-f9845213816e\">\n",
              "    <div class=\"colab-df-container\">\n",
              "      <div>\n",
              "<style scoped>\n",
              "    .dataframe tbody tr th:only-of-type {\n",
              "        vertical-align: middle;\n",
              "    }\n",
              "\n",
              "    .dataframe tbody tr th {\n",
              "        vertical-align: top;\n",
              "    }\n",
              "\n",
              "    .dataframe thead th {\n",
              "        text-align: right;\n",
              "    }\n",
              "</style>\n",
              "<table border=\"1\" class=\"dataframe\">\n",
              "  <thead>\n",
              "    <tr style=\"text-align: right;\">\n",
              "      <th></th>\n",
              "      <th>CustomerID</th>\n",
              "      <th>Genre</th>\n",
              "      <th>Age</th>\n",
              "      <th>Annual Income (k$)</th>\n",
              "      <th>Spending Score (1-100)</th>\n",
              "    </tr>\n",
              "  </thead>\n",
              "  <tbody>\n",
              "    <tr>\n",
              "      <th>0</th>\n",
              "      <td>1</td>\n",
              "      <td>Male</td>\n",
              "      <td>19</td>\n",
              "      <td>15</td>\n",
              "      <td>39</td>\n",
              "    </tr>\n",
              "    <tr>\n",
              "      <th>1</th>\n",
              "      <td>2</td>\n",
              "      <td>Male</td>\n",
              "      <td>21</td>\n",
              "      <td>15</td>\n",
              "      <td>81</td>\n",
              "    </tr>\n",
              "    <tr>\n",
              "      <th>2</th>\n",
              "      <td>3</td>\n",
              "      <td>Female</td>\n",
              "      <td>20</td>\n",
              "      <td>16</td>\n",
              "      <td>6</td>\n",
              "    </tr>\n",
              "    <tr>\n",
              "      <th>3</th>\n",
              "      <td>4</td>\n",
              "      <td>Female</td>\n",
              "      <td>23</td>\n",
              "      <td>16</td>\n",
              "      <td>77</td>\n",
              "    </tr>\n",
              "    <tr>\n",
              "      <th>4</th>\n",
              "      <td>5</td>\n",
              "      <td>Female</td>\n",
              "      <td>31</td>\n",
              "      <td>17</td>\n",
              "      <td>40</td>\n",
              "    </tr>\n",
              "    <tr>\n",
              "      <th>...</th>\n",
              "      <td>...</td>\n",
              "      <td>...</td>\n",
              "      <td>...</td>\n",
              "      <td>...</td>\n",
              "      <td>...</td>\n",
              "    </tr>\n",
              "    <tr>\n",
              "      <th>195</th>\n",
              "      <td>196</td>\n",
              "      <td>Female</td>\n",
              "      <td>35</td>\n",
              "      <td>120</td>\n",
              "      <td>79</td>\n",
              "    </tr>\n",
              "    <tr>\n",
              "      <th>196</th>\n",
              "      <td>197</td>\n",
              "      <td>Female</td>\n",
              "      <td>45</td>\n",
              "      <td>126</td>\n",
              "      <td>28</td>\n",
              "    </tr>\n",
              "    <tr>\n",
              "      <th>197</th>\n",
              "      <td>198</td>\n",
              "      <td>Male</td>\n",
              "      <td>32</td>\n",
              "      <td>126</td>\n",
              "      <td>74</td>\n",
              "    </tr>\n",
              "    <tr>\n",
              "      <th>198</th>\n",
              "      <td>199</td>\n",
              "      <td>Male</td>\n",
              "      <td>32</td>\n",
              "      <td>137</td>\n",
              "      <td>18</td>\n",
              "    </tr>\n",
              "    <tr>\n",
              "      <th>199</th>\n",
              "      <td>200</td>\n",
              "      <td>Male</td>\n",
              "      <td>30</td>\n",
              "      <td>137</td>\n",
              "      <td>83</td>\n",
              "    </tr>\n",
              "  </tbody>\n",
              "</table>\n",
              "<p>200 rows × 5 columns</p>\n",
              "</div>\n",
              "      <button class=\"colab-df-convert\" onclick=\"convertToInteractive('df-dd06e95b-1c9e-4c99-a1f9-f9845213816e')\"\n",
              "              title=\"Convert this dataframe to an interactive table.\"\n",
              "              style=\"display:none;\">\n",
              "        \n",
              "  <svg xmlns=\"http://www.w3.org/2000/svg\" height=\"24px\"viewBox=\"0 0 24 24\"\n",
              "       width=\"24px\">\n",
              "    <path d=\"M0 0h24v24H0V0z\" fill=\"none\"/>\n",
              "    <path d=\"M18.56 5.44l.94 2.06.94-2.06 2.06-.94-2.06-.94-.94-2.06-.94 2.06-2.06.94zm-11 1L8.5 8.5l.94-2.06 2.06-.94-2.06-.94L8.5 2.5l-.94 2.06-2.06.94zm10 10l.94 2.06.94-2.06 2.06-.94-2.06-.94-.94-2.06-.94 2.06-2.06.94z\"/><path d=\"M17.41 7.96l-1.37-1.37c-.4-.4-.92-.59-1.43-.59-.52 0-1.04.2-1.43.59L10.3 9.45l-7.72 7.72c-.78.78-.78 2.05 0 2.83L4 21.41c.39.39.9.59 1.41.59.51 0 1.02-.2 1.41-.59l7.78-7.78 2.81-2.81c.8-.78.8-2.07 0-2.86zM5.41 20L4 18.59l7.72-7.72 1.47 1.35L5.41 20z\"/>\n",
              "  </svg>\n",
              "      </button>\n",
              "      \n",
              "  <style>\n",
              "    .colab-df-container {\n",
              "      display:flex;\n",
              "      flex-wrap:wrap;\n",
              "      gap: 12px;\n",
              "    }\n",
              "\n",
              "    .colab-df-convert {\n",
              "      background-color: #E8F0FE;\n",
              "      border: none;\n",
              "      border-radius: 50%;\n",
              "      cursor: pointer;\n",
              "      display: none;\n",
              "      fill: #1967D2;\n",
              "      height: 32px;\n",
              "      padding: 0 0 0 0;\n",
              "      width: 32px;\n",
              "    }\n",
              "\n",
              "    .colab-df-convert:hover {\n",
              "      background-color: #E2EBFA;\n",
              "      box-shadow: 0px 1px 2px rgba(60, 64, 67, 0.3), 0px 1px 3px 1px rgba(60, 64, 67, 0.15);\n",
              "      fill: #174EA6;\n",
              "    }\n",
              "\n",
              "    [theme=dark] .colab-df-convert {\n",
              "      background-color: #3B4455;\n",
              "      fill: #D2E3FC;\n",
              "    }\n",
              "\n",
              "    [theme=dark] .colab-df-convert:hover {\n",
              "      background-color: #434B5C;\n",
              "      box-shadow: 0px 1px 3px 1px rgba(0, 0, 0, 0.15);\n",
              "      filter: drop-shadow(0px 1px 2px rgba(0, 0, 0, 0.3));\n",
              "      fill: #FFFFFF;\n",
              "    }\n",
              "  </style>\n",
              "\n",
              "      <script>\n",
              "        const buttonEl =\n",
              "          document.querySelector('#df-dd06e95b-1c9e-4c99-a1f9-f9845213816e button.colab-df-convert');\n",
              "        buttonEl.style.display =\n",
              "          google.colab.kernel.accessAllowed ? 'block' : 'none';\n",
              "\n",
              "        async function convertToInteractive(key) {\n",
              "          const element = document.querySelector('#df-dd06e95b-1c9e-4c99-a1f9-f9845213816e');\n",
              "          const dataTable =\n",
              "            await google.colab.kernel.invokeFunction('convertToInteractive',\n",
              "                                                     [key], {});\n",
              "          if (!dataTable) return;\n",
              "\n",
              "          const docLinkHtml = 'Like what you see? Visit the ' +\n",
              "            '<a target=\"_blank\" href=https://colab.research.google.com/notebooks/data_table.ipynb>data table notebook</a>'\n",
              "            + ' to learn more about interactive tables.';\n",
              "          element.innerHTML = '';\n",
              "          dataTable['output_type'] = 'display_data';\n",
              "          await google.colab.output.renderOutput(dataTable, element);\n",
              "          const docLink = document.createElement('div');\n",
              "          docLink.innerHTML = docLinkHtml;\n",
              "          element.appendChild(docLink);\n",
              "        }\n",
              "      </script>\n",
              "    </div>\n",
              "  </div>\n",
              "  "
            ]
          },
          "metadata": {},
          "execution_count": 3
        }
      ]
    },
    {
      "cell_type": "markdown",
      "metadata": {
        "id": "OA6v2UB02gyi"
      },
      "source": [
        "Plot the annual income and spending score"
      ]
    },
    {
      "cell_type": "code",
      "metadata": {
        "id": "RSDfry-smbf7"
      },
      "source": [
        "#Select annual income (k$) and spending score (1-100)colums\n",
        "X = dataset.iloc[:, [3, 4]].values"
      ],
      "execution_count": 4,
      "outputs": []
    },
    {
      "cell_type": "code",
      "metadata": {
        "id": "AaqmleCUsz1s",
        "colab": {
          "base_uri": "https://localhost:8080/",
          "height": 460
        },
        "outputId": "017cb086-aad4-453d-8010-41182b2cd398"
      },
      "source": [
        "plt.figure(figsize = (10, 7))\n",
        "plt.scatter(X[:,0],X[:,1])\n",
        "plt.xlabel(\"Annual Income\")\n",
        "plt.ylabel(\"Spending Score\")\n",
        "plt.plot()"
      ],
      "execution_count": 5,
      "outputs": [
        {
          "output_type": "execute_result",
          "data": {
            "text/plain": [
              "[]"
            ]
          },
          "metadata": {},
          "execution_count": 5
        },
        {
          "output_type": "display_data",
          "data": {
            "text/plain": [
              "<Figure size 720x504 with 1 Axes>"
            ],
            "image/png": "[encoded data removed]"
          },
          "metadata": {
            "needs_background": "light"
          }
        }
      ]
    },
    {
      "cell_type": "code",
      "metadata": {
        "id": "uGCvsYPin19Y",
        "colab": {
          "base_uri": "https://localhost:8080/"
        },
        "outputId": "65c9d487-319b-419b-abf0-0dc11ed6e468"
      },
      "source": [
        "X.shape"
      ],
      "execution_count": 6,
      "outputs": [
        {
          "output_type": "execute_result",
          "data": {
            "text/plain": [
              "(200, 2)"
            ]
          },
          "metadata": {},
          "execution_count": 6
        }
      ]
    },
    {
      "cell_type": "code",
      "metadata": {
        "id": "xc6jZjPHmmIy"
      },
      "source": [
        "#X"
      ],
      "execution_count": 7,
      "outputs": []
    },
    {
      "cell_type": "markdown",
      "metadata": {
        "id": "TmIWWkP42t4C"
      },
      "source": [
        "Create the dendrogram"
      ]
    },
    {
      "cell_type": "code",
      "metadata": {
        "id": "vjMlEhDAnJTM",
        "colab": {
          "base_uri": "https://localhost:8080/",
          "height": 500
        },
        "outputId": "c412f812-8ebc-4a36-cf20-0bef994c922c"
      },
      "source": [
        "#using dendrogram for optimal number of clusters\n",
        "plt.figure(figsize=(25, 10))\n",
        "plt.plot()\n",
        "dendrogram = sch.dendrogram(sch.linkage(X, method = 'ward'))\n",
        "plt.title('Dendrogram')\n",
        "plt.xlabel('Customers')\n",
        "plt.ylabel('Euclidean distance')\n",
        "plt.show()"
      ],
      "execution_count": 8,
      "outputs": [
        {
          "output_type": "display_data",
          "data": {
            "text/plain": [
              "<Figure size 1800x720 with 1 Axes>"
            ],
            "image/png": "[encoded data removed]"
          },
          "metadata": {
            "needs_background": "light"
          }
        }
      ]
    },
    {
      "cell_type": "markdown",
      "metadata": {
        "id": "wA23eiHu2xNp"
      },
      "source": [
        "How many clusters 3 or 5?"
      ]
    },
    {
      "cell_type": "code",
      "metadata": {
        "id": "iR_jh1ESsn0k"
      },
      "source": [
        "from sklearn.cluster import AgglomerativeClustering\n",
        "hc = AgglomerativeClustering(n_clusters = 5, affinity = 'euclidean', linkage = 'ward')\n",
        "y_hc = hc.fit_predict(X)"
      ],
      "execution_count": 9,
      "outputs": []
    },
    {
      "cell_type": "code",
      "metadata": {
        "id": "gETmWP42wr_1",
        "colab": {
          "base_uri": "https://localhost:8080/",
          "height": 460
        },
        "outputId": "14816e14-3e58-4d16-e182-7e8a6432200a"
      },
      "source": [
        "plt.figure(figsize = (10, 7))\n",
        "plt.scatter(X[:,0],X[:,1], c=y_hc,cmap=\"rainbow\")\n",
        "plt.xlabel(\"Annual Income\")\n",
        "plt.ylabel(\"Spending Score\")\n",
        "plt.plot()"
      ],
      "execution_count": 10,
      "outputs": [
        {
          "output_type": "execute_result",
          "data": {
            "text/plain": [
              "[]"
            ]
          },
          "metadata": {},
          "execution_count": 10
        },
        {
          "output_type": "display_data",
          "data": {
            "text/plain": [
              "<Figure size 720x504 with 1 Axes>"
            ],
            "image/png": "[encoded data removed]"
          },
          "metadata": {
            "needs_background": "light"
          }
        }
      ]
    }
  ]
}