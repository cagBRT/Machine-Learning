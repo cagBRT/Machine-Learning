{
  "nbformat": 4,
  "nbformat_minor": 0,
  "metadata": {
    "colab": {
      "name": "LinearRegression1.ipynb",
      "private_outputs": true,
      "provenance": [],
      "authorship_tag": "ABX9TyOdG61HJRsxUwpHLIkkgOi+",
      "include_colab_link": true
    },
    "kernelspec": {
      "name": "python3",
      "display_name": "Python 3"
    }
  },
  "cells": [
    {
      "cell_type": "markdown",
      "metadata": {
        "id": "view-in-github",
        "colab_type": "text"
      },
      "source": [
        "<a href=\"https://colab.research.google.com/github/cagBRT/Machine-Learning/blob/master/LinearRegression1.ipynb\" target=\"_parent\"><img src=\"https://colab.research.google.com/assets/colab-badge.svg\" alt=\"Open In Colab\"/></a>"
      ]
    },
    {
      "cell_type": "markdown",
      "metadata": {
        "id": "ih_8W8vJ3dXD"
      },
      "source": [
        "# **Linear Regression**"
      ]
    },
    {
      "cell_type": "markdown",
      "metadata": {
        "id": "GJR4jNYN3V5A"
      },
      "source": [
        "**Import Libraries**<br>\n",
        "Note: Linear Regression library"
      ]
    },
    {
      "cell_type": "code",
      "metadata": {
        "id": "8vABCTagXbj_"
      },
      "source": [
        "import numpy as np\n",
        "import matplotlib.pyplot as plt\n",
        "from sklearn.linear_model import LinearRegression"
      ],
      "execution_count": null,
      "outputs": []
    },
    {
      "cell_type": "markdown",
      "metadata": {
        "id": "-KvRhT-n3ign"
      },
      "source": [
        "**Create some synthetic data**"
      ]
    },
    {
      "cell_type": "code",
      "metadata": {
        "id": "4X_7Z2fnXYNd"
      },
      "source": [
        "X_train = np.array([[1, 1],[2, 3],[3, 2],[4, 4],[8,10],[1.5,2.4],[5,6],[5,7],[1,3],[10,8],[1,4]])\n",
        "y_train = np.array([1,3,7,6,9,7,5,10,2,11,6])"
      ],
      "execution_count": null,
      "outputs": []
    },
    {
      "cell_type": "markdown",
      "metadata": {
        "id": "ShS2QjXqFT2N"
      },
      "source": [
        "**Plot the data**<br>\n"
      ]
    },
    {
      "cell_type": "code",
      "metadata": {
        "id": "zxjXumXhXhFU"
      },
      "source": [
        "xplot, yplot = X_train.T\n",
        "plt.scatter(xplot,yplot)\n",
        "#plt.scatter(xplot, y_train, color='red')\n",
        "plt.show()"
      ],
      "execution_count": null,
      "outputs": []
    },
    {
      "cell_type": "markdown",
      "metadata": {
        "id": "EqReD2tDZ6qx"
      },
      "source": [
        "**Select and train the model**<br>\n",
        "The linear regression model finds the best value for the intercept and slope, which results in a line that best fits the data."
      ]
    },
    {
      "cell_type": "code",
      "metadata": {
        "id": "TyTWw3ptXfOC"
      },
      "source": [
        "reg = LinearRegression().fit(X_train, y_train)"
      ],
      "execution_count": null,
      "outputs": []
    },
    {
      "cell_type": "markdown",
      "metadata": {
        "id": "ShMHByCN4TsL"
      },
      "source": [
        "The model generates the slope and the y intercept of the best fit line. <br>\n",
        "\n",
        "The sign of each coefficient indicates the direction of the relationship between a predictor variable and the response variable.<br>\n",
        "\n",
        "A positive sign indicates that as the predictor variable increases, the response variable also increases.<br>\n",
        "A negative sign indicates that as the predictor variable increases, the response variable decreases.<br>\n",
        "Score is the accuracy of the model, the best score equals 1"
      ]
    },
    {
      "cell_type": "code",
      "metadata": {
        "id": "UGRmxr7dZUbD"
      },
      "source": [
        "print(reg.coef_)\n",
        "print(reg.intercept_)\n",
        "print(reg.predict(np.array([[3, 5]])))\n",
        "print(reg.score(X_train, y_train))"
      ],
      "execution_count": null,
      "outputs": []
    },
    {
      "cell_type": "markdown",
      "metadata": {
        "id": "95okXkLk7EIX"
      },
      "source": [
        "**A helper function to plot the line **"
      ]
    },
    {
      "cell_type": "code",
      "metadata": {
        "id": "mi-dY-wm6zTq"
      },
      "source": [
        "def abline(slope, intercept):\n",
        "    \"\"\"Plot a line from slope and intercept\"\"\"\n",
        "    #axes = plt.gca()\n",
        "    x_vals = np.array(axes.get_xlim())\n",
        "    y_vals = intercept + slope * x_vals\n",
        "    plt.plot(x_vals, y_vals, '--')"
      ],
      "execution_count": null,
      "outputs": []
    },
    {
      "cell_type": "code",
      "metadata": {
        "id": "r6g9OZYMdEXH"
      },
      "source": [
        "x_pred = np.array([[1,2],[10,10]])\n",
        "y_pred = reg.predict(np.array(x_pred))"
      ],
      "execution_count": null,
      "outputs": []
    },
    {
      "cell_type": "code",
      "metadata": {
        "id": "oKPO6wFm-Mw4"
      },
      "source": [
        "print(y_pred)"
      ],
      "execution_count": null,
      "outputs": []
    },
    {
      "cell_type": "code",
      "metadata": {
        "id": "sw2BI2LyacmR"
      },
      "source": [
        "plt.scatter(xplot,yplot,  color='gray')\n",
        "plt.scatter(xpred, ypred, color='red', linewidth=2)\n",
        "\n",
        "x_vals = np.array(axes.get_xlim())\n",
        "y_vals = reg.intercept_+ reg.coef_ * x_vals\n",
        "plt.plot(x_vals, y_vals, '--')\n",
        "\n",
        "plt.show()"
      ],
      "execution_count": null,
      "outputs": []
    }
  ]
}