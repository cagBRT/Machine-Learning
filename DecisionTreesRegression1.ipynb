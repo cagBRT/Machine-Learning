{
  "nbformat": 4,
  "nbformat_minor": 0,
  "metadata": {
    "colab": {
      "name": "DecisionTreesRegression1.ipynb",
      "private_outputs": true,
      "provenance": [],
      "authorship_tag": "ABX9TyNv8Vg7z9HHKA+SaxsQ+uC6",
      "include_colab_link": true
    },
    "kernelspec": {
      "name": "python3",
      "display_name": "Python 3"
    },
    "language_info": {
      "name": "python"
    }
  },
  "cells": [
    {
      "cell_type": "markdown",
      "metadata": {
        "id": "view-in-github",
        "colab_type": "text"
      },
      "source": [
        "<a href=\"https://colab.research.google.com/github/cagBRT/Machine-Learning/blob/master/DecisionTreesRegression1.ipynb\" target=\"_parent\"><img src=\"https://colab.research.google.com/assets/colab-badge.svg\" alt=\"Open In Colab\"/></a>"
      ]
    },
    {
      "cell_type": "markdown",
      "metadata": {
        "id": "T93njG6ZRzsR"
      },
      "source": [
        "This class implements a meta estimator that fits a number of randomized decision trees (a.k.a. extra-trees) on various sub-samples of the dataset and uses averaging to improve the predictive accuracy and control over-fitting."
      ]
    },
    {
      "cell_type": "code",
      "metadata": {
        "id": "4Uk9l6yFScmM"
      },
      "source": [
        "!git clone -l -s https://github.com/cagBRT/Machine-Learning.git cloned-repo\n",
        "%cd cloned-repo"
      ],
      "execution_count": null,
      "outputs": []
    },
    {
      "cell_type": "code",
      "metadata": {
        "id": "ubhxI5bORjKx"
      },
      "source": [
        "from sklearn.datasets import load_diabetes\n",
        "from sklearn.model_selection import train_test_split\n",
        "from sklearn.ensemble import ExtraTreesRegressor"
      ],
      "execution_count": null,
      "outputs": []
    },
    {
      "cell_type": "code",
      "metadata": {
        "id": "0PEV-S9PSnM2"
      },
      "source": [
        "from IPython.display import Image\n",
        "Image(\"images/DecTreesReg1.png\" , width=640)"
      ],
      "execution_count": null,
      "outputs": []
    },
    {
      "cell_type": "code",
      "metadata": {
        "id": "iyevRUeIW9zW"
      },
      "source": [
        "Image(\"images/DecTreesReg2.png\" , width=640)"
      ],
      "execution_count": null,
      "outputs": []
    },
    {
      "cell_type": "code",
      "metadata": {
        "id": "bZTdqffhXtV4"
      },
      "source": [
        "Image(\"images/DecTreesReg3.png\" , width=640)"
      ],
      "execution_count": null,
      "outputs": []
    },
    {
      "cell_type": "code",
      "metadata": {
        "id": "bjEx3fyOY2Dk"
      },
      "source": [
        "Image(\"images/DecTreesReg4.png\" , width=640)"
      ],
      "execution_count": null,
      "outputs": []
    },
    {
      "cell_type": "code",
      "metadata": {
        "id": "AJgnRSfKZhj2"
      },
      "source": [
        "Image(\"images/DecTreesReg5.png\" , width=640)"
      ],
      "execution_count": null,
      "outputs": []
    },
    {
      "cell_type": "code",
      "metadata": {
        "id": "t7HpmECmaJ08"
      },
      "source": [
        "Image(\"images/DecTreesReg6.png\" , width=640)"
      ],
      "execution_count": null,
      "outputs": []
    },
    {
      "cell_type": "code",
      "metadata": {
        "id": "KNZ3FnhFaLWQ"
      },
      "source": [
        "Image(\"images/DecTreesReg7.png\" , width=640)"
      ],
      "execution_count": null,
      "outputs": []
    },
    {
      "cell_type": "markdown",
      "metadata": {
        "id": "yFpEpLqSY-yN"
      },
      "source": [
        "SDR=Standard Deviation Reduction<br>\n",
        "The \"Sunny\" branch has a Coefficient of Deviation (CV) (28%) more than the threshold (10%) which needs further splitting. We select \"Windy\" as the best best node after \"Outlook\" because it has the largest SDR. "
      ]
    },
    {
      "cell_type": "code",
      "metadata": {
        "id": "kiQcnGS-dxGl"
      },
      "source": [
        "X, y = load_diabetes(return_X_y=True)\n",
        "X_train, X_test, y_train, y_test = train_test_split(\n",
        "    X, y, random_state=0)"
      ],
      "execution_count": null,
      "outputs": []
    },
    {
      "cell_type": "code",
      "metadata": {
        "id": "CUvkXQLhdzQA"
      },
      "source": [
        "X.shape"
      ],
      "execution_count": null,
      "outputs": []
    },
    {
      "cell_type": "code",
      "metadata": {
        "id": "D7gqfloSRc47"
      },
      "source": [
        "reg = ExtraTreesRegressor(n_estimators=100, random_state=0).fit(\n",
        "   X_train, y_train)\n",
        "reg.score(X_test, y_test)"
      ],
      "execution_count": null,
      "outputs": []
    },
    {
      "cell_type": "code",
      "metadata": {
        "id": "eO_YS_dBdcTl"
      },
      "source": [
        "y_predict = reg.predict(X)\n",
        "y_predict"
      ],
      "execution_count": null,
      "outputs": []
    }
  ]
}