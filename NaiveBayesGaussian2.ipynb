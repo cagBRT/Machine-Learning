{
  "nbformat": 4,
  "nbformat_minor": 0,
  "metadata": {
    "colab": {
      "name": "NaiveBayesGaussian2.ipynb",
      "private_outputs": true,
      "provenance": [],
      "authorship_tag": "ABX9TyM4CkNZgcD6Su4Ng7LrAvxq",
      "include_colab_link": true
    },
    "kernelspec": {
      "name": "python3",
      "display_name": "Python 3"
    }
  },
  "cells": [
    {
      "cell_type": "markdown",
      "metadata": {
        "id": "view-in-github",
        "colab_type": "text"
      },
      "source": [
        "<a href=\"https://colab.research.google.com/github/cagBRT/Machine-Learning/blob/master/NaiveBayesGaussian2.ipynb\" target=\"_parent\"><img src=\"https://colab.research.google.com/assets/colab-badge.svg\" alt=\"Open In Colab\"/></a>"
      ]
    },
    {
      "cell_type": "markdown",
      "metadata": {
        "id": "OKZnrZzI3hYX"
      },
      "source": [
        "Load the data"
      ]
    },
    {
      "cell_type": "code",
      "metadata": {
        "id": "UH7U2eSTgUH1"
      },
      "source": [
        "# load the iris dataset \n",
        "from sklearn.datasets import load_iris \n",
        "iris = load_iris() "
      ],
      "execution_count": null,
      "outputs": []
    },
    {
      "cell_type": "code",
      "metadata": {
        "id": "Vlk5y1jh3-_T"
      },
      "source": [
        "from sklearn.datasets import make_classification\n",
        "import numpy as np\n",
        "from sklearn.model_selection import train_test_split\n",
        "import matplotlib.pyplot as plt\n",
        "from sklearn.naive_bayes import GaussianNB "
      ],
      "execution_count": null,
      "outputs": []
    },
    {
      "cell_type": "markdown",
      "metadata": {
        "id": "510xI-G_YqoI"
      },
      "source": [
        "We are using the Iris dataset.<br>\n",
        "It has 3 classes of irises listed. <br>\n",
        "The length and width of the sepal and the petals determine the class for each iris."
      ]
    },
    {
      "cell_type": "code",
      "metadata": {
        "id": "p_SmsQa12qPs"
      },
      "source": [
        "# store the feature matrix (X) and label (y) \n",
        "X = iris.data \n",
        "y = iris.target "
      ],
      "execution_count": null,
      "outputs": []
    },
    {
      "cell_type": "code",
      "metadata": {
        "id": "Z-hNpHR6ZFia"
      },
      "source": [
        "y.shape\n",
        "y.view()"
      ],
      "execution_count": null,
      "outputs": []
    },
    {
      "cell_type": "code",
      "metadata": {
        "id": "KVqtxaW04P3B"
      },
      "source": [
        "print(X.shape)\n",
        "X.view()"
      ],
      "execution_count": null,
      "outputs": []
    },
    {
      "cell_type": "markdown",
      "metadata": {
        "id": "GHozZuaI3pBk"
      },
      "source": [
        "Split the data into training and test data"
      ]
    },
    {
      "cell_type": "code",
      "metadata": {
        "id": "Of2YiEy6gaHM"
      },
      "source": [
        "# splitting X and y into training and testing sets \n",
        "X_train, X_test, y_train, y_test = train_test_split(X, y, test_size=0.2, random_state=1) "
      ],
      "execution_count": null,
      "outputs": []
    },
    {
      "cell_type": "markdown",
      "metadata": {
        "id": "8xf67IitAovp"
      },
      "source": [
        "Plot the data, there are 3 classes of the irises"
      ]
    },
    {
      "cell_type": "code",
      "metadata": {
        "id": "8xbEH9e635lJ"
      },
      "source": [
        "plt.figure(figsize=(10,5))\n",
        "fig = plt.scatter(X_train[:,0],y_train, marker='o', c=X_train[:,1],s=25)\n",
        "plt.xlabel(\"X_train[:,0]\")\n",
        "plt.ylabel(\"y_train\")\n",
        "plt.colorbar(fig)\n",
        "plt.show()"
      ],
      "execution_count": null,
      "outputs": []
    },
    {
      "cell_type": "markdown",
      "metadata": {
        "id": "BR_ESJUd3t1u"
      },
      "source": [
        "Create and train the model on the training data"
      ]
    },
    {
      "cell_type": "code",
      "metadata": {
        "id": "69NGmk2jgc7Q"
      },
      "source": [
        "# training the model on training set \n",
        "gnb = GaussianNB() \n",
        "gnb.fit(X_train, y_train) "
      ],
      "execution_count": null,
      "outputs": []
    },
    {
      "cell_type": "code",
      "metadata": {
        "id": "LDTz61EUgfEo"
      },
      "source": [
        "# making predictions on the testing set \n",
        "y_pred = gnb.predict(X_test) "
      ],
      "execution_count": null,
      "outputs": []
    },
    {
      "cell_type": "code",
      "metadata": {
        "id": "CmmgdVjUAwbh"
      },
      "source": [
        "y_pred.view()"
      ],
      "execution_count": null,
      "outputs": []
    },
    {
      "cell_type": "code",
      "metadata": {
        "id": "ysIzjDigA05a"
      },
      "source": [
        "plt.figure(figsize=(10,5))\n",
        "fig = plt.scatter(X_test[:,0],y_test, marker='o', c=X_test[:,1],s=25)\n",
        "plt.plot(X_test[:,0],y_pred,'r+')\n",
        "plt.xlabel(\"X_test[:,0]\")\n",
        "plt.ylabel(\"y_test\")\n",
        "plt.colorbar(fig)\n",
        "plt.show()"
      ],
      "execution_count": null,
      "outputs": []
    },
    {
      "cell_type": "code",
      "metadata": {
        "id": "MssAWcOVgif7"
      },
      "source": [
        "_# comparing actual response values (y_test) with predicted response values (y_pred) \n",
        "from sklearn import metrics \n",
        "print(\"Gaussian Naive Bayes model accuracy(in %):\", metrics.accuracy_score(y_test, y_pred)*100)"
      ],
      "execution_count": null,
      "outputs": []
    }
  ]
}