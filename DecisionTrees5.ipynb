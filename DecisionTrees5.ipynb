{
  "nbformat": 4,
  "nbformat_minor": 0,
  "metadata": {
    "colab": {
      "name": "DecisionTrees5.ipynb",
      "private_outputs": true,
      "provenance": [],
      "authorship_tag": "ABX9TyObbMNXj42SIVuh9t7z4l22",
      "include_colab_link": true
    },
    "kernelspec": {
      "name": "python3",
      "display_name": "Python 3"
    },
    "language_info": {
      "name": "python"
    }
  },
  "cells": [
    {
      "cell_type": "markdown",
      "metadata": {
        "id": "view-in-github",
        "colab_type": "text"
      },
      "source": [
        "<a href=\"https://colab.research.google.com/github/cagBRT/Machine-Learning/blob/master/DecisionTrees5.ipynb\" target=\"_parent\"><img src=\"https://colab.research.google.com/assets/colab-badge.svg\" alt=\"Open In Colab\"/></a>"
      ]
    },
    {
      "cell_type": "code",
      "metadata": {
        "id": "oxKb5zDkwRjy"
      },
      "source": [
        "# Author: Noel Dawe <noel.dawe@gmail.com>\n",
        "#\n",
        "# License: BSD 3 clause\n",
        "\n",
        "# importing necessary libraries\n",
        "import numpy as np\n",
        "import matplotlib.pyplot as plt\n",
        "from sklearn.tree import DecisionTreeRegressor\n",
        "from sklearn.ensemble import AdaBoostRegressor"
      ],
      "execution_count": null,
      "outputs": []
    },
    {
      "cell_type": "code",
      "metadata": {
        "id": "AVW_TWb_wVNX"
      },
      "source": [
        "# Create the dataset\n",
        "rng = np.random.RandomState(1)\n",
        "X = np.linspace(0, 6, 100)[:, np.newaxis]\n",
        "y = np.sin(X).ravel() + np.sin(6 * X).ravel() + rng.normal(0, 0.1, X.shape[0])"
      ],
      "execution_count": null,
      "outputs": []
    },
    {
      "cell_type": "code",
      "metadata": {
        "id": "f07CeWDMwYDU"
      },
      "source": [
        "# Fit regression model\n",
        "regr_1 = DecisionTreeRegressor(max_depth=4)\n",
        "\n",
        "regr_2 = AdaBoostRegressor(DecisionTreeRegressor(max_depth=4),\n",
        "                           n_estimators=300, random_state=rng)\n",
        "\n",
        "regr_1.fit(X, y)\n",
        "regr_2.fit(X, y)"
      ],
      "execution_count": null,
      "outputs": []
    },
    {
      "cell_type": "code",
      "metadata": {
        "id": "yn9thkDhwb_V"
      },
      "source": [
        "# Predict\n",
        "y_1 = regr_1.predict(X)\n",
        "y_2 = regr_2.predict(X)"
      ],
      "execution_count": null,
      "outputs": []
    },
    {
      "cell_type": "code",
      "metadata": {
        "id": "88BkmEo9wNlk"
      },
      "source": [
        "# Plot the results\n",
        "plt.figure()\n",
        "plt.scatter(X, y, c=\"k\", label=\"training samples\")\n",
        "plt.plot(X, y_1, c=\"g\", label=\"n_estimators=1\", linewidth=2)\n",
        "plt.plot(X, y_2, c=\"r\", label=\"n_estimators=300\", linewidth=2)\n",
        "plt.xlabel(\"data\")\n",
        "plt.ylabel(\"target\")\n",
        "plt.title(\"Boosted Decision Tree Regression\")\n",
        "plt.legend()\n",
        "plt.show()"
      ],
      "execution_count": null,
      "outputs": []
    },
    {
      "cell_type": "markdown",
      "metadata": {
        "id": "TCyV3RfOvllf"
      },
      "source": [
        "# **Multi-class AdaBoosted Decision Trees**\n",
        "\n",
        "https://scikit-learn.org/stable/auto_examples/ensemble/plot_adaboost_multiclass.html?highlight=decision%20trees\n"
      ]
    },
    {
      "cell_type": "code",
      "metadata": {
        "id": "webfQvdev6C7"
      },
      "source": [
        "# Author: Noel Dawe <noel.dawe@gmail.com>\n",
        "#\n",
        "# License: BSD 3 clause\n",
        "\n",
        "import matplotlib.pyplot as plt\n",
        "\n",
        "from sklearn.datasets import make_gaussian_quantiles\n",
        "from sklearn.ensemble import AdaBoostClassifier\n",
        "from sklearn.metrics import accuracy_score\n",
        "from sklearn.tree import DecisionTreeClassifier"
      ],
      "execution_count": null,
      "outputs": []
    },
    {
      "cell_type": "code",
      "metadata": {
        "id": "-WEmpLoovfoc"
      },
      "source": [
        "# Author: Noel Dawe <noel.dawe@gmail.com>\n",
        "#\n",
        "# License: BSD 3 clause\n",
        "\n",
        "import matplotlib.pyplot as plt\n",
        "\n",
        "from sklearn.datasets import make_gaussian_quantiles\n",
        "from sklearn.ensemble import AdaBoostClassifier\n",
        "from sklearn.metrics import accuracy_score\n",
        "from sklearn.tree import DecisionTreeClassifier\n",
        "\n",
        "\n",
        "X, y = make_gaussian_quantiles(n_samples=13000, n_features=10,\n",
        "                               n_classes=3, random_state=1)\n",
        "\n",
        "n_split = 3000\n",
        "\n",
        "X_train, X_test = X[:n_split], X[n_split:]\n",
        "y_train, y_test = y[:n_split], y[n_split:]\n",
        "\n",
        "bdt_real = AdaBoostClassifier(\n",
        "    DecisionTreeClassifier(max_depth=2),\n",
        "    n_estimators=600,\n",
        "    learning_rate=1)\n",
        "\n",
        "bdt_discrete = AdaBoostClassifier(\n",
        "    DecisionTreeClassifier(max_depth=2),\n",
        "    n_estimators=600,\n",
        "    learning_rate=1.5,\n",
        "    algorithm=\"SAMME\")\n",
        "\n",
        "bdt_real.fit(X_train, y_train)\n",
        "bdt_discrete.fit(X_train, y_train)\n",
        "\n",
        "real_test_errors = []\n",
        "discrete_test_errors = []\n",
        "\n",
        "for real_test_predict, discrete_train_predict in zip(\n",
        "        bdt_real.staged_predict(X_test), bdt_discrete.staged_predict(X_test)):\n",
        "    real_test_errors.append(\n",
        "        1. - accuracy_score(real_test_predict, y_test))\n",
        "    discrete_test_errors.append(\n",
        "        1. - accuracy_score(discrete_train_predict, y_test))\n",
        "\n",
        "n_trees_discrete = len(bdt_discrete)\n",
        "n_trees_real = len(bdt_real)\n",
        "\n",
        "# Boosting might terminate early, but the following arrays are always\n",
        "# n_estimators long. We crop them to the actual number of trees here:\n",
        "discrete_estimator_errors = bdt_discrete.estimator_errors_[:n_trees_discrete]\n",
        "real_estimator_errors = bdt_real.estimator_errors_[:n_trees_real]\n",
        "discrete_estimator_weights = bdt_discrete.estimator_weights_[:n_trees_discrete]\n",
        "\n",
        "plt.figure(figsize=(15, 5))\n",
        "\n",
        "plt.subplot(131)\n",
        "plt.plot(range(1, n_trees_discrete + 1),\n",
        "         discrete_test_errors, c='black', label='SAMME')\n",
        "plt.plot(range(1, n_trees_real + 1),\n",
        "         real_test_errors, c='black',\n",
        "         linestyle='dashed', label='SAMME.R')\n",
        "plt.legend()\n",
        "plt.ylim(0.18, 0.62)\n",
        "plt.ylabel('Test Error')\n",
        "plt.xlabel('Number of Trees')\n",
        "\n",
        "plt.subplot(132)\n",
        "plt.plot(range(1, n_trees_discrete + 1), discrete_estimator_errors,\n",
        "         \"b\", label='SAMME', alpha=.5)\n",
        "plt.plot(range(1, n_trees_real + 1), real_estimator_errors,\n",
        "         \"r\", label='SAMME.R', alpha=.5)\n",
        "plt.legend()\n",
        "plt.ylabel('Error')\n",
        "plt.xlabel('Number of Trees')\n",
        "plt.ylim((.2,\n",
        "         max(real_estimator_errors.max(),\n",
        "             discrete_estimator_errors.max()) * 1.2))\n",
        "plt.xlim((-20, len(bdt_discrete) + 20))\n",
        "\n",
        "plt.subplot(133)\n",
        "plt.plot(range(1, n_trees_discrete + 1), discrete_estimator_weights,\n",
        "         \"b\", label='SAMME')\n",
        "plt.legend()\n",
        "plt.ylabel('Weight')\n",
        "plt.xlabel('Number of Trees')\n",
        "plt.ylim((0, discrete_estimator_weights.max() * 1.2))\n",
        "plt.xlim((-20, n_trees_discrete + 20))\n",
        "\n",
        "# prevent overlapping y-axis labels\n",
        "plt.subplots_adjust(wspace=0.25)\n",
        "plt.show()"
      ],
      "execution_count": null,
      "outputs": []
    }
  ]
}