{
  "nbformat": 4,
  "nbformat_minor": 0,
  "metadata": {
    "colab": {
      "name": "Logistic Regression NB1.ipynb",
      "private_outputs": true,
      "provenance": [],
      "authorship_tag": "ABX9TyMLKUwT9o5SZ0WISZywbjPI",
      "include_colab_link": true
    },
    "kernelspec": {
      "name": "python3",
      "display_name": "Python 3"
    }
  },
  "cells": [
    {
      "cell_type": "markdown",
      "metadata": {
        "id": "view-in-github",
        "colab_type": "text"
      },
      "source": [
        "<a href=\"https://colab.research.google.com/github/cagBRT/Machine-Learning/blob/master/Logistic_Regression_NB1.ipynb\" target=\"_parent\"><img src=\"https://colab.research.google.com/assets/colab-badge.svg\" alt=\"Open In Colab\"/></a>"
      ]
    },
    {
      "cell_type": "markdown",
      "metadata": {
        "id": "iQveI3uppA01"
      },
      "source": [
        "**Logistic Regression**<br>\n",
        "This notebook will create synthetic data and train a logistic regression model with it. <br>\n"
      ]
    },
    {
      "cell_type": "markdown",
      "metadata": {
        "id": "amu5tpQIphfK"
      },
      "source": [
        "**Import the libraries**<br>\n",
        "Note: we are using a model from the [SciKit Learn](https://scikit-learn.org/stable/) library. <br>\n",
        "These models are good choices for doing baseline models and prototyping but are are not designed for production. "
      ]
    },
    {
      "cell_type": "code",
      "metadata": {
        "id": "5SsgOyNl12La"
      },
      "source": [
        "import matplotlib.pyplot as plt\n",
        "import seaborn as sns\n",
        "from sklearn.model_selection import train_test_split\n",
        "from sklearn.linear_model import LogisticRegression\n",
        "from sklearn import metrics\n",
        "from sklearn.datasets import make_classification\n",
        "from sklearn.datasets import make_blobs"
      ],
      "execution_count": null,
      "outputs": []
    },
    {
      "cell_type": "markdown",
      "metadata": {
        "id": "7QjCzwS8ux9K"
      },
      "source": [
        "**Make Sythnetic Data**<br>\n",
        "300 samples<br>\n",
        "2 classes<br>\n",
        "This data set is the perfect data set for logistic regression.\n",
        "Train the model with this data set. \n",
        "Pay attention to how well the model performs. \n"
      ]
    },
    {
      "cell_type": "code",
      "metadata": {
        "id": "RqkIsZkit5V7"
      },
      "source": [
        "# create dataset\n",
        "X, y = make_blobs(\n",
        "   n_samples=300, n_features=2,\n",
        "   centers=2, cluster_std=0.5,\n",
        "   shuffle=True, random_state=0\n",
        ")"
      ],
      "execution_count": null,
      "outputs": []
    },
    {
      "cell_type": "code",
      "metadata": {
        "id": "PctWqwAuuAuk"
      },
      "source": [
        "plt.scatter(X[:,0],X[:,1],c=y)\n",
        "plt.show()"
      ],
      "execution_count": null,
      "outputs": []
    },
    {
      "cell_type": "code",
      "metadata": {
        "id": "LTGcslMhWt0u"
      },
      "source": [
        "#X"
      ],
      "execution_count": null,
      "outputs": []
    },
    {
      "cell_type": "markdown",
      "metadata": {
        "id": "zwEuTOCaqDtX"
      },
      "source": [
        "**Split the data into training and tests sets**\n",
        "Randomly select 80% of the data points to be used for training the model. The rest will be used for testing the model. "
      ]
    },
    {
      "cell_type": "code",
      "metadata": {
        "id": "ZlpePdXH25tB"
      },
      "source": [
        "X_train, X_test, y_train, y_test = train_test_split(\n",
        "    X, y, test_size=0.2, random_state=42)"
      ],
      "execution_count": null,
      "outputs": []
    },
    {
      "cell_type": "markdown",
      "metadata": {
        "id": "cBLGkrA53-dZ"
      },
      "source": [
        "**The data is split into 219 training samples and 81 test samples**"
      ]
    },
    {
      "cell_type": "code",
      "metadata": {
        "id": "QB4LzDUM3mXy"
      },
      "source": [
        "print(\"X_train: \", X_train.shape)\n",
        "print(\"X_test: \", X_test.shape)"
      ],
      "execution_count": null,
      "outputs": []
    },
    {
      "cell_type": "markdown",
      "metadata": {
        "id": "1hxsUI504CRS"
      },
      "source": [
        "**Train the model on the training data**<br>\n",
        "We are using the LogicsticRegression model with .fit to train the model."
      ]
    },
    {
      "cell_type": "code",
      "metadata": {
        "id": "1ZOZf7MY4ha_"
      },
      "source": [
        "model_lr = LogisticRegression(random_state=0).fit(X_train, y_train)"
      ],
      "execution_count": null,
      "outputs": []
    },
    {
      "cell_type": "markdown",
      "metadata": {
        "id": "cL44vx3351Xo"
      },
      "source": [
        "**Predict with the model**"
      ]
    },
    {
      "cell_type": "code",
      "metadata": {
        "id": "OBMah56K53XT"
      },
      "source": [
        "predictions = model_lr.predict(X_test)"
      ],
      "execution_count": null,
      "outputs": []
    },
    {
      "cell_type": "markdown",
      "metadata": {
        "id": "_Y6pjI7659yv"
      },
      "source": [
        "**Measure accuracy of the model**"
      ]
    },
    {
      "cell_type": "code",
      "metadata": {
        "id": "-fjKuYAB6FbO"
      },
      "source": [
        "# Use score method to get accuracy of model\n",
        "score = model_lr.score(X_test, y_test)\n",
        "print(score)"
      ],
      "execution_count": null,
      "outputs": []
    },
    {
      "cell_type": "markdown",
      "metadata": {
        "id": "HN0PLDUc6b1y"
      },
      "source": [
        "**The confusion matrix**<br>\n",
        "The model makes: <br>\n",
        ">Correct true positive predictions, position [0,0]<br>\n",
        "Correct true negative predictions, position [1,1]<br>\n",
        "False positves,position [0,1]<br>\n",
        "False negative, position [1,0]<br>"
      ]
    },
    {
      "cell_type": "code",
      "metadata": {
        "id": "_CKjfsfr6cAW"
      },
      "source": [
        "cm = metrics.confusion_matrix(y_test, predictions)\n",
        "print(cm)"
      ],
      "execution_count": null,
      "outputs": []
    },
    {
      "cell_type": "markdown",
      "metadata": {
        "id": "LRjXid5z7S6T"
      },
      "source": [
        "**The confusion matrix plotted nicely**"
      ]
    },
    {
      "cell_type": "code",
      "metadata": {
        "id": "mld4Z7r-7EyR"
      },
      "source": [
        "plt.figure(figsize=(9,9))\n",
        "sns.heatmap(cm, annot=True, fmt=\".3f\", linewidths=.5, square = True, cmap = 'Blues_r');\n",
        "plt.ylabel('Actual label');\n",
        "plt.xlabel('Predicted label');\n",
        "all_sample_title = 'Accuracy Score: {0}'.format(score)\n",
        "plt.title(all_sample_title, size = 15);"
      ],
      "execution_count": null,
      "outputs": []
    },
    {
      "cell_type": "markdown",
      "metadata": {
        "id": "8XF4uLzv3F75"
      },
      "source": [
        "# **Assignment 1**<br>\n",
        "Now we are going to create a dataset that is not so ideal. \n",
        "\n",
        "**Make Sythnetic Data**<br>\n",
        "300 samples<br>\n",
        "30 input features<br>\n",
        "2 classes<br>\n",
        "\n",
        "```\n",
        "X,y = make_classification(n_samples=300, n_features=4,  n_classes=2, n_clusters_per_class=1)\n",
        "```\n",
        "Copy this above code and use this code to create a new data set. \n",
        "You'll notice this data set has 2 classes but they are not necessarily clearly separated classes. \n",
        "How will the model behave now?\n",
        "\n"
      ]
    },
    {
      "cell_type": "markdown",
      "metadata": {
        "id": "a79wVjZnq6J-"
      },
      "source": [
        "# **Assignment 2**<br>\n",
        "1. In the menu bar at the top of the page, select Runtime > Run all<br>\n",
        "2. Does the accuracy change? What happened and why? \n",
        "3. Look at the confusion matrix - what happened to your false postives and false negatives? \n"
      ]
    },
    {
      "cell_type": "markdown",
      "metadata": {
        "id": "V8gq4ftorYb0"
      },
      "source": [
        "# **Assignment 3**<br>\n",
        "1. Change the number of data points in the dataset. Right now you have 300. Try a larger number. \n",
        "2. What happens with the model? What about the confusion matrix? \n",
        "\n"
      ]
    },
    {
      "cell_type": "markdown",
      "metadata": {
        "id": "0mIFYC6Crn_v"
      },
      "source": [
        "# **Assignment 4**<br>\n",
        "1. Change the train/test split\n",
        "2. What changes occur in the confusion matrix now? "
      ]
    }
  ]
}